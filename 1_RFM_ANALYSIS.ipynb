{
 "cells": [
  {
   "cell_type": "markdown",
   "id": "1680040a-2e43-48b3-8923-7cdaa81601e0",
   "metadata": {},
   "source": [
    "# CUSTOVER SEGMENTATION USING RFM PACKAGE MADE USING QUANTILES"
   ]
  },
  {
   "cell_type": "code",
   "execution_count": 4,
   "id": "05f0a2d7-3c76-4498-9fba-b45e6b794995",
   "metadata": {},
   "outputs": [],
   "source": [
    "#CUSTOMER SEGMENTATION USING RFM PACKAGE MADE USING LIFETIMES PACKAGE "
   ]
  },
  {
   "cell_type": "code",
   "execution_count": 5,
   "id": "58305a0f-bc32-454c-8920-d111f93a857f",
   "metadata": {},
   "outputs": [],
   "source": [
    "#CUSTOMER SEGMENTATION USING LR, GBM "
   ]
  },
  {
   "cell_type": "code",
   "execution_count": 6,
   "id": "4a9c067b-7a01-4131-ac92-d4764aa0e20b",
   "metadata": {},
   "outputs": [],
   "source": [
    "#CUSTOMER SEGMENTATION USING MODIFIED BETA GEO + GAMMA GAMMA MODEL + KMEANS"
   ]
  },
  {
   "cell_type": "code",
   "execution_count": 7,
   "id": "b78c0742-bbe9-4ebb-b5d9-d2b87c36e4b2",
   "metadata": {},
   "outputs": [],
   "source": [
    "#MONTE CARLO SIMULATION ON TOP OF MBG DATA + K-MEANS ON SIMULATED DATA "
   ]
  },
  {
   "cell_type": "code",
   "execution_count": 8,
   "id": "83cafd7c-37a4-4d55-a7c6-9c4ee6867139",
   "metadata": {},
   "outputs": [],
   "source": [
    "# importing packages start "
   ]
  },
  {
   "cell_type": "code",
   "execution_count": 3,
   "id": "9f387500-a714-4689-95ec-06119f674e25",
   "metadata": {
    "tags": []
   },
   "outputs": [],
   "source": [
    "import pandas as pd\n",
    "import warnings\n",
    "warnings.filterwarnings('ignore')\n",
    "df = pd.read_excel(\"Online_Retail_data.xlsx\")\n",
    "df.head()\n",
    "df1 = df"
   ]
  },
  {
   "cell_type": "code",
   "execution_count": 4,
   "id": "c4648fe2-73be-4ca7-a074-56f75c13e525",
   "metadata": {},
   "outputs": [],
   "source": [
    "import matplotlib.pyplot as plt"
   ]
  },
  {
   "cell_type": "code",
   "execution_count": 5,
   "id": "5a8d1620-626e-4fda-9bee-6e6810bed960",
   "metadata": {},
   "outputs": [],
   "source": [
    "# importing packages ends"
   ]
  },
  {
   "cell_type": "code",
   "execution_count": 6,
   "id": "fa266ee6-94cf-436c-b040-338535a11772",
   "metadata": {
    "tags": []
   },
   "outputs": [
    {
     "data": {
      "text/plain": [
       "40"
      ]
     },
     "execution_count": 6,
     "metadata": {},
     "output_type": "execute_result"
    }
   ],
   "source": [
    "df1.Country.nunique()"
   ]
  },
  {
   "cell_type": "code",
   "execution_count": 7,
   "id": "0dc9bd1e-f305-4e74-8531-a3d67da5d34f",
   "metadata": {
    "tags": []
   },
   "outputs": [
    {
     "data": {
      "text/plain": [
       "array(['United Kingdom', 'France', 'USA', 'Belgium', 'Australia', 'EIRE',\n",
       "       'Germany', 'Portugal', 'Japan', 'Denmark', 'Nigeria',\n",
       "       'Netherlands', 'Poland', 'Spain', 'Channel Islands', 'Italy',\n",
       "       'Cyprus', 'Greece', 'Norway', 'Austria', 'Sweden',\n",
       "       'United Arab Emirates', 'Finland', 'Switzerland', 'Unspecified',\n",
       "       'Malta', 'Bahrain', 'RSA', 'Bermuda', 'Hong Kong', 'Singapore',\n",
       "       'Thailand', 'Israel', 'Lithuania', 'West Indies', 'Lebanon',\n",
       "       'Korea', 'Brazil', 'Canada', 'Iceland'], dtype=object)"
      ]
     },
     "execution_count": 7,
     "metadata": {},
     "output_type": "execute_result"
    }
   ],
   "source": [
    "df1.Country.unique()"
   ]
  },
  {
   "cell_type": "code",
   "execution_count": 8,
   "id": "b3e827e4-9828-4b60-b405-4e3b8e539558",
   "metadata": {
    "tags": []
   },
   "outputs": [
    {
     "name": "stdout",
     "output_type": "stream",
     "text": [
      "<class 'pandas.core.frame.DataFrame'>\n",
      "RangeIndex: 525461 entries, 0 to 525460\n",
      "Data columns (total 8 columns):\n",
      " #   Column       Non-Null Count   Dtype         \n",
      "---  ------       --------------   -----         \n",
      " 0   Invoice      525461 non-null  object        \n",
      " 1   StockCode    525461 non-null  object        \n",
      " 2   Description  522533 non-null  object        \n",
      " 3   Quantity     525461 non-null  int64         \n",
      " 4   InvoiceDate  525461 non-null  datetime64[ns]\n",
      " 5   Price        525461 non-null  float64       \n",
      " 6   Customer ID  417534 non-null  float64       \n",
      " 7   Country      525461 non-null  object        \n",
      "dtypes: datetime64[ns](1), float64(2), int64(1), object(4)\n",
      "memory usage: 32.1+ MB\n"
     ]
    }
   ],
   "source": [
    "df1.info()"
   ]
  },
  {
   "cell_type": "code",
   "execution_count": 9,
   "id": "14d5731b-bad0-42c3-a78c-fc2c5488d08c",
   "metadata": {
    "tags": []
   },
   "outputs": [],
   "source": [
    "customer_country=df1[['Country','Customer ID']].drop_duplicates()"
   ]
  },
  {
   "cell_type": "code",
   "execution_count": 10,
   "id": "63393f99-6be6-43cc-9510-2f3c65e413e3",
   "metadata": {
    "tags": []
   },
   "outputs": [
    {
     "data": {
      "text/html": [
       "<div>\n",
       "<style scoped>\n",
       "    .dataframe tbody tr th:only-of-type {\n",
       "        vertical-align: middle;\n",
       "    }\n",
       "\n",
       "    .dataframe tbody tr th {\n",
       "        vertical-align: top;\n",
       "    }\n",
       "\n",
       "    .dataframe thead th {\n",
       "        text-align: right;\n",
       "    }\n",
       "</style>\n",
       "<table border=\"1\" class=\"dataframe\">\n",
       "  <thead>\n",
       "    <tr style=\"text-align: right;\">\n",
       "      <th></th>\n",
       "      <th>Country</th>\n",
       "      <th>Customer ID</th>\n",
       "    </tr>\n",
       "  </thead>\n",
       "  <tbody>\n",
       "    <tr>\n",
       "      <th>37</th>\n",
       "      <td>United Kingdom</td>\n",
       "      <td>4035</td>\n",
       "    </tr>\n",
       "    <tr>\n",
       "      <th>13</th>\n",
       "      <td>Germany</td>\n",
       "      <td>68</td>\n",
       "    </tr>\n",
       "    <tr>\n",
       "      <th>12</th>\n",
       "      <td>France</td>\n",
       "      <td>47</td>\n",
       "    </tr>\n",
       "    <tr>\n",
       "      <th>31</th>\n",
       "      <td>Spain</td>\n",
       "      <td>25</td>\n",
       "    </tr>\n",
       "    <tr>\n",
       "      <th>24</th>\n",
       "      <td>Netherlands</td>\n",
       "      <td>23</td>\n",
       "    </tr>\n",
       "    <tr>\n",
       "      <th>28</th>\n",
       "      <td>Portugal</td>\n",
       "      <td>18</td>\n",
       "    </tr>\n",
       "    <tr>\n",
       "      <th>3</th>\n",
       "      <td>Belgium</td>\n",
       "      <td>17</td>\n",
       "    </tr>\n",
       "    <tr>\n",
       "      <th>32</th>\n",
       "      <td>Sweden</td>\n",
       "      <td>16</td>\n",
       "    </tr>\n",
       "    <tr>\n",
       "      <th>0</th>\n",
       "      <td>Australia</td>\n",
       "      <td>15</td>\n",
       "    </tr>\n",
       "    <tr>\n",
       "      <th>33</th>\n",
       "      <td>Switzerland</td>\n",
       "      <td>14</td>\n",
       "    </tr>\n",
       "    <tr>\n",
       "      <th>7</th>\n",
       "      <td>Channel Islands</td>\n",
       "      <td>12</td>\n",
       "    </tr>\n",
       "    <tr>\n",
       "      <th>18</th>\n",
       "      <td>Italy</td>\n",
       "      <td>11</td>\n",
       "    </tr>\n",
       "    <tr>\n",
       "      <th>1</th>\n",
       "      <td>Austria</td>\n",
       "      <td>10</td>\n",
       "    </tr>\n",
       "    <tr>\n",
       "      <th>9</th>\n",
       "      <td>Denmark</td>\n",
       "      <td>9</td>\n",
       "    </tr>\n",
       "    <tr>\n",
       "      <th>11</th>\n",
       "      <td>Finland</td>\n",
       "      <td>8</td>\n",
       "    </tr>\n",
       "    <tr>\n",
       "      <th>8</th>\n",
       "      <td>Cyprus</td>\n",
       "      <td>7</td>\n",
       "    </tr>\n",
       "    <tr>\n",
       "      <th>35</th>\n",
       "      <td>USA</td>\n",
       "      <td>6</td>\n",
       "    </tr>\n",
       "    <tr>\n",
       "      <th>19</th>\n",
       "      <td>Japan</td>\n",
       "      <td>6</td>\n",
       "    </tr>\n",
       "    <tr>\n",
       "      <th>10</th>\n",
       "      <td>EIRE</td>\n",
       "      <td>5</td>\n",
       "    </tr>\n",
       "    <tr>\n",
       "      <th>38</th>\n",
       "      <td>Unspecified</td>\n",
       "      <td>5</td>\n",
       "    </tr>\n",
       "    <tr>\n",
       "      <th>26</th>\n",
       "      <td>Norway</td>\n",
       "      <td>5</td>\n",
       "    </tr>\n",
       "    <tr>\n",
       "      <th>14</th>\n",
       "      <td>Greece</td>\n",
       "      <td>4</td>\n",
       "    </tr>\n",
       "    <tr>\n",
       "      <th>36</th>\n",
       "      <td>United Arab Emirates</td>\n",
       "      <td>4</td>\n",
       "    </tr>\n",
       "    <tr>\n",
       "      <th>27</th>\n",
       "      <td>Poland</td>\n",
       "      <td>2</td>\n",
       "    </tr>\n",
       "    <tr>\n",
       "      <th>20</th>\n",
       "      <td>Korea</td>\n",
       "      <td>2</td>\n",
       "    </tr>\n",
       "    <tr>\n",
       "      <th>17</th>\n",
       "      <td>Israel</td>\n",
       "      <td>2</td>\n",
       "    </tr>\n",
       "    <tr>\n",
       "      <th>2</th>\n",
       "      <td>Bahrain</td>\n",
       "      <td>2</td>\n",
       "    </tr>\n",
       "    <tr>\n",
       "      <th>25</th>\n",
       "      <td>Nigeria</td>\n",
       "      <td>1</td>\n",
       "    </tr>\n",
       "    <tr>\n",
       "      <th>23</th>\n",
       "      <td>Malta</td>\n",
       "      <td>1</td>\n",
       "    </tr>\n",
       "    <tr>\n",
       "      <th>22</th>\n",
       "      <td>Lithuania</td>\n",
       "      <td>1</td>\n",
       "    </tr>\n",
       "    <tr>\n",
       "      <th>29</th>\n",
       "      <td>RSA</td>\n",
       "      <td>1</td>\n",
       "    </tr>\n",
       "    <tr>\n",
       "      <th>30</th>\n",
       "      <td>Singapore</td>\n",
       "      <td>1</td>\n",
       "    </tr>\n",
       "    <tr>\n",
       "      <th>16</th>\n",
       "      <td>Iceland</td>\n",
       "      <td>1</td>\n",
       "    </tr>\n",
       "    <tr>\n",
       "      <th>34</th>\n",
       "      <td>Thailand</td>\n",
       "      <td>1</td>\n",
       "    </tr>\n",
       "    <tr>\n",
       "      <th>6</th>\n",
       "      <td>Canada</td>\n",
       "      <td>1</td>\n",
       "    </tr>\n",
       "    <tr>\n",
       "      <th>5</th>\n",
       "      <td>Brazil</td>\n",
       "      <td>1</td>\n",
       "    </tr>\n",
       "    <tr>\n",
       "      <th>39</th>\n",
       "      <td>West Indies</td>\n",
       "      <td>1</td>\n",
       "    </tr>\n",
       "    <tr>\n",
       "      <th>21</th>\n",
       "      <td>Lebanon</td>\n",
       "      <td>0</td>\n",
       "    </tr>\n",
       "    <tr>\n",
       "      <th>15</th>\n",
       "      <td>Hong Kong</td>\n",
       "      <td>0</td>\n",
       "    </tr>\n",
       "    <tr>\n",
       "      <th>4</th>\n",
       "      <td>Bermuda</td>\n",
       "      <td>0</td>\n",
       "    </tr>\n",
       "  </tbody>\n",
       "</table>\n",
       "</div>"
      ],
      "text/plain": [
       "                 Country  Customer ID\n",
       "37        United Kingdom         4035\n",
       "13               Germany           68\n",
       "12                France           47\n",
       "31                 Spain           25\n",
       "24           Netherlands           23\n",
       "28              Portugal           18\n",
       "3                Belgium           17\n",
       "32                Sweden           16\n",
       "0              Australia           15\n",
       "33           Switzerland           14\n",
       "7        Channel Islands           12\n",
       "18                 Italy           11\n",
       "1                Austria           10\n",
       "9                Denmark            9\n",
       "11               Finland            8\n",
       "8                 Cyprus            7\n",
       "35                   USA            6\n",
       "19                 Japan            6\n",
       "10                  EIRE            5\n",
       "38           Unspecified            5\n",
       "26                Norway            5\n",
       "14                Greece            4\n",
       "36  United Arab Emirates            4\n",
       "27                Poland            2\n",
       "20                 Korea            2\n",
       "17                Israel            2\n",
       "2                Bahrain            2\n",
       "25               Nigeria            1\n",
       "23                 Malta            1\n",
       "22             Lithuania            1\n",
       "29                   RSA            1\n",
       "30             Singapore            1\n",
       "16               Iceland            1\n",
       "34              Thailand            1\n",
       "6                 Canada            1\n",
       "5                 Brazil            1\n",
       "39           West Indies            1\n",
       "21               Lebanon            0\n",
       "15             Hong Kong            0\n",
       "4                Bermuda            0"
      ]
     },
     "execution_count": 10,
     "metadata": {},
     "output_type": "execute_result"
    }
   ],
   "source": [
    "customer_country.groupby(['Country'])['Customer ID'].aggregate('count').reset_index().sort_values('Customer ID', ascending=False)"
   ]
  },
  {
   "cell_type": "code",
   "execution_count": 11,
   "id": "07f8de8a-b964-4013-9cde-7055c51ca269",
   "metadata": {
    "tags": []
   },
   "outputs": [],
   "source": [
    "df1 = df1.loc[df1['Country'] == 'United Kingdom']"
   ]
  },
  {
   "cell_type": "code",
   "execution_count": 12,
   "id": "8562f8e5-37d8-4453-9251-4fab1dfdc558",
   "metadata": {
    "tags": []
   },
   "outputs": [
    {
     "data": {
      "text/plain": [
       "(485852, 8)"
      ]
     },
     "execution_count": 12,
     "metadata": {},
     "output_type": "execute_result"
    }
   ],
   "source": [
    "df1.shape"
   ]
  },
  {
   "cell_type": "code",
   "execution_count": 13,
   "id": "8dd7cef3-c454-42bf-a595-f686565081d7",
   "metadata": {
    "tags": []
   },
   "outputs": [
    {
     "data": {
      "text/plain": [
       "Invoice             0\n",
       "StockCode           0\n",
       "Description      2928\n",
       "Quantity            0\n",
       "InvoiceDate         0\n",
       "Price               0\n",
       "Customer ID    106429\n",
       "Country             0\n",
       "dtype: int64"
      ]
     },
     "execution_count": 13,
     "metadata": {},
     "output_type": "execute_result"
    }
   ],
   "source": [
    "df1.isnull().sum(axis=0)"
   ]
  },
  {
   "cell_type": "code",
   "execution_count": 14,
   "id": "2efe03c0-4c34-4b50-a0d2-b95e0019ea23",
   "metadata": {
    "tags": []
   },
   "outputs": [],
   "source": [
    "df1 = df1[pd.notnull(df1['Customer ID'])]"
   ]
  },
  {
   "cell_type": "code",
   "execution_count": 15,
   "id": "679cd17a-d441-43a6-ab71-f9cc023cd91c",
   "metadata": {
    "tags": []
   },
   "outputs": [
    {
     "data": {
      "text/plain": [
       "Invoice        0\n",
       "StockCode      0\n",
       "Description    0\n",
       "Quantity       0\n",
       "InvoiceDate    0\n",
       "Price          0\n",
       "Customer ID    0\n",
       "Country        0\n",
       "dtype: int64"
      ]
     },
     "execution_count": 15,
     "metadata": {},
     "output_type": "execute_result"
    }
   ],
   "source": [
    "df1.isnull().sum(axis=0)"
   ]
  },
  {
   "cell_type": "code",
   "execution_count": 16,
   "id": "8db5faaf-a506-409a-9297-c1d0dd807f93",
   "metadata": {
    "tags": []
   },
   "outputs": [
    {
     "data": {
      "text/plain": [
       "(379423, 8)"
      ]
     },
     "execution_count": 16,
     "metadata": {},
     "output_type": "execute_result"
    }
   ],
   "source": [
    "df1.shape"
   ]
  },
  {
   "cell_type": "code",
   "execution_count": 17,
   "id": "f98776f1-76cb-4166-b045-5ad5fff7ff0f",
   "metadata": {
    "tags": []
   },
   "outputs": [
    {
     "data": {
      "text/html": [
       "<div>\n",
       "<style scoped>\n",
       "    .dataframe tbody tr th:only-of-type {\n",
       "        vertical-align: middle;\n",
       "    }\n",
       "\n",
       "    .dataframe tbody tr th {\n",
       "        vertical-align: top;\n",
       "    }\n",
       "\n",
       "    .dataframe thead th {\n",
       "        text-align: right;\n",
       "    }\n",
       "</style>\n",
       "<table border=\"1\" class=\"dataframe\">\n",
       "  <thead>\n",
       "    <tr style=\"text-align: right;\">\n",
       "      <th></th>\n",
       "      <th>Country</th>\n",
       "      <th>Customer ID</th>\n",
       "    </tr>\n",
       "  </thead>\n",
       "  <tbody>\n",
       "    <tr>\n",
       "      <th>0</th>\n",
       "      <td>United Kingdom</td>\n",
       "      <td>4035</td>\n",
       "    </tr>\n",
       "  </tbody>\n",
       "</table>\n",
       "</div>"
      ],
      "text/plain": [
       "          Country  Customer ID\n",
       "0  United Kingdom         4035"
      ]
     },
     "execution_count": 17,
     "metadata": {},
     "output_type": "execute_result"
    }
   ],
   "source": [
    "customer_uk=df1[['Country','Customer ID']].drop_duplicates()\n",
    "customer_uk.groupby(['Country'])['Customer ID'].aggregate('count').reset_index().sort_values('Customer ID', ascending=False)"
   ]
  },
  {
   "cell_type": "code",
   "execution_count": 18,
   "id": "b84302f6-7df2-4d4b-a989-6b679b44ffdd",
   "metadata": {
    "tags": []
   },
   "outputs": [
    {
     "data": {
      "text/plain": [
       "-9360"
      ]
     },
     "execution_count": 18,
     "metadata": {},
     "output_type": "execute_result"
    }
   ],
   "source": [
    "df1.Quantity.min()"
   ]
  },
  {
   "cell_type": "code",
   "execution_count": 19,
   "id": "66a15d76-cc84-40f2-80c7-d386c0c777c0",
   "metadata": {
    "tags": []
   },
   "outputs": [
    {
     "name": "stdout",
     "output_type": "stream",
     "text": [
      "<class 'pandas.core.frame.DataFrame'>\n",
      "Index: 370951 entries, 0 to 525460\n",
      "Data columns (total 8 columns):\n",
      " #   Column       Non-Null Count   Dtype         \n",
      "---  ------       --------------   -----         \n",
      " 0   Invoice      370951 non-null  object        \n",
      " 1   StockCode    370951 non-null  object        \n",
      " 2   Description  370951 non-null  object        \n",
      " 3   Quantity     370951 non-null  int64         \n",
      " 4   InvoiceDate  370951 non-null  datetime64[ns]\n",
      " 5   Price        370951 non-null  float64       \n",
      " 6   Customer ID  370951 non-null  float64       \n",
      " 7   Country      370951 non-null  object        \n",
      "dtypes: datetime64[ns](1), float64(2), int64(1), object(4)\n",
      "memory usage: 25.5+ MB\n"
     ]
    }
   ],
   "source": [
    "df1 = df1[(df1['Quantity']>0)]\n",
    "df1.shape\n",
    "df1.info()"
   ]
  },
  {
   "cell_type": "code",
   "execution_count": 20,
   "id": "f887041c-426b-4988-a8d9-e23f733c4bd6",
   "metadata": {
    "tags": []
   },
   "outputs": [
    {
     "data": {
      "text/html": [
       "<div>\n",
       "<style scoped>\n",
       "    .dataframe tbody tr th:only-of-type {\n",
       "        vertical-align: middle;\n",
       "    }\n",
       "\n",
       "    .dataframe tbody tr th {\n",
       "        vertical-align: top;\n",
       "    }\n",
       "\n",
       "    .dataframe thead th {\n",
       "        text-align: right;\n",
       "    }\n",
       "</style>\n",
       "<table border=\"1\" class=\"dataframe\">\n",
       "  <thead>\n",
       "    <tr style=\"text-align: right;\">\n",
       "      <th></th>\n",
       "      <th>Country</th>\n",
       "      <th>Customer ID</th>\n",
       "    </tr>\n",
       "  </thead>\n",
       "  <tbody>\n",
       "    <tr>\n",
       "      <th>0</th>\n",
       "      <td>United Kingdom</td>\n",
       "      <td>3971</td>\n",
       "    </tr>\n",
       "  </tbody>\n",
       "</table>\n",
       "</div>"
      ],
      "text/plain": [
       "          Country  Customer ID\n",
       "0  United Kingdom         3971"
      ]
     },
     "execution_count": 20,
     "metadata": {},
     "output_type": "execute_result"
    }
   ],
   "source": [
    "customer_uk=df1[['Country','Customer ID']].drop_duplicates()\n",
    "customer_uk.groupby(['Country'])['Customer ID'].aggregate('count').reset_index().sort_values('Customer ID', ascending=False)"
   ]
  },
  {
   "cell_type": "code",
   "execution_count": 21,
   "id": "e5ba1f89-af94-4bc9-ac9f-1935db33d177",
   "metadata": {
    "tags": []
   },
   "outputs": [
    {
     "data": {
      "text/plain": [
       "(370951, 8)"
      ]
     },
     "execution_count": 21,
     "metadata": {},
     "output_type": "execute_result"
    }
   ],
   "source": [
    "df1.shape"
   ]
  },
  {
   "cell_type": "code",
   "execution_count": 22,
   "id": "5afb378d-a12b-4738-bd8f-463c51323c4f",
   "metadata": {
    "tags": []
   },
   "outputs": [],
   "source": [
    "#df1.to_csv('UKdatawithIndex.csv', index=True)"
   ]
  },
  {
   "cell_type": "code",
   "execution_count": 23,
   "id": "1900ef10-4783-4678-9e4d-53953be698e5",
   "metadata": {
    "tags": []
   },
   "outputs": [
    {
     "name": "stdout",
     "output_type": "stream",
     "text": [
      "Invoice :  17614\n",
      "StockCode :  4001\n",
      "Description :  4415\n",
      "Quantity :  307\n",
      "InvoiceDate :  16601\n",
      "Price :  366\n",
      "Customer ID :  3971\n",
      "Country :  1\n"
     ]
    }
   ],
   "source": [
    "def unique_counts(df1):\n",
    "   for i in df1.columns:\n",
    "       count = df1[i].nunique()\n",
    "       print(i, \": \", count)\n",
    "unique_counts(df1)"
   ]
  },
  {
   "cell_type": "code",
   "execution_count": 24,
   "id": "3d149783-ae0a-4345-b86b-042c0b0f27cb",
   "metadata": {
    "tags": []
   },
   "outputs": [],
   "source": [
    "df1['TotalPrice'] = df1['Quantity'] * df1['Price']"
   ]
  },
  {
   "cell_type": "code",
   "execution_count": 25,
   "id": "95796b31-064a-48f5-b46a-706cff095fab",
   "metadata": {
    "tags": []
   },
   "outputs": [
    {
     "data": {
      "text/plain": [
       "Timestamp('2009-12-01 07:45:00')"
      ]
     },
     "execution_count": 25,
     "metadata": {},
     "output_type": "execute_result"
    }
   ],
   "source": [
    "df1['InvoiceDate'].min()"
   ]
  },
  {
   "cell_type": "code",
   "execution_count": 26,
   "id": "887d0429-78a8-4bf6-b1a0-cc61fc4b2a53",
   "metadata": {
    "tags": []
   },
   "outputs": [
    {
     "data": {
      "text/plain": [
       "Timestamp('2010-12-09 20:01:00')"
      ]
     },
     "execution_count": 26,
     "metadata": {},
     "output_type": "execute_result"
    }
   ],
   "source": [
    "df1['InvoiceDate'].max()"
   ]
  },
  {
   "cell_type": "code",
   "execution_count": 27,
   "id": "b4bc5184-3f5a-42f2-9a7d-7d9b2381c026",
   "metadata": {
    "tags": []
   },
   "outputs": [],
   "source": [
    "import datetime as dt\n",
    "NOW = dt.datetime(2010,12,10)\n",
    "df1['InvoiceDate'] = pd.to_datetime(df1['InvoiceDate'])"
   ]
  },
  {
   "cell_type": "code",
   "execution_count": 28,
   "id": "b793c1d2-d56e-47e1-bc87-de54b17d7803",
   "metadata": {
    "tags": []
   },
   "outputs": [
    {
     "name": "stdout",
     "output_type": "stream",
     "text": [
      "<class 'pandas.core.frame.DataFrame'>\n",
      "Index: 370951 entries, 0 to 525460\n",
      "Data columns (total 9 columns):\n",
      " #   Column       Non-Null Count   Dtype         \n",
      "---  ------       --------------   -----         \n",
      " 0   Invoice      370951 non-null  object        \n",
      " 1   StockCode    370951 non-null  object        \n",
      " 2   Description  370951 non-null  object        \n",
      " 3   Quantity     370951 non-null  int64         \n",
      " 4   InvoiceDate  370951 non-null  datetime64[ns]\n",
      " 5   Price        370951 non-null  float64       \n",
      " 6   Customer ID  370951 non-null  float64       \n",
      " 7   Country      370951 non-null  object        \n",
      " 8   TotalPrice   370951 non-null  float64       \n",
      "dtypes: datetime64[ns](1), float64(3), int64(1), object(4)\n",
      "memory usage: 28.3+ MB\n"
     ]
    }
   ],
   "source": [
    "df1.info()"
   ]
  },
  {
   "cell_type": "code",
   "execution_count": 29,
   "id": "f9a916d3-bd98-4a29-a549-89ec6252fd83",
   "metadata": {
    "tags": []
   },
   "outputs": [
    {
     "data": {
      "text/html": [
       "<div>\n",
       "<style scoped>\n",
       "    .dataframe tbody tr th:only-of-type {\n",
       "        vertical-align: middle;\n",
       "    }\n",
       "\n",
       "    .dataframe tbody tr th {\n",
       "        vertical-align: top;\n",
       "    }\n",
       "\n",
       "    .dataframe thead th {\n",
       "        text-align: right;\n",
       "    }\n",
       "</style>\n",
       "<table border=\"1\" class=\"dataframe\">\n",
       "  <thead>\n",
       "    <tr style=\"text-align: right;\">\n",
       "      <th></th>\n",
       "      <th>Invoice</th>\n",
       "      <th>StockCode</th>\n",
       "      <th>Description</th>\n",
       "      <th>Quantity</th>\n",
       "      <th>InvoiceDate</th>\n",
       "      <th>Price</th>\n",
       "      <th>Customer ID</th>\n",
       "      <th>Country</th>\n",
       "      <th>TotalPrice</th>\n",
       "    </tr>\n",
       "  </thead>\n",
       "  <tbody>\n",
       "    <tr>\n",
       "      <th>0</th>\n",
       "      <td>489434</td>\n",
       "      <td>85048</td>\n",
       "      <td>15CM CHRISTMAS GLASS BALL 20 LIGHTS</td>\n",
       "      <td>12</td>\n",
       "      <td>2009-12-01 07:45:00</td>\n",
       "      <td>6.95</td>\n",
       "      <td>13085.0</td>\n",
       "      <td>United Kingdom</td>\n",
       "      <td>83.4</td>\n",
       "    </tr>\n",
       "    <tr>\n",
       "      <th>1</th>\n",
       "      <td>489434</td>\n",
       "      <td>79323P</td>\n",
       "      <td>PINK CHERRY LIGHTS</td>\n",
       "      <td>12</td>\n",
       "      <td>2009-12-01 07:45:00</td>\n",
       "      <td>6.75</td>\n",
       "      <td>13085.0</td>\n",
       "      <td>United Kingdom</td>\n",
       "      <td>81.0</td>\n",
       "    </tr>\n",
       "  </tbody>\n",
       "</table>\n",
       "</div>"
      ],
      "text/plain": [
       "  Invoice StockCode                          Description  Quantity  \\\n",
       "0  489434     85048  15CM CHRISTMAS GLASS BALL 20 LIGHTS        12   \n",
       "1  489434    79323P                   PINK CHERRY LIGHTS        12   \n",
       "\n",
       "          InvoiceDate  Price  Customer ID         Country  TotalPrice  \n",
       "0 2009-12-01 07:45:00   6.95      13085.0  United Kingdom        83.4  \n",
       "1 2009-12-01 07:45:00   6.75      13085.0  United Kingdom        81.0  "
      ]
     },
     "execution_count": 29,
     "metadata": {},
     "output_type": "execute_result"
    }
   ],
   "source": [
    "df1.head(2)\n"
   ]
  },
  {
   "cell_type": "code",
   "execution_count": 30,
   "id": "b67194f5-dad1-4baa-94b1-a6694afefbf4",
   "metadata": {
    "tags": []
   },
   "outputs": [
    {
     "data": {
      "text/plain": [
       "0        2009-12-01 07:45:00\n",
       "1        2009-12-01 07:45:00\n",
       "2        2009-12-01 07:45:00\n",
       "3        2009-12-01 07:45:00\n",
       "4        2009-12-01 07:45:00\n",
       "                 ...        \n",
       "525456   2010-12-09 20:01:00\n",
       "525457   2010-12-09 20:01:00\n",
       "525458   2010-12-09 20:01:00\n",
       "525459   2010-12-09 20:01:00\n",
       "525460   2010-12-09 20:01:00\n",
       "Name: InvoiceDate, Length: 370951, dtype: datetime64[ns]"
      ]
     },
     "execution_count": 30,
     "metadata": {},
     "output_type": "execute_result"
    }
   ],
   "source": [
    "df1.InvoiceDate"
   ]
  },
  {
   "cell_type": "code",
   "execution_count": 31,
   "id": "ef7bce9c-c259-47c3-a1a2-2eb807c72ab9",
   "metadata": {},
   "outputs": [
    {
     "name": "stdout",
     "output_type": "stream",
     "text": [
      "<class 'pandas.core.frame.DataFrame'>\n",
      "Index: 370951 entries, 0 to 525460\n",
      "Data columns (total 9 columns):\n",
      " #   Column       Non-Null Count   Dtype         \n",
      "---  ------       --------------   -----         \n",
      " 0   Invoice      370951 non-null  object        \n",
      " 1   StockCode    370951 non-null  object        \n",
      " 2   Description  370951 non-null  object        \n",
      " 3   Quantity     370951 non-null  int64         \n",
      " 4   InvoiceDate  370951 non-null  datetime64[ns]\n",
      " 5   Price        370951 non-null  float64       \n",
      " 6   Customer ID  370951 non-null  float64       \n",
      " 7   Country      370951 non-null  object        \n",
      " 8   TotalPrice   370951 non-null  float64       \n",
      "dtypes: datetime64[ns](1), float64(3), int64(1), object(4)\n",
      "memory usage: 28.3+ MB\n"
     ]
    }
   ],
   "source": [
    "df1.info()"
   ]
  },
  {
   "cell_type": "code",
   "execution_count": 35,
   "id": "7602f038-23a7-468f-ad0c-74fb412f9122",
   "metadata": {
    "tags": []
   },
   "outputs": [],
   "source": [
    "df1.to_csv('UKdataFinal.csv')"
   ]
  },
  {
   "cell_type": "code",
   "execution_count": null,
   "id": "649bf9b2-9bc3-4125-b606-74dbb16d64e0",
   "metadata": {},
   "outputs": [],
   "source": []
  },
  {
   "cell_type": "markdown",
   "id": "9b64a230-2eee-4eee-8031-4f0db6909b94",
   "metadata": {},
   "source": [
    "# RFM Customer Segmentation using Quantiles "
   ]
  },
  {
   "cell_type": "code",
   "execution_count": null,
   "id": "80f86661-c457-4328-88fd-d6fbca8ab1e7",
   "metadata": {},
   "outputs": [],
   "source": []
  },
  {
   "cell_type": "code",
   "execution_count": 36,
   "id": "ad175611-814e-4460-b259-d3fcc67ef172",
   "metadata": {
    "tags": []
   },
   "outputs": [],
   "source": [
    "rfmTable = df1.groupby('Customer ID').agg({'InvoiceDate': lambda x: (NOW - x.max()).days, 'Invoice': lambda x: len(x), 'TotalPrice': lambda x: x.sum()})\n",
    "rfmTable['InvoiceDate'] = rfmTable['InvoiceDate'].astype(int)\n",
    "rfmTable.rename(columns={'InvoiceDate': 'recency', \n",
    "                         'Invoice': 'frequency', \n",
    "                         'TotalPrice': 'monetary_value'}, inplace=True)"
   ]
  },
  {
   "cell_type": "code",
   "execution_count": 37,
   "id": "02a06a16-b229-4e40-907a-9d77e6a514ee",
   "metadata": {
    "tags": []
   },
   "outputs": [
    {
     "data": {
      "text/html": [
       "<div>\n",
       "<style scoped>\n",
       "    .dataframe tbody tr th:only-of-type {\n",
       "        vertical-align: middle;\n",
       "    }\n",
       "\n",
       "    .dataframe tbody tr th {\n",
       "        vertical-align: top;\n",
       "    }\n",
       "\n",
       "    .dataframe thead th {\n",
       "        text-align: right;\n",
       "    }\n",
       "</style>\n",
       "<table border=\"1\" class=\"dataframe\">\n",
       "  <thead>\n",
       "    <tr style=\"text-align: right;\">\n",
       "      <th></th>\n",
       "      <th>recency</th>\n",
       "      <th>frequency</th>\n",
       "      <th>monetary_value</th>\n",
       "    </tr>\n",
       "    <tr>\n",
       "      <th>Customer ID</th>\n",
       "      <th></th>\n",
       "      <th></th>\n",
       "      <th></th>\n",
       "    </tr>\n",
       "  </thead>\n",
       "  <tbody>\n",
       "    <tr>\n",
       "      <th>12346.0</th>\n",
       "      <td>164</td>\n",
       "      <td>33</td>\n",
       "      <td>372.86</td>\n",
       "    </tr>\n",
       "    <tr>\n",
       "      <th>12608.0</th>\n",
       "      <td>39</td>\n",
       "      <td>16</td>\n",
       "      <td>415.79</td>\n",
       "    </tr>\n",
       "    <tr>\n",
       "      <th>12745.0</th>\n",
       "      <td>121</td>\n",
       "      <td>22</td>\n",
       "      <td>723.85</td>\n",
       "    </tr>\n",
       "    <tr>\n",
       "      <th>12746.0</th>\n",
       "      <td>175</td>\n",
       "      <td>17</td>\n",
       "      <td>254.55</td>\n",
       "    </tr>\n",
       "    <tr>\n",
       "      <th>12747.0</th>\n",
       "      <td>4</td>\n",
       "      <td>154</td>\n",
       "      <td>5080.53</td>\n",
       "    </tr>\n",
       "  </tbody>\n",
       "</table>\n",
       "</div>"
      ],
      "text/plain": [
       "             recency  frequency  monetary_value\n",
       "Customer ID                                    \n",
       "12346.0          164         33          372.86\n",
       "12608.0           39         16          415.79\n",
       "12745.0          121         22          723.85\n",
       "12746.0          175         17          254.55\n",
       "12747.0            4        154         5080.53"
      ]
     },
     "execution_count": 37,
     "metadata": {},
     "output_type": "execute_result"
    }
   ],
   "source": [
    "rfmTable.head()"
   ]
  },
  {
   "cell_type": "code",
   "execution_count": 38,
   "id": "a7deea32-90cb-4b5a-b2dd-6d02c9bf7a21",
   "metadata": {
    "tags": []
   },
   "outputs": [
    {
     "data": {
      "text/plain": [
       "recency           3971\n",
       "frequency         3971\n",
       "monetary_value    3971\n",
       "dtype: int64"
      ]
     },
     "execution_count": 38,
     "metadata": {},
     "output_type": "execute_result"
    }
   ],
   "source": [
    "rfmTable.count()"
   ]
  },
  {
   "cell_type": "code",
   "execution_count": 39,
   "id": "4a02bce4-aade-4734-a613-96c362fa899d",
   "metadata": {
    "tags": []
   },
   "outputs": [
    {
     "data": {
      "text/html": [
       "<div>\n",
       "<style scoped>\n",
       "    .dataframe tbody tr th:only-of-type {\n",
       "        vertical-align: middle;\n",
       "    }\n",
       "\n",
       "    .dataframe tbody tr th {\n",
       "        vertical-align: top;\n",
       "    }\n",
       "\n",
       "    .dataframe thead th {\n",
       "        text-align: right;\n",
       "    }\n",
       "</style>\n",
       "<table border=\"1\" class=\"dataframe\">\n",
       "  <thead>\n",
       "    <tr style=\"text-align: right;\">\n",
       "      <th></th>\n",
       "      <th>Invoice</th>\n",
       "      <th>StockCode</th>\n",
       "      <th>Description</th>\n",
       "      <th>Quantity</th>\n",
       "      <th>InvoiceDate</th>\n",
       "      <th>Price</th>\n",
       "      <th>Customer ID</th>\n",
       "      <th>Country</th>\n",
       "      <th>TotalPrice</th>\n",
       "    </tr>\n",
       "  </thead>\n",
       "  <tbody>\n",
       "    <tr>\n",
       "      <th>27994</th>\n",
       "      <td>491725</td>\n",
       "      <td>TEST001</td>\n",
       "      <td>This is a test product.</td>\n",
       "      <td>10</td>\n",
       "      <td>2009-12-14 08:34:00</td>\n",
       "      <td>4.50</td>\n",
       "      <td>12346.0</td>\n",
       "      <td>United Kingdom</td>\n",
       "      <td>45.00</td>\n",
       "    </tr>\n",
       "    <tr>\n",
       "      <th>28251</th>\n",
       "      <td>491742</td>\n",
       "      <td>TEST001</td>\n",
       "      <td>This is a test product.</td>\n",
       "      <td>5</td>\n",
       "      <td>2009-12-14 11:00:00</td>\n",
       "      <td>4.50</td>\n",
       "      <td>12346.0</td>\n",
       "      <td>United Kingdom</td>\n",
       "      <td>22.50</td>\n",
       "    </tr>\n",
       "    <tr>\n",
       "      <th>28254</th>\n",
       "      <td>491744</td>\n",
       "      <td>TEST001</td>\n",
       "      <td>This is a test product.</td>\n",
       "      <td>5</td>\n",
       "      <td>2009-12-14 11:02:00</td>\n",
       "      <td>4.50</td>\n",
       "      <td>12346.0</td>\n",
       "      <td>United Kingdom</td>\n",
       "      <td>22.50</td>\n",
       "    </tr>\n",
       "    <tr>\n",
       "      <th>39398</th>\n",
       "      <td>492718</td>\n",
       "      <td>TEST001</td>\n",
       "      <td>This is a test product.</td>\n",
       "      <td>5</td>\n",
       "      <td>2009-12-18 10:47:00</td>\n",
       "      <td>4.50</td>\n",
       "      <td>12346.0</td>\n",
       "      <td>United Kingdom</td>\n",
       "      <td>22.50</td>\n",
       "    </tr>\n",
       "    <tr>\n",
       "      <th>39411</th>\n",
       "      <td>492722</td>\n",
       "      <td>TEST002</td>\n",
       "      <td>This is a test product.</td>\n",
       "      <td>1</td>\n",
       "      <td>2009-12-18 10:55:00</td>\n",
       "      <td>1.00</td>\n",
       "      <td>12346.0</td>\n",
       "      <td>United Kingdom</td>\n",
       "      <td>1.00</td>\n",
       "    </tr>\n",
       "    <tr>\n",
       "      <th>45228</th>\n",
       "      <td>493410</td>\n",
       "      <td>TEST001</td>\n",
       "      <td>This is a test product.</td>\n",
       "      <td>5</td>\n",
       "      <td>2010-01-04 09:24:00</td>\n",
       "      <td>4.50</td>\n",
       "      <td>12346.0</td>\n",
       "      <td>United Kingdom</td>\n",
       "      <td>22.50</td>\n",
       "    </tr>\n",
       "    <tr>\n",
       "      <th>45230</th>\n",
       "      <td>493412</td>\n",
       "      <td>TEST001</td>\n",
       "      <td>This is a test product.</td>\n",
       "      <td>5</td>\n",
       "      <td>2010-01-04 09:53:00</td>\n",
       "      <td>4.50</td>\n",
       "      <td>12346.0</td>\n",
       "      <td>United Kingdom</td>\n",
       "      <td>22.50</td>\n",
       "    </tr>\n",
       "    <tr>\n",
       "      <th>56117</th>\n",
       "      <td>494450</td>\n",
       "      <td>TEST001</td>\n",
       "      <td>This is a test product.</td>\n",
       "      <td>5</td>\n",
       "      <td>2010-01-14 13:50:00</td>\n",
       "      <td>4.50</td>\n",
       "      <td>12346.0</td>\n",
       "      <td>United Kingdom</td>\n",
       "      <td>22.50</td>\n",
       "    </tr>\n",
       "    <tr>\n",
       "      <th>66084</th>\n",
       "      <td>495295</td>\n",
       "      <td>TEST001</td>\n",
       "      <td>This is a test product.</td>\n",
       "      <td>5</td>\n",
       "      <td>2010-01-22 13:30:00</td>\n",
       "      <td>4.50</td>\n",
       "      <td>12346.0</td>\n",
       "      <td>United Kingdom</td>\n",
       "      <td>22.50</td>\n",
       "    </tr>\n",
       "    <tr>\n",
       "      <th>107800</th>\n",
       "      <td>499763</td>\n",
       "      <td>20682</td>\n",
       "      <td>RED SPOTTY CHILDS UMBRELLA</td>\n",
       "      <td>1</td>\n",
       "      <td>2010-03-02 13:08:00</td>\n",
       "      <td>3.25</td>\n",
       "      <td>12346.0</td>\n",
       "      <td>United Kingdom</td>\n",
       "      <td>3.25</td>\n",
       "    </tr>\n",
       "    <tr>\n",
       "      <th>107801</th>\n",
       "      <td>499763</td>\n",
       "      <td>20679</td>\n",
       "      <td>EDWARDIAN PARASOL RED</td>\n",
       "      <td>1</td>\n",
       "      <td>2010-03-02 13:08:00</td>\n",
       "      <td>5.95</td>\n",
       "      <td>12346.0</td>\n",
       "      <td>United Kingdom</td>\n",
       "      <td>5.95</td>\n",
       "    </tr>\n",
       "    <tr>\n",
       "      <th>107802</th>\n",
       "      <td>499763</td>\n",
       "      <td>15056N</td>\n",
       "      <td>EDWARDIAN PARASOL NATURAL</td>\n",
       "      <td>1</td>\n",
       "      <td>2010-03-02 13:08:00</td>\n",
       "      <td>5.95</td>\n",
       "      <td>12346.0</td>\n",
       "      <td>United Kingdom</td>\n",
       "      <td>5.95</td>\n",
       "    </tr>\n",
       "    <tr>\n",
       "      <th>107803</th>\n",
       "      <td>499763</td>\n",
       "      <td>15056BL</td>\n",
       "      <td>EDWARDIAN PARASOL BLACK</td>\n",
       "      <td>1</td>\n",
       "      <td>2010-03-02 13:08:00</td>\n",
       "      <td>5.95</td>\n",
       "      <td>12346.0</td>\n",
       "      <td>United Kingdom</td>\n",
       "      <td>5.95</td>\n",
       "    </tr>\n",
       "    <tr>\n",
       "      <th>107804</th>\n",
       "      <td>499763</td>\n",
       "      <td>15056P</td>\n",
       "      <td>EDWARDIAN PARASOL PINK</td>\n",
       "      <td>1</td>\n",
       "      <td>2010-03-02 13:08:00</td>\n",
       "      <td>5.95</td>\n",
       "      <td>12346.0</td>\n",
       "      <td>United Kingdom</td>\n",
       "      <td>5.95</td>\n",
       "    </tr>\n",
       "    <tr>\n",
       "      <th>253028</th>\n",
       "      <td>513774</td>\n",
       "      <td>21524</td>\n",
       "      <td>DOORMAT SPOTTY HOME SWEET HOME</td>\n",
       "      <td>1</td>\n",
       "      <td>2010-06-28 13:53:00</td>\n",
       "      <td>7.49</td>\n",
       "      <td>12346.0</td>\n",
       "      <td>United Kingdom</td>\n",
       "      <td>7.49</td>\n",
       "    </tr>\n",
       "    <tr>\n",
       "      <th>253029</th>\n",
       "      <td>513774</td>\n",
       "      <td>22692</td>\n",
       "      <td>DOORMAT WELCOME TO OUR HOME</td>\n",
       "      <td>1</td>\n",
       "      <td>2010-06-28 13:53:00</td>\n",
       "      <td>7.49</td>\n",
       "      <td>12346.0</td>\n",
       "      <td>United Kingdom</td>\n",
       "      <td>7.49</td>\n",
       "    </tr>\n",
       "    <tr>\n",
       "      <th>253030</th>\n",
       "      <td>513774</td>\n",
       "      <td>22660</td>\n",
       "      <td>DOORMAT I LOVE LONDON</td>\n",
       "      <td>1</td>\n",
       "      <td>2010-06-28 13:53:00</td>\n",
       "      <td>7.49</td>\n",
       "      <td>12346.0</td>\n",
       "      <td>United Kingdom</td>\n",
       "      <td>7.49</td>\n",
       "    </tr>\n",
       "    <tr>\n",
       "      <th>253031</th>\n",
       "      <td>513774</td>\n",
       "      <td>22687</td>\n",
       "      <td>DOORMAT CHRISTMAS VILLAGE</td>\n",
       "      <td>1</td>\n",
       "      <td>2010-06-28 13:53:00</td>\n",
       "      <td>7.49</td>\n",
       "      <td>12346.0</td>\n",
       "      <td>United Kingdom</td>\n",
       "      <td>7.49</td>\n",
       "    </tr>\n",
       "    <tr>\n",
       "      <th>253032</th>\n",
       "      <td>513774</td>\n",
       "      <td>48173C</td>\n",
       "      <td>DOORMAT BLACK FLOCK</td>\n",
       "      <td>1</td>\n",
       "      <td>2010-06-28 13:53:00</td>\n",
       "      <td>7.49</td>\n",
       "      <td>12346.0</td>\n",
       "      <td>United Kingdom</td>\n",
       "      <td>7.49</td>\n",
       "    </tr>\n",
       "    <tr>\n",
       "      <th>253033</th>\n",
       "      <td>513774</td>\n",
       "      <td>22691</td>\n",
       "      <td>DOORMAT WELCOME SUNRISE</td>\n",
       "      <td>1</td>\n",
       "      <td>2010-06-28 13:53:00</td>\n",
       "      <td>7.49</td>\n",
       "      <td>12346.0</td>\n",
       "      <td>United Kingdom</td>\n",
       "      <td>7.49</td>\n",
       "    </tr>\n",
       "    <tr>\n",
       "      <th>253034</th>\n",
       "      <td>513774</td>\n",
       "      <td>48111</td>\n",
       "      <td>DOORMAT 3 SMILEY CATS</td>\n",
       "      <td>1</td>\n",
       "      <td>2010-06-28 13:53:00</td>\n",
       "      <td>7.49</td>\n",
       "      <td>12346.0</td>\n",
       "      <td>United Kingdom</td>\n",
       "      <td>7.49</td>\n",
       "    </tr>\n",
       "    <tr>\n",
       "      <th>253035</th>\n",
       "      <td>513774</td>\n",
       "      <td>22690</td>\n",
       "      <td>DOORMAT HOME SWEET HOME BLUE</td>\n",
       "      <td>1</td>\n",
       "      <td>2010-06-28 13:53:00</td>\n",
       "      <td>7.49</td>\n",
       "      <td>12346.0</td>\n",
       "      <td>United Kingdom</td>\n",
       "      <td>7.49</td>\n",
       "    </tr>\n",
       "    <tr>\n",
       "      <th>253036</th>\n",
       "      <td>513774</td>\n",
       "      <td>21523</td>\n",
       "      <td>DOORMAT FANCY FONT HOME SWEET HOME</td>\n",
       "      <td>1</td>\n",
       "      <td>2010-06-28 13:53:00</td>\n",
       "      <td>7.49</td>\n",
       "      <td>12346.0</td>\n",
       "      <td>United Kingdom</td>\n",
       "      <td>7.49</td>\n",
       "    </tr>\n",
       "    <tr>\n",
       "      <th>253037</th>\n",
       "      <td>513774</td>\n",
       "      <td>48138</td>\n",
       "      <td>DOORMAT UNION FLAG</td>\n",
       "      <td>1</td>\n",
       "      <td>2010-06-28 13:53:00</td>\n",
       "      <td>7.49</td>\n",
       "      <td>12346.0</td>\n",
       "      <td>United Kingdom</td>\n",
       "      <td>7.49</td>\n",
       "    </tr>\n",
       "    <tr>\n",
       "      <th>253038</th>\n",
       "      <td>513774</td>\n",
       "      <td>22689</td>\n",
       "      <td>DOORMAT MERRY CHRISTMAS RED</td>\n",
       "      <td>1</td>\n",
       "      <td>2010-06-28 13:53:00</td>\n",
       "      <td>7.49</td>\n",
       "      <td>12346.0</td>\n",
       "      <td>United Kingdom</td>\n",
       "      <td>7.49</td>\n",
       "    </tr>\n",
       "    <tr>\n",
       "      <th>253039</th>\n",
       "      <td>513774</td>\n",
       "      <td>22365</td>\n",
       "      <td>DOORMAT RESPECTABLE HOUSE</td>\n",
       "      <td>1</td>\n",
       "      <td>2010-06-28 13:53:00</td>\n",
       "      <td>7.49</td>\n",
       "      <td>12346.0</td>\n",
       "      <td>United Kingdom</td>\n",
       "      <td>7.49</td>\n",
       "    </tr>\n",
       "    <tr>\n",
       "      <th>253040</th>\n",
       "      <td>513774</td>\n",
       "      <td>48185</td>\n",
       "      <td>DOORMAT FAIRY CAKE</td>\n",
       "      <td>1</td>\n",
       "      <td>2010-06-28 13:53:00</td>\n",
       "      <td>7.49</td>\n",
       "      <td>12346.0</td>\n",
       "      <td>United Kingdom</td>\n",
       "      <td>7.49</td>\n",
       "    </tr>\n",
       "    <tr>\n",
       "      <th>253041</th>\n",
       "      <td>513774</td>\n",
       "      <td>22688</td>\n",
       "      <td>DOORMAT PEACE ON EARTH BLUE</td>\n",
       "      <td>1</td>\n",
       "      <td>2010-06-28 13:53:00</td>\n",
       "      <td>7.49</td>\n",
       "      <td>12346.0</td>\n",
       "      <td>United Kingdom</td>\n",
       "      <td>7.49</td>\n",
       "    </tr>\n",
       "    <tr>\n",
       "      <th>253042</th>\n",
       "      <td>513774</td>\n",
       "      <td>48188</td>\n",
       "      <td>DOORMAT WELCOME PUPPIES</td>\n",
       "      <td>1</td>\n",
       "      <td>2010-06-28 13:53:00</td>\n",
       "      <td>7.49</td>\n",
       "      <td>12346.0</td>\n",
       "      <td>United Kingdom</td>\n",
       "      <td>7.49</td>\n",
       "    </tr>\n",
       "    <tr>\n",
       "      <th>253043</th>\n",
       "      <td>513774</td>\n",
       "      <td>48187</td>\n",
       "      <td>DOORMAT NEW ENGLAND</td>\n",
       "      <td>1</td>\n",
       "      <td>2010-06-28 13:53:00</td>\n",
       "      <td>7.49</td>\n",
       "      <td>12346.0</td>\n",
       "      <td>United Kingdom</td>\n",
       "      <td>7.49</td>\n",
       "    </tr>\n",
       "    <tr>\n",
       "      <th>253044</th>\n",
       "      <td>513774</td>\n",
       "      <td>22366</td>\n",
       "      <td>DOORMAT AIRMAIL</td>\n",
       "      <td>1</td>\n",
       "      <td>2010-06-28 13:53:00</td>\n",
       "      <td>7.49</td>\n",
       "      <td>12346.0</td>\n",
       "      <td>United Kingdom</td>\n",
       "      <td>7.49</td>\n",
       "    </tr>\n",
       "    <tr>\n",
       "      <th>253045</th>\n",
       "      <td>513774</td>\n",
       "      <td>20685</td>\n",
       "      <td>DOORMAT RED SPOT</td>\n",
       "      <td>1</td>\n",
       "      <td>2010-06-28 13:53:00</td>\n",
       "      <td>7.49</td>\n",
       "      <td>12346.0</td>\n",
       "      <td>United Kingdom</td>\n",
       "      <td>7.49</td>\n",
       "    </tr>\n",
       "    <tr>\n",
       "      <th>253046</th>\n",
       "      <td>513774</td>\n",
       "      <td>21955</td>\n",
       "      <td>DOORMAT UNION JACK GUNS AND ROSES</td>\n",
       "      <td>1</td>\n",
       "      <td>2010-06-28 13:53:00</td>\n",
       "      <td>7.49</td>\n",
       "      <td>12346.0</td>\n",
       "      <td>United Kingdom</td>\n",
       "      <td>7.49</td>\n",
       "    </tr>\n",
       "  </tbody>\n",
       "</table>\n",
       "</div>"
      ],
      "text/plain": [
       "       Invoice StockCode                         Description  Quantity  \\\n",
       "27994   491725   TEST001             This is a test product.        10   \n",
       "28251   491742   TEST001             This is a test product.         5   \n",
       "28254   491744   TEST001             This is a test product.         5   \n",
       "39398   492718   TEST001             This is a test product.         5   \n",
       "39411   492722   TEST002             This is a test product.         1   \n",
       "45228   493410   TEST001             This is a test product.         5   \n",
       "45230   493412   TEST001             This is a test product.         5   \n",
       "56117   494450   TEST001             This is a test product.         5   \n",
       "66084   495295   TEST001             This is a test product.         5   \n",
       "107800  499763     20682          RED SPOTTY CHILDS UMBRELLA         1   \n",
       "107801  499763     20679               EDWARDIAN PARASOL RED         1   \n",
       "107802  499763    15056N           EDWARDIAN PARASOL NATURAL         1   \n",
       "107803  499763   15056BL             EDWARDIAN PARASOL BLACK         1   \n",
       "107804  499763    15056P              EDWARDIAN PARASOL PINK         1   \n",
       "253028  513774     21524      DOORMAT SPOTTY HOME SWEET HOME         1   \n",
       "253029  513774     22692         DOORMAT WELCOME TO OUR HOME         1   \n",
       "253030  513774     22660               DOORMAT I LOVE LONDON         1   \n",
       "253031  513774     22687           DOORMAT CHRISTMAS VILLAGE         1   \n",
       "253032  513774    48173C                DOORMAT BLACK FLOCK          1   \n",
       "253033  513774     22691             DOORMAT WELCOME SUNRISE         1   \n",
       "253034  513774     48111               DOORMAT 3 SMILEY CATS         1   \n",
       "253035  513774     22690       DOORMAT HOME SWEET HOME BLUE          1   \n",
       "253036  513774     21523  DOORMAT FANCY FONT HOME SWEET HOME         1   \n",
       "253037  513774     48138                  DOORMAT UNION FLAG         1   \n",
       "253038  513774     22689        DOORMAT MERRY CHRISTMAS RED          1   \n",
       "253039  513774     22365           DOORMAT RESPECTABLE HOUSE         1   \n",
       "253040  513774     48185                  DOORMAT FAIRY CAKE         1   \n",
       "253041  513774     22688         DOORMAT PEACE ON EARTH BLUE         1   \n",
       "253042  513774     48188             DOORMAT WELCOME PUPPIES         1   \n",
       "253043  513774     48187                 DOORMAT NEW ENGLAND         1   \n",
       "253044  513774     22366                    DOORMAT AIRMAIL          1   \n",
       "253045  513774     20685                    DOORMAT RED SPOT         1   \n",
       "253046  513774     21955   DOORMAT UNION JACK GUNS AND ROSES         1   \n",
       "\n",
       "               InvoiceDate  Price  Customer ID         Country  TotalPrice  \n",
       "27994  2009-12-14 08:34:00   4.50      12346.0  United Kingdom       45.00  \n",
       "28251  2009-12-14 11:00:00   4.50      12346.0  United Kingdom       22.50  \n",
       "28254  2009-12-14 11:02:00   4.50      12346.0  United Kingdom       22.50  \n",
       "39398  2009-12-18 10:47:00   4.50      12346.0  United Kingdom       22.50  \n",
       "39411  2009-12-18 10:55:00   1.00      12346.0  United Kingdom        1.00  \n",
       "45228  2010-01-04 09:24:00   4.50      12346.0  United Kingdom       22.50  \n",
       "45230  2010-01-04 09:53:00   4.50      12346.0  United Kingdom       22.50  \n",
       "56117  2010-01-14 13:50:00   4.50      12346.0  United Kingdom       22.50  \n",
       "66084  2010-01-22 13:30:00   4.50      12346.0  United Kingdom       22.50  \n",
       "107800 2010-03-02 13:08:00   3.25      12346.0  United Kingdom        3.25  \n",
       "107801 2010-03-02 13:08:00   5.95      12346.0  United Kingdom        5.95  \n",
       "107802 2010-03-02 13:08:00   5.95      12346.0  United Kingdom        5.95  \n",
       "107803 2010-03-02 13:08:00   5.95      12346.0  United Kingdom        5.95  \n",
       "107804 2010-03-02 13:08:00   5.95      12346.0  United Kingdom        5.95  \n",
       "253028 2010-06-28 13:53:00   7.49      12346.0  United Kingdom        7.49  \n",
       "253029 2010-06-28 13:53:00   7.49      12346.0  United Kingdom        7.49  \n",
       "253030 2010-06-28 13:53:00   7.49      12346.0  United Kingdom        7.49  \n",
       "253031 2010-06-28 13:53:00   7.49      12346.0  United Kingdom        7.49  \n",
       "253032 2010-06-28 13:53:00   7.49      12346.0  United Kingdom        7.49  \n",
       "253033 2010-06-28 13:53:00   7.49      12346.0  United Kingdom        7.49  \n",
       "253034 2010-06-28 13:53:00   7.49      12346.0  United Kingdom        7.49  \n",
       "253035 2010-06-28 13:53:00   7.49      12346.0  United Kingdom        7.49  \n",
       "253036 2010-06-28 13:53:00   7.49      12346.0  United Kingdom        7.49  \n",
       "253037 2010-06-28 13:53:00   7.49      12346.0  United Kingdom        7.49  \n",
       "253038 2010-06-28 13:53:00   7.49      12346.0  United Kingdom        7.49  \n",
       "253039 2010-06-28 13:53:00   7.49      12346.0  United Kingdom        7.49  \n",
       "253040 2010-06-28 13:53:00   7.49      12346.0  United Kingdom        7.49  \n",
       "253041 2010-06-28 13:53:00   7.49      12346.0  United Kingdom        7.49  \n",
       "253042 2010-06-28 13:53:00   7.49      12346.0  United Kingdom        7.49  \n",
       "253043 2010-06-28 13:53:00   7.49      12346.0  United Kingdom        7.49  \n",
       "253044 2010-06-28 13:53:00   7.49      12346.0  United Kingdom        7.49  \n",
       "253045 2010-06-28 13:53:00   7.49      12346.0  United Kingdom        7.49  \n",
       "253046 2010-06-28 13:53:00   7.49      12346.0  United Kingdom        7.49  "
      ]
     },
     "execution_count": 39,
     "metadata": {},
     "output_type": "execute_result"
    }
   ],
   "source": [
    "first_customer=df1[df1['Customer ID']==12346.0]\n",
    "first_customer"
   ]
  },
  {
   "cell_type": "code",
   "execution_count": 40,
   "id": "1307004f-531b-459e-bab1-16ec0c5cb17e",
   "metadata": {
    "tags": []
   },
   "outputs": [
    {
     "data": {
      "text/plain": [
       "45.0"
      ]
     },
     "execution_count": 40,
     "metadata": {},
     "output_type": "execute_result"
    }
   ],
   "source": [
    "first_customer.TotalPrice.max()"
   ]
  },
  {
   "cell_type": "code",
   "execution_count": 41,
   "id": "340c5cd5-9f17-42e3-84fa-571fbe06be0b",
   "metadata": {},
   "outputs": [],
   "source": [
    "#Split the metricslit the metrics"
   ]
  },
  {
   "cell_type": "code",
   "execution_count": 42,
   "id": "254378bb-c0ff-4496-aa34-7df2fd6680de",
   "metadata": {
    "tags": []
   },
   "outputs": [],
   "source": [
    "quantiles = rfmTable.quantile(q=[0.25,0.5,0.75])\n",
    "quantiles = quantiles.to_dict()"
   ]
  },
  {
   "cell_type": "code",
   "execution_count": 43,
   "id": "a875933e-eb21-40f0-a7e5-3bb850a3ece2",
   "metadata": {},
   "outputs": [],
   "source": [
    "#Create a segmented RFM table"
   ]
  },
  {
   "cell_type": "code",
   "execution_count": 44,
   "id": "54b62c3b-d570-4670-8b5c-8848b02c043d",
   "metadata": {
    "tags": []
   },
   "outputs": [],
   "source": [
    "segmented_rfm = rfmTable"
   ]
  },
  {
   "cell_type": "code",
   "execution_count": 45,
   "id": "ffd83d78-1533-4242-9d4e-36542a8b03c5",
   "metadata": {
    "tags": []
   },
   "outputs": [],
   "source": [
    "def RScore(x,p,d):\n",
    "    if x <= d[p][0.25]:\n",
    "        return 1\n",
    "    elif x <= d[p][0.50]:\n",
    "        return 2\n",
    "    elif x <= d[p][0.75]: \n",
    "        return 3\n",
    "    else:\n",
    "        return 4\n",
    "    \n",
    "def FMScore(x,p,d):\n",
    "    if x <= d[p][0.25]:\n",
    "        return 4\n",
    "    elif x <= d[p][0.50]:\n",
    "        return 3\n",
    "    elif x <= d[p][0.75]: \n",
    "        return 2\n",
    "    else:\n",
    "        return 1"
   ]
  },
  {
   "cell_type": "code",
   "execution_count": 46,
   "id": "833c0a15-d79f-4c16-bf15-3330d3f658ff",
   "metadata": {
    "tags": []
   },
   "outputs": [
    {
     "data": {
      "text/html": [
       "<div>\n",
       "<style scoped>\n",
       "    .dataframe tbody tr th:only-of-type {\n",
       "        vertical-align: middle;\n",
       "    }\n",
       "\n",
       "    .dataframe tbody tr th {\n",
       "        vertical-align: top;\n",
       "    }\n",
       "\n",
       "    .dataframe thead th {\n",
       "        text-align: right;\n",
       "    }\n",
       "</style>\n",
       "<table border=\"1\" class=\"dataframe\">\n",
       "  <thead>\n",
       "    <tr style=\"text-align: right;\">\n",
       "      <th></th>\n",
       "      <th>recency</th>\n",
       "      <th>frequency</th>\n",
       "      <th>monetary_value</th>\n",
       "      <th>r_quartile</th>\n",
       "      <th>f_quartile</th>\n",
       "      <th>m_quartile</th>\n",
       "    </tr>\n",
       "    <tr>\n",
       "      <th>Customer ID</th>\n",
       "      <th></th>\n",
       "      <th></th>\n",
       "      <th></th>\n",
       "      <th></th>\n",
       "      <th></th>\n",
       "      <th></th>\n",
       "    </tr>\n",
       "  </thead>\n",
       "  <tbody>\n",
       "    <tr>\n",
       "      <th>12346.0</th>\n",
       "      <td>164</td>\n",
       "      <td>33</td>\n",
       "      <td>372.86</td>\n",
       "      <td>4</td>\n",
       "      <td>3</td>\n",
       "      <td>3</td>\n",
       "    </tr>\n",
       "    <tr>\n",
       "      <th>12608.0</th>\n",
       "      <td>39</td>\n",
       "      <td>16</td>\n",
       "      <td>415.79</td>\n",
       "      <td>2</td>\n",
       "      <td>4</td>\n",
       "      <td>3</td>\n",
       "    </tr>\n",
       "    <tr>\n",
       "      <th>12745.0</th>\n",
       "      <td>121</td>\n",
       "      <td>22</td>\n",
       "      <td>723.85</td>\n",
       "      <td>3</td>\n",
       "      <td>3</td>\n",
       "      <td>2</td>\n",
       "    </tr>\n",
       "    <tr>\n",
       "      <th>12746.0</th>\n",
       "      <td>175</td>\n",
       "      <td>17</td>\n",
       "      <td>254.55</td>\n",
       "      <td>4</td>\n",
       "      <td>4</td>\n",
       "      <td>4</td>\n",
       "    </tr>\n",
       "    <tr>\n",
       "      <th>12747.0</th>\n",
       "      <td>4</td>\n",
       "      <td>154</td>\n",
       "      <td>5080.53</td>\n",
       "      <td>1</td>\n",
       "      <td>1</td>\n",
       "      <td>1</td>\n",
       "    </tr>\n",
       "  </tbody>\n",
       "</table>\n",
       "</div>"
      ],
      "text/plain": [
       "             recency  frequency  monetary_value  r_quartile  f_quartile  \\\n",
       "Customer ID                                                               \n",
       "12346.0          164         33          372.86           4           3   \n",
       "12608.0           39         16          415.79           2           4   \n",
       "12745.0          121         22          723.85           3           3   \n",
       "12746.0          175         17          254.55           4           4   \n",
       "12747.0            4        154         5080.53           1           1   \n",
       "\n",
       "             m_quartile  \n",
       "Customer ID              \n",
       "12346.0               3  \n",
       "12608.0               3  \n",
       "12745.0               2  \n",
       "12746.0               4  \n",
       "12747.0               1  "
      ]
     },
     "execution_count": 46,
     "metadata": {},
     "output_type": "execute_result"
    }
   ],
   "source": [
    "segmented_rfm['r_quartile'] = segmented_rfm['recency'].apply(RScore, args=('recency',quantiles,))\n",
    "segmented_rfm['f_quartile'] = segmented_rfm['frequency'].apply(FMScore, args=('frequency',quantiles,))\n",
    "segmented_rfm['m_quartile'] = segmented_rfm['monetary_value'].apply(FMScore, args=('monetary_value',quantiles,))\n",
    "segmented_rfm.head()"
   ]
  },
  {
   "cell_type": "code",
   "execution_count": 47,
   "id": "15c5162e-134c-4286-80c0-90c1b5811aeb",
   "metadata": {
    "tags": []
   },
   "outputs": [
    {
     "data": {
      "text/html": [
       "<div>\n",
       "<style scoped>\n",
       "    .dataframe tbody tr th:only-of-type {\n",
       "        vertical-align: middle;\n",
       "    }\n",
       "\n",
       "    .dataframe tbody tr th {\n",
       "        vertical-align: top;\n",
       "    }\n",
       "\n",
       "    .dataframe thead th {\n",
       "        text-align: right;\n",
       "    }\n",
       "</style>\n",
       "<table border=\"1\" class=\"dataframe\">\n",
       "  <thead>\n",
       "    <tr style=\"text-align: right;\">\n",
       "      <th></th>\n",
       "      <th>recency</th>\n",
       "      <th>frequency</th>\n",
       "      <th>monetary_value</th>\n",
       "      <th>r_quartile</th>\n",
       "      <th>f_quartile</th>\n",
       "      <th>m_quartile</th>\n",
       "      <th>RFMScore</th>\n",
       "    </tr>\n",
       "    <tr>\n",
       "      <th>Customer ID</th>\n",
       "      <th></th>\n",
       "      <th></th>\n",
       "      <th></th>\n",
       "      <th></th>\n",
       "      <th></th>\n",
       "      <th></th>\n",
       "      <th></th>\n",
       "    </tr>\n",
       "  </thead>\n",
       "  <tbody>\n",
       "    <tr>\n",
       "      <th>12346.0</th>\n",
       "      <td>164</td>\n",
       "      <td>33</td>\n",
       "      <td>372.86</td>\n",
       "      <td>4</td>\n",
       "      <td>3</td>\n",
       "      <td>3</td>\n",
       "      <td>433</td>\n",
       "    </tr>\n",
       "    <tr>\n",
       "      <th>12608.0</th>\n",
       "      <td>39</td>\n",
       "      <td>16</td>\n",
       "      <td>415.79</td>\n",
       "      <td>2</td>\n",
       "      <td>4</td>\n",
       "      <td>3</td>\n",
       "      <td>243</td>\n",
       "    </tr>\n",
       "    <tr>\n",
       "      <th>12745.0</th>\n",
       "      <td>121</td>\n",
       "      <td>22</td>\n",
       "      <td>723.85</td>\n",
       "      <td>3</td>\n",
       "      <td>3</td>\n",
       "      <td>2</td>\n",
       "      <td>332</td>\n",
       "    </tr>\n",
       "    <tr>\n",
       "      <th>12746.0</th>\n",
       "      <td>175</td>\n",
       "      <td>17</td>\n",
       "      <td>254.55</td>\n",
       "      <td>4</td>\n",
       "      <td>4</td>\n",
       "      <td>4</td>\n",
       "      <td>444</td>\n",
       "    </tr>\n",
       "    <tr>\n",
       "      <th>12747.0</th>\n",
       "      <td>4</td>\n",
       "      <td>154</td>\n",
       "      <td>5080.53</td>\n",
       "      <td>1</td>\n",
       "      <td>1</td>\n",
       "      <td>1</td>\n",
       "      <td>111</td>\n",
       "    </tr>\n",
       "  </tbody>\n",
       "</table>\n",
       "</div>"
      ],
      "text/plain": [
       "             recency  frequency  monetary_value  r_quartile  f_quartile  \\\n",
       "Customer ID                                                               \n",
       "12346.0          164         33          372.86           4           3   \n",
       "12608.0           39         16          415.79           2           4   \n",
       "12745.0          121         22          723.85           3           3   \n",
       "12746.0          175         17          254.55           4           4   \n",
       "12747.0            4        154         5080.53           1           1   \n",
       "\n",
       "             m_quartile RFMScore  \n",
       "Customer ID                       \n",
       "12346.0               3      433  \n",
       "12608.0               3      243  \n",
       "12745.0               2      332  \n",
       "12746.0               4      444  \n",
       "12747.0               1      111  "
      ]
     },
     "execution_count": 47,
     "metadata": {},
     "output_type": "execute_result"
    }
   ],
   "source": [
    "segmented_rfm['RFMScore'] = segmented_rfm.r_quartile.map(str) + segmented_rfm.f_quartile.map(str) + segmented_rfm.m_quartile.map(str)\n",
    "segmented_rfm.head()"
   ]
  },
  {
   "cell_type": "code",
   "execution_count": 48,
   "id": "a9856a91-d4db-4540-8b00-95cbace87090",
   "metadata": {
    "tags": []
   },
   "outputs": [
    {
     "data": {
      "text/plain": [
       "'444'"
      ]
     },
     "execution_count": 48,
     "metadata": {},
     "output_type": "execute_result"
    }
   ],
   "source": [
    "segmented_rfm.RFMScore.max()"
   ]
  },
  {
   "cell_type": "markdown",
   "id": "79c8a496-90ea-4eca-957a-85c0bcc509b2",
   "metadata": {},
   "source": [
    "## Who are the top 10 of our customers!"
   ]
  },
  {
   "cell_type": "code",
   "execution_count": 49,
   "id": "d4e5efba-2783-445c-bf17-1d3a9f96b662",
   "metadata": {
    "tags": []
   },
   "outputs": [
    {
     "data": {
      "text/html": [
       "<div>\n",
       "<style scoped>\n",
       "    .dataframe tbody tr th:only-of-type {\n",
       "        vertical-align: middle;\n",
       "    }\n",
       "\n",
       "    .dataframe tbody tr th {\n",
       "        vertical-align: top;\n",
       "    }\n",
       "\n",
       "    .dataframe thead th {\n",
       "        text-align: right;\n",
       "    }\n",
       "</style>\n",
       "<table border=\"1\" class=\"dataframe\">\n",
       "  <thead>\n",
       "    <tr style=\"text-align: right;\">\n",
       "      <th></th>\n",
       "      <th>recency</th>\n",
       "      <th>frequency</th>\n",
       "      <th>monetary_value</th>\n",
       "      <th>r_quartile</th>\n",
       "      <th>f_quartile</th>\n",
       "      <th>m_quartile</th>\n",
       "      <th>RFMScore</th>\n",
       "    </tr>\n",
       "    <tr>\n",
       "      <th>Customer ID</th>\n",
       "      <th></th>\n",
       "      <th></th>\n",
       "      <th></th>\n",
       "      <th></th>\n",
       "      <th></th>\n",
       "      <th></th>\n",
       "      <th></th>\n",
       "    </tr>\n",
       "  </thead>\n",
       "  <tbody>\n",
       "    <tr>\n",
       "      <th>16135.0</th>\n",
       "      <td>218</td>\n",
       "      <td>18</td>\n",
       "      <td>301.90</td>\n",
       "      <td>4</td>\n",
       "      <td>4</td>\n",
       "      <td>4</td>\n",
       "      <td>444</td>\n",
       "    </tr>\n",
       "    <tr>\n",
       "      <th>17678.0</th>\n",
       "      <td>238</td>\n",
       "      <td>12</td>\n",
       "      <td>301.65</td>\n",
       "      <td>4</td>\n",
       "      <td>4</td>\n",
       "      <td>4</td>\n",
       "      <td>444</td>\n",
       "    </tr>\n",
       "    <tr>\n",
       "      <th>13706.0</th>\n",
       "      <td>261</td>\n",
       "      <td>18</td>\n",
       "      <td>300.38</td>\n",
       "      <td>4</td>\n",
       "      <td>4</td>\n",
       "      <td>4</td>\n",
       "      <td>444</td>\n",
       "    </tr>\n",
       "    <tr>\n",
       "      <th>14797.0</th>\n",
       "      <td>142</td>\n",
       "      <td>16</td>\n",
       "      <td>300.31</td>\n",
       "      <td>4</td>\n",
       "      <td>4</td>\n",
       "      <td>4</td>\n",
       "      <td>444</td>\n",
       "    </tr>\n",
       "    <tr>\n",
       "      <th>14840.0</th>\n",
       "      <td>174</td>\n",
       "      <td>18</td>\n",
       "      <td>299.86</td>\n",
       "      <td>4</td>\n",
       "      <td>4</td>\n",
       "      <td>4</td>\n",
       "      <td>444</td>\n",
       "    </tr>\n",
       "    <tr>\n",
       "      <th>17718.0</th>\n",
       "      <td>279</td>\n",
       "      <td>17</td>\n",
       "      <td>299.83</td>\n",
       "      <td>4</td>\n",
       "      <td>4</td>\n",
       "      <td>4</td>\n",
       "      <td>444</td>\n",
       "    </tr>\n",
       "    <tr>\n",
       "      <th>18212.0</th>\n",
       "      <td>312</td>\n",
       "      <td>12</td>\n",
       "      <td>298.30</td>\n",
       "      <td>4</td>\n",
       "      <td>4</td>\n",
       "      <td>4</td>\n",
       "      <td>444</td>\n",
       "    </tr>\n",
       "    <tr>\n",
       "      <th>14835.0</th>\n",
       "      <td>163</td>\n",
       "      <td>2</td>\n",
       "      <td>297.00</td>\n",
       "      <td>4</td>\n",
       "      <td>4</td>\n",
       "      <td>4</td>\n",
       "      <td>444</td>\n",
       "    </tr>\n",
       "    <tr>\n",
       "      <th>17927.0</th>\n",
       "      <td>356</td>\n",
       "      <td>10</td>\n",
       "      <td>294.00</td>\n",
       "      <td>4</td>\n",
       "      <td>4</td>\n",
       "      <td>4</td>\n",
       "      <td>444</td>\n",
       "    </tr>\n",
       "    <tr>\n",
       "      <th>15718.0</th>\n",
       "      <td>175</td>\n",
       "      <td>18</td>\n",
       "      <td>293.79</td>\n",
       "      <td>4</td>\n",
       "      <td>4</td>\n",
       "      <td>4</td>\n",
       "      <td>444</td>\n",
       "    </tr>\n",
       "  </tbody>\n",
       "</table>\n",
       "</div>"
      ],
      "text/plain": [
       "             recency  frequency  monetary_value  r_quartile  f_quartile  \\\n",
       "Customer ID                                                               \n",
       "16135.0          218         18          301.90           4           4   \n",
       "17678.0          238         12          301.65           4           4   \n",
       "13706.0          261         18          300.38           4           4   \n",
       "14797.0          142         16          300.31           4           4   \n",
       "14840.0          174         18          299.86           4           4   \n",
       "17718.0          279         17          299.83           4           4   \n",
       "18212.0          312         12          298.30           4           4   \n",
       "14835.0          163          2          297.00           4           4   \n",
       "17927.0          356         10          294.00           4           4   \n",
       "15718.0          175         18          293.79           4           4   \n",
       "\n",
       "             m_quartile RFMScore  \n",
       "Customer ID                       \n",
       "16135.0               4      444  \n",
       "17678.0               4      444  \n",
       "13706.0               4      444  \n",
       "14797.0               4      444  \n",
       "14840.0               4      444  \n",
       "17718.0               4      444  \n",
       "18212.0               4      444  \n",
       "14835.0               4      444  \n",
       "17927.0               4      444  \n",
       "15718.0               4      444  "
      ]
     },
     "execution_count": 49,
     "metadata": {},
     "output_type": "execute_result"
    }
   ],
   "source": [
    "segmented_rfm[segmented_rfm['RFMScore']=='444'].sort_values('monetary_value', ascending=False).head(10)"
   ]
  },
  {
   "cell_type": "markdown",
   "id": "abaa7607-0d75-47b9-bd20-74fb55af563b",
   "metadata": {},
   "source": [
    "## Who are the bottom 10 of our customers!"
   ]
  },
  {
   "cell_type": "code",
   "execution_count": 50,
   "id": "22d4a745-c493-4fc9-81bf-945465ac3c0e",
   "metadata": {
    "tags": []
   },
   "outputs": [
    {
     "data": {
      "text/plain": [
       "recency           378\n",
       "frequency         378\n",
       "monetary_value    378\n",
       "r_quartile        378\n",
       "f_quartile        378\n",
       "m_quartile        378\n",
       "RFMScore          378\n",
       "dtype: int64"
      ]
     },
     "execution_count": 50,
     "metadata": {},
     "output_type": "execute_result"
    }
   ],
   "source": [
    "segmented_rfm[segmented_rfm['RFMScore']=='111'].sort_values('monetary_value', ascending=False).count()\n"
   ]
  },
  {
   "cell_type": "code",
   "execution_count": 51,
   "id": "31bea6be-99dd-4453-a3f0-a8e956d85369",
   "metadata": {
    "tags": []
   },
   "outputs": [
    {
     "name": "stdout",
     "output_type": "stream",
     "text": [
      "<class 'pandas.core.frame.DataFrame'>\n",
      "Index: 3971 entries, 12346.0 to 18287.0\n",
      "Data columns (total 7 columns):\n",
      " #   Column          Non-Null Count  Dtype  \n",
      "---  ------          --------------  -----  \n",
      " 0   recency         3971 non-null   int32  \n",
      " 1   frequency       3971 non-null   int64  \n",
      " 2   monetary_value  3971 non-null   float64\n",
      " 3   r_quartile      3971 non-null   int64  \n",
      " 4   f_quartile      3971 non-null   int64  \n",
      " 5   m_quartile      3971 non-null   int64  \n",
      " 6   RFMScore        3971 non-null   object \n",
      "dtypes: float64(1), int32(1), int64(4), object(1)\n",
      "memory usage: 232.7+ KB\n"
     ]
    }
   ],
   "source": [
    "segmented_rfm.info()"
   ]
  },
  {
   "cell_type": "code",
   "execution_count": 52,
   "id": "e1c410ad-c441-4ee7-ab65-130f70bc8614",
   "metadata": {
    "tags": []
   },
   "outputs": [
    {
     "data": {
      "text/html": [
       "<div>\n",
       "<style scoped>\n",
       "    .dataframe tbody tr th:only-of-type {\n",
       "        vertical-align: middle;\n",
       "    }\n",
       "\n",
       "    .dataframe tbody tr th {\n",
       "        vertical-align: top;\n",
       "    }\n",
       "\n",
       "    .dataframe thead th {\n",
       "        text-align: right;\n",
       "    }\n",
       "</style>\n",
       "<table border=\"1\" class=\"dataframe\">\n",
       "  <thead>\n",
       "    <tr style=\"text-align: right;\">\n",
       "      <th></th>\n",
       "      <th>recency</th>\n",
       "      <th>frequency</th>\n",
       "      <th>monetary_value</th>\n",
       "      <th>r_quartile</th>\n",
       "      <th>f_quartile</th>\n",
       "      <th>m_quartile</th>\n",
       "      <th>RFMScore</th>\n",
       "    </tr>\n",
       "    <tr>\n",
       "      <th>Customer ID</th>\n",
       "      <th></th>\n",
       "      <th></th>\n",
       "      <th></th>\n",
       "      <th></th>\n",
       "      <th></th>\n",
       "      <th></th>\n",
       "      <th></th>\n",
       "    </tr>\n",
       "  </thead>\n",
       "  <tbody>\n",
       "    <tr>\n",
       "      <th>12747.0</th>\n",
       "      <td>4</td>\n",
       "      <td>154</td>\n",
       "      <td>5080.53</td>\n",
       "      <td>1</td>\n",
       "      <td>1</td>\n",
       "      <td>1</td>\n",
       "      <td>111</td>\n",
       "    </tr>\n",
       "    <tr>\n",
       "      <th>12748.0</th>\n",
       "      <td>0</td>\n",
       "      <td>2634</td>\n",
       "      <td>22879.66</td>\n",
       "      <td>1</td>\n",
       "      <td>1</td>\n",
       "      <td>1</td>\n",
       "      <td>111</td>\n",
       "    </tr>\n",
       "    <tr>\n",
       "      <th>12838.0</th>\n",
       "      <td>8</td>\n",
       "      <td>300</td>\n",
       "      <td>2715.35</td>\n",
       "      <td>1</td>\n",
       "      <td>1</td>\n",
       "      <td>1</td>\n",
       "      <td>111</td>\n",
       "    </tr>\n",
       "    <tr>\n",
       "      <th>12839.0</th>\n",
       "      <td>2</td>\n",
       "      <td>262</td>\n",
       "      <td>4480.31</td>\n",
       "      <td>1</td>\n",
       "      <td>1</td>\n",
       "      <td>1</td>\n",
       "      <td>111</td>\n",
       "    </tr>\n",
       "    <tr>\n",
       "      <th>12841.0</th>\n",
       "      <td>4</td>\n",
       "      <td>282</td>\n",
       "      <td>3518.33</td>\n",
       "      <td>1</td>\n",
       "      <td>1</td>\n",
       "      <td>1</td>\n",
       "      <td>111</td>\n",
       "    </tr>\n",
       "    <tr>\n",
       "      <th>...</th>\n",
       "      <td>...</td>\n",
       "      <td>...</td>\n",
       "      <td>...</td>\n",
       "      <td>...</td>\n",
       "      <td>...</td>\n",
       "      <td>...</td>\n",
       "      <td>...</td>\n",
       "    </tr>\n",
       "    <tr>\n",
       "      <th>18168.0</th>\n",
       "      <td>7</td>\n",
       "      <td>273</td>\n",
       "      <td>2600.33</td>\n",
       "      <td>1</td>\n",
       "      <td>1</td>\n",
       "      <td>1</td>\n",
       "      <td>111</td>\n",
       "    </tr>\n",
       "    <tr>\n",
       "      <th>18225.0</th>\n",
       "      <td>0</td>\n",
       "      <td>308</td>\n",
       "      <td>7545.14</td>\n",
       "      <td>1</td>\n",
       "      <td>1</td>\n",
       "      <td>1</td>\n",
       "      <td>111</td>\n",
       "    </tr>\n",
       "    <tr>\n",
       "      <th>18226.0</th>\n",
       "      <td>13</td>\n",
       "      <td>286</td>\n",
       "      <td>6650.83</td>\n",
       "      <td>1</td>\n",
       "      <td>1</td>\n",
       "      <td>1</td>\n",
       "      <td>111</td>\n",
       "    </tr>\n",
       "    <tr>\n",
       "      <th>18245.0</th>\n",
       "      <td>14</td>\n",
       "      <td>283</td>\n",
       "      <td>3757.92</td>\n",
       "      <td>1</td>\n",
       "      <td>1</td>\n",
       "      <td>1</td>\n",
       "      <td>111</td>\n",
       "    </tr>\n",
       "    <tr>\n",
       "      <th>18260.0</th>\n",
       "      <td>9</td>\n",
       "      <td>277</td>\n",
       "      <td>7318.91</td>\n",
       "      <td>1</td>\n",
       "      <td>1</td>\n",
       "      <td>1</td>\n",
       "      <td>111</td>\n",
       "    </tr>\n",
       "  </tbody>\n",
       "</table>\n",
       "<p>378 rows × 7 columns</p>\n",
       "</div>"
      ],
      "text/plain": [
       "             recency  frequency  monetary_value  r_quartile  f_quartile  \\\n",
       "Customer ID                                                               \n",
       "12747.0            4        154         5080.53           1           1   \n",
       "12748.0            0       2634        22879.66           1           1   \n",
       "12838.0            8        300         2715.35           1           1   \n",
       "12839.0            2        262         4480.31           1           1   \n",
       "12841.0            4        282         3518.33           1           1   \n",
       "...              ...        ...             ...         ...         ...   \n",
       "18168.0            7        273         2600.33           1           1   \n",
       "18225.0            0        308         7545.14           1           1   \n",
       "18226.0           13        286         6650.83           1           1   \n",
       "18245.0           14        283         3757.92           1           1   \n",
       "18260.0            9        277         7318.91           1           1   \n",
       "\n",
       "             m_quartile RFMScore  \n",
       "Customer ID                       \n",
       "12747.0               1      111  \n",
       "12748.0               1      111  \n",
       "12838.0               1      111  \n",
       "12839.0               1      111  \n",
       "12841.0               1      111  \n",
       "...                 ...      ...  \n",
       "18168.0               1      111  \n",
       "18225.0               1      111  \n",
       "18226.0               1      111  \n",
       "18245.0               1      111  \n",
       "18260.0               1      111  \n",
       "\n",
       "[378 rows x 7 columns]"
      ]
     },
     "execution_count": 52,
     "metadata": {},
     "output_type": "execute_result"
    }
   ],
   "source": [
    "segmented_rfm[segmented_rfm['RFMScore']=='111']"
   ]
  },
  {
   "cell_type": "code",
   "execution_count": 53,
   "id": "3fa64706-1a6d-422c-82d6-5a7aa39007a5",
   "metadata": {
    "tags": []
   },
   "outputs": [
    {
     "data": {
      "text/plain": [
       "segment_RFM_quantiles\n",
       "lost                   1064\n",
       "loyal customers         727\n",
       "at risk                 673\n",
       "potential loyalists     478\n",
       "about to sleep          428\n",
       "hibernating             281\n",
       "need attention          275\n",
       "promising                45\n",
       "Name: count, dtype: int64"
      ]
     },
     "execution_count": 53,
     "metadata": {},
     "output_type": "execute_result"
    }
   ],
   "source": [
    "# Create a new column 'segment_RFM_lifetimes' in rfm_rounded and fill it with values using the segment map\n",
    "segment_map = {\n",
    "    r'22': 'hibernating',\n",
    "    r'[1-2][1-2]': 'lost',\n",
    "    r'15': 'can\\'t lose',\n",
    "    r'[1-2][3-5]': 'at risk',\n",
    "    r'3[1-2]': 'about to sleep',\n",
    "    r'33': 'need attention',\n",
    "    r'55': 'champions',\n",
    "    r'[3-5][4-5]': 'loyal customers',\n",
    "    r'41': 'promising',\n",
    "    r'51': 'new customers',\n",
    "    r'[4-5][2-3]': 'potential loyalists'\n",
    "}\n",
    "\n",
    "# Map the recency and frequency to strings and concatenate them\n",
    "segmented_rfm['segment_RFM_quantiles'] = segmented_rfm['r_quartile'].map(str) + segmented_rfm['f_quartile'].map(str)\n",
    "# Replace the concatenated strings with the segment labels\n",
    "segmented_rfm['segment_RFM_quantiles'] = segmented_rfm['segment_RFM_quantiles'].replace(segment_map, regex=True)\n",
    "\n",
    "# Display the value counts of the new column\n",
    "segmented_rfm['segment_RFM_quantiles'].value_counts()"
   ]
  },
  {
   "cell_type": "code",
   "execution_count": 54,
   "id": "d19b12c1-9e5d-44c1-8ad6-95aa3f507cdb",
   "metadata": {
    "tags": []
   },
   "outputs": [
    {
     "data": {
      "text/html": [
       "<div>\n",
       "<style scoped>\n",
       "    .dataframe tbody tr th:only-of-type {\n",
       "        vertical-align: middle;\n",
       "    }\n",
       "\n",
       "    .dataframe tbody tr th {\n",
       "        vertical-align: top;\n",
       "    }\n",
       "\n",
       "    .dataframe thead th {\n",
       "        text-align: right;\n",
       "    }\n",
       "</style>\n",
       "<table border=\"1\" class=\"dataframe\">\n",
       "  <thead>\n",
       "    <tr style=\"text-align: right;\">\n",
       "      <th></th>\n",
       "      <th>recency</th>\n",
       "      <th>frequency</th>\n",
       "      <th>monetary_value</th>\n",
       "      <th>r_quartile</th>\n",
       "      <th>f_quartile</th>\n",
       "      <th>m_quartile</th>\n",
       "      <th>RFMScore</th>\n",
       "      <th>segment_RFM_quantiles</th>\n",
       "    </tr>\n",
       "    <tr>\n",
       "      <th>Customer ID</th>\n",
       "      <th></th>\n",
       "      <th></th>\n",
       "      <th></th>\n",
       "      <th></th>\n",
       "      <th></th>\n",
       "      <th></th>\n",
       "      <th></th>\n",
       "      <th></th>\n",
       "    </tr>\n",
       "  </thead>\n",
       "  <tbody>\n",
       "    <tr>\n",
       "      <th>12346.0</th>\n",
       "      <td>164</td>\n",
       "      <td>33</td>\n",
       "      <td>372.86</td>\n",
       "      <td>4</td>\n",
       "      <td>3</td>\n",
       "      <td>3</td>\n",
       "      <td>433</td>\n",
       "      <td>potential loyalists</td>\n",
       "    </tr>\n",
       "    <tr>\n",
       "      <th>12608.0</th>\n",
       "      <td>39</td>\n",
       "      <td>16</td>\n",
       "      <td>415.79</td>\n",
       "      <td>2</td>\n",
       "      <td>4</td>\n",
       "      <td>3</td>\n",
       "      <td>243</td>\n",
       "      <td>at risk</td>\n",
       "    </tr>\n",
       "    <tr>\n",
       "      <th>12745.0</th>\n",
       "      <td>121</td>\n",
       "      <td>22</td>\n",
       "      <td>723.85</td>\n",
       "      <td>3</td>\n",
       "      <td>3</td>\n",
       "      <td>2</td>\n",
       "      <td>332</td>\n",
       "      <td>need attention</td>\n",
       "    </tr>\n",
       "    <tr>\n",
       "      <th>12746.0</th>\n",
       "      <td>175</td>\n",
       "      <td>17</td>\n",
       "      <td>254.55</td>\n",
       "      <td>4</td>\n",
       "      <td>4</td>\n",
       "      <td>4</td>\n",
       "      <td>444</td>\n",
       "      <td>loyal customers</td>\n",
       "    </tr>\n",
       "    <tr>\n",
       "      <th>12747.0</th>\n",
       "      <td>4</td>\n",
       "      <td>154</td>\n",
       "      <td>5080.53</td>\n",
       "      <td>1</td>\n",
       "      <td>1</td>\n",
       "      <td>1</td>\n",
       "      <td>111</td>\n",
       "      <td>lost</td>\n",
       "    </tr>\n",
       "  </tbody>\n",
       "</table>\n",
       "</div>"
      ],
      "text/plain": [
       "             recency  frequency  monetary_value  r_quartile  f_quartile  \\\n",
       "Customer ID                                                               \n",
       "12346.0          164         33          372.86           4           3   \n",
       "12608.0           39         16          415.79           2           4   \n",
       "12745.0          121         22          723.85           3           3   \n",
       "12746.0          175         17          254.55           4           4   \n",
       "12747.0            4        154         5080.53           1           1   \n",
       "\n",
       "             m_quartile RFMScore segment_RFM_quantiles  \n",
       "Customer ID                                             \n",
       "12346.0               3      433   potential loyalists  \n",
       "12608.0               3      243               at risk  \n",
       "12745.0               2      332        need attention  \n",
       "12746.0               4      444       loyal customers  \n",
       "12747.0               1      111                  lost  "
      ]
     },
     "execution_count": 54,
     "metadata": {},
     "output_type": "execute_result"
    }
   ],
   "source": [
    "segmented_rfm.head()"
   ]
  },
  {
   "cell_type": "code",
   "execution_count": 55,
   "id": "5fe30063-1ec5-41ba-8842-e1bc235a30a0",
   "metadata": {
    "tags": []
   },
   "outputs": [
    {
     "data": {
      "text/plain": [
       "recency                        4\n",
       "frequency                    154\n",
       "monetary_value           5080.53\n",
       "r_quartile                     1\n",
       "f_quartile                     1\n",
       "m_quartile                     1\n",
       "RFMScore                     111\n",
       "segment_RFM_quantiles       lost\n",
       "Name: 12747.0, dtype: object"
      ]
     },
     "execution_count": 55,
     "metadata": {},
     "output_type": "execute_result"
    }
   ],
   "source": [
    "segmented_rfm.loc[12747.0]\n",
    "#segmented_rfm.to_csv('temp_segmented_rfm.csv',index=True)"
   ]
  },
  {
   "cell_type": "code",
   "execution_count": null,
   "id": "d8dae518-bd7b-4579-bf7a-5dc61d3bcadf",
   "metadata": {},
   "outputs": [],
   "source": []
  },
  {
   "cell_type": "code",
   "execution_count": 56,
   "id": "71e89365-7a89-4bb6-9caa-9dd4f5217143",
   "metadata": {
    "tags": []
   },
   "outputs": [
    {
     "data": {
      "text/html": [
       "<div>\n",
       "<style scoped>\n",
       "    .dataframe tbody tr th:only-of-type {\n",
       "        vertical-align: middle;\n",
       "    }\n",
       "\n",
       "    .dataframe tbody tr th {\n",
       "        vertical-align: top;\n",
       "    }\n",
       "\n",
       "    .dataframe thead th {\n",
       "        text-align: right;\n",
       "    }\n",
       "</style>\n",
       "<table border=\"1\" class=\"dataframe\">\n",
       "  <thead>\n",
       "    <tr style=\"text-align: right;\">\n",
       "      <th></th>\n",
       "      <th>recency</th>\n",
       "      <th>frequency</th>\n",
       "      <th>monetary_value</th>\n",
       "      <th>r_quartile</th>\n",
       "      <th>f_quartile</th>\n",
       "      <th>m_quartile</th>\n",
       "      <th>RFMScore</th>\n",
       "      <th>segment_RFM_quantiles</th>\n",
       "    </tr>\n",
       "    <tr>\n",
       "      <th>Customer ID</th>\n",
       "      <th></th>\n",
       "      <th></th>\n",
       "      <th></th>\n",
       "      <th></th>\n",
       "      <th></th>\n",
       "      <th></th>\n",
       "      <th></th>\n",
       "      <th></th>\n",
       "    </tr>\n",
       "  </thead>\n",
       "  <tbody>\n",
       "    <tr>\n",
       "      <th>12346.0</th>\n",
       "      <td>164</td>\n",
       "      <td>33</td>\n",
       "      <td>372.86</td>\n",
       "      <td>4</td>\n",
       "      <td>3</td>\n",
       "      <td>3</td>\n",
       "      <td>433</td>\n",
       "      <td>potential loyalists</td>\n",
       "    </tr>\n",
       "    <tr>\n",
       "      <th>12608.0</th>\n",
       "      <td>39</td>\n",
       "      <td>16</td>\n",
       "      <td>415.79</td>\n",
       "      <td>2</td>\n",
       "      <td>4</td>\n",
       "      <td>3</td>\n",
       "      <td>243</td>\n",
       "      <td>at risk</td>\n",
       "    </tr>\n",
       "    <tr>\n",
       "      <th>12745.0</th>\n",
       "      <td>121</td>\n",
       "      <td>22</td>\n",
       "      <td>723.85</td>\n",
       "      <td>3</td>\n",
       "      <td>3</td>\n",
       "      <td>2</td>\n",
       "      <td>332</td>\n",
       "      <td>need attention</td>\n",
       "    </tr>\n",
       "    <tr>\n",
       "      <th>12746.0</th>\n",
       "      <td>175</td>\n",
       "      <td>17</td>\n",
       "      <td>254.55</td>\n",
       "      <td>4</td>\n",
       "      <td>4</td>\n",
       "      <td>4</td>\n",
       "      <td>444</td>\n",
       "      <td>loyal customers</td>\n",
       "    </tr>\n",
       "    <tr>\n",
       "      <th>12747.0</th>\n",
       "      <td>4</td>\n",
       "      <td>154</td>\n",
       "      <td>5080.53</td>\n",
       "      <td>1</td>\n",
       "      <td>1</td>\n",
       "      <td>1</td>\n",
       "      <td>111</td>\n",
       "      <td>lost</td>\n",
       "    </tr>\n",
       "  </tbody>\n",
       "</table>\n",
       "</div>"
      ],
      "text/plain": [
       "             recency  frequency  monetary_value  r_quartile  f_quartile  \\\n",
       "Customer ID                                                               \n",
       "12346.0          164         33          372.86           4           3   \n",
       "12608.0           39         16          415.79           2           4   \n",
       "12745.0          121         22          723.85           3           3   \n",
       "12746.0          175         17          254.55           4           4   \n",
       "12747.0            4        154         5080.53           1           1   \n",
       "\n",
       "             m_quartile RFMScore segment_RFM_quantiles  \n",
       "Customer ID                                             \n",
       "12346.0               3      433   potential loyalists  \n",
       "12608.0               3      243               at risk  \n",
       "12745.0               2      332        need attention  \n",
       "12746.0               4      444       loyal customers  \n",
       "12747.0               1      111                  lost  "
      ]
     },
     "execution_count": 56,
     "metadata": {},
     "output_type": "execute_result"
    }
   ],
   "source": [
    "segmented_rfm.head()"
   ]
  },
  {
   "cell_type": "code",
   "execution_count": null,
   "id": "78b03c83-5683-4318-8c53-4384150080c7",
   "metadata": {},
   "outputs": [],
   "source": []
  },
  {
   "cell_type": "markdown",
   "id": "85428aae-bce6-448a-9a83-4eef9e04a713",
   "metadata": {},
   "source": [
    "# RFM segmentation using Quantiles ends here "
   ]
  },
  {
   "cell_type": "code",
   "execution_count": null,
   "id": "e1c26477-ff89-4209-8907-01c9543e0691",
   "metadata": {},
   "outputs": [],
   "source": []
  },
  {
   "cell_type": "code",
   "execution_count": 57,
   "id": "fd0770bb-0ede-4357-bd36-3e57ff289a38",
   "metadata": {},
   "outputs": [],
   "source": [
    "# RFM Customer Segmentation using LIFETIMES package  "
   ]
  },
  {
   "cell_type": "code",
   "execution_count": 58,
   "id": "ee327c15-74c7-4115-b499-11659ede6205",
   "metadata": {
    "tags": []
   },
   "outputs": [
    {
     "data": {
      "text/html": [
       "<div>\n",
       "<style scoped>\n",
       "    .dataframe tbody tr th:only-of-type {\n",
       "        vertical-align: middle;\n",
       "    }\n",
       "\n",
       "    .dataframe tbody tr th {\n",
       "        vertical-align: top;\n",
       "    }\n",
       "\n",
       "    .dataframe thead th {\n",
       "        text-align: right;\n",
       "    }\n",
       "</style>\n",
       "<table border=\"1\" class=\"dataframe\">\n",
       "  <thead>\n",
       "    <tr style=\"text-align: right;\">\n",
       "      <th></th>\n",
       "      <th>frequency</th>\n",
       "      <th>recency</th>\n",
       "      <th>T</th>\n",
       "      <th>monetary_value</th>\n",
       "    </tr>\n",
       "    <tr>\n",
       "      <th>Customer ID</th>\n",
       "      <th></th>\n",
       "      <th></th>\n",
       "      <th></th>\n",
       "      <th></th>\n",
       "    </tr>\n",
       "  </thead>\n",
       "  <tbody>\n",
       "    <tr>\n",
       "      <th>12346.0</th>\n",
       "      <td>6.0</td>\n",
       "      <td>196.0</td>\n",
       "      <td>360.0</td>\n",
       "      <td>47.143333</td>\n",
       "    </tr>\n",
       "    <tr>\n",
       "      <th>12608.0</th>\n",
       "      <td>0.0</td>\n",
       "      <td>0.0</td>\n",
       "      <td>39.0</td>\n",
       "      <td>0.000000</td>\n",
       "    </tr>\n",
       "    <tr>\n",
       "      <th>12745.0</th>\n",
       "      <td>1.0</td>\n",
       "      <td>88.0</td>\n",
       "      <td>209.0</td>\n",
       "      <td>266.930000</td>\n",
       "    </tr>\n",
       "    <tr>\n",
       "      <th>12746.0</th>\n",
       "      <td>0.0</td>\n",
       "      <td>0.0</td>\n",
       "      <td>175.0</td>\n",
       "      <td>0.000000</td>\n",
       "    </tr>\n",
       "    <tr>\n",
       "      <th>12747.0</th>\n",
       "      <td>15.0</td>\n",
       "      <td>363.0</td>\n",
       "      <td>367.0</td>\n",
       "      <td>313.325333</td>\n",
       "    </tr>\n",
       "  </tbody>\n",
       "</table>\n",
       "</div>"
      ],
      "text/plain": [
       "             frequency  recency      T  monetary_value\n",
       "Customer ID                                           \n",
       "12346.0            6.0    196.0  360.0       47.143333\n",
       "12608.0            0.0      0.0   39.0        0.000000\n",
       "12745.0            1.0     88.0  209.0      266.930000\n",
       "12746.0            0.0      0.0  175.0        0.000000\n",
       "12747.0           15.0    363.0  367.0      313.325333"
      ]
     },
     "execution_count": 58,
     "metadata": {},
     "output_type": "execute_result"
    }
   ],
   "source": [
    "from lifetimes.plotting import *\n",
    "from lifetimes.utils import *\n",
    "#from lifetimes.estimation import *\n",
    "\n",
    "data = summary_data_from_transaction_data(df1, 'Customer ID', 'InvoiceDate', \n",
    "                                          monetary_value_col='TotalPrice', observation_period_end='2010-12-9')\n",
    "data.head()"
   ]
  },
  {
   "cell_type": "markdown",
   "id": "fec3e995-177b-4927-87f9-0b44d00a7ea8",
   "metadata": {},
   "source": [
    "## R F T M values are not in scale of 1 to 4. \n",
    "\n",
    "# To compare it with RFM generated using Quantiles method (which is in scale of 1 to 4), we will transform the RFM values from Lifetimes package using MinMaxScalar using the feature_range."
   ]
  },
  {
   "cell_type": "code",
   "execution_count": 59,
   "id": "067d079a-049e-4c2d-826d-d7a35279036a",
   "metadata": {
    "tags": []
   },
   "outputs": [
    {
     "name": "stdout",
     "output_type": "stream",
     "text": [
      "             frequency   recency         T  monetary_value\n",
      "Customer ID                                               \n",
      "12346.0       1.165138  2.576408  3.895442        1.017124\n",
      "12608.0       1.000000  1.000000  1.313673        1.000000\n",
      "12745.0       1.027523  1.707775  2.680965        1.096960\n",
      "12746.0       1.000000  1.000000  2.407507        1.000000\n",
      "12747.0       1.412844  3.919571  3.951743        1.113812\n"
     ]
    }
   ],
   "source": [
    "from sklearn.preprocessing import MinMaxScaler\n",
    "\n",
    "# Initialize MinMaxScaler with the range 1 to 4\n",
    "scaler = MinMaxScaler(feature_range=(1, 4))\n",
    "\n",
    "# Apply MinMaxScaler to the RFM data columns\n",
    "scaled_data = scaler.fit_transform(data[['frequency', 'recency', 'T', 'monetary_value']])\n",
    "\n",
    "# Create a new DataFrame with the scaled data\n",
    "scaled_data_df = pd.DataFrame(scaled_data, index=data.index, columns=['frequency', 'recency', 'T', 'monetary_value'])\n",
    "\n",
    "# Display the head of the scaled data dataframe\n",
    "print(scaled_data_df.head())"
   ]
  },
  {
   "cell_type": "markdown",
   "id": "8ffab002-f70f-416c-a7fd-339f37fe0983",
   "metadata": {},
   "source": [
    "## now use the below value range to map the values in the columns \n",
    "\n",
    "# 1.0 to 1.75 = 1 \n",
    "# 1.76 to 2.67 = 2 \n",
    "# 2.68 to 3.4 = 3\n",
    "# 3.5 to 4 = 4"
   ]
  },
  {
   "cell_type": "code",
   "execution_count": null,
   "id": "428daf4d-3b57-4b4b-b8b3-1ed3ff715da6",
   "metadata": {},
   "outputs": [],
   "source": []
  },
  {
   "cell_type": "code",
   "execution_count": 60,
   "id": "2a5d1380-d2b5-40a4-9b97-012bf763ed60",
   "metadata": {
    "tags": []
   },
   "outputs": [
    {
     "name": "stdout",
     "output_type": "stream",
     "text": [
      "             frequency  recency    T  monetary_value\n",
      "Customer ID                                         \n",
      "12346.0              1      2.0  4.0               1\n",
      "12608.0              1      1.0  1.0               1\n",
      "12745.0              1      1.0  3.0               1\n",
      "12746.0              1      1.0  2.0               1\n",
      "12747.0              1      4.0  4.0               1\n"
     ]
    }
   ],
   "source": [
    "import numpy as np\n",
    "\n",
    "# Define the function to map the values to the range 1-4 based on the given intervals\n",
    "def map_values_to_range(x):\n",
    "    if 1.0 <= x <= 1.75:\n",
    "        return 1\n",
    "    elif 1.76 <= x <= 2.67:\n",
    "        return 2\n",
    "    elif 2.68 <= x <= 3.4:\n",
    "        return 3\n",
    "    elif 3.5 <= x <= 4.0:\n",
    "        return 4\n",
    "    else:\n",
    "        return np.nan\n",
    "\n",
    "# Apply the function to each column in the scaled_data_df dataframe\n",
    "mapped_data_df = scaled_data_df.applymap(map_values_to_range)\n",
    "\n",
    "# Display the head of the mapped data dataframe\n",
    "print(mapped_data_df.head())"
   ]
  },
  {
   "cell_type": "code",
   "execution_count": null,
   "id": "3611398b-40e9-4a1c-8180-bfd8ba968847",
   "metadata": {},
   "outputs": [],
   "source": []
  },
  {
   "cell_type": "code",
   "execution_count": 61,
   "id": "79c2b683-ce6d-4aef-8a86-094246fccfc3",
   "metadata": {
    "tags": []
   },
   "outputs": [
    {
     "name": "stdout",
     "output_type": "stream",
     "text": [
      "Frequency Value Counts:\n",
      "frequency\n",
      "1    3937\n",
      "2      28\n",
      "4       3\n",
      "3       3\n",
      "Name: count, dtype: int64\n",
      "\n",
      "Recency Value Counts:\n",
      "recency\n",
      "1.0    1900\n",
      "2.0     693\n",
      "3.0     652\n",
      "4.0     624\n",
      "Name: count, dtype: int64\n",
      "\n",
      "T Value Counts:\n",
      "T\n",
      "4.0    1264\n",
      "3.0     984\n",
      "1.0     880\n",
      "2.0     698\n",
      "Name: count, dtype: int64\n",
      "\n",
      "Monetary Value Counts:\n",
      "monetary_value\n",
      "1    3957\n",
      "2      12\n",
      "3       1\n",
      "4       1\n",
      "Name: count, dtype: int64\n"
     ]
    }
   ],
   "source": [
    "# Calculate the value counts for each column in the mapped_data_df dataframe\n",
    "value_counts_frequency = mapped_data_df['frequency'].value_counts()\n",
    "value_counts_recency = mapped_data_df['recency'].value_counts()\n",
    "value_counts_T = mapped_data_df['T'].value_counts()\n",
    "value_counts_monetary_value = mapped_data_df['monetary_value'].value_counts()\n",
    "\n",
    "# Display the value counts for each column\n",
    "print('Frequency Value Counts:')\n",
    "print(value_counts_frequency)\n",
    "print('\\nRecency Value Counts:')\n",
    "print(value_counts_recency)\n",
    "print('\\nT Value Counts:')\n",
    "print(value_counts_T)\n",
    "print('\\nMonetary Value Counts:')\n",
    "print(value_counts_monetary_value)"
   ]
  },
  {
   "cell_type": "code",
   "execution_count": null,
   "id": "2947d263-8368-4b7e-85bd-0832aa37a318",
   "metadata": {},
   "outputs": [],
   "source": []
  },
  {
   "cell_type": "code",
   "execution_count": 62,
   "id": "4c6e8c5c-e911-4d09-8bca-36c0a0f2a81b",
   "metadata": {
    "tags": []
   },
   "outputs": [
    {
     "data": {
      "text/plain": [
       "frequency           0\n",
       "recency           102\n",
       "T                 145\n",
       "monetary_value      0\n",
       "dtype: int64"
      ]
     },
     "execution_count": 62,
     "metadata": {},
     "output_type": "execute_result"
    }
   ],
   "source": [
    "mapped_data_df.isna().sum()"
   ]
  },
  {
   "cell_type": "code",
   "execution_count": 63,
   "id": "2b99613d-7622-4539-bce4-da8cdaed0283",
   "metadata": {},
   "outputs": [],
   "source": [
    "# WE FILLED THE NULL VALUES WITH MODE "
   ]
  },
  {
   "cell_type": "code",
   "execution_count": 64,
   "id": "59a19718-d1f9-45cf-ac2c-3c6a839b26c4",
   "metadata": {
    "tags": []
   },
   "outputs": [
    {
     "name": "stdout",
     "output_type": "stream",
     "text": [
      "             frequency  recency    T  monetary_value\n",
      "Customer ID                                         \n",
      "12346.0              1      2.0  4.0               1\n",
      "12608.0              1      1.0  1.0               1\n",
      "12745.0              1      1.0  3.0               1\n",
      "12746.0              1      1.0  2.0               1\n",
      "12747.0              1      4.0  4.0               1\n"
     ]
    }
   ],
   "source": [
    "# Fill the null values in the 'recency' and 'T' columns with the mode of their respective columns\n",
    "mode_recency = mapped_data_df['recency'].mode()[0]\n",
    "mode_T = mapped_data_df['T'].mode()[0]\n",
    "\n",
    "mapped_data_df['recency'].fillna(mode_recency, inplace=True)\n",
    "mapped_data_df['T'].fillna(mode_T, inplace=True)\n",
    "\n",
    "# Display the head of the dataframe to confirm the changes\n",
    "print(mapped_data_df.head())"
   ]
  },
  {
   "cell_type": "code",
   "execution_count": 65,
   "id": "4de26124-532f-4c2a-8ee1-5c0a61b8c57e",
   "metadata": {
    "tags": []
   },
   "outputs": [
    {
     "data": {
      "text/html": [
       "<div>\n",
       "<style scoped>\n",
       "    .dataframe tbody tr th:only-of-type {\n",
       "        vertical-align: middle;\n",
       "    }\n",
       "\n",
       "    .dataframe tbody tr th {\n",
       "        vertical-align: top;\n",
       "    }\n",
       "\n",
       "    .dataframe thead th {\n",
       "        text-align: right;\n",
       "    }\n",
       "</style>\n",
       "<table border=\"1\" class=\"dataframe\">\n",
       "  <thead>\n",
       "    <tr style=\"text-align: right;\">\n",
       "      <th></th>\n",
       "      <th>frequency</th>\n",
       "      <th>recency</th>\n",
       "      <th>T</th>\n",
       "      <th>monetary_value</th>\n",
       "    </tr>\n",
       "    <tr>\n",
       "      <th>Customer ID</th>\n",
       "      <th></th>\n",
       "      <th></th>\n",
       "      <th></th>\n",
       "      <th></th>\n",
       "    </tr>\n",
       "  </thead>\n",
       "  <tbody>\n",
       "    <tr>\n",
       "      <th>12346.0</th>\n",
       "      <td>1</td>\n",
       "      <td>2</td>\n",
       "      <td>4</td>\n",
       "      <td>1</td>\n",
       "    </tr>\n",
       "    <tr>\n",
       "      <th>12608.0</th>\n",
       "      <td>1</td>\n",
       "      <td>1</td>\n",
       "      <td>1</td>\n",
       "      <td>1</td>\n",
       "    </tr>\n",
       "    <tr>\n",
       "      <th>12745.0</th>\n",
       "      <td>1</td>\n",
       "      <td>1</td>\n",
       "      <td>3</td>\n",
       "      <td>1</td>\n",
       "    </tr>\n",
       "    <tr>\n",
       "      <th>12746.0</th>\n",
       "      <td>1</td>\n",
       "      <td>1</td>\n",
       "      <td>2</td>\n",
       "      <td>1</td>\n",
       "    </tr>\n",
       "    <tr>\n",
       "      <th>12747.0</th>\n",
       "      <td>1</td>\n",
       "      <td>4</td>\n",
       "      <td>4</td>\n",
       "      <td>1</td>\n",
       "    </tr>\n",
       "  </tbody>\n",
       "</table>\n",
       "</div>"
      ],
      "text/plain": [
       "             frequency  recency  T  monetary_value\n",
       "Customer ID                                       \n",
       "12346.0              1        2  4               1\n",
       "12608.0              1        1  1               1\n",
       "12745.0              1        1  3               1\n",
       "12746.0              1        1  2               1\n",
       "12747.0              1        4  4               1"
      ]
     },
     "execution_count": 65,
     "metadata": {},
     "output_type": "execute_result"
    }
   ],
   "source": [
    "# Convert all columns in the dataframe to integer type\n",
    "mapped_data_df = mapped_data_df.astype(int)\n",
    "\n",
    "# Display the head of the dataframe to confirm the changes\n",
    "mapped_data_df.head()"
   ]
  },
  {
   "cell_type": "code",
   "execution_count": 66,
   "id": "c3c56969-f1a6-40e8-9317-d781e5ce0888",
   "metadata": {
    "tags": []
   },
   "outputs": [],
   "source": [
    "rfm_rounded=mapped_data_df "
   ]
  },
  {
   "cell_type": "code",
   "execution_count": 67,
   "id": "ee3bdaaa-76f9-4d27-8895-72f30bc3366f",
   "metadata": {
    "tags": []
   },
   "outputs": [
    {
     "data": {
      "text/html": [
       "<div>\n",
       "<style scoped>\n",
       "    .dataframe tbody tr th:only-of-type {\n",
       "        vertical-align: middle;\n",
       "    }\n",
       "\n",
       "    .dataframe tbody tr th {\n",
       "        vertical-align: top;\n",
       "    }\n",
       "\n",
       "    .dataframe thead th {\n",
       "        text-align: right;\n",
       "    }\n",
       "</style>\n",
       "<table border=\"1\" class=\"dataframe\">\n",
       "  <thead>\n",
       "    <tr style=\"text-align: right;\">\n",
       "      <th></th>\n",
       "      <th>frequency</th>\n",
       "      <th>recency</th>\n",
       "      <th>T</th>\n",
       "      <th>monetary_value</th>\n",
       "    </tr>\n",
       "    <tr>\n",
       "      <th>Customer ID</th>\n",
       "      <th></th>\n",
       "      <th></th>\n",
       "      <th></th>\n",
       "      <th></th>\n",
       "    </tr>\n",
       "  </thead>\n",
       "  <tbody>\n",
       "    <tr>\n",
       "      <th>12346.0</th>\n",
       "      <td>1</td>\n",
       "      <td>2</td>\n",
       "      <td>4</td>\n",
       "      <td>1</td>\n",
       "    </tr>\n",
       "    <tr>\n",
       "      <th>12608.0</th>\n",
       "      <td>1</td>\n",
       "      <td>1</td>\n",
       "      <td>1</td>\n",
       "      <td>1</td>\n",
       "    </tr>\n",
       "    <tr>\n",
       "      <th>12745.0</th>\n",
       "      <td>1</td>\n",
       "      <td>1</td>\n",
       "      <td>3</td>\n",
       "      <td>1</td>\n",
       "    </tr>\n",
       "    <tr>\n",
       "      <th>12746.0</th>\n",
       "      <td>1</td>\n",
       "      <td>1</td>\n",
       "      <td>2</td>\n",
       "      <td>1</td>\n",
       "    </tr>\n",
       "    <tr>\n",
       "      <th>12747.0</th>\n",
       "      <td>1</td>\n",
       "      <td>4</td>\n",
       "      <td>4</td>\n",
       "      <td>1</td>\n",
       "    </tr>\n",
       "  </tbody>\n",
       "</table>\n",
       "</div>"
      ],
      "text/plain": [
       "             frequency  recency  T  monetary_value\n",
       "Customer ID                                       \n",
       "12346.0              1        2  4               1\n",
       "12608.0              1        1  1               1\n",
       "12745.0              1        1  3               1\n",
       "12746.0              1        1  2               1\n",
       "12747.0              1        4  4               1"
      ]
     },
     "execution_count": 67,
     "metadata": {},
     "output_type": "execute_result"
    }
   ],
   "source": [
    "rfm_rounded.head()"
   ]
  },
  {
   "cell_type": "code",
   "execution_count": 68,
   "id": "4075a5a6-a015-4785-ad9c-6f934a5ab662",
   "metadata": {
    "tags": []
   },
   "outputs": [
    {
     "data": {
      "text/html": [
       "<div>\n",
       "<style scoped>\n",
       "    .dataframe tbody tr th:only-of-type {\n",
       "        vertical-align: middle;\n",
       "    }\n",
       "\n",
       "    .dataframe tbody tr th {\n",
       "        vertical-align: top;\n",
       "    }\n",
       "\n",
       "    .dataframe thead th {\n",
       "        text-align: right;\n",
       "    }\n",
       "</style>\n",
       "<table border=\"1\" class=\"dataframe\">\n",
       "  <thead>\n",
       "    <tr style=\"text-align: right;\">\n",
       "      <th></th>\n",
       "      <th>frequency</th>\n",
       "      <th>recency</th>\n",
       "      <th>monetary_value</th>\n",
       "    </tr>\n",
       "    <tr>\n",
       "      <th>Customer ID</th>\n",
       "      <th></th>\n",
       "      <th></th>\n",
       "      <th></th>\n",
       "    </tr>\n",
       "  </thead>\n",
       "  <tbody>\n",
       "    <tr>\n",
       "      <th>12346.0</th>\n",
       "      <td>1</td>\n",
       "      <td>2</td>\n",
       "      <td>1</td>\n",
       "    </tr>\n",
       "    <tr>\n",
       "      <th>12608.0</th>\n",
       "      <td>1</td>\n",
       "      <td>1</td>\n",
       "      <td>1</td>\n",
       "    </tr>\n",
       "    <tr>\n",
       "      <th>12745.0</th>\n",
       "      <td>1</td>\n",
       "      <td>1</td>\n",
       "      <td>1</td>\n",
       "    </tr>\n",
       "    <tr>\n",
       "      <th>12746.0</th>\n",
       "      <td>1</td>\n",
       "      <td>1</td>\n",
       "      <td>1</td>\n",
       "    </tr>\n",
       "    <tr>\n",
       "      <th>12747.0</th>\n",
       "      <td>1</td>\n",
       "      <td>4</td>\n",
       "      <td>1</td>\n",
       "    </tr>\n",
       "  </tbody>\n",
       "</table>\n",
       "</div>"
      ],
      "text/plain": [
       "             frequency  recency  monetary_value\n",
       "Customer ID                                    \n",
       "12346.0              1        2               1\n",
       "12608.0              1        1               1\n",
       "12745.0              1        1               1\n",
       "12746.0              1        1               1\n",
       "12747.0              1        4               1"
      ]
     },
     "execution_count": 68,
     "metadata": {},
     "output_type": "execute_result"
    }
   ],
   "source": [
    "# Dropping the 'T' column from the rfm_rounded dataframe\n",
    "rfm_rounded.drop(columns='T', inplace=True)\n",
    "# Display the head of the dataframe to confirm the column is dropped\n",
    "rfm_rounded.head()"
   ]
  },
  {
   "cell_type": "code",
   "execution_count": 69,
   "id": "9f5e4c54-6544-48ff-b9f7-7c7af6a2fee1",
   "metadata": {
    "tags": []
   },
   "outputs": [
    {
     "data": {
      "text/plain": [
       "segment_RFM_lifetimes\n",
       "lost                   2695\n",
       "about to sleep          652\n",
       "promising               592\n",
       "potential loyalists      29\n",
       "loyal customers           3\n",
       "Name: count, dtype: int64"
      ]
     },
     "execution_count": 69,
     "metadata": {},
     "output_type": "execute_result"
    }
   ],
   "source": [
    "# Create a new column 'segment_RFM_lifetimes' in rfm_rounded and fill it with values using the segment map\n",
    "segment_map = {\n",
    "    r'22': 'hibernating',\n",
    "    r'[1-2][1-2]': 'lost',\n",
    "    r'15': 'can\\'t lose',\n",
    "    r'[1-2][3-5]': 'at risk',\n",
    "    r'3[1-2]': 'about to sleep',\n",
    "    r'33': 'need attention',\n",
    "    r'55': 'champions',\n",
    "    r'[3-5][4-5]': 'loyal customers',\n",
    "    r'41': 'promising',\n",
    "    r'51': 'new customers',\n",
    "    r'[4-5][2-3]': 'potential loyalists'\n",
    "}\n",
    "\n",
    "# Map the recency and frequency to strings and concatenate them\n",
    "rfm_rounded['segment_RFM_lifetimes'] = rfm_rounded['recency'].map(str) + rfm_rounded['frequency'].map(str)\n",
    "# Replace the concatenated strings with the segment labels\n",
    "rfm_rounded['segment_RFM_lifetimes'] = rfm_rounded['segment_RFM_lifetimes'].replace(segment_map, regex=True)\n",
    "\n",
    "# Display the value counts of the new column\n",
    "rfm_rounded['segment_RFM_lifetimes'].value_counts()"
   ]
  },
  {
   "cell_type": "code",
   "execution_count": 70,
   "id": "51457986-617f-4cb3-b220-2e47f0ede862",
   "metadata": {
    "tags": []
   },
   "outputs": [
    {
     "data": {
      "text/html": [
       "<div>\n",
       "<style scoped>\n",
       "    .dataframe tbody tr th:only-of-type {\n",
       "        vertical-align: middle;\n",
       "    }\n",
       "\n",
       "    .dataframe tbody tr th {\n",
       "        vertical-align: top;\n",
       "    }\n",
       "\n",
       "    .dataframe thead th {\n",
       "        text-align: right;\n",
       "    }\n",
       "</style>\n",
       "<table border=\"1\" class=\"dataframe\">\n",
       "  <thead>\n",
       "    <tr style=\"text-align: right;\">\n",
       "      <th></th>\n",
       "      <th>frequency</th>\n",
       "      <th>recency</th>\n",
       "      <th>monetary_value</th>\n",
       "      <th>segment_RFM_lifetimes</th>\n",
       "    </tr>\n",
       "    <tr>\n",
       "      <th>Customer ID</th>\n",
       "      <th></th>\n",
       "      <th></th>\n",
       "      <th></th>\n",
       "      <th></th>\n",
       "    </tr>\n",
       "  </thead>\n",
       "  <tbody>\n",
       "    <tr>\n",
       "      <th>12346.0</th>\n",
       "      <td>1</td>\n",
       "      <td>2</td>\n",
       "      <td>1</td>\n",
       "      <td>lost</td>\n",
       "    </tr>\n",
       "    <tr>\n",
       "      <th>12608.0</th>\n",
       "      <td>1</td>\n",
       "      <td>1</td>\n",
       "      <td>1</td>\n",
       "      <td>lost</td>\n",
       "    </tr>\n",
       "    <tr>\n",
       "      <th>12745.0</th>\n",
       "      <td>1</td>\n",
       "      <td>1</td>\n",
       "      <td>1</td>\n",
       "      <td>lost</td>\n",
       "    </tr>\n",
       "    <tr>\n",
       "      <th>12746.0</th>\n",
       "      <td>1</td>\n",
       "      <td>1</td>\n",
       "      <td>1</td>\n",
       "      <td>lost</td>\n",
       "    </tr>\n",
       "    <tr>\n",
       "      <th>12747.0</th>\n",
       "      <td>1</td>\n",
       "      <td>4</td>\n",
       "      <td>1</td>\n",
       "      <td>promising</td>\n",
       "    </tr>\n",
       "  </tbody>\n",
       "</table>\n",
       "</div>"
      ],
      "text/plain": [
       "             frequency  recency  monetary_value segment_RFM_lifetimes\n",
       "Customer ID                                                          \n",
       "12346.0              1        2               1                  lost\n",
       "12608.0              1        1               1                  lost\n",
       "12745.0              1        1               1                  lost\n",
       "12746.0              1        1               1                  lost\n",
       "12747.0              1        4               1             promising"
      ]
     },
     "execution_count": 70,
     "metadata": {},
     "output_type": "execute_result"
    }
   ],
   "source": [
    "rfm_rounded.head()"
   ]
  },
  {
   "cell_type": "markdown",
   "id": "136fcc54-feb8-42cd-bd30-2e7aa09146fd",
   "metadata": {},
   "source": [
    "## Create a new dataframe with only CustomerID and segment_RFM_lifetimes columns\n",
    "# rfm_segment_only = rfm_rounded[['segment_RFM_lifetimes']].copy()\n",
    "# rfm_segment_only.reset_index(inplace=True)\n",
    "\n",
    "#  Display the head of the new dataframe\n",
    "# rfm_segment_only.head()"
   ]
  },
  {
   "cell_type": "code",
   "execution_count": 71,
   "id": "ad8cb358-f3c2-47d7-932f-fea62a1cf39e",
   "metadata": {},
   "outputs": [],
   "source": [
    "# rfm_segment_only.to_csv('rfm_segment_only.csv',index=True)"
   ]
  },
  {
   "cell_type": "markdown",
   "id": "4cdf721d-0511-4011-a7da-5d042e53ba5d",
   "metadata": {},
   "source": [
    "## IN THE END, WE HAVE 2 DF, \n",
    "# rfm_rounded from lifetimes package \n",
    "# egmented_rfm from quantiles package"
   ]
  },
  {
   "cell_type": "code",
   "execution_count": 72,
   "id": "7ec55fb7-4581-48cd-8f9c-6f56b6338740",
   "metadata": {
    "tags": []
   },
   "outputs": [
    {
     "data": {
      "text/html": [
       "<div>\n",
       "<style scoped>\n",
       "    .dataframe tbody tr th:only-of-type {\n",
       "        vertical-align: middle;\n",
       "    }\n",
       "\n",
       "    .dataframe tbody tr th {\n",
       "        vertical-align: top;\n",
       "    }\n",
       "\n",
       "    .dataframe thead th {\n",
       "        text-align: right;\n",
       "    }\n",
       "</style>\n",
       "<table border=\"1\" class=\"dataframe\">\n",
       "  <thead>\n",
       "    <tr style=\"text-align: right;\">\n",
       "      <th></th>\n",
       "      <th>frequency</th>\n",
       "      <th>recency</th>\n",
       "      <th>monetary_value</th>\n",
       "      <th>segment_RFM_lifetimes</th>\n",
       "    </tr>\n",
       "    <tr>\n",
       "      <th>Customer ID</th>\n",
       "      <th></th>\n",
       "      <th></th>\n",
       "      <th></th>\n",
       "      <th></th>\n",
       "    </tr>\n",
       "  </thead>\n",
       "  <tbody>\n",
       "    <tr>\n",
       "      <th>12346.0</th>\n",
       "      <td>1</td>\n",
       "      <td>2</td>\n",
       "      <td>1</td>\n",
       "      <td>lost</td>\n",
       "    </tr>\n",
       "    <tr>\n",
       "      <th>12608.0</th>\n",
       "      <td>1</td>\n",
       "      <td>1</td>\n",
       "      <td>1</td>\n",
       "      <td>lost</td>\n",
       "    </tr>\n",
       "    <tr>\n",
       "      <th>12745.0</th>\n",
       "      <td>1</td>\n",
       "      <td>1</td>\n",
       "      <td>1</td>\n",
       "      <td>lost</td>\n",
       "    </tr>\n",
       "    <tr>\n",
       "      <th>12746.0</th>\n",
       "      <td>1</td>\n",
       "      <td>1</td>\n",
       "      <td>1</td>\n",
       "      <td>lost</td>\n",
       "    </tr>\n",
       "    <tr>\n",
       "      <th>12747.0</th>\n",
       "      <td>1</td>\n",
       "      <td>4</td>\n",
       "      <td>1</td>\n",
       "      <td>promising</td>\n",
       "    </tr>\n",
       "  </tbody>\n",
       "</table>\n",
       "</div>"
      ],
      "text/plain": [
       "             frequency  recency  monetary_value segment_RFM_lifetimes\n",
       "Customer ID                                                          \n",
       "12346.0              1        2               1                  lost\n",
       "12608.0              1        1               1                  lost\n",
       "12745.0              1        1               1                  lost\n",
       "12746.0              1        1               1                  lost\n",
       "12747.0              1        4               1             promising"
      ]
     },
     "execution_count": 72,
     "metadata": {},
     "output_type": "execute_result"
    }
   ],
   "source": [
    "# from LIFETIMES package\n",
    "rfm_rounded.head()"
   ]
  },
  {
   "cell_type": "code",
   "execution_count": 73,
   "id": "a589bd74-6055-45c2-ae61-627499d84f6f",
   "metadata": {
    "tags": []
   },
   "outputs": [
    {
     "data": {
      "text/html": [
       "<div>\n",
       "<style scoped>\n",
       "    .dataframe tbody tr th:only-of-type {\n",
       "        vertical-align: middle;\n",
       "    }\n",
       "\n",
       "    .dataframe tbody tr th {\n",
       "        vertical-align: top;\n",
       "    }\n",
       "\n",
       "    .dataframe thead th {\n",
       "        text-align: right;\n",
       "    }\n",
       "</style>\n",
       "<table border=\"1\" class=\"dataframe\">\n",
       "  <thead>\n",
       "    <tr style=\"text-align: right;\">\n",
       "      <th></th>\n",
       "      <th>recency</th>\n",
       "      <th>frequency</th>\n",
       "      <th>monetary_value</th>\n",
       "      <th>r_quartile</th>\n",
       "      <th>f_quartile</th>\n",
       "      <th>m_quartile</th>\n",
       "      <th>RFMScore</th>\n",
       "      <th>segment_RFM_quantiles</th>\n",
       "    </tr>\n",
       "    <tr>\n",
       "      <th>Customer ID</th>\n",
       "      <th></th>\n",
       "      <th></th>\n",
       "      <th></th>\n",
       "      <th></th>\n",
       "      <th></th>\n",
       "      <th></th>\n",
       "      <th></th>\n",
       "      <th></th>\n",
       "    </tr>\n",
       "  </thead>\n",
       "  <tbody>\n",
       "    <tr>\n",
       "      <th>12346.0</th>\n",
       "      <td>164</td>\n",
       "      <td>33</td>\n",
       "      <td>372.86</td>\n",
       "      <td>4</td>\n",
       "      <td>3</td>\n",
       "      <td>3</td>\n",
       "      <td>433</td>\n",
       "      <td>potential loyalists</td>\n",
       "    </tr>\n",
       "    <tr>\n",
       "      <th>12608.0</th>\n",
       "      <td>39</td>\n",
       "      <td>16</td>\n",
       "      <td>415.79</td>\n",
       "      <td>2</td>\n",
       "      <td>4</td>\n",
       "      <td>3</td>\n",
       "      <td>243</td>\n",
       "      <td>at risk</td>\n",
       "    </tr>\n",
       "    <tr>\n",
       "      <th>12745.0</th>\n",
       "      <td>121</td>\n",
       "      <td>22</td>\n",
       "      <td>723.85</td>\n",
       "      <td>3</td>\n",
       "      <td>3</td>\n",
       "      <td>2</td>\n",
       "      <td>332</td>\n",
       "      <td>need attention</td>\n",
       "    </tr>\n",
       "    <tr>\n",
       "      <th>12746.0</th>\n",
       "      <td>175</td>\n",
       "      <td>17</td>\n",
       "      <td>254.55</td>\n",
       "      <td>4</td>\n",
       "      <td>4</td>\n",
       "      <td>4</td>\n",
       "      <td>444</td>\n",
       "      <td>loyal customers</td>\n",
       "    </tr>\n",
       "    <tr>\n",
       "      <th>12747.0</th>\n",
       "      <td>4</td>\n",
       "      <td>154</td>\n",
       "      <td>5080.53</td>\n",
       "      <td>1</td>\n",
       "      <td>1</td>\n",
       "      <td>1</td>\n",
       "      <td>111</td>\n",
       "      <td>lost</td>\n",
       "    </tr>\n",
       "  </tbody>\n",
       "</table>\n",
       "</div>"
      ],
      "text/plain": [
       "             recency  frequency  monetary_value  r_quartile  f_quartile  \\\n",
       "Customer ID                                                               \n",
       "12346.0          164         33          372.86           4           3   \n",
       "12608.0           39         16          415.79           2           4   \n",
       "12745.0          121         22          723.85           3           3   \n",
       "12746.0          175         17          254.55           4           4   \n",
       "12747.0            4        154         5080.53           1           1   \n",
       "\n",
       "             m_quartile RFMScore segment_RFM_quantiles  \n",
       "Customer ID                                             \n",
       "12346.0               3      433   potential loyalists  \n",
       "12608.0               3      243               at risk  \n",
       "12745.0               2      332        need attention  \n",
       "12746.0               4      444       loyal customers  \n",
       "12747.0               1      111                  lost  "
      ]
     },
     "execution_count": 73,
     "metadata": {},
     "output_type": "execute_result"
    }
   ],
   "source": [
    "# from Quantiles \n",
    "segmented_rfm.head()"
   ]
  },
  {
   "cell_type": "code",
   "execution_count": 74,
   "id": "a21b63c7-954e-4804-b7b7-a5700ac51839",
   "metadata": {
    "tags": []
   },
   "outputs": [],
   "source": [
    "rfm_rounded.to_csv('rfm_rounded.csv')"
   ]
  },
  {
   "cell_type": "code",
   "execution_count": 75,
   "id": "71a57e65-cf70-477f-9500-4765ad6c8d52",
   "metadata": {},
   "outputs": [],
   "source": [
    "segmented_rfm.to_csv('segmented_rfm.csv')"
   ]
  },
  {
   "cell_type": "code",
   "execution_count": 76,
   "id": "26c7254b-1278-46a2-ad7c-9e5384a75a61",
   "metadata": {},
   "outputs": [],
   "source": [
    "#####################################################################"
   ]
  },
  {
   "cell_type": "code",
   "execution_count": null,
   "id": "70094384-5808-4b20-b258-2fb9f230ed7b",
   "metadata": {},
   "outputs": [],
   "source": []
  },
  {
   "cell_type": "code",
   "execution_count": null,
   "id": "a73a81c0-b967-4f29-936c-e2153559ad55",
   "metadata": {},
   "outputs": [],
   "source": []
  },
  {
   "cell_type": "code",
   "execution_count": null,
   "id": "a5b36fb0-3ebf-4f6a-9035-2a1c33b69ebb",
   "metadata": {},
   "outputs": [],
   "source": []
  },
  {
   "cell_type": "code",
   "execution_count": null,
   "id": "1a351cea-c851-4145-8963-8c3491c1b116",
   "metadata": {},
   "outputs": [],
   "source": []
  },
  {
   "cell_type": "code",
   "execution_count": null,
   "id": "a6bfbadc-d1c2-4519-a6d3-fdddd9d016f0",
   "metadata": {},
   "outputs": [],
   "source": []
  },
  {
   "cell_type": "code",
   "execution_count": null,
   "id": "1cf4e532-da55-4853-bcda-4193d9fe772d",
   "metadata": {},
   "outputs": [],
   "source": []
  },
  {
   "cell_type": "code",
   "execution_count": null,
   "id": "16ceb6dc-2f18-4a22-830b-dafb5fdb5a99",
   "metadata": {},
   "outputs": [],
   "source": []
  },
  {
   "cell_type": "code",
   "execution_count": null,
   "id": "5a476d6e-2468-4e6b-9d9f-21744aeb2547",
   "metadata": {},
   "outputs": [],
   "source": []
  },
  {
   "cell_type": "code",
   "execution_count": null,
   "id": "09b22b8d-242c-47b5-8934-2780c99a6217",
   "metadata": {},
   "outputs": [],
   "source": []
  },
  {
   "cell_type": "code",
   "execution_count": null,
   "id": "063dc0e6-4607-4481-8d61-3a51b8bd1bb4",
   "metadata": {},
   "outputs": [],
   "source": []
  },
  {
   "cell_type": "code",
   "execution_count": null,
   "id": "b0b985d4-bc4b-4f46-9aec-9fc8df74515e",
   "metadata": {},
   "outputs": [],
   "source": []
  },
  {
   "cell_type": "code",
   "execution_count": null,
   "id": "d25dc862-9b42-42d4-ba9d-468f8b125ae5",
   "metadata": {},
   "outputs": [],
   "source": []
  },
  {
   "cell_type": "code",
   "execution_count": null,
   "id": "c4061c91-2306-43f9-bd5e-f115f976e78d",
   "metadata": {},
   "outputs": [],
   "source": []
  },
  {
   "cell_type": "code",
   "execution_count": null,
   "id": "9f797f8a-46d2-440f-8de9-1fa709e09713",
   "metadata": {},
   "outputs": [],
   "source": []
  },
  {
   "cell_type": "code",
   "execution_count": null,
   "id": "93fd0c22-8568-49a6-861c-d8a8957a9f6d",
   "metadata": {},
   "outputs": [],
   "source": []
  },
  {
   "cell_type": "code",
   "execution_count": null,
   "id": "943106b8-c6df-4838-a424-cd7732a48850",
   "metadata": {},
   "outputs": [],
   "source": []
  },
  {
   "cell_type": "code",
   "execution_count": null,
   "id": "1d16a5a1-b7a8-4f5a-a783-3aa143c8c44a",
   "metadata": {},
   "outputs": [],
   "source": []
  },
  {
   "cell_type": "code",
   "execution_count": null,
   "id": "e2fc6d39-bd7e-4126-ac87-ecfecb5b0d81",
   "metadata": {},
   "outputs": [],
   "source": []
  },
  {
   "cell_type": "code",
   "execution_count": null,
   "id": "8d3bec07-8ce2-4fd1-bcfb-797441340711",
   "metadata": {},
   "outputs": [],
   "source": []
  },
  {
   "cell_type": "code",
   "execution_count": null,
   "id": "f7a7bf49-aecf-450b-a4ac-5911f8404a88",
   "metadata": {},
   "outputs": [],
   "source": []
  },
  {
   "cell_type": "code",
   "execution_count": null,
   "id": "f528f710-114c-41f4-922e-395f5111511b",
   "metadata": {},
   "outputs": [],
   "source": []
  },
  {
   "cell_type": "code",
   "execution_count": null,
   "id": "5f08c717-dbe1-4f84-9612-15f39dfb8c3d",
   "metadata": {},
   "outputs": [],
   "source": []
  }
 ],
 "metadata": {
  "kernelspec": {
   "display_name": "Python 3 (ipykernel)",
   "language": "python",
   "name": "python3"
  },
  "language_info": {
   "codemirror_mode": {
    "name": "ipython",
    "version": 3
   },
   "file_extension": ".py",
   "mimetype": "text/x-python",
   "name": "python",
   "nbconvert_exporter": "python",
   "pygments_lexer": "ipython3",
   "version": "3.11.3"
  }
 },
 "nbformat": 4,
 "nbformat_minor": 5
}
