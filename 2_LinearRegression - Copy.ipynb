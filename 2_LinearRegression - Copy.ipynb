{
 "cells": [
  {
   "cell_type": "code",
   "execution_count": 79,
   "id": "26c7254b-1278-46a2-ad7c-9e5384a75a61",
   "metadata": {},
   "outputs": [],
   "source": [
    "#####################################################################"
   ]
  },
  {
   "cell_type": "markdown",
   "id": "691e0359-7927-4b6d-959c-ab74f0e27d6c",
   "metadata": {},
   "source": [
    "\n",
    "# LET'S DO REGRESSION NOW "
   ]
  },
  {
   "cell_type": "code",
   "execution_count": 280,
   "id": "bd6cc416-ff82-4a23-b13c-5f3f6b835d03",
   "metadata": {},
   "outputs": [],
   "source": [
    "import pandas as pd\n",
    "import warnings\n",
    "import matplotlib.pyplot as plt\n",
    "warnings.filterwarnings('ignore')"
   ]
  },
  {
   "cell_type": "code",
   "execution_count": 281,
   "id": "5e1c9875-ec82-4a43-a877-692022fa7f28",
   "metadata": {
    "tags": []
   },
   "outputs": [
    {
     "data": {
      "text/html": [
       "<div>\n",
       "<style scoped>\n",
       "    .dataframe tbody tr th:only-of-type {\n",
       "        vertical-align: middle;\n",
       "    }\n",
       "\n",
       "    .dataframe tbody tr th {\n",
       "        vertical-align: top;\n",
       "    }\n",
       "\n",
       "    .dataframe thead th {\n",
       "        text-align: right;\n",
       "    }\n",
       "</style>\n",
       "<table border=\"1\" class=\"dataframe\">\n",
       "  <thead>\n",
       "    <tr style=\"text-align: right;\">\n",
       "      <th></th>\n",
       "      <th>Unnamed: 0</th>\n",
       "      <th>Invoice</th>\n",
       "      <th>StockCode</th>\n",
       "      <th>Description</th>\n",
       "      <th>Quantity</th>\n",
       "      <th>InvoiceDate</th>\n",
       "      <th>Price</th>\n",
       "      <th>Customer ID</th>\n",
       "      <th>Country</th>\n",
       "      <th>TotalPrice</th>\n",
       "    </tr>\n",
       "  </thead>\n",
       "  <tbody>\n",
       "    <tr>\n",
       "      <th>0</th>\n",
       "      <td>0</td>\n",
       "      <td>489434</td>\n",
       "      <td>85048</td>\n",
       "      <td>15CM CHRISTMAS GLASS BALL 20 LIGHTS</td>\n",
       "      <td>12</td>\n",
       "      <td>2009-12-01 07:45:00</td>\n",
       "      <td>6.95</td>\n",
       "      <td>13085.0</td>\n",
       "      <td>United Kingdom</td>\n",
       "      <td>83.4</td>\n",
       "    </tr>\n",
       "    <tr>\n",
       "      <th>1</th>\n",
       "      <td>1</td>\n",
       "      <td>489434</td>\n",
       "      <td>79323P</td>\n",
       "      <td>PINK CHERRY LIGHTS</td>\n",
       "      <td>12</td>\n",
       "      <td>2009-12-01 07:45:00</td>\n",
       "      <td>6.75</td>\n",
       "      <td>13085.0</td>\n",
       "      <td>United Kingdom</td>\n",
       "      <td>81.0</td>\n",
       "    </tr>\n",
       "    <tr>\n",
       "      <th>2</th>\n",
       "      <td>2</td>\n",
       "      <td>489434</td>\n",
       "      <td>79323W</td>\n",
       "      <td>WHITE CHERRY LIGHTS</td>\n",
       "      <td>12</td>\n",
       "      <td>2009-12-01 07:45:00</td>\n",
       "      <td>6.75</td>\n",
       "      <td>13085.0</td>\n",
       "      <td>United Kingdom</td>\n",
       "      <td>81.0</td>\n",
       "    </tr>\n",
       "    <tr>\n",
       "      <th>3</th>\n",
       "      <td>3</td>\n",
       "      <td>489434</td>\n",
       "      <td>22041</td>\n",
       "      <td>RECORD FRAME 7\" SINGLE SIZE</td>\n",
       "      <td>48</td>\n",
       "      <td>2009-12-01 07:45:00</td>\n",
       "      <td>2.10</td>\n",
       "      <td>13085.0</td>\n",
       "      <td>United Kingdom</td>\n",
       "      <td>100.8</td>\n",
       "    </tr>\n",
       "    <tr>\n",
       "      <th>4</th>\n",
       "      <td>4</td>\n",
       "      <td>489434</td>\n",
       "      <td>21232</td>\n",
       "      <td>STRAWBERRY CERAMIC TRINKET BOX</td>\n",
       "      <td>24</td>\n",
       "      <td>2009-12-01 07:45:00</td>\n",
       "      <td>1.25</td>\n",
       "      <td>13085.0</td>\n",
       "      <td>United Kingdom</td>\n",
       "      <td>30.0</td>\n",
       "    </tr>\n",
       "  </tbody>\n",
       "</table>\n",
       "</div>"
      ],
      "text/plain": [
       "   Unnamed: 0  Invoice StockCode                          Description  \\\n",
       "0           0   489434     85048  15CM CHRISTMAS GLASS BALL 20 LIGHTS   \n",
       "1           1   489434    79323P                   PINK CHERRY LIGHTS   \n",
       "2           2   489434    79323W                  WHITE CHERRY LIGHTS   \n",
       "3           3   489434     22041         RECORD FRAME 7\" SINGLE SIZE    \n",
       "4           4   489434     21232       STRAWBERRY CERAMIC TRINKET BOX   \n",
       "\n",
       "   Quantity          InvoiceDate  Price  Customer ID         Country  \\\n",
       "0        12  2009-12-01 07:45:00   6.95      13085.0  United Kingdom   \n",
       "1        12  2009-12-01 07:45:00   6.75      13085.0  United Kingdom   \n",
       "2        12  2009-12-01 07:45:00   6.75      13085.0  United Kingdom   \n",
       "3        48  2009-12-01 07:45:00   2.10      13085.0  United Kingdom   \n",
       "4        24  2009-12-01 07:45:00   1.25      13085.0  United Kingdom   \n",
       "\n",
       "   TotalPrice  \n",
       "0        83.4  \n",
       "1        81.0  \n",
       "2        81.0  \n",
       "3       100.8  \n",
       "4        30.0  "
      ]
     },
     "execution_count": 281,
     "metadata": {},
     "output_type": "execute_result"
    }
   ],
   "source": [
    "#df = pd.read_excel(\"./data/OnlineRetail.xlsx\") # not loading since the data is already loaded above\n",
    "df = pd.read_csv(\"UKdataFinal.csv\") # loading only UK data\n",
    "df.head()"
   ]
  },
  {
   "cell_type": "code",
   "execution_count": 282,
   "id": "cafcc457-62c8-45fe-b79e-23c5e75b1504",
   "metadata": {
    "tags": []
   },
   "outputs": [],
   "source": [
    "df=df.drop('Unnamed: 0', axis=1)"
   ]
  },
  {
   "cell_type": "code",
   "execution_count": 475,
   "id": "21115970-72b5-4c2e-9fd8-f789a0b29713",
   "metadata": {
    "tags": []
   },
   "outputs": [
    {
     "name": "stdout",
     "output_type": "stream",
     "text": [
      "<class 'pandas.core.frame.DataFrame'>\n",
      "Index: 370951 entries, 0 to 370950\n",
      "Data columns (total 10 columns):\n",
      " #   Column       Non-Null Count   Dtype  \n",
      "---  ------       --------------   -----  \n",
      " 0   Invoice      370951 non-null  int64  \n",
      " 1   StockCode    370951 non-null  object \n",
      " 2   Description  370951 non-null  object \n",
      " 3   Quantity     370951 non-null  int64  \n",
      " 4   InvoiceDate  370951 non-null  object \n",
      " 5   Price        370951 non-null  float64\n",
      " 6   Customer ID  370951 non-null  float64\n",
      " 7   Country      370951 non-null  object \n",
      " 8   TotalPrice   370951 non-null  float64\n",
      " 9   Sales        370951 non-null  float64\n",
      "dtypes: float64(4), int64(2), object(4)\n",
      "memory usage: 31.1+ MB\n"
     ]
    }
   ],
   "source": [
    "df.info()"
   ]
  },
  {
   "cell_type": "code",
   "execution_count": 284,
   "id": "b1324535-8466-4055-8fb7-a3fdaf49efca",
   "metadata": {
    "tags": []
   },
   "outputs": [],
   "source": [
    "df = df[ pd.notnull(df['Customer ID']) ]"
   ]
  },
  {
   "cell_type": "code",
   "execution_count": 285,
   "id": "a4cf0bb4-5381-48e8-95fb-aefbc6572d1d",
   "metadata": {
    "tags": []
   },
   "outputs": [
    {
     "data": {
      "text/plain": [
       "Invoice        0\n",
       "StockCode      0\n",
       "Description    0\n",
       "Quantity       0\n",
       "InvoiceDate    0\n",
       "Price          0\n",
       "Customer ID    0\n",
       "Country        0\n",
       "TotalPrice     0\n",
       "dtype: int64"
      ]
     },
     "execution_count": 285,
     "metadata": {},
     "output_type": "execute_result"
    }
   ],
   "source": [
    "df.isna().sum()"
   ]
  },
  {
   "cell_type": "code",
   "execution_count": 286,
   "id": "5a994ee6-b3a8-4c5e-8b3c-70ec481cadb8",
   "metadata": {
    "tags": []
   },
   "outputs": [
    {
     "data": {
      "text/plain": [
       "(370951, 9)"
      ]
     },
     "execution_count": 286,
     "metadata": {},
     "output_type": "execute_result"
    }
   ],
   "source": [
    "df.shape"
   ]
  },
  {
   "cell_type": "code",
   "execution_count": 287,
   "id": "37f5e024-4246-4cfe-8b49-c5db00c317c4",
   "metadata": {
    "tags": []
   },
   "outputs": [],
   "source": [
    "df = df.loc[ df['Quantity'] > 0 ]"
   ]
  },
  {
   "cell_type": "code",
   "execution_count": 288,
   "id": "d7b7c04f-0e36-4a5a-9a5c-fe55c0acc4ad",
   "metadata": {
    "tags": []
   },
   "outputs": [
    {
     "data": {
      "text/plain": [
       "(370951, 9)"
      ]
     },
     "execution_count": 288,
     "metadata": {},
     "output_type": "execute_result"
    }
   ],
   "source": [
    "df.shape"
   ]
  },
  {
   "cell_type": "code",
   "execution_count": 289,
   "id": "666cab64-9750-404b-a2df-274c618213ff",
   "metadata": {
    "tags": []
   },
   "outputs": [
    {
     "data": {
      "text/html": [
       "<div>\n",
       "<style scoped>\n",
       "    .dataframe tbody tr th:only-of-type {\n",
       "        vertical-align: middle;\n",
       "    }\n",
       "\n",
       "    .dataframe tbody tr th {\n",
       "        vertical-align: top;\n",
       "    }\n",
       "\n",
       "    .dataframe thead th {\n",
       "        text-align: right;\n",
       "    }\n",
       "</style>\n",
       "<table border=\"1\" class=\"dataframe\">\n",
       "  <thead>\n",
       "    <tr style=\"text-align: right;\">\n",
       "      <th></th>\n",
       "      <th>Country</th>\n",
       "      <th>Customer ID</th>\n",
       "    </tr>\n",
       "  </thead>\n",
       "  <tbody>\n",
       "    <tr>\n",
       "      <th>0</th>\n",
       "      <td>United Kingdom</td>\n",
       "      <td>3971</td>\n",
       "    </tr>\n",
       "  </tbody>\n",
       "</table>\n",
       "</div>"
      ],
      "text/plain": [
       "          Country  Customer ID\n",
       "0  United Kingdom         3971"
      ]
     },
     "execution_count": 289,
     "metadata": {},
     "output_type": "execute_result"
    }
   ],
   "source": [
    "customer_uk_lr=df[['Country','Customer ID']].drop_duplicates()\n",
    "customer_uk_lr.groupby(['Country'])['Customer ID'].aggregate('count').reset_index().sort_values('Customer ID', ascending=False)"
   ]
  },
  {
   "cell_type": "code",
   "execution_count": 290,
   "id": "44d38d66-ad95-4ef9-a9ec-bb222531175b",
   "metadata": {},
   "outputs": [],
   "source": [
    "# View the date range (minimum and maximum date) in the dataset"
   ]
  },
  {
   "cell_type": "code",
   "execution_count": 291,
   "id": "8b5fa177-3cbf-40d6-8910-f047b902ece8",
   "metadata": {
    "tags": []
   },
   "outputs": [
    {
     "data": {
      "text/plain": [
       "'2009-12-01 07:45:00'"
      ]
     },
     "execution_count": 291,
     "metadata": {},
     "output_type": "execute_result"
    }
   ],
   "source": [
    "df['InvoiceDate'].min()"
   ]
  },
  {
   "cell_type": "code",
   "execution_count": 292,
   "id": "58516b2c-e051-4b4c-bac0-0a15192030a2",
   "metadata": {},
   "outputs": [
    {
     "data": {
      "text/plain": [
       "'2010-12-09 20:01:00'"
      ]
     },
     "execution_count": 292,
     "metadata": {},
     "output_type": "execute_result"
    }
   ],
   "source": [
    "df['InvoiceDate'].max() #year-month-date"
   ]
  },
  {
   "cell_type": "code",
   "execution_count": 293,
   "id": "5130856c-c4a9-4d54-8eec-d817a0897104",
   "metadata": {},
   "outputs": [],
   "source": [
    "#Filter all the transactions that occurred before December 01, 2011"
   ]
  },
  {
   "cell_type": "code",
   "execution_count": 294,
   "id": "62567e40-fd14-4a63-92af-f3e70bdb8aa0",
   "metadata": {
    "tags": []
   },
   "outputs": [],
   "source": [
    "# df = df.loc[ df['InvoiceDate'] < '2011-12-01' ]"
   ]
  },
  {
   "cell_type": "code",
   "execution_count": 295,
   "id": "cd02e421-fe04-4c35-b2a5-5e632d4b80a6",
   "metadata": {
    "tags": []
   },
   "outputs": [
    {
     "data": {
      "text/plain": [
       "(370951, 9)"
      ]
     },
     "execution_count": 295,
     "metadata": {},
     "output_type": "execute_result"
    }
   ],
   "source": [
    "df.shape"
   ]
  },
  {
   "cell_type": "markdown",
   "id": "fa84699c-9f40-4752-a3c7-f3c71f3b1d8b",
   "metadata": {},
   "source": [
    "## Create a Sales Revenue Column (revenue = quantity x price)"
   ]
  },
  {
   "cell_type": "code",
   "execution_count": 296,
   "id": "9d9f3ef7-0a97-41bf-9a72-9a2deba8de0f",
   "metadata": {
    "tags": []
   },
   "outputs": [
    {
     "data": {
      "text/html": [
       "<div>\n",
       "<style scoped>\n",
       "    .dataframe tbody tr th:only-of-type {\n",
       "        vertical-align: middle;\n",
       "    }\n",
       "\n",
       "    .dataframe tbody tr th {\n",
       "        vertical-align: top;\n",
       "    }\n",
       "\n",
       "    .dataframe thead th {\n",
       "        text-align: right;\n",
       "    }\n",
       "</style>\n",
       "<table border=\"1\" class=\"dataframe\">\n",
       "  <thead>\n",
       "    <tr style=\"text-align: right;\">\n",
       "      <th></th>\n",
       "      <th>Invoice</th>\n",
       "      <th>StockCode</th>\n",
       "      <th>Description</th>\n",
       "      <th>Quantity</th>\n",
       "      <th>InvoiceDate</th>\n",
       "      <th>Price</th>\n",
       "      <th>Customer ID</th>\n",
       "      <th>Country</th>\n",
       "      <th>TotalPrice</th>\n",
       "    </tr>\n",
       "  </thead>\n",
       "  <tbody>\n",
       "    <tr>\n",
       "      <th>0</th>\n",
       "      <td>489434</td>\n",
       "      <td>85048</td>\n",
       "      <td>15CM CHRISTMAS GLASS BALL 20 LIGHTS</td>\n",
       "      <td>12</td>\n",
       "      <td>2009-12-01 07:45:00</td>\n",
       "      <td>6.95</td>\n",
       "      <td>13085.0</td>\n",
       "      <td>United Kingdom</td>\n",
       "      <td>83.4</td>\n",
       "    </tr>\n",
       "  </tbody>\n",
       "</table>\n",
       "</div>"
      ],
      "text/plain": [
       "   Invoice StockCode                          Description  Quantity  \\\n",
       "0   489434     85048  15CM CHRISTMAS GLASS BALL 20 LIGHTS        12   \n",
       "\n",
       "           InvoiceDate  Price  Customer ID         Country  TotalPrice  \n",
       "0  2009-12-01 07:45:00   6.95      13085.0  United Kingdom        83.4  "
      ]
     },
     "execution_count": 296,
     "metadata": {},
     "output_type": "execute_result"
    }
   ],
   "source": [
    "df.head(1)"
   ]
  },
  {
   "cell_type": "code",
   "execution_count": 297,
   "id": "00f215fb-5250-491d-bb59-652d9d818a76",
   "metadata": {
    "tags": []
   },
   "outputs": [
    {
     "data": {
      "text/html": [
       "<div>\n",
       "<style scoped>\n",
       "    .dataframe tbody tr th:only-of-type {\n",
       "        vertical-align: middle;\n",
       "    }\n",
       "\n",
       "    .dataframe tbody tr th {\n",
       "        vertical-align: top;\n",
       "    }\n",
       "\n",
       "    .dataframe thead th {\n",
       "        text-align: right;\n",
       "    }\n",
       "</style>\n",
       "<table border=\"1\" class=\"dataframe\">\n",
       "  <thead>\n",
       "    <tr style=\"text-align: right;\">\n",
       "      <th></th>\n",
       "      <th>Invoice</th>\n",
       "      <th>StockCode</th>\n",
       "      <th>Description</th>\n",
       "      <th>Quantity</th>\n",
       "      <th>InvoiceDate</th>\n",
       "      <th>Price</th>\n",
       "      <th>Customer ID</th>\n",
       "      <th>Country</th>\n",
       "      <th>TotalPrice</th>\n",
       "    </tr>\n",
       "  </thead>\n",
       "  <tbody>\n",
       "    <tr>\n",
       "      <th>0</th>\n",
       "      <td>489434</td>\n",
       "      <td>85048</td>\n",
       "      <td>15CM CHRISTMAS GLASS BALL 20 LIGHTS</td>\n",
       "      <td>12</td>\n",
       "      <td>2009-12-01 07:45:00</td>\n",
       "      <td>6.95</td>\n",
       "      <td>13085.0</td>\n",
       "      <td>United Kingdom</td>\n",
       "      <td>83.4</td>\n",
       "    </tr>\n",
       "    <tr>\n",
       "      <th>1</th>\n",
       "      <td>489434</td>\n",
       "      <td>79323P</td>\n",
       "      <td>PINK CHERRY LIGHTS</td>\n",
       "      <td>12</td>\n",
       "      <td>2009-12-01 07:45:00</td>\n",
       "      <td>6.75</td>\n",
       "      <td>13085.0</td>\n",
       "      <td>United Kingdom</td>\n",
       "      <td>81.0</td>\n",
       "    </tr>\n",
       "    <tr>\n",
       "      <th>2</th>\n",
       "      <td>489434</td>\n",
       "      <td>79323W</td>\n",
       "      <td>WHITE CHERRY LIGHTS</td>\n",
       "      <td>12</td>\n",
       "      <td>2009-12-01 07:45:00</td>\n",
       "      <td>6.75</td>\n",
       "      <td>13085.0</td>\n",
       "      <td>United Kingdom</td>\n",
       "      <td>81.0</td>\n",
       "    </tr>\n",
       "    <tr>\n",
       "      <th>3</th>\n",
       "      <td>489434</td>\n",
       "      <td>22041</td>\n",
       "      <td>RECORD FRAME 7\" SINGLE SIZE</td>\n",
       "      <td>48</td>\n",
       "      <td>2009-12-01 07:45:00</td>\n",
       "      <td>2.10</td>\n",
       "      <td>13085.0</td>\n",
       "      <td>United Kingdom</td>\n",
       "      <td>100.8</td>\n",
       "    </tr>\n",
       "    <tr>\n",
       "      <th>4</th>\n",
       "      <td>489434</td>\n",
       "      <td>21232</td>\n",
       "      <td>STRAWBERRY CERAMIC TRINKET BOX</td>\n",
       "      <td>24</td>\n",
       "      <td>2009-12-01 07:45:00</td>\n",
       "      <td>1.25</td>\n",
       "      <td>13085.0</td>\n",
       "      <td>United Kingdom</td>\n",
       "      <td>30.0</td>\n",
       "    </tr>\n",
       "  </tbody>\n",
       "</table>\n",
       "</div>"
      ],
      "text/plain": [
       "   Invoice StockCode                          Description  Quantity  \\\n",
       "0   489434     85048  15CM CHRISTMAS GLASS BALL 20 LIGHTS        12   \n",
       "1   489434    79323P                   PINK CHERRY LIGHTS        12   \n",
       "2   489434    79323W                  WHITE CHERRY LIGHTS        12   \n",
       "3   489434     22041         RECORD FRAME 7\" SINGLE SIZE         48   \n",
       "4   489434     21232       STRAWBERRY CERAMIC TRINKET BOX        24   \n",
       "\n",
       "           InvoiceDate  Price  Customer ID         Country  TotalPrice  \n",
       "0  2009-12-01 07:45:00   6.95      13085.0  United Kingdom        83.4  \n",
       "1  2009-12-01 07:45:00   6.75      13085.0  United Kingdom        81.0  \n",
       "2  2009-12-01 07:45:00   6.75      13085.0  United Kingdom        81.0  \n",
       "3  2009-12-01 07:45:00   2.10      13085.0  United Kingdom       100.8  \n",
       "4  2009-12-01 07:45:00   1.25      13085.0  United Kingdom        30.0  "
      ]
     },
     "execution_count": 297,
     "metadata": {},
     "output_type": "execute_result"
    }
   ],
   "source": [
    "df.head()"
   ]
  },
  {
   "cell_type": "code",
   "execution_count": 298,
   "id": "46b8bac0-a911-4b53-8caa-ff1208f5f12c",
   "metadata": {
    "tags": []
   },
   "outputs": [],
   "source": [
    "df2 = df\n"
   ]
  },
  {
   "cell_type": "code",
   "execution_count": 299,
   "id": "5323d7d6-400b-41a6-81c1-39f7b0e06bd0",
   "metadata": {
    "tags": []
   },
   "outputs": [
    {
     "data": {
      "text/html": [
       "<div>\n",
       "<style scoped>\n",
       "    .dataframe tbody tr th:only-of-type {\n",
       "        vertical-align: middle;\n",
       "    }\n",
       "\n",
       "    .dataframe tbody tr th {\n",
       "        vertical-align: top;\n",
       "    }\n",
       "\n",
       "    .dataframe thead th {\n",
       "        text-align: right;\n",
       "    }\n",
       "</style>\n",
       "<table border=\"1\" class=\"dataframe\">\n",
       "  <thead>\n",
       "    <tr style=\"text-align: right;\">\n",
       "      <th></th>\n",
       "      <th>Invoice</th>\n",
       "      <th>StockCode</th>\n",
       "      <th>Description</th>\n",
       "      <th>Quantity</th>\n",
       "      <th>InvoiceDate</th>\n",
       "      <th>Price</th>\n",
       "      <th>Customer ID</th>\n",
       "      <th>Country</th>\n",
       "      <th>TotalPrice</th>\n",
       "    </tr>\n",
       "  </thead>\n",
       "  <tbody>\n",
       "    <tr>\n",
       "      <th>0</th>\n",
       "      <td>489434</td>\n",
       "      <td>85048</td>\n",
       "      <td>15CM CHRISTMAS GLASS BALL 20 LIGHTS</td>\n",
       "      <td>12</td>\n",
       "      <td>2009-12-01 07:45:00</td>\n",
       "      <td>6.95</td>\n",
       "      <td>13085.0</td>\n",
       "      <td>United Kingdom</td>\n",
       "      <td>83.4</td>\n",
       "    </tr>\n",
       "    <tr>\n",
       "      <th>1</th>\n",
       "      <td>489434</td>\n",
       "      <td>79323P</td>\n",
       "      <td>PINK CHERRY LIGHTS</td>\n",
       "      <td>12</td>\n",
       "      <td>2009-12-01 07:45:00</td>\n",
       "      <td>6.75</td>\n",
       "      <td>13085.0</td>\n",
       "      <td>United Kingdom</td>\n",
       "      <td>81.0</td>\n",
       "    </tr>\n",
       "    <tr>\n",
       "      <th>2</th>\n",
       "      <td>489434</td>\n",
       "      <td>79323W</td>\n",
       "      <td>WHITE CHERRY LIGHTS</td>\n",
       "      <td>12</td>\n",
       "      <td>2009-12-01 07:45:00</td>\n",
       "      <td>6.75</td>\n",
       "      <td>13085.0</td>\n",
       "      <td>United Kingdom</td>\n",
       "      <td>81.0</td>\n",
       "    </tr>\n",
       "    <tr>\n",
       "      <th>3</th>\n",
       "      <td>489434</td>\n",
       "      <td>22041</td>\n",
       "      <td>RECORD FRAME 7\" SINGLE SIZE</td>\n",
       "      <td>48</td>\n",
       "      <td>2009-12-01 07:45:00</td>\n",
       "      <td>2.10</td>\n",
       "      <td>13085.0</td>\n",
       "      <td>United Kingdom</td>\n",
       "      <td>100.8</td>\n",
       "    </tr>\n",
       "    <tr>\n",
       "      <th>4</th>\n",
       "      <td>489434</td>\n",
       "      <td>21232</td>\n",
       "      <td>STRAWBERRY CERAMIC TRINKET BOX</td>\n",
       "      <td>24</td>\n",
       "      <td>2009-12-01 07:45:00</td>\n",
       "      <td>1.25</td>\n",
       "      <td>13085.0</td>\n",
       "      <td>United Kingdom</td>\n",
       "      <td>30.0</td>\n",
       "    </tr>\n",
       "  </tbody>\n",
       "</table>\n",
       "</div>"
      ],
      "text/plain": [
       "   Invoice StockCode                          Description  Quantity  \\\n",
       "0   489434     85048  15CM CHRISTMAS GLASS BALL 20 LIGHTS        12   \n",
       "1   489434    79323P                   PINK CHERRY LIGHTS        12   \n",
       "2   489434    79323W                  WHITE CHERRY LIGHTS        12   \n",
       "3   489434     22041         RECORD FRAME 7\" SINGLE SIZE         48   \n",
       "4   489434     21232       STRAWBERRY CERAMIC TRINKET BOX        24   \n",
       "\n",
       "           InvoiceDate  Price  Customer ID         Country  TotalPrice  \n",
       "0  2009-12-01 07:45:00   6.95      13085.0  United Kingdom        83.4  \n",
       "1  2009-12-01 07:45:00   6.75      13085.0  United Kingdom        81.0  \n",
       "2  2009-12-01 07:45:00   6.75      13085.0  United Kingdom        81.0  \n",
       "3  2009-12-01 07:45:00   2.10      13085.0  United Kingdom       100.8  \n",
       "4  2009-12-01 07:45:00   1.25      13085.0  United Kingdom        30.0  "
      ]
     },
     "execution_count": 299,
     "metadata": {},
     "output_type": "execute_result"
    }
   ],
   "source": [
    "df2.head()"
   ]
  },
  {
   "cell_type": "code",
   "execution_count": 300,
   "id": "2e321801-8366-4b35-8de1-979d406879c4",
   "metadata": {
    "tags": []
   },
   "outputs": [],
   "source": [
    "df2['Sales'] = df2['Quantity'] * df2['Price']"
   ]
  },
  {
   "cell_type": "code",
   "execution_count": 301,
   "id": "9d58a7f0-ece0-48a1-80c6-087fb85edcc9",
   "metadata": {
    "tags": []
   },
   "outputs": [
    {
     "data": {
      "text/html": [
       "<div>\n",
       "<style scoped>\n",
       "    .dataframe tbody tr th:only-of-type {\n",
       "        vertical-align: middle;\n",
       "    }\n",
       "\n",
       "    .dataframe tbody tr th {\n",
       "        vertical-align: top;\n",
       "    }\n",
       "\n",
       "    .dataframe thead th {\n",
       "        text-align: right;\n",
       "    }\n",
       "</style>\n",
       "<table border=\"1\" class=\"dataframe\">\n",
       "  <thead>\n",
       "    <tr style=\"text-align: right;\">\n",
       "      <th></th>\n",
       "      <th>Invoice</th>\n",
       "      <th>StockCode</th>\n",
       "      <th>Description</th>\n",
       "      <th>Quantity</th>\n",
       "      <th>InvoiceDate</th>\n",
       "      <th>Price</th>\n",
       "      <th>Customer ID</th>\n",
       "      <th>Country</th>\n",
       "      <th>TotalPrice</th>\n",
       "      <th>Sales</th>\n",
       "    </tr>\n",
       "  </thead>\n",
       "  <tbody>\n",
       "    <tr>\n",
       "      <th>0</th>\n",
       "      <td>489434</td>\n",
       "      <td>85048</td>\n",
       "      <td>15CM CHRISTMAS GLASS BALL 20 LIGHTS</td>\n",
       "      <td>12</td>\n",
       "      <td>2009-12-01 07:45:00</td>\n",
       "      <td>6.95</td>\n",
       "      <td>13085.0</td>\n",
       "      <td>United Kingdom</td>\n",
       "      <td>83.4</td>\n",
       "      <td>83.4</td>\n",
       "    </tr>\n",
       "  </tbody>\n",
       "</table>\n",
       "</div>"
      ],
      "text/plain": [
       "   Invoice StockCode                          Description  Quantity  \\\n",
       "0   489434     85048  15CM CHRISTMAS GLASS BALL 20 LIGHTS        12   \n",
       "\n",
       "           InvoiceDate  Price  Customer ID         Country  TotalPrice  Sales  \n",
       "0  2009-12-01 07:45:00   6.95      13085.0  United Kingdom        83.4   83.4  "
      ]
     },
     "execution_count": 301,
     "metadata": {},
     "output_type": "execute_result"
    }
   ],
   "source": [
    "df.head(1)"
   ]
  },
  {
   "cell_type": "code",
   "execution_count": 302,
   "id": "257157f9-32d4-46dc-a3c8-b6874d6bc726",
   "metadata": {
    "tags": []
   },
   "outputs": [],
   "source": [
    "#df.drop('Unnamed: 0',axis=1,inplace=True) "
   ]
  },
  {
   "cell_type": "code",
   "execution_count": 303,
   "id": "5d05423d-3877-4a03-b851-5d3c1b1bac8c",
   "metadata": {
    "tags": []
   },
   "outputs": [],
   "source": [
    "# df2.drop('Unnamed: 0',axis=1,inplace=True) "
   ]
  },
  {
   "cell_type": "code",
   "execution_count": 304,
   "id": "e0846f32-b471-456b-a5d7-9e3b624dda50",
   "metadata": {
    "tags": []
   },
   "outputs": [
    {
     "data": {
      "text/html": [
       "<div>\n",
       "<style scoped>\n",
       "    .dataframe tbody tr th:only-of-type {\n",
       "        vertical-align: middle;\n",
       "    }\n",
       "\n",
       "    .dataframe tbody tr th {\n",
       "        vertical-align: top;\n",
       "    }\n",
       "\n",
       "    .dataframe thead th {\n",
       "        text-align: right;\n",
       "    }\n",
       "</style>\n",
       "<table border=\"1\" class=\"dataframe\">\n",
       "  <thead>\n",
       "    <tr style=\"text-align: right;\">\n",
       "      <th></th>\n",
       "      <th>Invoice</th>\n",
       "      <th>StockCode</th>\n",
       "      <th>Description</th>\n",
       "      <th>Quantity</th>\n",
       "      <th>InvoiceDate</th>\n",
       "      <th>Price</th>\n",
       "      <th>Customer ID</th>\n",
       "      <th>Country</th>\n",
       "      <th>TotalPrice</th>\n",
       "      <th>Sales</th>\n",
       "    </tr>\n",
       "  </thead>\n",
       "  <tbody>\n",
       "    <tr>\n",
       "      <th>0</th>\n",
       "      <td>489434</td>\n",
       "      <td>85048</td>\n",
       "      <td>15CM CHRISTMAS GLASS BALL 20 LIGHTS</td>\n",
       "      <td>12</td>\n",
       "      <td>2009-12-01 07:45:00</td>\n",
       "      <td>6.95</td>\n",
       "      <td>13085.0</td>\n",
       "      <td>United Kingdom</td>\n",
       "      <td>83.4</td>\n",
       "      <td>83.4</td>\n",
       "    </tr>\n",
       "    <tr>\n",
       "      <th>1</th>\n",
       "      <td>489434</td>\n",
       "      <td>79323P</td>\n",
       "      <td>PINK CHERRY LIGHTS</td>\n",
       "      <td>12</td>\n",
       "      <td>2009-12-01 07:45:00</td>\n",
       "      <td>6.75</td>\n",
       "      <td>13085.0</td>\n",
       "      <td>United Kingdom</td>\n",
       "      <td>81.0</td>\n",
       "      <td>81.0</td>\n",
       "    </tr>\n",
       "  </tbody>\n",
       "</table>\n",
       "</div>"
      ],
      "text/plain": [
       "   Invoice StockCode                          Description  Quantity  \\\n",
       "0   489434     85048  15CM CHRISTMAS GLASS BALL 20 LIGHTS        12   \n",
       "1   489434    79323P                   PINK CHERRY LIGHTS        12   \n",
       "\n",
       "           InvoiceDate  Price  Customer ID         Country  TotalPrice  Sales  \n",
       "0  2009-12-01 07:45:00   6.95      13085.0  United Kingdom        83.4   83.4  \n",
       "1  2009-12-01 07:45:00   6.75      13085.0  United Kingdom        81.0   81.0  "
      ]
     },
     "execution_count": 304,
     "metadata": {},
     "output_type": "execute_result"
    }
   ],
   "source": [
    "df2.head(2)"
   ]
  },
  {
   "cell_type": "code",
   "execution_count": null,
   "id": "69eac655-a9ea-4636-b416-868aeb191ccf",
   "metadata": {},
   "outputs": [],
   "source": []
  },
  {
   "cell_type": "markdown",
   "id": "48b09b0f-53b7-4f31-b42f-370edfb64831",
   "metadata": {},
   "source": [
    "## Get a orders summary dataset that shows the total in sales made per customer invoice"
   ]
  },
  {
   "cell_type": "code",
   "execution_count": 305,
   "id": "5bd234f5-4d86-492d-9b25-654ede4883af",
   "metadata": {
    "tags": []
   },
   "outputs": [],
   "source": [
    "orders_df = df2.groupby(['Customer ID', 'Invoice']).agg({'Sales': sum, 'InvoiceDate': max})"
   ]
  },
  {
   "cell_type": "code",
   "execution_count": 306,
   "id": "ef578115-914b-4a23-9add-6dea5ce40467",
   "metadata": {
    "tags": []
   },
   "outputs": [
    {
     "data": {
      "text/html": [
       "<div>\n",
       "<style scoped>\n",
       "    .dataframe tbody tr th:only-of-type {\n",
       "        vertical-align: middle;\n",
       "    }\n",
       "\n",
       "    .dataframe tbody tr th {\n",
       "        vertical-align: top;\n",
       "    }\n",
       "\n",
       "    .dataframe thead th {\n",
       "        text-align: right;\n",
       "    }\n",
       "</style>\n",
       "<table border=\"1\" class=\"dataframe\">\n",
       "  <thead>\n",
       "    <tr style=\"text-align: right;\">\n",
       "      <th></th>\n",
       "      <th></th>\n",
       "      <th>Sales</th>\n",
       "      <th>InvoiceDate</th>\n",
       "    </tr>\n",
       "    <tr>\n",
       "      <th>Customer ID</th>\n",
       "      <th>Invoice</th>\n",
       "      <th></th>\n",
       "      <th></th>\n",
       "    </tr>\n",
       "  </thead>\n",
       "  <tbody>\n",
       "    <tr>\n",
       "      <th rowspan=\"10\" valign=\"top\">12346.0</th>\n",
       "      <th>491725</th>\n",
       "      <td>45.00</td>\n",
       "      <td>2009-12-14 08:34:00</td>\n",
       "    </tr>\n",
       "    <tr>\n",
       "      <th>491742</th>\n",
       "      <td>22.50</td>\n",
       "      <td>2009-12-14 11:00:00</td>\n",
       "    </tr>\n",
       "    <tr>\n",
       "      <th>491744</th>\n",
       "      <td>22.50</td>\n",
       "      <td>2009-12-14 11:02:00</td>\n",
       "    </tr>\n",
       "    <tr>\n",
       "      <th>492718</th>\n",
       "      <td>22.50</td>\n",
       "      <td>2009-12-18 10:47:00</td>\n",
       "    </tr>\n",
       "    <tr>\n",
       "      <th>492722</th>\n",
       "      <td>1.00</td>\n",
       "      <td>2009-12-18 10:55:00</td>\n",
       "    </tr>\n",
       "    <tr>\n",
       "      <th>493410</th>\n",
       "      <td>22.50</td>\n",
       "      <td>2010-01-04 09:24:00</td>\n",
       "    </tr>\n",
       "    <tr>\n",
       "      <th>493412</th>\n",
       "      <td>22.50</td>\n",
       "      <td>2010-01-04 09:53:00</td>\n",
       "    </tr>\n",
       "    <tr>\n",
       "      <th>494450</th>\n",
       "      <td>22.50</td>\n",
       "      <td>2010-01-14 13:50:00</td>\n",
       "    </tr>\n",
       "    <tr>\n",
       "      <th>495295</th>\n",
       "      <td>22.50</td>\n",
       "      <td>2010-01-22 13:30:00</td>\n",
       "    </tr>\n",
       "    <tr>\n",
       "      <th>499763</th>\n",
       "      <td>27.05</td>\n",
       "      <td>2010-03-02 13:08:00</td>\n",
       "    </tr>\n",
       "  </tbody>\n",
       "</table>\n",
       "</div>"
      ],
      "text/plain": [
       "                     Sales          InvoiceDate\n",
       "Customer ID Invoice                            \n",
       "12346.0     491725   45.00  2009-12-14 08:34:00\n",
       "            491742   22.50  2009-12-14 11:00:00\n",
       "            491744   22.50  2009-12-14 11:02:00\n",
       "            492718   22.50  2009-12-18 10:47:00\n",
       "            492722    1.00  2009-12-18 10:55:00\n",
       "            493410   22.50  2010-01-04 09:24:00\n",
       "            493412   22.50  2010-01-04 09:53:00\n",
       "            494450   22.50  2010-01-14 13:50:00\n",
       "            495295   22.50  2010-01-22 13:30:00\n",
       "            499763   27.05  2010-03-02 13:08:00"
      ]
     },
     "execution_count": 306,
     "metadata": {},
     "output_type": "execute_result"
    }
   ],
   "source": [
    "# The dataframe should look something like this\n",
    "orders_df.head(10)"
   ]
  },
  {
   "cell_type": "code",
   "execution_count": 307,
   "id": "d1cfeb32-1271-4789-9424-6ddfb5a0b109",
   "metadata": {
    "tags": []
   },
   "outputs": [
    {
     "name": "stdout",
     "output_type": "stream",
     "text": [
      "<class 'pandas.core.frame.DataFrame'>\n",
      "MultiIndex: 17614 entries, (12346.0, 491725) to (18287.0, 534346)\n",
      "Data columns (total 2 columns):\n",
      " #   Column       Non-Null Count  Dtype  \n",
      "---  ------       --------------  -----  \n",
      " 0   Sales        17614 non-null  float64\n",
      " 1   InvoiceDate  17614 non-null  object \n",
      "dtypes: float64(1), object(1)\n",
      "memory usage: 512.8+ KB\n"
     ]
    }
   ],
   "source": [
    "orders_df.info()"
   ]
  },
  {
   "cell_type": "code",
   "execution_count": 308,
   "id": "03399c21-dadb-4e02-874b-345140d5289d",
   "metadata": {
    "tags": []
   },
   "outputs": [],
   "source": [
    " orders_df['InvoiceDate'] = pd.to_datetime(orders_df['InvoiceDate'])"
   ]
  },
  {
   "cell_type": "code",
   "execution_count": 309,
   "id": "b94be7b5-5705-40f8-a9f4-e32cb5b27119",
   "metadata": {
    "tags": []
   },
   "outputs": [],
   "source": [
    "#del summary_df"
   ]
  },
  {
   "cell_type": "markdown",
   "id": "97ece6af-e347-498c-98bc-cbde1967774c",
   "metadata": {},
   "source": [
    "## Some simple functions we will be using to create our custom summary dataframe\n"
   ]
  },
  {
   "cell_type": "code",
   "execution_count": 310,
   "id": "92c6a0ea-18a0-4050-8229-ae3f3cc78f44",
   "metadata": {
    "tags": []
   },
   "outputs": [],
   "source": [
    "def groupby_mean(x):\n",
    "    return x.mean()\n",
    "\n",
    "#def groupby_median(x):\n",
    "#   return x.median()\n",
    "\n",
    "def groupby_count(x):\n",
    "    return x.count()\n",
    "\n",
    "def purchase_duration(x):\n",
    "    return (x.max() - x.min()).days\n",
    "\n",
    "def avg_frequency(x):\n",
    "    '''returns the average days between sales'''\n",
    "    return x.count()\n",
    "\n",
    "groupby_mean.__name__ = 'avg'\n",
    "groupby_median.__name__='median'\n",
    "groupby_count.__name__ = 'count'\n",
    "purchase_duration.__name__ = 'purchase_duration'\n",
    "avg_frequency.__name__ = 'purchase_frequency'\n",
    "\n",
    "summary_df = orders_df.reset_index().groupby('Customer ID').agg({\n",
    "    'Sales': [min, max, sum, groupby_mean, groupby_median, groupby_count],\n",
    "    'InvoiceDate': [min, max, purchase_duration, avg_frequency]\n",
    "})"
   ]
  },
  {
   "cell_type": "code",
   "execution_count": 311,
   "id": "1bd5d160-cf64-4686-bce1-41787f9a06e4",
   "metadata": {
    "tags": []
   },
   "outputs": [
    {
     "data": {
      "text/html": [
       "<div>\n",
       "<style scoped>\n",
       "    .dataframe tbody tr th:only-of-type {\n",
       "        vertical-align: middle;\n",
       "    }\n",
       "\n",
       "    .dataframe tbody tr th {\n",
       "        vertical-align: top;\n",
       "    }\n",
       "\n",
       "    .dataframe thead tr th {\n",
       "        text-align: left;\n",
       "    }\n",
       "\n",
       "    .dataframe thead tr:last-of-type th {\n",
       "        text-align: right;\n",
       "    }\n",
       "</style>\n",
       "<table border=\"1\" class=\"dataframe\">\n",
       "  <thead>\n",
       "    <tr>\n",
       "      <th></th>\n",
       "      <th colspan=\"6\" halign=\"left\">Sales</th>\n",
       "      <th colspan=\"4\" halign=\"left\">InvoiceDate</th>\n",
       "    </tr>\n",
       "    <tr>\n",
       "      <th></th>\n",
       "      <th>min</th>\n",
       "      <th>max</th>\n",
       "      <th>sum</th>\n",
       "      <th>avg</th>\n",
       "      <th>median</th>\n",
       "      <th>count</th>\n",
       "      <th>min</th>\n",
       "      <th>max</th>\n",
       "      <th>purchase_duration</th>\n",
       "      <th>purchase_frequency</th>\n",
       "    </tr>\n",
       "    <tr>\n",
       "      <th>Customer ID</th>\n",
       "      <th></th>\n",
       "      <th></th>\n",
       "      <th></th>\n",
       "      <th></th>\n",
       "      <th></th>\n",
       "      <th></th>\n",
       "      <th></th>\n",
       "      <th></th>\n",
       "      <th></th>\n",
       "      <th></th>\n",
       "    </tr>\n",
       "  </thead>\n",
       "  <tbody>\n",
       "    <tr>\n",
       "      <th>12346.0</th>\n",
       "      <td>1.00</td>\n",
       "      <td>142.31</td>\n",
       "      <td>372.86</td>\n",
       "      <td>33.896364</td>\n",
       "      <td>22.500</td>\n",
       "      <td>11</td>\n",
       "      <td>2009-12-14 08:34:00</td>\n",
       "      <td>2010-06-28 13:53:00</td>\n",
       "      <td>196</td>\n",
       "      <td>11</td>\n",
       "    </tr>\n",
       "    <tr>\n",
       "      <th>12608.0</th>\n",
       "      <td>415.79</td>\n",
       "      <td>415.79</td>\n",
       "      <td>415.79</td>\n",
       "      <td>415.790000</td>\n",
       "      <td>415.790</td>\n",
       "      <td>1</td>\n",
       "      <td>2010-10-31 10:49:00</td>\n",
       "      <td>2010-10-31 10:49:00</td>\n",
       "      <td>0</td>\n",
       "      <td>1</td>\n",
       "    </tr>\n",
       "    <tr>\n",
       "      <th>12745.0</th>\n",
       "      <td>266.93</td>\n",
       "      <td>456.92</td>\n",
       "      <td>723.85</td>\n",
       "      <td>361.925000</td>\n",
       "      <td>361.925</td>\n",
       "      <td>2</td>\n",
       "      <td>2010-05-14 16:50:00</td>\n",
       "      <td>2010-08-10 10:14:00</td>\n",
       "      <td>87</td>\n",
       "      <td>2</td>\n",
       "    </tr>\n",
       "    <tr>\n",
       "      <th>12746.0</th>\n",
       "      <td>254.55</td>\n",
       "      <td>254.55</td>\n",
       "      <td>254.55</td>\n",
       "      <td>254.550000</td>\n",
       "      <td>254.550</td>\n",
       "      <td>1</td>\n",
       "      <td>2010-06-17 10:41:00</td>\n",
       "      <td>2010-06-17 10:41:00</td>\n",
       "      <td>0</td>\n",
       "      <td>1</td>\n",
       "    </tr>\n",
       "  </tbody>\n",
       "</table>\n",
       "</div>"
      ],
      "text/plain": [
       "              Sales                                             \\\n",
       "                min     max     sum         avg   median count   \n",
       "Customer ID                                                      \n",
       "12346.0        1.00  142.31  372.86   33.896364   22.500    11   \n",
       "12608.0      415.79  415.79  415.79  415.790000  415.790     1   \n",
       "12745.0      266.93  456.92  723.85  361.925000  361.925     2   \n",
       "12746.0      254.55  254.55  254.55  254.550000  254.550     1   \n",
       "\n",
       "                    InvoiceDate                                        \\\n",
       "                            min                 max purchase_duration   \n",
       "Customer ID                                                             \n",
       "12346.0     2009-12-14 08:34:00 2010-06-28 13:53:00               196   \n",
       "12608.0     2010-10-31 10:49:00 2010-10-31 10:49:00                 0   \n",
       "12745.0     2010-05-14 16:50:00 2010-08-10 10:14:00                87   \n",
       "12746.0     2010-06-17 10:41:00 2010-06-17 10:41:00                 0   \n",
       "\n",
       "                                \n",
       "            purchase_frequency  \n",
       "Customer ID                     \n",
       "12346.0                     11  \n",
       "12608.0                      1  \n",
       "12745.0                      2  \n",
       "12746.0                      1  "
      ]
     },
     "execution_count": 311,
     "metadata": {},
     "output_type": "execute_result"
    }
   ],
   "source": [
    "summary_df.head(4)"
   ]
  },
  {
   "cell_type": "code",
   "execution_count": 312,
   "id": "59993226-1f2d-4472-bb03-6c3fc1357ac1",
   "metadata": {},
   "outputs": [
    {
     "data": {
      "text/plain": [
       "Sales        min                   0\n",
       "             max                   0\n",
       "             sum                   0\n",
       "             avg                   0\n",
       "             median                0\n",
       "             count                 0\n",
       "InvoiceDate  min                   0\n",
       "             max                   0\n",
       "             purchase_duration     0\n",
       "             purchase_frequency    0\n",
       "dtype: int64"
      ]
     },
     "execution_count": 312,
     "metadata": {},
     "output_type": "execute_result"
    }
   ],
   "source": [
    "summary_df.isna().sum()"
   ]
  },
  {
   "cell_type": "code",
   "execution_count": 313,
   "id": "65578c0c-3165-415e-a3c4-d89edf632bb1",
   "metadata": {},
   "outputs": [],
   "source": [
    " summary_df.to_csv('summary_R_F_df.csv', index=True)"
   ]
  },
  {
   "cell_type": "code",
   "execution_count": 314,
   "id": "0b747400-f211-495e-b58e-c51181b6df38",
   "metadata": {
    "tags": []
   },
   "outputs": [
    {
     "data": {
      "text/plain": [
       "0"
      ]
     },
     "execution_count": 314,
     "metadata": {},
     "output_type": "execute_result"
    }
   ],
   "source": [
    "summary_df.InvoiceDate.purchase_frequency.isna().sum()"
   ]
  },
  {
   "cell_type": "markdown",
   "id": "44208a0c-7939-4e72-b871-03baffba77c5",
   "metadata": {},
   "source": [
    "## Rename the columns by combinng it with the top row\n",
    "## For instance, the first column can become sales_min"
   ]
  },
  {
   "cell_type": "code",
   "execution_count": 315,
   "id": "d4de7908-79c6-44de-9556-e36da941025a",
   "metadata": {
    "tags": []
   },
   "outputs": [
    {
     "data": {
      "text/plain": [
       "MultiIndex([(      'Sales',                'min'),\n",
       "            (      'Sales',                'max'),\n",
       "            (      'Sales',                'sum'),\n",
       "            (      'Sales',                'avg'),\n",
       "            (      'Sales',             'median'),\n",
       "            (      'Sales',              'count'),\n",
       "            ('InvoiceDate',                'min'),\n",
       "            ('InvoiceDate',                'max'),\n",
       "            ('InvoiceDate',  'purchase_duration'),\n",
       "            ('InvoiceDate', 'purchase_frequency')],\n",
       "           )"
      ]
     },
     "execution_count": 315,
     "metadata": {},
     "output_type": "execute_result"
    }
   ],
   "source": [
    "summary_df.columns"
   ]
  },
  {
   "cell_type": "code",
   "execution_count": 316,
   "id": "6f4dbc2a-b457-479c-a80e-bae4c1d7b647",
   "metadata": {
    "tags": []
   },
   "outputs": [
    {
     "name": "stdout",
     "output_type": "stream",
     "text": [
      "('Sales', 'min')\n",
      "('Sales', 'max')\n",
      "('Sales', 'sum')\n",
      "('Sales', 'avg')\n",
      "('Sales', 'median')\n",
      "('Sales', 'count')\n",
      "('InvoiceDate', 'min')\n",
      "('InvoiceDate', 'max')\n",
      "('InvoiceDate', 'purchase_duration')\n",
      "('InvoiceDate', 'purchase_frequency')\n"
     ]
    }
   ],
   "source": [
    "for i in summary_df.columns: print(i)"
   ]
  },
  {
   "cell_type": "code",
   "execution_count": 317,
   "id": "75069f7d-6932-46f4-93cf-c6642694458e",
   "metadata": {
    "tags": []
   },
   "outputs": [],
   "source": [
    "summary_df.columns = [ '_'.join(i) for i in summary_df.columns ]"
   ]
  },
  {
   "cell_type": "code",
   "execution_count": 318,
   "id": "0d653c99-45ec-4897-a0fc-485815a1f20a",
   "metadata": {
    "tags": []
   },
   "outputs": [
    {
     "data": {
      "text/html": [
       "<div>\n",
       "<style scoped>\n",
       "    .dataframe tbody tr th:only-of-type {\n",
       "        vertical-align: middle;\n",
       "    }\n",
       "\n",
       "    .dataframe tbody tr th {\n",
       "        vertical-align: top;\n",
       "    }\n",
       "\n",
       "    .dataframe thead th {\n",
       "        text-align: right;\n",
       "    }\n",
       "</style>\n",
       "<table border=\"1\" class=\"dataframe\">\n",
       "  <thead>\n",
       "    <tr style=\"text-align: right;\">\n",
       "      <th></th>\n",
       "      <th>Sales_min</th>\n",
       "      <th>Sales_max</th>\n",
       "      <th>Sales_sum</th>\n",
       "      <th>Sales_avg</th>\n",
       "      <th>Sales_median</th>\n",
       "      <th>Sales_count</th>\n",
       "      <th>InvoiceDate_min</th>\n",
       "      <th>InvoiceDate_max</th>\n",
       "      <th>InvoiceDate_purchase_duration</th>\n",
       "      <th>InvoiceDate_purchase_frequency</th>\n",
       "    </tr>\n",
       "    <tr>\n",
       "      <th>Customer ID</th>\n",
       "      <th></th>\n",
       "      <th></th>\n",
       "      <th></th>\n",
       "      <th></th>\n",
       "      <th></th>\n",
       "      <th></th>\n",
       "      <th></th>\n",
       "      <th></th>\n",
       "      <th></th>\n",
       "      <th></th>\n",
       "    </tr>\n",
       "  </thead>\n",
       "  <tbody>\n",
       "    <tr>\n",
       "      <th>12346.0</th>\n",
       "      <td>1.0</td>\n",
       "      <td>142.31</td>\n",
       "      <td>372.86</td>\n",
       "      <td>33.896364</td>\n",
       "      <td>22.5</td>\n",
       "      <td>11</td>\n",
       "      <td>2009-12-14 08:34:00</td>\n",
       "      <td>2010-06-28 13:53:00</td>\n",
       "      <td>196</td>\n",
       "      <td>11</td>\n",
       "    </tr>\n",
       "  </tbody>\n",
       "</table>\n",
       "</div>"
      ],
      "text/plain": [
       "             Sales_min  Sales_max  Sales_sum  Sales_avg  Sales_median  \\\n",
       "Customer ID                                                             \n",
       "12346.0            1.0     142.31     372.86  33.896364          22.5   \n",
       "\n",
       "             Sales_count     InvoiceDate_min     InvoiceDate_max  \\\n",
       "Customer ID                                                        \n",
       "12346.0               11 2009-12-14 08:34:00 2010-06-28 13:53:00   \n",
       "\n",
       "             InvoiceDate_purchase_duration  InvoiceDate_purchase_frequency  \n",
       "Customer ID                                                                 \n",
       "12346.0                                196                              11  "
      ]
     },
     "execution_count": 318,
     "metadata": {},
     "output_type": "execute_result"
    }
   ],
   "source": [
    "summary_df.head(1)"
   ]
  },
  {
   "cell_type": "code",
   "execution_count": 319,
   "id": "c049ee61-b0d6-4bf6-a5ac-6ef39265835a",
   "metadata": {
    "tags": []
   },
   "outputs": [
    {
     "data": {
      "text/html": [
       "<div>\n",
       "<style scoped>\n",
       "    .dataframe tbody tr th:only-of-type {\n",
       "        vertical-align: middle;\n",
       "    }\n",
       "\n",
       "    .dataframe tbody tr th {\n",
       "        vertical-align: top;\n",
       "    }\n",
       "\n",
       "    .dataframe thead th {\n",
       "        text-align: right;\n",
       "    }\n",
       "</style>\n",
       "<table border=\"1\" class=\"dataframe\">\n",
       "  <thead>\n",
       "    <tr style=\"text-align: right;\">\n",
       "      <th></th>\n",
       "      <th>Sales_min</th>\n",
       "      <th>Sales_max</th>\n",
       "      <th>Sales_sum</th>\n",
       "      <th>Sales_avg</th>\n",
       "      <th>Sales_median</th>\n",
       "      <th>Sales_count</th>\n",
       "      <th>InvoiceDate_min</th>\n",
       "      <th>InvoiceDate_max</th>\n",
       "      <th>InvoiceDate_purchase_duration</th>\n",
       "      <th>InvoiceDate_purchase_frequency</th>\n",
       "    </tr>\n",
       "    <tr>\n",
       "      <th>Customer ID</th>\n",
       "      <th></th>\n",
       "      <th></th>\n",
       "      <th></th>\n",
       "      <th></th>\n",
       "      <th></th>\n",
       "      <th></th>\n",
       "      <th></th>\n",
       "      <th></th>\n",
       "      <th></th>\n",
       "      <th></th>\n",
       "    </tr>\n",
       "  </thead>\n",
       "  <tbody>\n",
       "    <tr>\n",
       "      <th>14103.0</th>\n",
       "      <td>0.0</td>\n",
       "      <td>0.0</td>\n",
       "      <td>0.0</td>\n",
       "      <td>0.0</td>\n",
       "      <td>0.0</td>\n",
       "      <td>1</td>\n",
       "      <td>2010-02-12 14:58:00</td>\n",
       "      <td>2010-02-12 14:58:00</td>\n",
       "      <td>0</td>\n",
       "      <td>1</td>\n",
       "    </tr>\n",
       "    <tr>\n",
       "      <th>14827.0</th>\n",
       "      <td>0.0</td>\n",
       "      <td>0.0</td>\n",
       "      <td>0.0</td>\n",
       "      <td>0.0</td>\n",
       "      <td>0.0</td>\n",
       "      <td>1</td>\n",
       "      <td>2010-02-12 15:47:00</td>\n",
       "      <td>2010-02-12 15:47:00</td>\n",
       "      <td>0</td>\n",
       "      <td>1</td>\n",
       "    </tr>\n",
       "  </tbody>\n",
       "</table>\n",
       "</div>"
      ],
      "text/plain": [
       "             Sales_min  Sales_max  Sales_sum  Sales_avg  Sales_median  \\\n",
       "Customer ID                                                             \n",
       "14103.0            0.0        0.0        0.0        0.0           0.0   \n",
       "14827.0            0.0        0.0        0.0        0.0           0.0   \n",
       "\n",
       "             Sales_count     InvoiceDate_min     InvoiceDate_max  \\\n",
       "Customer ID                                                        \n",
       "14103.0                1 2010-02-12 14:58:00 2010-02-12 14:58:00   \n",
       "14827.0                1 2010-02-12 15:47:00 2010-02-12 15:47:00   \n",
       "\n",
       "             InvoiceDate_purchase_duration  InvoiceDate_purchase_frequency  \n",
       "Customer ID                                                                 \n",
       "14103.0                                  0                               1  \n",
       "14827.0                                  0                               1  "
      ]
     },
     "execution_count": 319,
     "metadata": {},
     "output_type": "execute_result"
    }
   ],
   "source": [
    "summary_df.loc [summary_df['Sales_sum'] == 0]"
   ]
  },
  {
   "cell_type": "code",
   "execution_count": 320,
   "id": "3effa009-6d2c-4117-9e83-8fae0200e1e9",
   "metadata": {
    "tags": []
   },
   "outputs": [
    {
     "data": {
      "text/html": [
       "<div>\n",
       "<style scoped>\n",
       "    .dataframe tbody tr th:only-of-type {\n",
       "        vertical-align: middle;\n",
       "    }\n",
       "\n",
       "    .dataframe tbody tr th {\n",
       "        vertical-align: top;\n",
       "    }\n",
       "\n",
       "    .dataframe thead th {\n",
       "        text-align: right;\n",
       "    }\n",
       "</style>\n",
       "<table border=\"1\" class=\"dataframe\">\n",
       "  <thead>\n",
       "    <tr style=\"text-align: right;\">\n",
       "      <th></th>\n",
       "      <th>Sales_min</th>\n",
       "      <th>Sales_max</th>\n",
       "      <th>Sales_sum</th>\n",
       "      <th>Sales_avg</th>\n",
       "      <th>Sales_median</th>\n",
       "      <th>Sales_count</th>\n",
       "      <th>InvoiceDate_min</th>\n",
       "      <th>InvoiceDate_max</th>\n",
       "      <th>InvoiceDate_purchase_duration</th>\n",
       "      <th>InvoiceDate_purchase_frequency</th>\n",
       "    </tr>\n",
       "    <tr>\n",
       "      <th>Customer ID</th>\n",
       "      <th></th>\n",
       "      <th></th>\n",
       "      <th></th>\n",
       "      <th></th>\n",
       "      <th></th>\n",
       "      <th></th>\n",
       "      <th></th>\n",
       "      <th></th>\n",
       "      <th></th>\n",
       "      <th></th>\n",
       "    </tr>\n",
       "  </thead>\n",
       "  <tbody>\n",
       "  </tbody>\n",
       "</table>\n",
       "</div>"
      ],
      "text/plain": [
       "Empty DataFrame\n",
       "Columns: [Sales_min, Sales_max, Sales_sum, Sales_avg, Sales_median, Sales_count, InvoiceDate_min, InvoiceDate_max, InvoiceDate_purchase_duration, InvoiceDate_purchase_frequency]\n",
       "Index: []"
      ]
     },
     "execution_count": 320,
     "metadata": {},
     "output_type": "execute_result"
    }
   ],
   "source": [
    "summary_df.loc [summary_df['Sales_sum'] < 0]"
   ]
  },
  {
   "cell_type": "code",
   "execution_count": 321,
   "id": "4e2cfc53-abb1-472f-a6ec-51516850b8f1",
   "metadata": {
    "tags": []
   },
   "outputs": [
    {
     "data": {
      "text/html": [
       "<div>\n",
       "<style scoped>\n",
       "    .dataframe tbody tr th:only-of-type {\n",
       "        vertical-align: middle;\n",
       "    }\n",
       "\n",
       "    .dataframe tbody tr th {\n",
       "        vertical-align: top;\n",
       "    }\n",
       "\n",
       "    .dataframe thead th {\n",
       "        text-align: right;\n",
       "    }\n",
       "</style>\n",
       "<table border=\"1\" class=\"dataframe\">\n",
       "  <thead>\n",
       "    <tr style=\"text-align: right;\">\n",
       "      <th></th>\n",
       "      <th>Sales_min</th>\n",
       "      <th>Sales_max</th>\n",
       "      <th>Sales_sum</th>\n",
       "      <th>Sales_avg</th>\n",
       "      <th>Sales_median</th>\n",
       "      <th>Sales_count</th>\n",
       "      <th>InvoiceDate_min</th>\n",
       "      <th>InvoiceDate_max</th>\n",
       "      <th>InvoiceDate_purchase_duration</th>\n",
       "      <th>InvoiceDate_purchase_frequency</th>\n",
       "    </tr>\n",
       "    <tr>\n",
       "      <th>Customer ID</th>\n",
       "      <th></th>\n",
       "      <th></th>\n",
       "      <th></th>\n",
       "      <th></th>\n",
       "      <th></th>\n",
       "      <th></th>\n",
       "      <th></th>\n",
       "      <th></th>\n",
       "      <th></th>\n",
       "      <th></th>\n",
       "    </tr>\n",
       "  </thead>\n",
       "  <tbody>\n",
       "    <tr>\n",
       "      <th>12346.0</th>\n",
       "      <td>1.00</td>\n",
       "      <td>142.31</td>\n",
       "      <td>372.86</td>\n",
       "      <td>33.896364</td>\n",
       "      <td>22.500</td>\n",
       "      <td>11</td>\n",
       "      <td>2009-12-14 08:34:00</td>\n",
       "      <td>2010-06-28 13:53:00</td>\n",
       "      <td>196</td>\n",
       "      <td>11</td>\n",
       "    </tr>\n",
       "    <tr>\n",
       "      <th>12608.0</th>\n",
       "      <td>415.79</td>\n",
       "      <td>415.79</td>\n",
       "      <td>415.79</td>\n",
       "      <td>415.790000</td>\n",
       "      <td>415.790</td>\n",
       "      <td>1</td>\n",
       "      <td>2010-10-31 10:49:00</td>\n",
       "      <td>2010-10-31 10:49:00</td>\n",
       "      <td>0</td>\n",
       "      <td>1</td>\n",
       "    </tr>\n",
       "    <tr>\n",
       "      <th>12745.0</th>\n",
       "      <td>266.93</td>\n",
       "      <td>456.92</td>\n",
       "      <td>723.85</td>\n",
       "      <td>361.925000</td>\n",
       "      <td>361.925</td>\n",
       "      <td>2</td>\n",
       "      <td>2010-05-14 16:50:00</td>\n",
       "      <td>2010-08-10 10:14:00</td>\n",
       "      <td>87</td>\n",
       "      <td>2</td>\n",
       "    </tr>\n",
       "    <tr>\n",
       "      <th>12746.0</th>\n",
       "      <td>254.55</td>\n",
       "      <td>254.55</td>\n",
       "      <td>254.55</td>\n",
       "      <td>254.550000</td>\n",
       "      <td>254.550</td>\n",
       "      <td>1</td>\n",
       "      <td>2010-06-17 10:41:00</td>\n",
       "      <td>2010-06-17 10:41:00</td>\n",
       "      <td>0</td>\n",
       "      <td>1</td>\n",
       "    </tr>\n",
       "    <tr>\n",
       "      <th>12747.0</th>\n",
       "      <td>89.32</td>\n",
       "      <td>715.10</td>\n",
       "      <td>5080.53</td>\n",
       "      <td>317.533125</td>\n",
       "      <td>315.290</td>\n",
       "      <td>16</td>\n",
       "      <td>2009-12-07 13:23:00</td>\n",
       "      <td>2010-12-05 15:38:00</td>\n",
       "      <td>363</td>\n",
       "      <td>16</td>\n",
       "    </tr>\n",
       "    <tr>\n",
       "      <th>...</th>\n",
       "      <td>...</td>\n",
       "      <td>...</td>\n",
       "      <td>...</td>\n",
       "      <td>...</td>\n",
       "      <td>...</td>\n",
       "      <td>...</td>\n",
       "      <td>...</td>\n",
       "      <td>...</td>\n",
       "      <td>...</td>\n",
       "      <td>...</td>\n",
       "    </tr>\n",
       "    <tr>\n",
       "      <th>18283.0</th>\n",
       "      <td>32.20</td>\n",
       "      <td>163.15</td>\n",
       "      <td>641.77</td>\n",
       "      <td>106.961667</td>\n",
       "      <td>105.035</td>\n",
       "      <td>6</td>\n",
       "      <td>2010-02-19 17:16:00</td>\n",
       "      <td>2010-11-22 15:30:00</td>\n",
       "      <td>275</td>\n",
       "      <td>6</td>\n",
       "    </tr>\n",
       "    <tr>\n",
       "      <th>18284.0</th>\n",
       "      <td>461.68</td>\n",
       "      <td>461.68</td>\n",
       "      <td>461.68</td>\n",
       "      <td>461.680000</td>\n",
       "      <td>461.680</td>\n",
       "      <td>1</td>\n",
       "      <td>2010-10-04 11:33:00</td>\n",
       "      <td>2010-10-04 11:33:00</td>\n",
       "      <td>0</td>\n",
       "      <td>1</td>\n",
       "    </tr>\n",
       "    <tr>\n",
       "      <th>18285.0</th>\n",
       "      <td>427.00</td>\n",
       "      <td>427.00</td>\n",
       "      <td>427.00</td>\n",
       "      <td>427.000000</td>\n",
       "      <td>427.000</td>\n",
       "      <td>1</td>\n",
       "      <td>2010-02-17 10:24:00</td>\n",
       "      <td>2010-02-17 10:24:00</td>\n",
       "      <td>0</td>\n",
       "      <td>1</td>\n",
       "    </tr>\n",
       "    <tr>\n",
       "      <th>18286.0</th>\n",
       "      <td>462.95</td>\n",
       "      <td>833.48</td>\n",
       "      <td>1296.43</td>\n",
       "      <td>648.215000</td>\n",
       "      <td>648.215</td>\n",
       "      <td>2</td>\n",
       "      <td>2009-12-16 10:45:00</td>\n",
       "      <td>2010-08-20 11:57:00</td>\n",
       "      <td>247</td>\n",
       "      <td>2</td>\n",
       "    </tr>\n",
       "    <tr>\n",
       "      <th>18287.0</th>\n",
       "      <td>30.60</td>\n",
       "      <td>1071.61</td>\n",
       "      <td>2345.71</td>\n",
       "      <td>586.427500</td>\n",
       "      <td>621.750</td>\n",
       "      <td>4</td>\n",
       "      <td>2010-05-17 11:55:00</td>\n",
       "      <td>2010-11-22 11:51:00</td>\n",
       "      <td>188</td>\n",
       "      <td>4</td>\n",
       "    </tr>\n",
       "  </tbody>\n",
       "</table>\n",
       "<p>3969 rows × 10 columns</p>\n",
       "</div>"
      ],
      "text/plain": [
       "             Sales_min  Sales_max  Sales_sum   Sales_avg  Sales_median  \\\n",
       "Customer ID                                                              \n",
       "12346.0           1.00     142.31     372.86   33.896364        22.500   \n",
       "12608.0         415.79     415.79     415.79  415.790000       415.790   \n",
       "12745.0         266.93     456.92     723.85  361.925000       361.925   \n",
       "12746.0         254.55     254.55     254.55  254.550000       254.550   \n",
       "12747.0          89.32     715.10    5080.53  317.533125       315.290   \n",
       "...                ...        ...        ...         ...           ...   \n",
       "18283.0          32.20     163.15     641.77  106.961667       105.035   \n",
       "18284.0         461.68     461.68     461.68  461.680000       461.680   \n",
       "18285.0         427.00     427.00     427.00  427.000000       427.000   \n",
       "18286.0         462.95     833.48    1296.43  648.215000       648.215   \n",
       "18287.0          30.60    1071.61    2345.71  586.427500       621.750   \n",
       "\n",
       "             Sales_count     InvoiceDate_min     InvoiceDate_max  \\\n",
       "Customer ID                                                        \n",
       "12346.0               11 2009-12-14 08:34:00 2010-06-28 13:53:00   \n",
       "12608.0                1 2010-10-31 10:49:00 2010-10-31 10:49:00   \n",
       "12745.0                2 2010-05-14 16:50:00 2010-08-10 10:14:00   \n",
       "12746.0                1 2010-06-17 10:41:00 2010-06-17 10:41:00   \n",
       "12747.0               16 2009-12-07 13:23:00 2010-12-05 15:38:00   \n",
       "...                  ...                 ...                 ...   \n",
       "18283.0                6 2010-02-19 17:16:00 2010-11-22 15:30:00   \n",
       "18284.0                1 2010-10-04 11:33:00 2010-10-04 11:33:00   \n",
       "18285.0                1 2010-02-17 10:24:00 2010-02-17 10:24:00   \n",
       "18286.0                2 2009-12-16 10:45:00 2010-08-20 11:57:00   \n",
       "18287.0                4 2010-05-17 11:55:00 2010-11-22 11:51:00   \n",
       "\n",
       "             InvoiceDate_purchase_duration  InvoiceDate_purchase_frequency  \n",
       "Customer ID                                                                 \n",
       "12346.0                                196                              11  \n",
       "12608.0                                  0                               1  \n",
       "12745.0                                 87                               2  \n",
       "12746.0                                  0                               1  \n",
       "12747.0                                363                              16  \n",
       "...                                    ...                             ...  \n",
       "18283.0                                275                               6  \n",
       "18284.0                                  0                               1  \n",
       "18285.0                                  0                               1  \n",
       "18286.0                                247                               2  \n",
       "18287.0                                188                               4  \n",
       "\n",
       "[3969 rows x 10 columns]"
      ]
     },
     "execution_count": 321,
     "metadata": {},
     "output_type": "execute_result"
    }
   ],
   "source": [
    "summary_df.loc [summary_df['Sales_sum'] > 0]"
   ]
  },
  {
   "cell_type": "code",
   "execution_count": 322,
   "id": "3d67f625-6195-46e7-a9d1-dd261fb623d0",
   "metadata": {
    "tags": []
   },
   "outputs": [
    {
     "data": {
      "text/plain": [
       "Sales_min                         0\n",
       "Sales_max                         0\n",
       "Sales_sum                         0\n",
       "Sales_avg                         0\n",
       "Sales_median                      0\n",
       "Sales_count                       0\n",
       "InvoiceDate_min                   0\n",
       "InvoiceDate_max                   0\n",
       "InvoiceDate_purchase_duration     0\n",
       "InvoiceDate_purchase_frequency    0\n",
       "dtype: int64"
      ]
     },
     "execution_count": 322,
     "metadata": {},
     "output_type": "execute_result"
    }
   ],
   "source": [
    "summary_df.isna().sum()"
   ]
  },
  {
   "cell_type": "code",
   "execution_count": 323,
   "id": "7cd861ae-ef4f-4df4-89c9-16d5a40c2365",
   "metadata": {
    "tags": []
   },
   "outputs": [
    {
     "data": {
      "text/plain": [
       "3910"
      ]
     },
     "execution_count": 323,
     "metadata": {},
     "output_type": "execute_result"
    }
   ],
   "source": [
    "summary_df.Sales_avg.nunique()"
   ]
  },
  {
   "cell_type": "code",
   "execution_count": 324,
   "id": "8f0ba89f-a7fc-4d3d-b45c-212388cfcd61",
   "metadata": {},
   "outputs": [],
   "source": [
    "## Look at the top 20 sales counts and the average spend for that sale\n",
    "\n",
    "## Group by sales counts and then look at the sales average"
   ]
  },
  {
   "cell_type": "code",
   "execution_count": 325,
   "id": "2e4331bf-cba5-4f5e-980b-e8b3cbead5c8",
   "metadata": {
    "tags": []
   },
   "outputs": [
    {
     "name": "stdout",
     "output_type": "stream",
     "text": [
      "[11, 1, 2, 16, 144, 4, 7, 13, 6, 41, 9, 3, 17, 22, 5, 8, 39, 42, 12, 14, 33, 10, 18, 20, 19, 32, 109, 48, 30, 34, 46, 15, 38, 35, 94, 37, 54, 23, 27, 21, 69, 102, 31, 43, 24, 29, 47, 86, 26, 121, 25, 40, 59, 44, 60, 28, 91, 155, 74, 62, 89]\n"
     ]
    }
   ],
   "source": [
    "output = []\n",
    "trends = summary_df['Sales_count']\n",
    "for x in trends:\n",
    "    if x not in output:\n",
    "        output.append(x)\n",
    "print(output)"
   ]
  },
  {
   "cell_type": "code",
   "execution_count": 326,
   "id": "67cf703a-4e07-42b9-964b-ea71e84e474f",
   "metadata": {
    "tags": []
   },
   "outputs": [
    {
     "data": {
      "text/plain": [
       "Sales_count\n",
       "1     1306\n",
       "2      733\n",
       "3      477\n",
       "4      351\n",
       "5      220\n",
       "6      174\n",
       "7      149\n",
       "8      106\n",
       "9       77\n",
       "10      66\n",
       "11      47\n",
       "12      40\n",
       "13      34\n",
       "14      26\n",
       "15      18\n",
       "16      12\n",
       "17      15\n",
       "18      19\n",
       "19      11\n",
       "20       6\n",
       "Name: Sales_avg, dtype: int64"
      ]
     },
     "execution_count": 326,
     "metadata": {},
     "output_type": "execute_result"
    }
   ],
   "source": [
    "summary_df.groupby('Sales_count').count()['Sales_avg'][:20]"
   ]
  },
  {
   "cell_type": "markdown",
   "id": "95e28010-f78a-4b3c-8a69-15b616ef3d00",
   "metadata": {},
   "source": [
    "## Obtain the distribution of the average time between sales.\n",
    "\n",
    "## Note that you would need to eliminate single purchases."
   ]
  },
  {
   "cell_type": "code",
   "execution_count": 327,
   "id": "a24766e6-b8b2-4313-9330-da1e6d71d69f",
   "metadata": {},
   "outputs": [],
   "source": [
    "# For now we will consider customers even with one transaction \n",
    "# summary_df = summary_df.loc[ summary_df['InvoiceDate_purchase_duration'] > 0 ]"
   ]
  },
  {
   "cell_type": "code",
   "execution_count": 328,
   "id": "ccdeadfe-4df5-4aeb-b8da-34508c4e0886",
   "metadata": {
    "tags": []
   },
   "outputs": [
    {
     "data": {
      "text/html": [
       "<div>\n",
       "<style scoped>\n",
       "    .dataframe tbody tr th:only-of-type {\n",
       "        vertical-align: middle;\n",
       "    }\n",
       "\n",
       "    .dataframe tbody tr th {\n",
       "        vertical-align: top;\n",
       "    }\n",
       "\n",
       "    .dataframe thead th {\n",
       "        text-align: right;\n",
       "    }\n",
       "</style>\n",
       "<table border=\"1\" class=\"dataframe\">\n",
       "  <thead>\n",
       "    <tr style=\"text-align: right;\">\n",
       "      <th></th>\n",
       "      <th>Sales_min</th>\n",
       "      <th>Sales_max</th>\n",
       "      <th>Sales_sum</th>\n",
       "      <th>Sales_avg</th>\n",
       "      <th>Sales_median</th>\n",
       "      <th>Sales_count</th>\n",
       "      <th>InvoiceDate_min</th>\n",
       "      <th>InvoiceDate_max</th>\n",
       "      <th>InvoiceDate_purchase_duration</th>\n",
       "      <th>InvoiceDate_purchase_frequency</th>\n",
       "    </tr>\n",
       "    <tr>\n",
       "      <th>Customer ID</th>\n",
       "      <th></th>\n",
       "      <th></th>\n",
       "      <th></th>\n",
       "      <th></th>\n",
       "      <th></th>\n",
       "      <th></th>\n",
       "      <th></th>\n",
       "      <th></th>\n",
       "      <th></th>\n",
       "      <th></th>\n",
       "    </tr>\n",
       "  </thead>\n",
       "  <tbody>\n",
       "    <tr>\n",
       "      <th>12346.0</th>\n",
       "      <td>1.00</td>\n",
       "      <td>142.31</td>\n",
       "      <td>372.86</td>\n",
       "      <td>33.896364</td>\n",
       "      <td>22.50</td>\n",
       "      <td>11</td>\n",
       "      <td>2009-12-14 08:34:00</td>\n",
       "      <td>2010-06-28 13:53:00</td>\n",
       "      <td>196</td>\n",
       "      <td>11</td>\n",
       "    </tr>\n",
       "    <tr>\n",
       "      <th>12608.0</th>\n",
       "      <td>415.79</td>\n",
       "      <td>415.79</td>\n",
       "      <td>415.79</td>\n",
       "      <td>415.790000</td>\n",
       "      <td>415.79</td>\n",
       "      <td>1</td>\n",
       "      <td>2010-10-31 10:49:00</td>\n",
       "      <td>2010-10-31 10:49:00</td>\n",
       "      <td>0</td>\n",
       "      <td>1</td>\n",
       "    </tr>\n",
       "  </tbody>\n",
       "</table>\n",
       "</div>"
      ],
      "text/plain": [
       "             Sales_min  Sales_max  Sales_sum   Sales_avg  Sales_median  \\\n",
       "Customer ID                                                              \n",
       "12346.0           1.00     142.31     372.86   33.896364         22.50   \n",
       "12608.0         415.79     415.79     415.79  415.790000        415.79   \n",
       "\n",
       "             Sales_count     InvoiceDate_min     InvoiceDate_max  \\\n",
       "Customer ID                                                        \n",
       "12346.0               11 2009-12-14 08:34:00 2010-06-28 13:53:00   \n",
       "12608.0                1 2010-10-31 10:49:00 2010-10-31 10:49:00   \n",
       "\n",
       "             InvoiceDate_purchase_duration  InvoiceDate_purchase_frequency  \n",
       "Customer ID                                                                 \n",
       "12346.0                                196                              11  \n",
       "12608.0                                  0                               1  "
      ]
     },
     "execution_count": 328,
     "metadata": {},
     "output_type": "execute_result"
    }
   ],
   "source": [
    "summary_df.head(2)"
   ]
  },
  {
   "cell_type": "code",
   "execution_count": 329,
   "id": "43a91f3c-6321-420c-998c-09038bb551c7",
   "metadata": {
    "tags": []
   },
   "outputs": [
    {
     "name": "stdout",
     "output_type": "stream",
     "text": [
      "<class 'pandas.core.frame.DataFrame'>\n",
      "Index: 3971 entries, 12346.0 to 18287.0\n",
      "Data columns (total 10 columns):\n",
      " #   Column                          Non-Null Count  Dtype         \n",
      "---  ------                          --------------  -----         \n",
      " 0   Sales_min                       3971 non-null   float64       \n",
      " 1   Sales_max                       3971 non-null   float64       \n",
      " 2   Sales_sum                       3971 non-null   float64       \n",
      " 3   Sales_avg                       3971 non-null   float64       \n",
      " 4   Sales_median                    3971 non-null   float64       \n",
      " 5   Sales_count                     3971 non-null   int64         \n",
      " 6   InvoiceDate_min                 3971 non-null   datetime64[ns]\n",
      " 7   InvoiceDate_max                 3971 non-null   datetime64[ns]\n",
      " 8   InvoiceDate_purchase_duration   3971 non-null   int64         \n",
      " 9   InvoiceDate_purchase_frequency  3971 non-null   int64         \n",
      "dtypes: datetime64[ns](2), float64(5), int64(3)\n",
      "memory usage: 341.3 KB\n"
     ]
    }
   ],
   "source": [
    "summary_df.info()"
   ]
  },
  {
   "cell_type": "code",
   "execution_count": 330,
   "id": "073babbc-499c-4c88-950b-fd47bcb45560",
   "metadata": {
    "tags": []
   },
   "outputs": [
    {
     "data": {
      "text/plain": [
       "(3971, 10)"
      ]
     },
     "execution_count": 330,
     "metadata": {},
     "output_type": "execute_result"
    }
   ],
   "source": [
    "summary_df.shape"
   ]
  },
  {
   "cell_type": "code",
   "execution_count": 331,
   "id": "fe190eb5-9ef7-4cca-a690-26228343a5b5",
   "metadata": {
    "tags": []
   },
   "outputs": [
    {
     "data": {
      "text/html": [
       "<div>\n",
       "<style scoped>\n",
       "    .dataframe tbody tr th:only-of-type {\n",
       "        vertical-align: middle;\n",
       "    }\n",
       "\n",
       "    .dataframe tbody tr th {\n",
       "        vertical-align: top;\n",
       "    }\n",
       "\n",
       "    .dataframe thead th {\n",
       "        text-align: right;\n",
       "    }\n",
       "</style>\n",
       "<table border=\"1\" class=\"dataframe\">\n",
       "  <thead>\n",
       "    <tr style=\"text-align: right;\">\n",
       "      <th></th>\n",
       "      <th>Customer ID</th>\n",
       "    </tr>\n",
       "  </thead>\n",
       "  <tbody>\n",
       "    <tr>\n",
       "      <th>3970</th>\n",
       "      <td>18287.0</td>\n",
       "    </tr>\n",
       "    <tr>\n",
       "      <th>3969</th>\n",
       "      <td>18286.0</td>\n",
       "    </tr>\n",
       "    <tr>\n",
       "      <th>3968</th>\n",
       "      <td>18285.0</td>\n",
       "    </tr>\n",
       "    <tr>\n",
       "      <th>3967</th>\n",
       "      <td>18284.0</td>\n",
       "    </tr>\n",
       "    <tr>\n",
       "      <th>3966</th>\n",
       "      <td>18283.0</td>\n",
       "    </tr>\n",
       "    <tr>\n",
       "      <th>...</th>\n",
       "      <td>...</td>\n",
       "    </tr>\n",
       "    <tr>\n",
       "      <th>4</th>\n",
       "      <td>12747.0</td>\n",
       "    </tr>\n",
       "    <tr>\n",
       "      <th>3</th>\n",
       "      <td>12746.0</td>\n",
       "    </tr>\n",
       "    <tr>\n",
       "      <th>2</th>\n",
       "      <td>12745.0</td>\n",
       "    </tr>\n",
       "    <tr>\n",
       "      <th>1</th>\n",
       "      <td>12608.0</td>\n",
       "    </tr>\n",
       "    <tr>\n",
       "      <th>0</th>\n",
       "      <td>12346.0</td>\n",
       "    </tr>\n",
       "  </tbody>\n",
       "</table>\n",
       "<p>3971 rows × 1 columns</p>\n",
       "</div>"
      ],
      "text/plain": [
       "      Customer ID\n",
       "3970      18287.0\n",
       "3969      18286.0\n",
       "3968      18285.0\n",
       "3967      18284.0\n",
       "3966      18283.0\n",
       "...           ...\n",
       "4         12747.0\n",
       "3         12746.0\n",
       "2         12745.0\n",
       "1         12608.0\n",
       "0         12346.0\n",
       "\n",
       "[3971 rows x 1 columns]"
      ]
     },
     "execution_count": 331,
     "metadata": {},
     "output_type": "execute_result"
    }
   ],
   "source": [
    "# to know the count of Customers in summary_df \n",
    "temp=summary_df\n",
    "temp.reset_index(inplace=True)\n",
    "customer_uk_summary_df=temp[['Customer ID']].drop_duplicates()\n",
    "customer_uk_summary_df.groupby(['Customer ID']).aggregate('count').reset_index().sort_values('Customer ID', ascending=False)"
   ]
  },
  {
   "cell_type": "code",
   "execution_count": 332,
   "id": "ec030457-840a-42b0-aef6-1e847f897490",
   "metadata": {},
   "outputs": [
    {
     "data": {
      "text/html": [
       "<div>\n",
       "<style scoped>\n",
       "    .dataframe tbody tr th:only-of-type {\n",
       "        vertical-align: middle;\n",
       "    }\n",
       "\n",
       "    .dataframe tbody tr th {\n",
       "        vertical-align: top;\n",
       "    }\n",
       "\n",
       "    .dataframe thead th {\n",
       "        text-align: right;\n",
       "    }\n",
       "</style>\n",
       "<table border=\"1\" class=\"dataframe\">\n",
       "  <thead>\n",
       "    <tr style=\"text-align: right;\">\n",
       "      <th></th>\n",
       "      <th>Customer ID</th>\n",
       "      <th>Sales_min</th>\n",
       "      <th>Sales_max</th>\n",
       "      <th>Sales_sum</th>\n",
       "      <th>Sales_avg</th>\n",
       "      <th>Sales_median</th>\n",
       "      <th>Sales_count</th>\n",
       "      <th>InvoiceDate_min</th>\n",
       "      <th>InvoiceDate_max</th>\n",
       "      <th>InvoiceDate_purchase_duration</th>\n",
       "      <th>InvoiceDate_purchase_frequency</th>\n",
       "    </tr>\n",
       "  </thead>\n",
       "  <tbody>\n",
       "    <tr>\n",
       "      <th>0</th>\n",
       "      <td>12346.0</td>\n",
       "      <td>1.00</td>\n",
       "      <td>142.31</td>\n",
       "      <td>372.86</td>\n",
       "      <td>33.896364</td>\n",
       "      <td>22.500</td>\n",
       "      <td>11</td>\n",
       "      <td>2009-12-14 08:34:00</td>\n",
       "      <td>2010-06-28 13:53:00</td>\n",
       "      <td>196</td>\n",
       "      <td>11</td>\n",
       "    </tr>\n",
       "    <tr>\n",
       "      <th>1</th>\n",
       "      <td>12608.0</td>\n",
       "      <td>415.79</td>\n",
       "      <td>415.79</td>\n",
       "      <td>415.79</td>\n",
       "      <td>415.790000</td>\n",
       "      <td>415.790</td>\n",
       "      <td>1</td>\n",
       "      <td>2010-10-31 10:49:00</td>\n",
       "      <td>2010-10-31 10:49:00</td>\n",
       "      <td>0</td>\n",
       "      <td>1</td>\n",
       "    </tr>\n",
       "    <tr>\n",
       "      <th>2</th>\n",
       "      <td>12745.0</td>\n",
       "      <td>266.93</td>\n",
       "      <td>456.92</td>\n",
       "      <td>723.85</td>\n",
       "      <td>361.925000</td>\n",
       "      <td>361.925</td>\n",
       "      <td>2</td>\n",
       "      <td>2010-05-14 16:50:00</td>\n",
       "      <td>2010-08-10 10:14:00</td>\n",
       "      <td>87</td>\n",
       "      <td>2</td>\n",
       "    </tr>\n",
       "    <tr>\n",
       "      <th>3</th>\n",
       "      <td>12746.0</td>\n",
       "      <td>254.55</td>\n",
       "      <td>254.55</td>\n",
       "      <td>254.55</td>\n",
       "      <td>254.550000</td>\n",
       "      <td>254.550</td>\n",
       "      <td>1</td>\n",
       "      <td>2010-06-17 10:41:00</td>\n",
       "      <td>2010-06-17 10:41:00</td>\n",
       "      <td>0</td>\n",
       "      <td>1</td>\n",
       "    </tr>\n",
       "    <tr>\n",
       "      <th>4</th>\n",
       "      <td>12747.0</td>\n",
       "      <td>89.32</td>\n",
       "      <td>715.10</td>\n",
       "      <td>5080.53</td>\n",
       "      <td>317.533125</td>\n",
       "      <td>315.290</td>\n",
       "      <td>16</td>\n",
       "      <td>2009-12-07 13:23:00</td>\n",
       "      <td>2010-12-05 15:38:00</td>\n",
       "      <td>363</td>\n",
       "      <td>16</td>\n",
       "    </tr>\n",
       "    <tr>\n",
       "      <th>...</th>\n",
       "      <td>...</td>\n",
       "      <td>...</td>\n",
       "      <td>...</td>\n",
       "      <td>...</td>\n",
       "      <td>...</td>\n",
       "      <td>...</td>\n",
       "      <td>...</td>\n",
       "      <td>...</td>\n",
       "      <td>...</td>\n",
       "      <td>...</td>\n",
       "      <td>...</td>\n",
       "    </tr>\n",
       "    <tr>\n",
       "      <th>3966</th>\n",
       "      <td>18283.0</td>\n",
       "      <td>32.20</td>\n",
       "      <td>163.15</td>\n",
       "      <td>641.77</td>\n",
       "      <td>106.961667</td>\n",
       "      <td>105.035</td>\n",
       "      <td>6</td>\n",
       "      <td>2010-02-19 17:16:00</td>\n",
       "      <td>2010-11-22 15:30:00</td>\n",
       "      <td>275</td>\n",
       "      <td>6</td>\n",
       "    </tr>\n",
       "    <tr>\n",
       "      <th>3967</th>\n",
       "      <td>18284.0</td>\n",
       "      <td>461.68</td>\n",
       "      <td>461.68</td>\n",
       "      <td>461.68</td>\n",
       "      <td>461.680000</td>\n",
       "      <td>461.680</td>\n",
       "      <td>1</td>\n",
       "      <td>2010-10-04 11:33:00</td>\n",
       "      <td>2010-10-04 11:33:00</td>\n",
       "      <td>0</td>\n",
       "      <td>1</td>\n",
       "    </tr>\n",
       "    <tr>\n",
       "      <th>3968</th>\n",
       "      <td>18285.0</td>\n",
       "      <td>427.00</td>\n",
       "      <td>427.00</td>\n",
       "      <td>427.00</td>\n",
       "      <td>427.000000</td>\n",
       "      <td>427.000</td>\n",
       "      <td>1</td>\n",
       "      <td>2010-02-17 10:24:00</td>\n",
       "      <td>2010-02-17 10:24:00</td>\n",
       "      <td>0</td>\n",
       "      <td>1</td>\n",
       "    </tr>\n",
       "    <tr>\n",
       "      <th>3969</th>\n",
       "      <td>18286.0</td>\n",
       "      <td>462.95</td>\n",
       "      <td>833.48</td>\n",
       "      <td>1296.43</td>\n",
       "      <td>648.215000</td>\n",
       "      <td>648.215</td>\n",
       "      <td>2</td>\n",
       "      <td>2009-12-16 10:45:00</td>\n",
       "      <td>2010-08-20 11:57:00</td>\n",
       "      <td>247</td>\n",
       "      <td>2</td>\n",
       "    </tr>\n",
       "    <tr>\n",
       "      <th>3970</th>\n",
       "      <td>18287.0</td>\n",
       "      <td>30.60</td>\n",
       "      <td>1071.61</td>\n",
       "      <td>2345.71</td>\n",
       "      <td>586.427500</td>\n",
       "      <td>621.750</td>\n",
       "      <td>4</td>\n",
       "      <td>2010-05-17 11:55:00</td>\n",
       "      <td>2010-11-22 11:51:00</td>\n",
       "      <td>188</td>\n",
       "      <td>4</td>\n",
       "    </tr>\n",
       "  </tbody>\n",
       "</table>\n",
       "<p>3971 rows × 11 columns</p>\n",
       "</div>"
      ],
      "text/plain": [
       "      Customer ID  Sales_min  Sales_max  Sales_sum   Sales_avg  Sales_median  \\\n",
       "0         12346.0       1.00     142.31     372.86   33.896364        22.500   \n",
       "1         12608.0     415.79     415.79     415.79  415.790000       415.790   \n",
       "2         12745.0     266.93     456.92     723.85  361.925000       361.925   \n",
       "3         12746.0     254.55     254.55     254.55  254.550000       254.550   \n",
       "4         12747.0      89.32     715.10    5080.53  317.533125       315.290   \n",
       "...           ...        ...        ...        ...         ...           ...   \n",
       "3966      18283.0      32.20     163.15     641.77  106.961667       105.035   \n",
       "3967      18284.0     461.68     461.68     461.68  461.680000       461.680   \n",
       "3968      18285.0     427.00     427.00     427.00  427.000000       427.000   \n",
       "3969      18286.0     462.95     833.48    1296.43  648.215000       648.215   \n",
       "3970      18287.0      30.60    1071.61    2345.71  586.427500       621.750   \n",
       "\n",
       "      Sales_count     InvoiceDate_min     InvoiceDate_max  \\\n",
       "0              11 2009-12-14 08:34:00 2010-06-28 13:53:00   \n",
       "1               1 2010-10-31 10:49:00 2010-10-31 10:49:00   \n",
       "2               2 2010-05-14 16:50:00 2010-08-10 10:14:00   \n",
       "3               1 2010-06-17 10:41:00 2010-06-17 10:41:00   \n",
       "4              16 2009-12-07 13:23:00 2010-12-05 15:38:00   \n",
       "...           ...                 ...                 ...   \n",
       "3966            6 2010-02-19 17:16:00 2010-11-22 15:30:00   \n",
       "3967            1 2010-10-04 11:33:00 2010-10-04 11:33:00   \n",
       "3968            1 2010-02-17 10:24:00 2010-02-17 10:24:00   \n",
       "3969            2 2009-12-16 10:45:00 2010-08-20 11:57:00   \n",
       "3970            4 2010-05-17 11:55:00 2010-11-22 11:51:00   \n",
       "\n",
       "      InvoiceDate_purchase_duration  InvoiceDate_purchase_frequency  \n",
       "0                               196                              11  \n",
       "1                                 0                               1  \n",
       "2                                87                               2  \n",
       "3                                 0                               1  \n",
       "4                               363                              16  \n",
       "...                             ...                             ...  \n",
       "3966                            275                               6  \n",
       "3967                              0                               1  \n",
       "3968                              0                               1  \n",
       "3969                            247                               2  \n",
       "3970                            188                               4  \n",
       "\n",
       "[3971 rows x 11 columns]"
      ]
     },
     "execution_count": 332,
     "metadata": {},
     "output_type": "execute_result"
    }
   ],
   "source": [
    "summary_df"
   ]
  },
  {
   "cell_type": "code",
   "execution_count": 333,
   "id": "7fbe07a2-c657-416b-a659-9ad7f3a980ed",
   "metadata": {
    "tags": []
   },
   "outputs": [],
   "source": [
    "summary_only_RF_df=summary_df[['InvoiceDate_purchase_duration','InvoiceDate_purchase_frequency']]"
   ]
  },
  {
   "cell_type": "code",
   "execution_count": 334,
   "id": "80037a65-c39b-47bd-88f2-f72dbc380340",
   "metadata": {
    "tags": []
   },
   "outputs": [
    {
     "data": {
      "text/html": [
       "<div>\n",
       "<style scoped>\n",
       "    .dataframe tbody tr th:only-of-type {\n",
       "        vertical-align: middle;\n",
       "    }\n",
       "\n",
       "    .dataframe tbody tr th {\n",
       "        vertical-align: top;\n",
       "    }\n",
       "\n",
       "    .dataframe thead th {\n",
       "        text-align: right;\n",
       "    }\n",
       "</style>\n",
       "<table border=\"1\" class=\"dataframe\">\n",
       "  <thead>\n",
       "    <tr style=\"text-align: right;\">\n",
       "      <th></th>\n",
       "      <th>InvoiceDate_purchase_duration</th>\n",
       "      <th>InvoiceDate_purchase_frequency</th>\n",
       "    </tr>\n",
       "  </thead>\n",
       "  <tbody>\n",
       "    <tr>\n",
       "      <th>0</th>\n",
       "      <td>196</td>\n",
       "      <td>11</td>\n",
       "    </tr>\n",
       "    <tr>\n",
       "      <th>1</th>\n",
       "      <td>0</td>\n",
       "      <td>1</td>\n",
       "    </tr>\n",
       "  </tbody>\n",
       "</table>\n",
       "</div>"
      ],
      "text/plain": [
       "   InvoiceDate_purchase_duration  InvoiceDate_purchase_frequency\n",
       "0                            196                              11\n",
       "1                              0                               1"
      ]
     },
     "execution_count": 334,
     "metadata": {},
     "output_type": "execute_result"
    }
   ],
   "source": [
    "summary_only_RF_df.head(2)"
   ]
  },
  {
   "cell_type": "code",
   "execution_count": 335,
   "id": "cd248faa-59cc-4dfb-aa35-2df24c84c599",
   "metadata": {
    "tags": []
   },
   "outputs": [
    {
     "data": {
      "text/plain": [
       "(3971, 2)"
      ]
     },
     "execution_count": 335,
     "metadata": {},
     "output_type": "execute_result"
    }
   ],
   "source": [
    "summary_only_RF_df.shape"
   ]
  },
  {
   "cell_type": "code",
   "execution_count": 336,
   "id": "8310f84e-f2d3-4cf7-9d61-9a0848685a9d",
   "metadata": {
    "tags": []
   },
   "outputs": [],
   "source": [
    "#summary_only_RF_df.to_csv('summary_only_RF_df.csv')"
   ]
  },
  {
   "cell_type": "code",
   "execution_count": 337,
   "id": "16921a2c-bb5c-4270-903d-b3c50774f64f",
   "metadata": {},
   "outputs": [
    {
     "data": {
      "text/plain": [
       "(3971, 11)"
      ]
     },
     "execution_count": 337,
     "metadata": {},
     "output_type": "execute_result"
    }
   ],
   "source": [
    "summary_df.shape\n"
   ]
  },
  {
   "cell_type": "code",
   "execution_count": 338,
   "id": "c4b2a486-03b9-4364-a259-898b14058d36",
   "metadata": {},
   "outputs": [
    {
     "data": {
      "text/plain": [
       "Sales_count\n",
       "1     1306\n",
       "2      733\n",
       "3      477\n",
       "4      351\n",
       "5      220\n",
       "6      174\n",
       "7      149\n",
       "8      106\n",
       "9       77\n",
       "10      66\n",
       "11      47\n",
       "12      40\n",
       "13      34\n",
       "14      26\n",
       "15      18\n",
       "16      12\n",
       "17      15\n",
       "18      19\n",
       "19      11\n",
       "20       6\n",
       "Name: Sales_avg, dtype: int64"
      ]
     },
     "execution_count": 338,
     "metadata": {},
     "output_type": "execute_result"
    }
   ],
   "source": [
    "summary_df.groupby('Sales_count').count()['Sales_avg'][:20]"
   ]
  },
  {
   "cell_type": "code",
   "execution_count": 339,
   "id": "f73747b9-2f02-4fe8-9077-16ece2ee14ba",
   "metadata": {},
   "outputs": [
    {
     "data": {
      "text/plain": [
       "<Axes: xlabel='Sales_count'>"
      ]
     },
     "execution_count": 339,
     "metadata": {},
     "output_type": "execute_result"
    },
    {
     "data": {
      "image/png": "[encoded data removed]",
      "text/plain": [
       "<Figure size 640x480 with 1 Axes>"
      ]
     },
     "metadata": {},
     "output_type": "display_data"
    }
   ],
   "source": [
    "summary_df.groupby('Sales_count').count()['Sales_avg'].plot(kind='bar')"
   ]
  },
  {
   "cell_type": "code",
   "execution_count": 340,
   "id": "9289cabb-5f4f-4894-b05d-b28e907047c5",
   "metadata": {},
   "outputs": [
    {
     "data": {
      "text/html": [
       "<div>\n",
       "<style scoped>\n",
       "    .dataframe tbody tr th:only-of-type {\n",
       "        vertical-align: middle;\n",
       "    }\n",
       "\n",
       "    .dataframe tbody tr th {\n",
       "        vertical-align: top;\n",
       "    }\n",
       "\n",
       "    .dataframe thead th {\n",
       "        text-align: right;\n",
       "    }\n",
       "</style>\n",
       "<table border=\"1\" class=\"dataframe\">\n",
       "  <thead>\n",
       "    <tr style=\"text-align: right;\">\n",
       "      <th></th>\n",
       "      <th></th>\n",
       "      <th>Sales</th>\n",
       "      <th>InvoiceDate</th>\n",
       "    </tr>\n",
       "    <tr>\n",
       "      <th>Customer ID</th>\n",
       "      <th>Invoice</th>\n",
       "      <th></th>\n",
       "      <th></th>\n",
       "    </tr>\n",
       "  </thead>\n",
       "  <tbody>\n",
       "    <tr>\n",
       "      <th rowspan=\"10\" valign=\"top\">12346.0</th>\n",
       "      <th>491725</th>\n",
       "      <td>45.00</td>\n",
       "      <td>2009-12-14 08:34:00</td>\n",
       "    </tr>\n",
       "    <tr>\n",
       "      <th>491742</th>\n",
       "      <td>22.50</td>\n",
       "      <td>2009-12-14 11:00:00</td>\n",
       "    </tr>\n",
       "    <tr>\n",
       "      <th>491744</th>\n",
       "      <td>22.50</td>\n",
       "      <td>2009-12-14 11:02:00</td>\n",
       "    </tr>\n",
       "    <tr>\n",
       "      <th>492718</th>\n",
       "      <td>22.50</td>\n",
       "      <td>2009-12-18 10:47:00</td>\n",
       "    </tr>\n",
       "    <tr>\n",
       "      <th>492722</th>\n",
       "      <td>1.00</td>\n",
       "      <td>2009-12-18 10:55:00</td>\n",
       "    </tr>\n",
       "    <tr>\n",
       "      <th>493410</th>\n",
       "      <td>22.50</td>\n",
       "      <td>2010-01-04 09:24:00</td>\n",
       "    </tr>\n",
       "    <tr>\n",
       "      <th>493412</th>\n",
       "      <td>22.50</td>\n",
       "      <td>2010-01-04 09:53:00</td>\n",
       "    </tr>\n",
       "    <tr>\n",
       "      <th>494450</th>\n",
       "      <td>22.50</td>\n",
       "      <td>2010-01-14 13:50:00</td>\n",
       "    </tr>\n",
       "    <tr>\n",
       "      <th>495295</th>\n",
       "      <td>22.50</td>\n",
       "      <td>2010-01-22 13:30:00</td>\n",
       "    </tr>\n",
       "    <tr>\n",
       "      <th>499763</th>\n",
       "      <td>27.05</td>\n",
       "      <td>2010-03-02 13:08:00</td>\n",
       "    </tr>\n",
       "  </tbody>\n",
       "</table>\n",
       "</div>"
      ],
      "text/plain": [
       "                     Sales         InvoiceDate\n",
       "Customer ID Invoice                           \n",
       "12346.0     491725   45.00 2009-12-14 08:34:00\n",
       "            491742   22.50 2009-12-14 11:00:00\n",
       "            491744   22.50 2009-12-14 11:02:00\n",
       "            492718   22.50 2009-12-18 10:47:00\n",
       "            492722    1.00 2009-12-18 10:55:00\n",
       "            493410   22.50 2010-01-04 09:24:00\n",
       "            493412   22.50 2010-01-04 09:53:00\n",
       "            494450   22.50 2010-01-14 13:50:00\n",
       "            495295   22.50 2010-01-22 13:30:00\n",
       "            499763   27.05 2010-03-02 13:08:00"
      ]
     },
     "execution_count": 340,
     "metadata": {},
     "output_type": "execute_result"
    }
   ],
   "source": [
    "orders_df.head(10)"
   ]
  },
  {
   "cell_type": "code",
   "execution_count": 341,
   "id": "63e4b958-c838-48f4-a6fa-155b9c3cbef4",
   "metadata": {},
   "outputs": [],
   "source": [
    "data_df = orders_df.groupby(['Customer ID', pd.Grouper(key='InvoiceDate', freq='3M')]).agg({'Sales': [sum, groupby_mean, groupby_count]})"
   ]
  },
  {
   "cell_type": "code",
   "execution_count": 342,
   "id": "c316e771-3101-411f-9ede-cf80838277c8",
   "metadata": {},
   "outputs": [
    {
     "data": {
      "text/html": [
       "<div>\n",
       "<style scoped>\n",
       "    .dataframe tbody tr th:only-of-type {\n",
       "        vertical-align: middle;\n",
       "    }\n",
       "\n",
       "    .dataframe tbody tr th {\n",
       "        vertical-align: top;\n",
       "    }\n",
       "\n",
       "    .dataframe thead tr th {\n",
       "        text-align: left;\n",
       "    }\n",
       "\n",
       "    .dataframe thead tr:last-of-type th {\n",
       "        text-align: right;\n",
       "    }\n",
       "</style>\n",
       "<table border=\"1\" class=\"dataframe\">\n",
       "  <thead>\n",
       "    <tr>\n",
       "      <th></th>\n",
       "      <th></th>\n",
       "      <th colspan=\"3\" halign=\"left\">Sales</th>\n",
       "    </tr>\n",
       "    <tr>\n",
       "      <th></th>\n",
       "      <th></th>\n",
       "      <th>sum</th>\n",
       "      <th>avg</th>\n",
       "      <th>count</th>\n",
       "    </tr>\n",
       "    <tr>\n",
       "      <th>Customer ID</th>\n",
       "      <th>InvoiceDate</th>\n",
       "      <th></th>\n",
       "      <th></th>\n",
       "      <th></th>\n",
       "    </tr>\n",
       "  </thead>\n",
       "  <tbody>\n",
       "    <tr>\n",
       "      <th>12346.0</th>\n",
       "      <th>2009-12-31</th>\n",
       "      <td>113.5</td>\n",
       "      <td>22.7</td>\n",
       "      <td>5</td>\n",
       "    </tr>\n",
       "  </tbody>\n",
       "</table>\n",
       "</div>"
      ],
      "text/plain": [
       "                         Sales            \n",
       "                           sum   avg count\n",
       "Customer ID InvoiceDate                   \n",
       "12346.0     2009-12-31   113.5  22.7     5"
      ]
     },
     "execution_count": 342,
     "metadata": {},
     "output_type": "execute_result"
    }
   ],
   "source": [
    "data_df.head(1)"
   ]
  },
  {
   "cell_type": "code",
   "execution_count": 343,
   "id": "42747e73-9854-4d55-a9a7-bc6096e07742",
   "metadata": {
    "tags": []
   },
   "outputs": [
    {
     "data": {
      "text/plain": [
       "Sales  sum      0\n",
       "       avg      0\n",
       "       count    0\n",
       "dtype: int64"
      ]
     },
     "execution_count": 343,
     "metadata": {},
     "output_type": "execute_result"
    }
   ],
   "source": [
    "data_df.isna().sum()"
   ]
  },
  {
   "cell_type": "code",
   "execution_count": 344,
   "id": "02be6f5d-7be6-46b9-bd0f-68050f13d27a",
   "metadata": {
    "tags": []
   },
   "outputs": [
    {
     "data": {
      "text/plain": [
       "(8751, 3)"
      ]
     },
     "execution_count": 344,
     "metadata": {},
     "output_type": "execute_result"
    }
   ],
   "source": [
    "data_df.shape"
   ]
  },
  {
   "cell_type": "code",
   "execution_count": null,
   "id": "f699d8df-496b-484f-bd74-54803fc00672",
   "metadata": {},
   "outputs": [],
   "source": []
  },
  {
   "cell_type": "code",
   "execution_count": null,
   "id": "017aeb11-8c41-47ed-a26a-b49092ebb4eb",
   "metadata": {},
   "outputs": [],
   "source": []
  },
  {
   "cell_type": "code",
   "execution_count": 345,
   "id": "229ee281-b5f3-445e-b69f-7ae26cdb1a03",
   "metadata": {},
   "outputs": [],
   "source": [
    "data_df.columns = ['sales_sum', 'sales_avg', 'sales_count']\n"
   ]
  },
  {
   "cell_type": "code",
   "execution_count": 346,
   "id": "32d24f19-bc42-4959-84f7-318bd9ee6ee1",
   "metadata": {},
   "outputs": [
    {
     "data": {
      "text/html": [
       "<div>\n",
       "<style scoped>\n",
       "    .dataframe tbody tr th:only-of-type {\n",
       "        vertical-align: middle;\n",
       "    }\n",
       "\n",
       "    .dataframe tbody tr th {\n",
       "        vertical-align: top;\n",
       "    }\n",
       "\n",
       "    .dataframe thead th {\n",
       "        text-align: right;\n",
       "    }\n",
       "</style>\n",
       "<table border=\"1\" class=\"dataframe\">\n",
       "  <thead>\n",
       "    <tr style=\"text-align: right;\">\n",
       "      <th></th>\n",
       "      <th>Customer ID</th>\n",
       "      <th>InvoiceDate</th>\n",
       "      <th>sales_sum</th>\n",
       "      <th>sales_avg</th>\n",
       "      <th>sales_count</th>\n",
       "    </tr>\n",
       "  </thead>\n",
       "  <tbody>\n",
       "    <tr>\n",
       "      <th>0</th>\n",
       "      <td>12346.0</td>\n",
       "      <td>2009-12-31</td>\n",
       "      <td>113.5</td>\n",
       "      <td>22.7</td>\n",
       "      <td>5</td>\n",
       "    </tr>\n",
       "  </tbody>\n",
       "</table>\n",
       "</div>"
      ],
      "text/plain": [
       "   Customer ID InvoiceDate  sales_sum  sales_avg  sales_count\n",
       "0      12346.0  2009-12-31      113.5       22.7            5"
      ]
     },
     "execution_count": 346,
     "metadata": {},
     "output_type": "execute_result"
    }
   ],
   "source": [
    "data_df = data_df.reset_index()\n",
    "\n",
    "data_df.head(1)"
   ]
  },
  {
   "cell_type": "code",
   "execution_count": 347,
   "id": "35b41c23-7126-45bf-a800-1c3d0666e3e9",
   "metadata": {},
   "outputs": [
    {
     "data": {
      "text/html": [
       "<div>\n",
       "<style scoped>\n",
       "    .dataframe tbody tr th:only-of-type {\n",
       "        vertical-align: middle;\n",
       "    }\n",
       "\n",
       "    .dataframe tbody tr th {\n",
       "        vertical-align: top;\n",
       "    }\n",
       "\n",
       "    .dataframe thead th {\n",
       "        text-align: right;\n",
       "    }\n",
       "</style>\n",
       "<table border=\"1\" class=\"dataframe\">\n",
       "  <thead>\n",
       "    <tr style=\"text-align: right;\">\n",
       "      <th></th>\n",
       "      <th>Customer ID</th>\n",
       "      <th>InvoiceDate</th>\n",
       "      <th>sales_sum</th>\n",
       "      <th>sales_avg</th>\n",
       "      <th>sales_count</th>\n",
       "    </tr>\n",
       "  </thead>\n",
       "  <tbody>\n",
       "    <tr>\n",
       "      <th>0</th>\n",
       "      <td>12346.0</td>\n",
       "      <td>2009-12-31</td>\n",
       "      <td>113.50</td>\n",
       "      <td>22.70</td>\n",
       "      <td>5</td>\n",
       "    </tr>\n",
       "    <tr>\n",
       "      <th>1</th>\n",
       "      <td>12346.0</td>\n",
       "      <td>2010-03-31</td>\n",
       "      <td>117.05</td>\n",
       "      <td>23.41</td>\n",
       "      <td>5</td>\n",
       "    </tr>\n",
       "    <tr>\n",
       "      <th>2</th>\n",
       "      <td>12346.0</td>\n",
       "      <td>2010-06-30</td>\n",
       "      <td>142.31</td>\n",
       "      <td>142.31</td>\n",
       "      <td>1</td>\n",
       "    </tr>\n",
       "    <tr>\n",
       "      <th>3</th>\n",
       "      <td>12608.0</td>\n",
       "      <td>2010-12-31</td>\n",
       "      <td>415.79</td>\n",
       "      <td>415.79</td>\n",
       "      <td>1</td>\n",
       "    </tr>\n",
       "    <tr>\n",
       "      <th>4</th>\n",
       "      <td>12745.0</td>\n",
       "      <td>2010-06-30</td>\n",
       "      <td>456.92</td>\n",
       "      <td>456.92</td>\n",
       "      <td>1</td>\n",
       "    </tr>\n",
       "    <tr>\n",
       "      <th>...</th>\n",
       "      <td>...</td>\n",
       "      <td>...</td>\n",
       "      <td>...</td>\n",
       "      <td>...</td>\n",
       "      <td>...</td>\n",
       "    </tr>\n",
       "    <tr>\n",
       "      <th>8746</th>\n",
       "      <td>18286.0</td>\n",
       "      <td>2009-12-31</td>\n",
       "      <td>462.95</td>\n",
       "      <td>462.95</td>\n",
       "      <td>1</td>\n",
       "    </tr>\n",
       "    <tr>\n",
       "      <th>8747</th>\n",
       "      <td>18286.0</td>\n",
       "      <td>2010-09-30</td>\n",
       "      <td>833.48</td>\n",
       "      <td>833.48</td>\n",
       "      <td>1</td>\n",
       "    </tr>\n",
       "    <tr>\n",
       "      <th>8748</th>\n",
       "      <td>18287.0</td>\n",
       "      <td>2010-06-30</td>\n",
       "      <td>1071.61</td>\n",
       "      <td>1071.61</td>\n",
       "      <td>1</td>\n",
       "    </tr>\n",
       "    <tr>\n",
       "      <th>8749</th>\n",
       "      <td>18287.0</td>\n",
       "      <td>2010-09-30</td>\n",
       "      <td>892.60</td>\n",
       "      <td>446.30</td>\n",
       "      <td>2</td>\n",
       "    </tr>\n",
       "    <tr>\n",
       "      <th>8750</th>\n",
       "      <td>18287.0</td>\n",
       "      <td>2010-12-31</td>\n",
       "      <td>381.50</td>\n",
       "      <td>381.50</td>\n",
       "      <td>1</td>\n",
       "    </tr>\n",
       "  </tbody>\n",
       "</table>\n",
       "<p>8749 rows × 5 columns</p>\n",
       "</div>"
      ],
      "text/plain": [
       "      Customer ID InvoiceDate  sales_sum  sales_avg  sales_count\n",
       "0         12346.0  2009-12-31     113.50      22.70            5\n",
       "1         12346.0  2010-03-31     117.05      23.41            5\n",
       "2         12346.0  2010-06-30     142.31     142.31            1\n",
       "3         12608.0  2010-12-31     415.79     415.79            1\n",
       "4         12745.0  2010-06-30     456.92     456.92            1\n",
       "...           ...         ...        ...        ...          ...\n",
       "8746      18286.0  2009-12-31     462.95     462.95            1\n",
       "8747      18286.0  2010-09-30     833.48     833.48            1\n",
       "8748      18287.0  2010-06-30    1071.61    1071.61            1\n",
       "8749      18287.0  2010-09-30     892.60     446.30            2\n",
       "8750      18287.0  2010-12-31     381.50     381.50            1\n",
       "\n",
       "[8749 rows x 5 columns]"
      ]
     },
     "execution_count": 347,
     "metadata": {},
     "output_type": "execute_result"
    }
   ],
   "source": [
    "data_df.loc [data_df['sales_sum'] > 0]"
   ]
  },
  {
   "cell_type": "code",
   "execution_count": 348,
   "id": "f6b9fb96-66ce-444a-adce-5f8249e84a72",
   "metadata": {},
   "outputs": [
    {
     "data": {
      "text/plain": [
       "'2010-12-31'"
      ]
     },
     "execution_count": 348,
     "metadata": {},
     "output_type": "execute_result"
    }
   ],
   "source": [
    "str( sorted(data_df['InvoiceDate'].unique(), reverse=True)[0] )[:10]"
   ]
  },
  {
   "cell_type": "code",
   "execution_count": 349,
   "id": "767276db-3258-4541-adb4-0151a3272196",
   "metadata": {},
   "outputs": [
    {
     "data": {
      "text/plain": [
       "array(['M_5', 'M_4', 'M_3', 'M_1', 'M_2'], dtype=object)"
      ]
     },
     "execution_count": 349,
     "metadata": {},
     "output_type": "execute_result"
    }
   ],
   "source": [
    "# Generate M\n",
    "date_month_map = {str(x)[:10]: 'M_%s' % (i+1) for i, x in enumerate(sorted(data_df.reset_index()['InvoiceDate'].unique(), reverse=True))}\n",
    "\n",
    "# Create our M Column\n",
    "data_df['M'] = data_df['InvoiceDate'].apply(lambda x: date_month_map[str(x)[:10]])\n",
    "data_df.head()\n",
    "\n",
    "data_df['M'].unique()"
   ]
  },
  {
   "cell_type": "code",
   "execution_count": 2,
   "id": "772b9641-9068-4571-b4ad-943e7d41aa97",
   "metadata": {
    "tags": []
   },
   "outputs": [],
   "source": [
    "#{str(x)[:10]: 'M_%s' % (i+1) for i, x in enumerate(sorted(data_df.reset_index()['InvoiceDate'].unique(), reverse=True))}"
   ]
  },
  {
   "cell_type": "code",
   "execution_count": 351,
   "id": "ee6431bb-429b-4ed7-b49a-00cb036c7bbf",
   "metadata": {
    "tags": []
   },
   "outputs": [],
   "source": [
    "#nt={str(x)[:10]: 'M_%s' % (i+1) for i, x in enumerate(sorted(data_df.reset_index()['InvoiceDate'].unique(), reverse=True))}\n",
    "\n",
    "#data_df['InvoiceDate'].apply(lambda x: nt[str(x)[:10]])"
   ]
  },
  {
   "cell_type": "markdown",
   "id": "80014406-6274-4d3b-97c8-79733c602fbc",
   "metadata": {},
   "source": [
    "## M column stands/represents the 3-months intervals."
   ]
  },
  {
   "cell_type": "code",
   "execution_count": 352,
   "id": "bb3f94c6-9f4a-4cd0-a395-d155bf2ba92c",
   "metadata": {},
   "outputs": [
    {
     "data": {
      "text/html": [
       "<div>\n",
       "<style scoped>\n",
       "    .dataframe tbody tr th:only-of-type {\n",
       "        vertical-align: middle;\n",
       "    }\n",
       "\n",
       "    .dataframe tbody tr th {\n",
       "        vertical-align: top;\n",
       "    }\n",
       "\n",
       "    .dataframe thead th {\n",
       "        text-align: right;\n",
       "    }\n",
       "</style>\n",
       "<table border=\"1\" class=\"dataframe\">\n",
       "  <thead>\n",
       "    <tr style=\"text-align: right;\">\n",
       "      <th></th>\n",
       "      <th>Customer ID</th>\n",
       "      <th>InvoiceDate</th>\n",
       "      <th>sales_sum</th>\n",
       "      <th>sales_avg</th>\n",
       "      <th>sales_count</th>\n",
       "      <th>M</th>\n",
       "    </tr>\n",
       "  </thead>\n",
       "  <tbody>\n",
       "    <tr>\n",
       "      <th>0</th>\n",
       "      <td>12346.0</td>\n",
       "      <td>2009-12-31</td>\n",
       "      <td>113.50</td>\n",
       "      <td>22.70</td>\n",
       "      <td>5</td>\n",
       "      <td>M_5</td>\n",
       "    </tr>\n",
       "    <tr>\n",
       "      <th>1</th>\n",
       "      <td>12346.0</td>\n",
       "      <td>2010-03-31</td>\n",
       "      <td>117.05</td>\n",
       "      <td>23.41</td>\n",
       "      <td>5</td>\n",
       "      <td>M_4</td>\n",
       "    </tr>\n",
       "  </tbody>\n",
       "</table>\n",
       "</div>"
      ],
      "text/plain": [
       "   Customer ID InvoiceDate  sales_sum  sales_avg  sales_count    M\n",
       "0      12346.0  2009-12-31     113.50      22.70            5  M_5\n",
       "1      12346.0  2010-03-31     117.05      23.41            5  M_4"
      ]
     },
     "execution_count": 352,
     "metadata": {},
     "output_type": "execute_result"
    }
   ],
   "source": [
    "data_df.head(2)"
   ]
  },
  {
   "cell_type": "code",
   "execution_count": 353,
   "id": "692ed4bd-f295-42c6-94a2-ce8419e0979a",
   "metadata": {
    "tags": []
   },
   "outputs": [
    {
     "data": {
      "text/plain": [
       "(8751, 6)"
      ]
     },
     "execution_count": 353,
     "metadata": {},
     "output_type": "execute_result"
    }
   ],
   "source": [
    "data_df.shape"
   ]
  },
  {
   "cell_type": "code",
   "execution_count": 354,
   "id": "9d6337f7-e1f6-4488-b516-693ebb093f08",
   "metadata": {
    "tags": []
   },
   "outputs": [
    {
     "data": {
      "text/plain": [
       "3971"
      ]
     },
     "execution_count": 354,
     "metadata": {},
     "output_type": "execute_result"
    }
   ],
   "source": [
    "data_df['Customer ID'].nunique()"
   ]
  },
  {
   "cell_type": "markdown",
   "id": "1505d9f7-a1ef-4097-8281-28b99d4ba472",
   "metadata": {},
   "source": [
    "## Predicting the 3 month Customer Lifetime Value"
   ]
  },
  {
   "cell_type": "markdown",
   "id": "de6e61cc-e633-4b18-a96d-884342da13d4",
   "metadata": {},
   "source": [
    "## Create summary statistics in 3 month intervals for customer sales"
   ]
  },
  {
   "cell_type": "markdown",
   "id": "03779426-89cc-4db8-b12e-50156c1c5cc1",
   "metadata": {},
   "source": [
    "## RFM\n",
    "## By definition, RFM represents:\n",
    "\n",
    "### R(ecency): how recently did customer purchase?\n",
    "\n",
    "### F(rquency): how often do customer purchase?\n",
    "\n",
    "### M(onetary Value): how much do they spend (each time on average)?"
   ]
  },
  {
   "cell_type": "markdown",
   "id": "dbe61813-6e45-446e-bcb9-ffbcbbb27de3",
   "metadata": {},
   "source": [
    "### Creating our features dataframe\n"
   ]
  },
  {
   "cell_type": "code",
   "execution_count": 355,
   "id": "c1c02fb9-1d14-489e-88cd-67feb81ae932",
   "metadata": {},
   "outputs": [],
   "source": [
    "\n",
    "#features_df = pd.pivot_table(data_df.loc[data_df['M'] != 'M_1'], values=['sales_sum', 'sales_avg', 'sales_count'], columns='M', index='Customer ID')\n",
    "\n",
    "#features_df.columns = ['_'.join(col) for col in features_df.columns]\n",
    "\n",
    "#features_df.head()"
   ]
  },
  {
   "cell_type": "code",
   "execution_count": 356,
   "id": "176c391e-b0e6-48e8-be20-8f50a93727e1",
   "metadata": {
    "tags": []
   },
   "outputs": [],
   "source": [
    "# del features_df"
   ]
  },
  {
   "cell_type": "code",
   "execution_count": 357,
   "id": "3a184a0a-2c4b-4656-b695-1be28ddee424",
   "metadata": {
    "tags": []
   },
   "outputs": [
    {
     "data": {
      "text/html": [
       "<div>\n",
       "<style scoped>\n",
       "    .dataframe tbody tr th:only-of-type {\n",
       "        vertical-align: middle;\n",
       "    }\n",
       "\n",
       "    .dataframe tbody tr th {\n",
       "        vertical-align: top;\n",
       "    }\n",
       "\n",
       "    .dataframe thead th {\n",
       "        text-align: right;\n",
       "    }\n",
       "</style>\n",
       "<table border=\"1\" class=\"dataframe\">\n",
       "  <thead>\n",
       "    <tr style=\"text-align: right;\">\n",
       "      <th></th>\n",
       "      <th>sales_avg_M_1</th>\n",
       "      <th>sales_avg_M_2</th>\n",
       "      <th>sales_avg_M_3</th>\n",
       "      <th>sales_avg_M_4</th>\n",
       "      <th>sales_avg_M_5</th>\n",
       "      <th>sales_count_M_1</th>\n",
       "      <th>sales_count_M_2</th>\n",
       "      <th>sales_count_M_3</th>\n",
       "      <th>sales_count_M_4</th>\n",
       "      <th>sales_count_M_5</th>\n",
       "      <th>sales_sum_M_1</th>\n",
       "      <th>sales_sum_M_2</th>\n",
       "      <th>sales_sum_M_3</th>\n",
       "      <th>sales_sum_M_4</th>\n",
       "      <th>sales_sum_M_5</th>\n",
       "    </tr>\n",
       "    <tr>\n",
       "      <th>Customer ID</th>\n",
       "      <th></th>\n",
       "      <th></th>\n",
       "      <th></th>\n",
       "      <th></th>\n",
       "      <th></th>\n",
       "      <th></th>\n",
       "      <th></th>\n",
       "      <th></th>\n",
       "      <th></th>\n",
       "      <th></th>\n",
       "      <th></th>\n",
       "      <th></th>\n",
       "      <th></th>\n",
       "      <th></th>\n",
       "      <th></th>\n",
       "    </tr>\n",
       "  </thead>\n",
       "  <tbody>\n",
       "    <tr>\n",
       "      <th>12346.0</th>\n",
       "      <td>NaN</td>\n",
       "      <td>NaN</td>\n",
       "      <td>142.310</td>\n",
       "      <td>23.410000</td>\n",
       "      <td>22.7</td>\n",
       "      <td>NaN</td>\n",
       "      <td>NaN</td>\n",
       "      <td>1.0</td>\n",
       "      <td>5.0</td>\n",
       "      <td>5.0</td>\n",
       "      <td>NaN</td>\n",
       "      <td>NaN</td>\n",
       "      <td>142.31</td>\n",
       "      <td>117.05</td>\n",
       "      <td>113.5</td>\n",
       "    </tr>\n",
       "    <tr>\n",
       "      <th>12608.0</th>\n",
       "      <td>415.790</td>\n",
       "      <td>NaN</td>\n",
       "      <td>NaN</td>\n",
       "      <td>NaN</td>\n",
       "      <td>NaN</td>\n",
       "      <td>1.0</td>\n",
       "      <td>NaN</td>\n",
       "      <td>NaN</td>\n",
       "      <td>NaN</td>\n",
       "      <td>NaN</td>\n",
       "      <td>415.79</td>\n",
       "      <td>NaN</td>\n",
       "      <td>NaN</td>\n",
       "      <td>NaN</td>\n",
       "      <td>NaN</td>\n",
       "    </tr>\n",
       "    <tr>\n",
       "      <th>12745.0</th>\n",
       "      <td>NaN</td>\n",
       "      <td>266.93</td>\n",
       "      <td>456.920</td>\n",
       "      <td>NaN</td>\n",
       "      <td>NaN</td>\n",
       "      <td>NaN</td>\n",
       "      <td>1.0</td>\n",
       "      <td>1.0</td>\n",
       "      <td>NaN</td>\n",
       "      <td>NaN</td>\n",
       "      <td>NaN</td>\n",
       "      <td>266.93</td>\n",
       "      <td>456.92</td>\n",
       "      <td>NaN</td>\n",
       "      <td>NaN</td>\n",
       "    </tr>\n",
       "    <tr>\n",
       "      <th>12746.0</th>\n",
       "      <td>NaN</td>\n",
       "      <td>NaN</td>\n",
       "      <td>254.550</td>\n",
       "      <td>NaN</td>\n",
       "      <td>NaN</td>\n",
       "      <td>NaN</td>\n",
       "      <td>NaN</td>\n",
       "      <td>1.0</td>\n",
       "      <td>NaN</td>\n",
       "      <td>NaN</td>\n",
       "      <td>NaN</td>\n",
       "      <td>NaN</td>\n",
       "      <td>254.55</td>\n",
       "      <td>NaN</td>\n",
       "      <td>NaN</td>\n",
       "    </tr>\n",
       "    <tr>\n",
       "      <th>12747.0</th>\n",
       "      <td>450.265</td>\n",
       "      <td>314.84</td>\n",
       "      <td>286.725</td>\n",
       "      <td>156.963333</td>\n",
       "      <td>344.0</td>\n",
       "      <td>4.0</td>\n",
       "      <td>2.0</td>\n",
       "      <td>4.0</td>\n",
       "      <td>3.0</td>\n",
       "      <td>3.0</td>\n",
       "      <td>1801.06</td>\n",
       "      <td>629.68</td>\n",
       "      <td>1146.90</td>\n",
       "      <td>470.89</td>\n",
       "      <td>1032.0</td>\n",
       "    </tr>\n",
       "  </tbody>\n",
       "</table>\n",
       "</div>"
      ],
      "text/plain": [
       "             sales_avg_M_1  sales_avg_M_2  sales_avg_M_3  sales_avg_M_4  \\\n",
       "Customer ID                                                               \n",
       "12346.0                NaN            NaN        142.310      23.410000   \n",
       "12608.0            415.790            NaN            NaN            NaN   \n",
       "12745.0                NaN         266.93        456.920            NaN   \n",
       "12746.0                NaN            NaN        254.550            NaN   \n",
       "12747.0            450.265         314.84        286.725     156.963333   \n",
       "\n",
       "             sales_avg_M_5  sales_count_M_1  sales_count_M_2  sales_count_M_3  \\\n",
       "Customer ID                                                                     \n",
       "12346.0               22.7              NaN              NaN              1.0   \n",
       "12608.0                NaN              1.0              NaN              NaN   \n",
       "12745.0                NaN              NaN              1.0              1.0   \n",
       "12746.0                NaN              NaN              NaN              1.0   \n",
       "12747.0              344.0              4.0              2.0              4.0   \n",
       "\n",
       "             sales_count_M_4  sales_count_M_5  sales_sum_M_1  sales_sum_M_2  \\\n",
       "Customer ID                                                                   \n",
       "12346.0                  5.0              5.0            NaN            NaN   \n",
       "12608.0                  NaN              NaN         415.79            NaN   \n",
       "12745.0                  NaN              NaN            NaN         266.93   \n",
       "12746.0                  NaN              NaN            NaN            NaN   \n",
       "12747.0                  3.0              3.0        1801.06         629.68   \n",
       "\n",
       "             sales_sum_M_3  sales_sum_M_4  sales_sum_M_5  \n",
       "Customer ID                                               \n",
       "12346.0             142.31         117.05          113.5  \n",
       "12608.0                NaN            NaN            NaN  \n",
       "12745.0             456.92            NaN            NaN  \n",
       "12746.0             254.55            NaN            NaN  \n",
       "12747.0            1146.90         470.89         1032.0  "
      ]
     },
     "execution_count": 357,
     "metadata": {},
     "output_type": "execute_result"
    }
   ],
   "source": [
    "features_df = pd.pivot_table(data_df, values=['sales_sum', 'sales_avg', 'sales_count'], columns='M', index='Customer ID')\n",
    "\n",
    "features_df.columns = ['_'.join(col) for col in features_df.columns]\n",
    "\n",
    "features_df.head()"
   ]
  },
  {
   "cell_type": "code",
   "execution_count": 358,
   "id": "4e86059d-98c4-43e4-8e2e-b73a898fcac8",
   "metadata": {
    "tags": []
   },
   "outputs": [],
   "source": [
    "#features_df_temp.shape"
   ]
  },
  {
   "cell_type": "code",
   "execution_count": 359,
   "id": "38de84e3-ce50-4419-bd3d-b4db3e8087d6",
   "metadata": {
    "tags": []
   },
   "outputs": [
    {
     "data": {
      "text/plain": [
       "(3971, 15)"
      ]
     },
     "execution_count": 359,
     "metadata": {},
     "output_type": "execute_result"
    }
   ],
   "source": [
    "features_df.shape"
   ]
  },
  {
   "cell_type": "code",
   "execution_count": 360,
   "id": "19330657-32ca-466a-91f2-c9b7dc9d3810",
   "metadata": {
    "tags": []
   },
   "outputs": [],
   "source": [
    "#features_df_temp.isna().sum()"
   ]
  },
  {
   "cell_type": "code",
   "execution_count": 361,
   "id": "f0aa9f26-c68d-41b0-95ad-6e439ce8d2ad",
   "metadata": {
    "tags": []
   },
   "outputs": [
    {
     "data": {
      "text/plain": [
       "sales_avg_M_1      1584\n",
       "sales_avg_M_2      2080\n",
       "sales_avg_M_3      2073\n",
       "sales_avg_M_4      2300\n",
       "sales_avg_M_5      3067\n",
       "sales_count_M_1    1584\n",
       "sales_count_M_2    2080\n",
       "sales_count_M_3    2073\n",
       "sales_count_M_4    2300\n",
       "sales_count_M_5    3067\n",
       "sales_sum_M_1      1584\n",
       "sales_sum_M_2      2080\n",
       "sales_sum_M_3      2073\n",
       "sales_sum_M_4      2300\n",
       "sales_sum_M_5      3067\n",
       "dtype: int64"
      ]
     },
     "execution_count": 361,
     "metadata": {},
     "output_type": "execute_result"
    }
   ],
   "source": [
    "features_df.isna().sum()"
   ]
  },
  {
   "cell_type": "code",
   "execution_count": 362,
   "id": "90f6517a-9ee1-4e96-a562-06c535bee381",
   "metadata": {
    "tags": []
   },
   "outputs": [],
   "source": [
    "#features_df_temp.fillna(0,inplace=True)"
   ]
  },
  {
   "cell_type": "code",
   "execution_count": 363,
   "id": "939bc878-ea5e-4bad-8861-9ae111fec8fd",
   "metadata": {
    "tags": []
   },
   "outputs": [],
   "source": [
    "features_df.fillna(0,inplace=True)"
   ]
  },
  {
   "cell_type": "code",
   "execution_count": 364,
   "id": "7cbc5640-6296-43e0-b4c5-ea8d59717434",
   "metadata": {
    "tags": []
   },
   "outputs": [],
   "source": [
    "#features_df_temp.isna().sum()"
   ]
  },
  {
   "cell_type": "code",
   "execution_count": 365,
   "id": "c7599b02-1d72-4148-97b6-4ea0f266e988",
   "metadata": {
    "tags": []
   },
   "outputs": [
    {
     "data": {
      "text/plain": [
       "sales_avg_M_1      0\n",
       "sales_avg_M_2      0\n",
       "sales_avg_M_3      0\n",
       "sales_avg_M_4      0\n",
       "sales_avg_M_5      0\n",
       "sales_count_M_1    0\n",
       "sales_count_M_2    0\n",
       "sales_count_M_3    0\n",
       "sales_count_M_4    0\n",
       "sales_count_M_5    0\n",
       "sales_sum_M_1      0\n",
       "sales_sum_M_2      0\n",
       "sales_sum_M_3      0\n",
       "sales_sum_M_4      0\n",
       "sales_sum_M_5      0\n",
       "dtype: int64"
      ]
     },
     "execution_count": 365,
     "metadata": {},
     "output_type": "execute_result"
    }
   ],
   "source": [
    "features_df.isna().sum()"
   ]
  },
  {
   "cell_type": "code",
   "execution_count": 366,
   "id": "53f3bbe1-92cf-4bee-af26-9a6811252675",
   "metadata": {
    "tags": []
   },
   "outputs": [],
   "source": [
    "#features_df_temp.shape"
   ]
  },
  {
   "cell_type": "code",
   "execution_count": 367,
   "id": "9edd7593-8ad3-487b-87cf-1b437471e01e",
   "metadata": {
    "tags": []
   },
   "outputs": [
    {
     "data": {
      "text/plain": [
       "(3971, 15)"
      ]
     },
     "execution_count": 367,
     "metadata": {},
     "output_type": "execute_result"
    }
   ],
   "source": [
    "features_df.shape"
   ]
  },
  {
   "cell_type": "code",
   "execution_count": 368,
   "id": "388416da-bedf-410e-975e-58e0cb3e9063",
   "metadata": {
    "tags": []
   },
   "outputs": [],
   "source": [
    "#features_df_temp"
   ]
  },
  {
   "cell_type": "code",
   "execution_count": 369,
   "id": "2325df30-0cc4-4a89-b683-d0afc8d9311b",
   "metadata": {
    "tags": []
   },
   "outputs": [
    {
     "data": {
      "text/html": [
       "<div>\n",
       "<style scoped>\n",
       "    .dataframe tbody tr th:only-of-type {\n",
       "        vertical-align: middle;\n",
       "    }\n",
       "\n",
       "    .dataframe tbody tr th {\n",
       "        vertical-align: top;\n",
       "    }\n",
       "\n",
       "    .dataframe thead th {\n",
       "        text-align: right;\n",
       "    }\n",
       "</style>\n",
       "<table border=\"1\" class=\"dataframe\">\n",
       "  <thead>\n",
       "    <tr style=\"text-align: right;\">\n",
       "      <th></th>\n",
       "      <th>sales_avg_M_1</th>\n",
       "      <th>sales_avg_M_2</th>\n",
       "      <th>sales_avg_M_3</th>\n",
       "      <th>sales_avg_M_4</th>\n",
       "      <th>sales_avg_M_5</th>\n",
       "      <th>sales_count_M_1</th>\n",
       "      <th>sales_count_M_2</th>\n",
       "      <th>sales_count_M_3</th>\n",
       "      <th>sales_count_M_4</th>\n",
       "      <th>sales_count_M_5</th>\n",
       "      <th>sales_sum_M_1</th>\n",
       "      <th>sales_sum_M_2</th>\n",
       "      <th>sales_sum_M_3</th>\n",
       "      <th>sales_sum_M_4</th>\n",
       "      <th>sales_sum_M_5</th>\n",
       "    </tr>\n",
       "    <tr>\n",
       "      <th>Customer ID</th>\n",
       "      <th></th>\n",
       "      <th></th>\n",
       "      <th></th>\n",
       "      <th></th>\n",
       "      <th></th>\n",
       "      <th></th>\n",
       "      <th></th>\n",
       "      <th></th>\n",
       "      <th></th>\n",
       "      <th></th>\n",
       "      <th></th>\n",
       "      <th></th>\n",
       "      <th></th>\n",
       "      <th></th>\n",
       "      <th></th>\n",
       "    </tr>\n",
       "  </thead>\n",
       "  <tbody>\n",
       "    <tr>\n",
       "      <th>12346.0</th>\n",
       "      <td>0.000</td>\n",
       "      <td>0.00</td>\n",
       "      <td>142.310</td>\n",
       "      <td>23.410000</td>\n",
       "      <td>22.70</td>\n",
       "      <td>0.0</td>\n",
       "      <td>0.0</td>\n",
       "      <td>1.0</td>\n",
       "      <td>5.0</td>\n",
       "      <td>5.0</td>\n",
       "      <td>0.00</td>\n",
       "      <td>0.00</td>\n",
       "      <td>142.31</td>\n",
       "      <td>117.05</td>\n",
       "      <td>113.50</td>\n",
       "    </tr>\n",
       "    <tr>\n",
       "      <th>12608.0</th>\n",
       "      <td>415.790</td>\n",
       "      <td>0.00</td>\n",
       "      <td>0.000</td>\n",
       "      <td>0.000000</td>\n",
       "      <td>0.00</td>\n",
       "      <td>1.0</td>\n",
       "      <td>0.0</td>\n",
       "      <td>0.0</td>\n",
       "      <td>0.0</td>\n",
       "      <td>0.0</td>\n",
       "      <td>415.79</td>\n",
       "      <td>0.00</td>\n",
       "      <td>0.00</td>\n",
       "      <td>0.00</td>\n",
       "      <td>0.00</td>\n",
       "    </tr>\n",
       "    <tr>\n",
       "      <th>12745.0</th>\n",
       "      <td>0.000</td>\n",
       "      <td>266.93</td>\n",
       "      <td>456.920</td>\n",
       "      <td>0.000000</td>\n",
       "      <td>0.00</td>\n",
       "      <td>0.0</td>\n",
       "      <td>1.0</td>\n",
       "      <td>1.0</td>\n",
       "      <td>0.0</td>\n",
       "      <td>0.0</td>\n",
       "      <td>0.00</td>\n",
       "      <td>266.93</td>\n",
       "      <td>456.92</td>\n",
       "      <td>0.00</td>\n",
       "      <td>0.00</td>\n",
       "    </tr>\n",
       "    <tr>\n",
       "      <th>12746.0</th>\n",
       "      <td>0.000</td>\n",
       "      <td>0.00</td>\n",
       "      <td>254.550</td>\n",
       "      <td>0.000000</td>\n",
       "      <td>0.00</td>\n",
       "      <td>0.0</td>\n",
       "      <td>0.0</td>\n",
       "      <td>1.0</td>\n",
       "      <td>0.0</td>\n",
       "      <td>0.0</td>\n",
       "      <td>0.00</td>\n",
       "      <td>0.00</td>\n",
       "      <td>254.55</td>\n",
       "      <td>0.00</td>\n",
       "      <td>0.00</td>\n",
       "    </tr>\n",
       "    <tr>\n",
       "      <th>12747.0</th>\n",
       "      <td>450.265</td>\n",
       "      <td>314.84</td>\n",
       "      <td>286.725</td>\n",
       "      <td>156.963333</td>\n",
       "      <td>344.00</td>\n",
       "      <td>4.0</td>\n",
       "      <td>2.0</td>\n",
       "      <td>4.0</td>\n",
       "      <td>3.0</td>\n",
       "      <td>3.0</td>\n",
       "      <td>1801.06</td>\n",
       "      <td>629.68</td>\n",
       "      <td>1146.90</td>\n",
       "      <td>470.89</td>\n",
       "      <td>1032.00</td>\n",
       "    </tr>\n",
       "    <tr>\n",
       "      <th>...</th>\n",
       "      <td>...</td>\n",
       "      <td>...</td>\n",
       "      <td>...</td>\n",
       "      <td>...</td>\n",
       "      <td>...</td>\n",
       "      <td>...</td>\n",
       "      <td>...</td>\n",
       "      <td>...</td>\n",
       "      <td>...</td>\n",
       "      <td>...</td>\n",
       "      <td>...</td>\n",
       "      <td>...</td>\n",
       "      <td>...</td>\n",
       "      <td>...</td>\n",
       "      <td>...</td>\n",
       "    </tr>\n",
       "    <tr>\n",
       "      <th>18283.0</th>\n",
       "      <td>97.675</td>\n",
       "      <td>92.00</td>\n",
       "      <td>0.000</td>\n",
       "      <td>118.140000</td>\n",
       "      <td>0.00</td>\n",
       "      <td>2.0</td>\n",
       "      <td>1.0</td>\n",
       "      <td>0.0</td>\n",
       "      <td>3.0</td>\n",
       "      <td>0.0</td>\n",
       "      <td>195.35</td>\n",
       "      <td>92.00</td>\n",
       "      <td>0.00</td>\n",
       "      <td>354.42</td>\n",
       "      <td>0.00</td>\n",
       "    </tr>\n",
       "    <tr>\n",
       "      <th>18284.0</th>\n",
       "      <td>461.680</td>\n",
       "      <td>0.00</td>\n",
       "      <td>0.000</td>\n",
       "      <td>0.000000</td>\n",
       "      <td>0.00</td>\n",
       "      <td>1.0</td>\n",
       "      <td>0.0</td>\n",
       "      <td>0.0</td>\n",
       "      <td>0.0</td>\n",
       "      <td>0.0</td>\n",
       "      <td>461.68</td>\n",
       "      <td>0.00</td>\n",
       "      <td>0.00</td>\n",
       "      <td>0.00</td>\n",
       "      <td>0.00</td>\n",
       "    </tr>\n",
       "    <tr>\n",
       "      <th>18285.0</th>\n",
       "      <td>0.000</td>\n",
       "      <td>0.00</td>\n",
       "      <td>0.000</td>\n",
       "      <td>427.000000</td>\n",
       "      <td>0.00</td>\n",
       "      <td>0.0</td>\n",
       "      <td>0.0</td>\n",
       "      <td>0.0</td>\n",
       "      <td>1.0</td>\n",
       "      <td>0.0</td>\n",
       "      <td>0.00</td>\n",
       "      <td>0.00</td>\n",
       "      <td>0.00</td>\n",
       "      <td>427.00</td>\n",
       "      <td>0.00</td>\n",
       "    </tr>\n",
       "    <tr>\n",
       "      <th>18286.0</th>\n",
       "      <td>0.000</td>\n",
       "      <td>833.48</td>\n",
       "      <td>0.000</td>\n",
       "      <td>0.000000</td>\n",
       "      <td>462.95</td>\n",
       "      <td>0.0</td>\n",
       "      <td>1.0</td>\n",
       "      <td>0.0</td>\n",
       "      <td>0.0</td>\n",
       "      <td>1.0</td>\n",
       "      <td>0.00</td>\n",
       "      <td>833.48</td>\n",
       "      <td>0.00</td>\n",
       "      <td>0.00</td>\n",
       "      <td>462.95</td>\n",
       "    </tr>\n",
       "    <tr>\n",
       "      <th>18287.0</th>\n",
       "      <td>381.500</td>\n",
       "      <td>446.30</td>\n",
       "      <td>1071.610</td>\n",
       "      <td>0.000000</td>\n",
       "      <td>0.00</td>\n",
       "      <td>1.0</td>\n",
       "      <td>2.0</td>\n",
       "      <td>1.0</td>\n",
       "      <td>0.0</td>\n",
       "      <td>0.0</td>\n",
       "      <td>381.50</td>\n",
       "      <td>892.60</td>\n",
       "      <td>1071.61</td>\n",
       "      <td>0.00</td>\n",
       "      <td>0.00</td>\n",
       "    </tr>\n",
       "  </tbody>\n",
       "</table>\n",
       "<p>3971 rows × 15 columns</p>\n",
       "</div>"
      ],
      "text/plain": [
       "             sales_avg_M_1  sales_avg_M_2  sales_avg_M_3  sales_avg_M_4  \\\n",
       "Customer ID                                                               \n",
       "12346.0              0.000           0.00        142.310      23.410000   \n",
       "12608.0            415.790           0.00          0.000       0.000000   \n",
       "12745.0              0.000         266.93        456.920       0.000000   \n",
       "12746.0              0.000           0.00        254.550       0.000000   \n",
       "12747.0            450.265         314.84        286.725     156.963333   \n",
       "...                    ...            ...            ...            ...   \n",
       "18283.0             97.675          92.00          0.000     118.140000   \n",
       "18284.0            461.680           0.00          0.000       0.000000   \n",
       "18285.0              0.000           0.00          0.000     427.000000   \n",
       "18286.0              0.000         833.48          0.000       0.000000   \n",
       "18287.0            381.500         446.30       1071.610       0.000000   \n",
       "\n",
       "             sales_avg_M_5  sales_count_M_1  sales_count_M_2  sales_count_M_3  \\\n",
       "Customer ID                                                                     \n",
       "12346.0              22.70              0.0              0.0              1.0   \n",
       "12608.0               0.00              1.0              0.0              0.0   \n",
       "12745.0               0.00              0.0              1.0              1.0   \n",
       "12746.0               0.00              0.0              0.0              1.0   \n",
       "12747.0             344.00              4.0              2.0              4.0   \n",
       "...                    ...              ...              ...              ...   \n",
       "18283.0               0.00              2.0              1.0              0.0   \n",
       "18284.0               0.00              1.0              0.0              0.0   \n",
       "18285.0               0.00              0.0              0.0              0.0   \n",
       "18286.0             462.95              0.0              1.0              0.0   \n",
       "18287.0               0.00              1.0              2.0              1.0   \n",
       "\n",
       "             sales_count_M_4  sales_count_M_5  sales_sum_M_1  sales_sum_M_2  \\\n",
       "Customer ID                                                                   \n",
       "12346.0                  5.0              5.0           0.00           0.00   \n",
       "12608.0                  0.0              0.0         415.79           0.00   \n",
       "12745.0                  0.0              0.0           0.00         266.93   \n",
       "12746.0                  0.0              0.0           0.00           0.00   \n",
       "12747.0                  3.0              3.0        1801.06         629.68   \n",
       "...                      ...              ...            ...            ...   \n",
       "18283.0                  3.0              0.0         195.35          92.00   \n",
       "18284.0                  0.0              0.0         461.68           0.00   \n",
       "18285.0                  1.0              0.0           0.00           0.00   \n",
       "18286.0                  0.0              1.0           0.00         833.48   \n",
       "18287.0                  0.0              0.0         381.50         892.60   \n",
       "\n",
       "             sales_sum_M_3  sales_sum_M_4  sales_sum_M_5  \n",
       "Customer ID                                               \n",
       "12346.0             142.31         117.05         113.50  \n",
       "12608.0               0.00           0.00           0.00  \n",
       "12745.0             456.92           0.00           0.00  \n",
       "12746.0             254.55           0.00           0.00  \n",
       "12747.0            1146.90         470.89        1032.00  \n",
       "...                    ...            ...            ...  \n",
       "18283.0               0.00         354.42           0.00  \n",
       "18284.0               0.00           0.00           0.00  \n",
       "18285.0               0.00         427.00           0.00  \n",
       "18286.0               0.00           0.00         462.95  \n",
       "18287.0            1071.61           0.00           0.00  \n",
       "\n",
       "[3971 rows x 15 columns]"
      ]
     },
     "execution_count": 369,
     "metadata": {},
     "output_type": "execute_result"
    }
   ],
   "source": [
    "features_df"
   ]
  },
  {
   "cell_type": "code",
   "execution_count": 370,
   "id": "620cefe1-587a-4162-8abb-346fb9cffa46",
   "metadata": {
    "tags": []
   },
   "outputs": [
    {
     "data": {
      "text/plain": [
       "1869"
      ]
     },
     "execution_count": 370,
     "metadata": {},
     "output_type": "execute_result"
    }
   ],
   "source": [
    "features_df.sales_avg_M_2.nunique()"
   ]
  },
  {
   "cell_type": "code",
   "execution_count": 371,
   "id": "89afeb65-8414-40d6-9326-6113e63d2bb0",
   "metadata": {
    "tags": []
   },
   "outputs": [],
   "source": [
    "#features_M1=pd.pivot_table(data_df.loc[data_df['M'] != 'M_2'], values=['sales_sum', 'sales_avg', 'sales_count'], columns='M', index='Customer ID')"
   ]
  },
  {
   "cell_type": "code",
   "execution_count": 372,
   "id": "c2d1af9f-79c0-48a6-a3cd-b9a218a6043a",
   "metadata": {
    "tags": []
   },
   "outputs": [],
   "source": [
    "#features_M1.head()"
   ]
  },
  {
   "cell_type": "code",
   "execution_count": 373,
   "id": "1a35d9eb-a5ef-460f-9ace-b61f61035845",
   "metadata": {
    "tags": []
   },
   "outputs": [],
   "source": [
    "#features_M1.shape"
   ]
  },
  {
   "cell_type": "code",
   "execution_count": 374,
   "id": "ca479a8f-58d8-4cd9-a1c2-17d57d3551b2",
   "metadata": {
    "tags": []
   },
   "outputs": [],
   "source": [
    "#features_M1.columns = ['_'.join(col) for col in features_M1.columns]\n",
    "\n",
    "#features_M1.head()"
   ]
  },
  {
   "cell_type": "code",
   "execution_count": null,
   "id": "50125503-1f32-402b-b985-1aeabc785622",
   "metadata": {},
   "outputs": [],
   "source": []
  },
  {
   "cell_type": "code",
   "execution_count": 375,
   "id": "1e9f6da1-65db-4120-902e-8b0711b218b1",
   "metadata": {
    "tags": []
   },
   "outputs": [],
   "source": [
    "#features_M1=features_M1[[\"sales_avg_M_1\",\"sales_count_M_1\",\"sales_sum_M_1\"]]"
   ]
  },
  {
   "cell_type": "code",
   "execution_count": 376,
   "id": "f11a4153-6461-4057-a38b-ac21e9d681ce",
   "metadata": {
    "tags": []
   },
   "outputs": [],
   "source": [
    "#features_M1.reset_index(inplace=True)\n"
   ]
  },
  {
   "cell_type": "code",
   "execution_count": 377,
   "id": "6e461eb7-43d9-4bb4-bfcb-c51d9de86bf5",
   "metadata": {
    "tags": []
   },
   "outputs": [],
   "source": [
    "#features_M1.rename(columns={'Customer ID': 'CustomerID'}, inplace=True)"
   ]
  },
  {
   "cell_type": "code",
   "execution_count": 378,
   "id": "251e9506-8c6c-4540-af71-211de94bfe03",
   "metadata": {
    "tags": []
   },
   "outputs": [],
   "source": [
    "#features_M1.head()"
   ]
  },
  {
   "cell_type": "code",
   "execution_count": 379,
   "id": "a9f89b32-305b-4851-bc07-fdfa3a175888",
   "metadata": {
    "tags": []
   },
   "outputs": [],
   "source": [
    "#features_M1.set_index('CustomerID',inplace=True)"
   ]
  },
  {
   "cell_type": "code",
   "execution_count": 380,
   "id": "758871ac-a515-4c6a-88e8-bad735b0ac42",
   "metadata": {
    "tags": []
   },
   "outputs": [
    {
     "name": "stdout",
     "output_type": "stream",
     "text": [
      "<class 'pandas.core.frame.DataFrame'>\n",
      "RangeIndex: 8751 entries, 0 to 8750\n",
      "Data columns (total 6 columns):\n",
      " #   Column       Non-Null Count  Dtype         \n",
      "---  ------       --------------  -----         \n",
      " 0   Customer ID  8751 non-null   float64       \n",
      " 1   InvoiceDate  8751 non-null   datetime64[ns]\n",
      " 2   sales_sum    8751 non-null   float64       \n",
      " 3   sales_avg    8751 non-null   float64       \n",
      " 4   sales_count  8751 non-null   int64         \n",
      " 5   M            8751 non-null   object        \n",
      "dtypes: datetime64[ns](1), float64(3), int64(1), object(1)\n",
      "memory usage: 410.3+ KB\n"
     ]
    }
   ],
   "source": [
    "data_df.info()"
   ]
  },
  {
   "cell_type": "code",
   "execution_count": 381,
   "id": "5367f7ce-58da-4fbb-ba53-ad20563e88e7",
   "metadata": {
    "tags": []
   },
   "outputs": [
    {
     "data": {
      "text/plain": [
       "M\n",
       "M_1    2387\n",
       "M_3    1898\n",
       "M_2    1891\n",
       "M_4    1671\n",
       "M_5     904\n",
       "Name: count, dtype: int64"
      ]
     },
     "execution_count": 381,
     "metadata": {},
     "output_type": "execute_result"
    }
   ],
   "source": [
    "data_df.M.value_counts()"
   ]
  },
  {
   "cell_type": "code",
   "execution_count": 382,
   "id": "ff01cdf4-a208-477a-b1d2-c180387f45dc",
   "metadata": {},
   "outputs": [],
   "source": [
    "features_df = features_df.fillna(0)"
   ]
  },
  {
   "cell_type": "code",
   "execution_count": 383,
   "id": "e76513fe-5af3-42d5-a08e-8979e1cb3641",
   "metadata": {},
   "outputs": [
    {
     "data": {
      "text/html": [
       "<div>\n",
       "<style scoped>\n",
       "    .dataframe tbody tr th:only-of-type {\n",
       "        vertical-align: middle;\n",
       "    }\n",
       "\n",
       "    .dataframe tbody tr th {\n",
       "        vertical-align: top;\n",
       "    }\n",
       "\n",
       "    .dataframe thead th {\n",
       "        text-align: right;\n",
       "    }\n",
       "</style>\n",
       "<table border=\"1\" class=\"dataframe\">\n",
       "  <thead>\n",
       "    <tr style=\"text-align: right;\">\n",
       "      <th></th>\n",
       "      <th>Customer ID</th>\n",
       "      <th>sales_avg_M_1</th>\n",
       "      <th>sales_avg_M_2</th>\n",
       "      <th>sales_avg_M_3</th>\n",
       "      <th>sales_avg_M_4</th>\n",
       "      <th>sales_avg_M_5</th>\n",
       "      <th>sales_count_M_1</th>\n",
       "      <th>sales_count_M_2</th>\n",
       "      <th>sales_count_M_3</th>\n",
       "      <th>sales_count_M_4</th>\n",
       "      <th>sales_count_M_5</th>\n",
       "      <th>sales_sum_M_1</th>\n",
       "      <th>sales_sum_M_2</th>\n",
       "      <th>sales_sum_M_3</th>\n",
       "      <th>sales_sum_M_4</th>\n",
       "      <th>sales_sum_M_5</th>\n",
       "    </tr>\n",
       "  </thead>\n",
       "  <tbody>\n",
       "    <tr>\n",
       "      <th>0</th>\n",
       "      <td>12346.0</td>\n",
       "      <td>0.00</td>\n",
       "      <td>0.0</td>\n",
       "      <td>142.31</td>\n",
       "      <td>23.41</td>\n",
       "      <td>22.7</td>\n",
       "      <td>0.0</td>\n",
       "      <td>0.0</td>\n",
       "      <td>1.0</td>\n",
       "      <td>5.0</td>\n",
       "      <td>5.0</td>\n",
       "      <td>0.00</td>\n",
       "      <td>0.0</td>\n",
       "      <td>142.31</td>\n",
       "      <td>117.05</td>\n",
       "      <td>113.5</td>\n",
       "    </tr>\n",
       "    <tr>\n",
       "      <th>1</th>\n",
       "      <td>12608.0</td>\n",
       "      <td>415.79</td>\n",
       "      <td>0.0</td>\n",
       "      <td>0.00</td>\n",
       "      <td>0.00</td>\n",
       "      <td>0.0</td>\n",
       "      <td>1.0</td>\n",
       "      <td>0.0</td>\n",
       "      <td>0.0</td>\n",
       "      <td>0.0</td>\n",
       "      <td>0.0</td>\n",
       "      <td>415.79</td>\n",
       "      <td>0.0</td>\n",
       "      <td>0.00</td>\n",
       "      <td>0.00</td>\n",
       "      <td>0.0</td>\n",
       "    </tr>\n",
       "  </tbody>\n",
       "</table>\n",
       "</div>"
      ],
      "text/plain": [
       "   Customer ID  sales_avg_M_1  sales_avg_M_2  sales_avg_M_3  sales_avg_M_4  \\\n",
       "0      12346.0           0.00            0.0         142.31          23.41   \n",
       "1      12608.0         415.79            0.0           0.00           0.00   \n",
       "\n",
       "   sales_avg_M_5  sales_count_M_1  sales_count_M_2  sales_count_M_3  \\\n",
       "0           22.7              0.0              0.0              1.0   \n",
       "1            0.0              1.0              0.0              0.0   \n",
       "\n",
       "   sales_count_M_4  sales_count_M_5  sales_sum_M_1  sales_sum_M_2  \\\n",
       "0              5.0              5.0           0.00            0.0   \n",
       "1              0.0              0.0         415.79            0.0   \n",
       "\n",
       "   sales_sum_M_3  sales_sum_M_4  sales_sum_M_5  \n",
       "0         142.31         117.05          113.5  \n",
       "1           0.00           0.00            0.0  "
      ]
     },
     "execution_count": 383,
     "metadata": {},
     "output_type": "execute_result"
    }
   ],
   "source": [
    "features_df.reset_index(inplace=True)\n",
    "features_df.head(2)"
   ]
  },
  {
   "cell_type": "code",
   "execution_count": 384,
   "id": "71957b45-619f-46cc-8e2d-39ecf8712f25",
   "metadata": {
    "tags": []
   },
   "outputs": [
    {
     "data": {
      "text/html": [
       "<div>\n",
       "<style scoped>\n",
       "    .dataframe tbody tr th:only-of-type {\n",
       "        vertical-align: middle;\n",
       "    }\n",
       "\n",
       "    .dataframe tbody tr th {\n",
       "        vertical-align: top;\n",
       "    }\n",
       "\n",
       "    .dataframe thead th {\n",
       "        text-align: right;\n",
       "    }\n",
       "</style>\n",
       "<table border=\"1\" class=\"dataframe\">\n",
       "  <thead>\n",
       "    <tr style=\"text-align: right;\">\n",
       "      <th></th>\n",
       "      <th>Customer ID</th>\n",
       "      <th>sales_avg_M_1</th>\n",
       "      <th>sales_avg_M_2</th>\n",
       "      <th>sales_avg_M_3</th>\n",
       "      <th>sales_avg_M_4</th>\n",
       "      <th>sales_avg_M_5</th>\n",
       "      <th>sales_count_M_1</th>\n",
       "      <th>sales_count_M_2</th>\n",
       "      <th>sales_count_M_3</th>\n",
       "      <th>sales_count_M_4</th>\n",
       "      <th>sales_count_M_5</th>\n",
       "      <th>sales_sum_M_1</th>\n",
       "      <th>sales_sum_M_2</th>\n",
       "      <th>sales_sum_M_3</th>\n",
       "      <th>sales_sum_M_4</th>\n",
       "      <th>sales_sum_M_5</th>\n",
       "    </tr>\n",
       "  </thead>\n",
       "  <tbody>\n",
       "    <tr>\n",
       "      <th>0</th>\n",
       "      <td>12346.0</td>\n",
       "      <td>0.00</td>\n",
       "      <td>0.0</td>\n",
       "      <td>142.31</td>\n",
       "      <td>23.41</td>\n",
       "      <td>22.7</td>\n",
       "      <td>0.0</td>\n",
       "      <td>0.0</td>\n",
       "      <td>1.0</td>\n",
       "      <td>5.0</td>\n",
       "      <td>5.0</td>\n",
       "      <td>0.00</td>\n",
       "      <td>0.0</td>\n",
       "      <td>142.31</td>\n",
       "      <td>117.05</td>\n",
       "      <td>113.5</td>\n",
       "    </tr>\n",
       "    <tr>\n",
       "      <th>1</th>\n",
       "      <td>12608.0</td>\n",
       "      <td>415.79</td>\n",
       "      <td>0.0</td>\n",
       "      <td>0.00</td>\n",
       "      <td>0.00</td>\n",
       "      <td>0.0</td>\n",
       "      <td>1.0</td>\n",
       "      <td>0.0</td>\n",
       "      <td>0.0</td>\n",
       "      <td>0.0</td>\n",
       "      <td>0.0</td>\n",
       "      <td>415.79</td>\n",
       "      <td>0.0</td>\n",
       "      <td>0.00</td>\n",
       "      <td>0.00</td>\n",
       "      <td>0.0</td>\n",
       "    </tr>\n",
       "  </tbody>\n",
       "</table>\n",
       "</div>"
      ],
      "text/plain": [
       "   Customer ID  sales_avg_M_1  sales_avg_M_2  sales_avg_M_3  sales_avg_M_4  \\\n",
       "0      12346.0           0.00            0.0         142.31          23.41   \n",
       "1      12608.0         415.79            0.0           0.00           0.00   \n",
       "\n",
       "   sales_avg_M_5  sales_count_M_1  sales_count_M_2  sales_count_M_3  \\\n",
       "0           22.7              0.0              0.0              1.0   \n",
       "1            0.0              1.0              0.0              0.0   \n",
       "\n",
       "   sales_count_M_4  sales_count_M_5  sales_sum_M_1  sales_sum_M_2  \\\n",
       "0              5.0              5.0           0.00            0.0   \n",
       "1              0.0              0.0         415.79            0.0   \n",
       "\n",
       "   sales_sum_M_3  sales_sum_M_4  sales_sum_M_5  \n",
       "0         142.31         117.05          113.5  \n",
       "1           0.00           0.00            0.0  "
      ]
     },
     "execution_count": 384,
     "metadata": {},
     "output_type": "execute_result"
    }
   ],
   "source": [
    "features_df.head(2)"
   ]
  },
  {
   "cell_type": "markdown",
   "id": "108504e4-6a98-45e0-80e7-52704cc0c53d",
   "metadata": {},
   "source": [
    "## Creating our response dataframe. This will server as the target variable for Regression. "
   ]
  },
  {
   "cell_type": "markdown",
   "id": "5f04c8c0-2cfd-4aec-9286-415d5715170f",
   "metadata": {},
   "source": [
    "##  Instead of taking First Month sales sum of each customer, we will take sales average of each customer. Reason being, \n",
    "##    not every customer has shopped in first month. So the sales_sum value for them would be zero. \n",
    "    \n",
    "##    There are 1639(out of 3971) customer who haven't shopped in first month. This is almost 40% of the total values in target variable. \n",
    "##    This may lead to improper Regression fit/score/performance. \n",
    "    \n",
    "##    So, we will use column 'Sales_avg' from dataframe summary_df\n",
    "    \n"
   ]
  },
  {
   "cell_type": "code",
   "execution_count": 385,
   "id": "aa4512d3-67d6-451c-9f5b-10e58eb5527b",
   "metadata": {},
   "outputs": [],
   "source": [
    "#response_df = data_df.loc[data_df['M'] == 'M_1', ['Customer ID', 'sales_sum']]\n",
    "\n",
    "#response_df.columns = ['CustomerID', 'CLV_3M']\n",
    "#response_df.head()"
   ]
  },
  {
   "cell_type": "code",
   "execution_count": 386,
   "id": "2213c72f-7b50-4c88-8359-80fd460932f7",
   "metadata": {
    "tags": []
   },
   "outputs": [],
   "source": [
    "#features_df.reset_index(inplace=True)"
   ]
  },
  {
   "cell_type": "code",
   "execution_count": 387,
   "id": "9ee5442b-adf1-4db3-9d12-80da694dcab9",
   "metadata": {
    "tags": []
   },
   "outputs": [],
   "source": [
    "#features_df.set_index('Customer ID', inplace=True)"
   ]
  },
  {
   "cell_type": "code",
   "execution_count": 388,
   "id": "cbd3aa97-c763-4e74-9ed8-b0b218373e06",
   "metadata": {
    "tags": []
   },
   "outputs": [],
   "source": [
    "#features_df.head(2)"
   ]
  },
  {
   "cell_type": "code",
   "execution_count": 389,
   "id": "15fe3d83-3b2a-4def-b35d-1da69b26a19a",
   "metadata": {
    "tags": []
   },
   "outputs": [],
   "source": [
    "#features_df=features_df.drop('index',axis=1)\n",
    "#features_df=features_df.drop('level_0',axis=1)"
   ]
  },
  {
   "cell_type": "code",
   "execution_count": 390,
   "id": "eaed2574-5127-4936-a50b-f48487c49b5e",
   "metadata": {
    "tags": []
   },
   "outputs": [],
   "source": [
    "features_df_copy=features_df"
   ]
  },
  {
   "cell_type": "code",
   "execution_count": 391,
   "id": "c96d87d6-e37f-4fe4-9b49-79c0a7502e27",
   "metadata": {
    "tags": []
   },
   "outputs": [],
   "source": [
    "#features_df_copy.reset_index(inplace=True)\n"
   ]
  },
  {
   "cell_type": "markdown",
   "id": "137a997e-3dc8-41a7-aabe-8ab2d46df044",
   "metadata": {},
   "source": [
    "### USE BELOW CODE/CELL TO DROP INDEX & LEVEL COLUMNS IN feattures_df_copy"
   ]
  },
  {
   "cell_type": "code",
   "execution_count": 392,
   "id": "113ec392-3fd0-4e42-a4db-57bea7a922e9",
   "metadata": {
    "tags": []
   },
   "outputs": [],
   "source": [
    "\n",
    "\n",
    "#features_df_copy=features_df_copy.drop('index',axis=1)\n",
    "#features_df_copy=features_df_copy.drop('level_0',axis=1)"
   ]
  },
  {
   "cell_type": "code",
   "execution_count": 393,
   "id": "bff723d9-c346-4d19-968d-b73457f0b79a",
   "metadata": {
    "tags": []
   },
   "outputs": [
    {
     "data": {
      "text/html": [
       "<div>\n",
       "<style scoped>\n",
       "    .dataframe tbody tr th:only-of-type {\n",
       "        vertical-align: middle;\n",
       "    }\n",
       "\n",
       "    .dataframe tbody tr th {\n",
       "        vertical-align: top;\n",
       "    }\n",
       "\n",
       "    .dataframe thead th {\n",
       "        text-align: right;\n",
       "    }\n",
       "</style>\n",
       "<table border=\"1\" class=\"dataframe\">\n",
       "  <thead>\n",
       "    <tr style=\"text-align: right;\">\n",
       "      <th></th>\n",
       "      <th>Customer ID</th>\n",
       "      <th>sales_avg_M_1</th>\n",
       "      <th>sales_avg_M_2</th>\n",
       "      <th>sales_avg_M_3</th>\n",
       "      <th>sales_avg_M_4</th>\n",
       "      <th>sales_avg_M_5</th>\n",
       "      <th>sales_count_M_1</th>\n",
       "      <th>sales_count_M_2</th>\n",
       "      <th>sales_count_M_3</th>\n",
       "      <th>sales_count_M_4</th>\n",
       "      <th>sales_count_M_5</th>\n",
       "      <th>sales_sum_M_1</th>\n",
       "      <th>sales_sum_M_2</th>\n",
       "      <th>sales_sum_M_3</th>\n",
       "      <th>sales_sum_M_4</th>\n",
       "      <th>sales_sum_M_5</th>\n",
       "    </tr>\n",
       "  </thead>\n",
       "  <tbody>\n",
       "    <tr>\n",
       "      <th>0</th>\n",
       "      <td>12346.0</td>\n",
       "      <td>0.000</td>\n",
       "      <td>0.00</td>\n",
       "      <td>142.310</td>\n",
       "      <td>23.410000</td>\n",
       "      <td>22.7</td>\n",
       "      <td>0.0</td>\n",
       "      <td>0.0</td>\n",
       "      <td>1.0</td>\n",
       "      <td>5.0</td>\n",
       "      <td>5.0</td>\n",
       "      <td>0.00</td>\n",
       "      <td>0.00</td>\n",
       "      <td>142.31</td>\n",
       "      <td>117.05</td>\n",
       "      <td>113.5</td>\n",
       "    </tr>\n",
       "    <tr>\n",
       "      <th>1</th>\n",
       "      <td>12608.0</td>\n",
       "      <td>415.790</td>\n",
       "      <td>0.00</td>\n",
       "      <td>0.000</td>\n",
       "      <td>0.000000</td>\n",
       "      <td>0.0</td>\n",
       "      <td>1.0</td>\n",
       "      <td>0.0</td>\n",
       "      <td>0.0</td>\n",
       "      <td>0.0</td>\n",
       "      <td>0.0</td>\n",
       "      <td>415.79</td>\n",
       "      <td>0.00</td>\n",
       "      <td>0.00</td>\n",
       "      <td>0.00</td>\n",
       "      <td>0.0</td>\n",
       "    </tr>\n",
       "    <tr>\n",
       "      <th>2</th>\n",
       "      <td>12745.0</td>\n",
       "      <td>0.000</td>\n",
       "      <td>266.93</td>\n",
       "      <td>456.920</td>\n",
       "      <td>0.000000</td>\n",
       "      <td>0.0</td>\n",
       "      <td>0.0</td>\n",
       "      <td>1.0</td>\n",
       "      <td>1.0</td>\n",
       "      <td>0.0</td>\n",
       "      <td>0.0</td>\n",
       "      <td>0.00</td>\n",
       "      <td>266.93</td>\n",
       "      <td>456.92</td>\n",
       "      <td>0.00</td>\n",
       "      <td>0.0</td>\n",
       "    </tr>\n",
       "    <tr>\n",
       "      <th>3</th>\n",
       "      <td>12746.0</td>\n",
       "      <td>0.000</td>\n",
       "      <td>0.00</td>\n",
       "      <td>254.550</td>\n",
       "      <td>0.000000</td>\n",
       "      <td>0.0</td>\n",
       "      <td>0.0</td>\n",
       "      <td>0.0</td>\n",
       "      <td>1.0</td>\n",
       "      <td>0.0</td>\n",
       "      <td>0.0</td>\n",
       "      <td>0.00</td>\n",
       "      <td>0.00</td>\n",
       "      <td>254.55</td>\n",
       "      <td>0.00</td>\n",
       "      <td>0.0</td>\n",
       "    </tr>\n",
       "    <tr>\n",
       "      <th>4</th>\n",
       "      <td>12747.0</td>\n",
       "      <td>450.265</td>\n",
       "      <td>314.84</td>\n",
       "      <td>286.725</td>\n",
       "      <td>156.963333</td>\n",
       "      <td>344.0</td>\n",
       "      <td>4.0</td>\n",
       "      <td>2.0</td>\n",
       "      <td>4.0</td>\n",
       "      <td>3.0</td>\n",
       "      <td>3.0</td>\n",
       "      <td>1801.06</td>\n",
       "      <td>629.68</td>\n",
       "      <td>1146.90</td>\n",
       "      <td>470.89</td>\n",
       "      <td>1032.0</td>\n",
       "    </tr>\n",
       "  </tbody>\n",
       "</table>\n",
       "</div>"
      ],
      "text/plain": [
       "   Customer ID  sales_avg_M_1  sales_avg_M_2  sales_avg_M_3  sales_avg_M_4  \\\n",
       "0      12346.0          0.000           0.00        142.310      23.410000   \n",
       "1      12608.0        415.790           0.00          0.000       0.000000   \n",
       "2      12745.0          0.000         266.93        456.920       0.000000   \n",
       "3      12746.0          0.000           0.00        254.550       0.000000   \n",
       "4      12747.0        450.265         314.84        286.725     156.963333   \n",
       "\n",
       "   sales_avg_M_5  sales_count_M_1  sales_count_M_2  sales_count_M_3  \\\n",
       "0           22.7              0.0              0.0              1.0   \n",
       "1            0.0              1.0              0.0              0.0   \n",
       "2            0.0              0.0              1.0              1.0   \n",
       "3            0.0              0.0              0.0              1.0   \n",
       "4          344.0              4.0              2.0              4.0   \n",
       "\n",
       "   sales_count_M_4  sales_count_M_5  sales_sum_M_1  sales_sum_M_2  \\\n",
       "0              5.0              5.0           0.00           0.00   \n",
       "1              0.0              0.0         415.79           0.00   \n",
       "2              0.0              0.0           0.00         266.93   \n",
       "3              0.0              0.0           0.00           0.00   \n",
       "4              3.0              3.0        1801.06         629.68   \n",
       "\n",
       "   sales_sum_M_3  sales_sum_M_4  sales_sum_M_5  \n",
       "0         142.31         117.05          113.5  \n",
       "1           0.00           0.00            0.0  \n",
       "2         456.92           0.00            0.0  \n",
       "3         254.55           0.00            0.0  \n",
       "4        1146.90         470.89         1032.0  "
      ]
     },
     "execution_count": 393,
     "metadata": {},
     "output_type": "execute_result"
    }
   ],
   "source": [
    "features_df_copy.head()"
   ]
  },
  {
   "cell_type": "code",
   "execution_count": 394,
   "id": "067157ad-4ac9-428c-a827-2b8179952561",
   "metadata": {
    "tags": []
   },
   "outputs": [
    {
     "name": "stdout",
     "output_type": "stream",
     "text": [
      "<class 'pandas.core.frame.DataFrame'>\n",
      "RangeIndex: 3971 entries, 0 to 3970\n",
      "Data columns (total 16 columns):\n",
      " #   Column           Non-Null Count  Dtype  \n",
      "---  ------           --------------  -----  \n",
      " 0   Customer ID      3971 non-null   float64\n",
      " 1   sales_avg_M_1    3971 non-null   float64\n",
      " 2   sales_avg_M_2    3971 non-null   float64\n",
      " 3   sales_avg_M_3    3971 non-null   float64\n",
      " 4   sales_avg_M_4    3971 non-null   float64\n",
      " 5   sales_avg_M_5    3971 non-null   float64\n",
      " 6   sales_count_M_1  3971 non-null   float64\n",
      " 7   sales_count_M_2  3971 non-null   float64\n",
      " 8   sales_count_M_3  3971 non-null   float64\n",
      " 9   sales_count_M_4  3971 non-null   float64\n",
      " 10  sales_count_M_5  3971 non-null   float64\n",
      " 11  sales_sum_M_1    3971 non-null   float64\n",
      " 12  sales_sum_M_2    3971 non-null   float64\n",
      " 13  sales_sum_M_3    3971 non-null   float64\n",
      " 14  sales_sum_M_4    3971 non-null   float64\n",
      " 15  sales_sum_M_5    3971 non-null   float64\n",
      "dtypes: float64(16)\n",
      "memory usage: 496.5 KB\n"
     ]
    }
   ],
   "source": [
    "features_df_copy.info()"
   ]
  },
  {
   "cell_type": "code",
   "execution_count": 395,
   "id": "165baa47-4bb7-490e-90a9-05081131e2de",
   "metadata": {
    "tags": []
   },
   "outputs": [
    {
     "data": {
      "text/html": [
       "<div>\n",
       "<style scoped>\n",
       "    .dataframe tbody tr th:only-of-type {\n",
       "        vertical-align: middle;\n",
       "    }\n",
       "\n",
       "    .dataframe tbody tr th {\n",
       "        vertical-align: top;\n",
       "    }\n",
       "\n",
       "    .dataframe thead th {\n",
       "        text-align: right;\n",
       "    }\n",
       "</style>\n",
       "<table border=\"1\" class=\"dataframe\">\n",
       "  <thead>\n",
       "    <tr style=\"text-align: right;\">\n",
       "      <th></th>\n",
       "      <th>CustomerID</th>\n",
       "      <th>CLV_LR</th>\n",
       "    </tr>\n",
       "  </thead>\n",
       "  <tbody>\n",
       "    <tr>\n",
       "      <th>0</th>\n",
       "      <td>12346.0</td>\n",
       "      <td>33.896364</td>\n",
       "    </tr>\n",
       "    <tr>\n",
       "      <th>1</th>\n",
       "      <td>12608.0</td>\n",
       "      <td>415.790000</td>\n",
       "    </tr>\n",
       "    <tr>\n",
       "      <th>2</th>\n",
       "      <td>12745.0</td>\n",
       "      <td>361.925000</td>\n",
       "    </tr>\n",
       "    <tr>\n",
       "      <th>3</th>\n",
       "      <td>12746.0</td>\n",
       "      <td>254.550000</td>\n",
       "    </tr>\n",
       "    <tr>\n",
       "      <th>4</th>\n",
       "      <td>12747.0</td>\n",
       "      <td>317.533125</td>\n",
       "    </tr>\n",
       "  </tbody>\n",
       "</table>\n",
       "</div>"
      ],
      "text/plain": [
       "   CustomerID      CLV_LR\n",
       "0     12346.0   33.896364\n",
       "1     12608.0  415.790000\n",
       "2     12745.0  361.925000\n",
       "3     12746.0  254.550000\n",
       "4     12747.0  317.533125"
      ]
     },
     "execution_count": 395,
     "metadata": {},
     "output_type": "execute_result"
    }
   ],
   "source": [
    "response_df=summary_df[['Customer ID', 'Sales_avg']]\n",
    "\n",
    "response_df.head()\n",
    "response_df.columns = ['CustomerID', 'CLV_LR']\n",
    "response_df.head()\n",
    "#features_df_copy.head()\n",
    "#features_df_copy.drop('index',axis=1)\n",
    "#features_df_copy.drop('level_0',axis=1)"
   ]
  },
  {
   "cell_type": "code",
   "execution_count": 396,
   "id": "23e35000-0813-40cb-b10f-501fc2532dd3",
   "metadata": {
    "tags": []
   },
   "outputs": [
    {
     "name": "stdout",
     "output_type": "stream",
     "text": [
      "<class 'pandas.core.frame.DataFrame'>\n",
      "RangeIndex: 3971 entries, 0 to 3970\n",
      "Data columns (total 11 columns):\n",
      " #   Column                          Non-Null Count  Dtype         \n",
      "---  ------                          --------------  -----         \n",
      " 0   Customer ID                     3971 non-null   float64       \n",
      " 1   Sales_min                       3971 non-null   float64       \n",
      " 2   Sales_max                       3971 non-null   float64       \n",
      " 3   Sales_sum                       3971 non-null   float64       \n",
      " 4   Sales_avg                       3971 non-null   float64       \n",
      " 5   Sales_median                    3971 non-null   float64       \n",
      " 6   Sales_count                     3971 non-null   int64         \n",
      " 7   InvoiceDate_min                 3971 non-null   datetime64[ns]\n",
      " 8   InvoiceDate_max                 3971 non-null   datetime64[ns]\n",
      " 9   InvoiceDate_purchase_duration   3971 non-null   int64         \n",
      " 10  InvoiceDate_purchase_frequency  3971 non-null   int64         \n",
      "dtypes: datetime64[ns](2), float64(6), int64(3)\n",
      "memory usage: 341.4 KB\n"
     ]
    }
   ],
   "source": [
    "summary_df.info()"
   ]
  },
  {
   "cell_type": "code",
   "execution_count": 397,
   "id": "9d6591d1-6f93-42da-b871-4a4c746a13e2",
   "metadata": {
    "tags": []
   },
   "outputs": [
    {
     "name": "stdout",
     "output_type": "stream",
     "text": [
      "<class 'pandas.core.frame.DataFrame'>\n",
      "RangeIndex: 3971 entries, 0 to 3970\n",
      "Data columns (total 2 columns):\n",
      " #   Column      Non-Null Count  Dtype  \n",
      "---  ------      --------------  -----  \n",
      " 0   CustomerID  3971 non-null   float64\n",
      " 1   CLV_LR      3971 non-null   float64\n",
      "dtypes: float64(2)\n",
      "memory usage: 62.2 KB\n"
     ]
    }
   ],
   "source": [
    "response_df.info()"
   ]
  },
  {
   "cell_type": "code",
   "execution_count": 398,
   "id": "f09d7e08-cce2-4943-86f4-d2ab3fbbe933",
   "metadata": {
    "tags": []
   },
   "outputs": [
    {
     "data": {
      "text/plain": [
       "CustomerID    0\n",
       "CLV_LR        0\n",
       "dtype: int64"
      ]
     },
     "execution_count": 398,
     "metadata": {},
     "output_type": "execute_result"
    }
   ],
   "source": [
    "response_df.isna().sum()"
   ]
  },
  {
   "cell_type": "code",
   "execution_count": 399,
   "id": "0f80bfb1-e866-4e66-ad63-cd40427eae99",
   "metadata": {
    "tags": []
   },
   "outputs": [
    {
     "data": {
      "text/plain": [
       "(3971, 2)"
      ]
     },
     "execution_count": 399,
     "metadata": {},
     "output_type": "execute_result"
    }
   ],
   "source": [
    "response_df.shape"
   ]
  },
  {
   "cell_type": "code",
   "execution_count": 400,
   "id": "ff5c49d6-574b-4fd2-966b-553f8011ca72",
   "metadata": {
    "tags": []
   },
   "outputs": [],
   "source": [
    "features_df.to_csv('features_df.csv', index=True)"
   ]
  },
  {
   "cell_type": "code",
   "execution_count": 401,
   "id": "1f0294c3-d733-4e18-b18a-d6d413ebc62e",
   "metadata": {
    "tags": []
   },
   "outputs": [],
   "source": [
    "response_df.to_csv('response_df.csv',index=True)"
   ]
  },
  {
   "cell_type": "code",
   "execution_count": 402,
   "id": "8a90f614-6b86-44ef-a0ae-a9d9e293b41a",
   "metadata": {
    "tags": []
   },
   "outputs": [
    {
     "data": {
      "text/html": [
       "<div>\n",
       "<style scoped>\n",
       "    .dataframe tbody tr th:only-of-type {\n",
       "        vertical-align: middle;\n",
       "    }\n",
       "\n",
       "    .dataframe tbody tr th {\n",
       "        vertical-align: top;\n",
       "    }\n",
       "\n",
       "    .dataframe thead th {\n",
       "        text-align: right;\n",
       "    }\n",
       "</style>\n",
       "<table border=\"1\" class=\"dataframe\">\n",
       "  <thead>\n",
       "    <tr style=\"text-align: right;\">\n",
       "      <th></th>\n",
       "      <th>CustomerID</th>\n",
       "      <th>CLV_LR</th>\n",
       "    </tr>\n",
       "  </thead>\n",
       "  <tbody>\n",
       "    <tr>\n",
       "      <th>0</th>\n",
       "      <td>12346.0</td>\n",
       "      <td>33.896364</td>\n",
       "    </tr>\n",
       "    <tr>\n",
       "      <th>1</th>\n",
       "      <td>12608.0</td>\n",
       "      <td>415.790000</td>\n",
       "    </tr>\n",
       "    <tr>\n",
       "      <th>2</th>\n",
       "      <td>12745.0</td>\n",
       "      <td>361.925000</td>\n",
       "    </tr>\n",
       "    <tr>\n",
       "      <th>3</th>\n",
       "      <td>12746.0</td>\n",
       "      <td>254.550000</td>\n",
       "    </tr>\n",
       "    <tr>\n",
       "      <th>4</th>\n",
       "      <td>12747.0</td>\n",
       "      <td>317.533125</td>\n",
       "    </tr>\n",
       "  </tbody>\n",
       "</table>\n",
       "</div>"
      ],
      "text/plain": [
       "   CustomerID      CLV_LR\n",
       "0     12346.0   33.896364\n",
       "1     12608.0  415.790000\n",
       "2     12745.0  361.925000\n",
       "3     12746.0  254.550000\n",
       "4     12747.0  317.533125"
      ]
     },
     "execution_count": 402,
     "metadata": {},
     "output_type": "execute_result"
    }
   ],
   "source": [
    "response_df.head()"
   ]
  },
  {
   "cell_type": "code",
   "execution_count": 403,
   "id": "749d67f9-0b0e-4ec4-9aee-8f38bff36172",
   "metadata": {},
   "outputs": [
    {
     "data": {
      "text/plain": [
       "CustomerID    3971\n",
       "CLV_LR        3910\n",
       "dtype: int64"
      ]
     },
     "execution_count": 403,
     "metadata": {},
     "output_type": "execute_result"
    }
   ],
   "source": [
    "response_df.nunique()"
   ]
  },
  {
   "cell_type": "code",
   "execution_count": 404,
   "id": "950155e9-303b-48ec-a5e1-f26f3d98fe90",
   "metadata": {
    "tags": []
   },
   "outputs": [
    {
     "data": {
      "text/html": [
       "<div>\n",
       "<style scoped>\n",
       "    .dataframe tbody tr th:only-of-type {\n",
       "        vertical-align: middle;\n",
       "    }\n",
       "\n",
       "    .dataframe tbody tr th {\n",
       "        vertical-align: top;\n",
       "    }\n",
       "\n",
       "    .dataframe thead th {\n",
       "        text-align: right;\n",
       "    }\n",
       "</style>\n",
       "<table border=\"1\" class=\"dataframe\">\n",
       "  <thead>\n",
       "    <tr style=\"text-align: right;\">\n",
       "      <th></th>\n",
       "      <th>Customer ID</th>\n",
       "      <th>sales_avg_M_1</th>\n",
       "      <th>sales_avg_M_2</th>\n",
       "      <th>sales_avg_M_3</th>\n",
       "      <th>sales_avg_M_4</th>\n",
       "      <th>sales_avg_M_5</th>\n",
       "      <th>sales_count_M_1</th>\n",
       "      <th>sales_count_M_2</th>\n",
       "      <th>sales_count_M_3</th>\n",
       "      <th>sales_count_M_4</th>\n",
       "      <th>sales_count_M_5</th>\n",
       "      <th>sales_sum_M_1</th>\n",
       "      <th>sales_sum_M_2</th>\n",
       "      <th>sales_sum_M_3</th>\n",
       "      <th>sales_sum_M_4</th>\n",
       "      <th>sales_sum_M_5</th>\n",
       "    </tr>\n",
       "  </thead>\n",
       "  <tbody>\n",
       "    <tr>\n",
       "      <th>0</th>\n",
       "      <td>12346.0</td>\n",
       "      <td>0.000</td>\n",
       "      <td>0.00</td>\n",
       "      <td>142.310</td>\n",
       "      <td>23.410000</td>\n",
       "      <td>22.7</td>\n",
       "      <td>0.0</td>\n",
       "      <td>0.0</td>\n",
       "      <td>1.0</td>\n",
       "      <td>5.0</td>\n",
       "      <td>5.0</td>\n",
       "      <td>0.00</td>\n",
       "      <td>0.00</td>\n",
       "      <td>142.31</td>\n",
       "      <td>117.05</td>\n",
       "      <td>113.5</td>\n",
       "    </tr>\n",
       "    <tr>\n",
       "      <th>1</th>\n",
       "      <td>12608.0</td>\n",
       "      <td>415.790</td>\n",
       "      <td>0.00</td>\n",
       "      <td>0.000</td>\n",
       "      <td>0.000000</td>\n",
       "      <td>0.0</td>\n",
       "      <td>1.0</td>\n",
       "      <td>0.0</td>\n",
       "      <td>0.0</td>\n",
       "      <td>0.0</td>\n",
       "      <td>0.0</td>\n",
       "      <td>415.79</td>\n",
       "      <td>0.00</td>\n",
       "      <td>0.00</td>\n",
       "      <td>0.00</td>\n",
       "      <td>0.0</td>\n",
       "    </tr>\n",
       "    <tr>\n",
       "      <th>2</th>\n",
       "      <td>12745.0</td>\n",
       "      <td>0.000</td>\n",
       "      <td>266.93</td>\n",
       "      <td>456.920</td>\n",
       "      <td>0.000000</td>\n",
       "      <td>0.0</td>\n",
       "      <td>0.0</td>\n",
       "      <td>1.0</td>\n",
       "      <td>1.0</td>\n",
       "      <td>0.0</td>\n",
       "      <td>0.0</td>\n",
       "      <td>0.00</td>\n",
       "      <td>266.93</td>\n",
       "      <td>456.92</td>\n",
       "      <td>0.00</td>\n",
       "      <td>0.0</td>\n",
       "    </tr>\n",
       "    <tr>\n",
       "      <th>3</th>\n",
       "      <td>12746.0</td>\n",
       "      <td>0.000</td>\n",
       "      <td>0.00</td>\n",
       "      <td>254.550</td>\n",
       "      <td>0.000000</td>\n",
       "      <td>0.0</td>\n",
       "      <td>0.0</td>\n",
       "      <td>0.0</td>\n",
       "      <td>1.0</td>\n",
       "      <td>0.0</td>\n",
       "      <td>0.0</td>\n",
       "      <td>0.00</td>\n",
       "      <td>0.00</td>\n",
       "      <td>254.55</td>\n",
       "      <td>0.00</td>\n",
       "      <td>0.0</td>\n",
       "    </tr>\n",
       "    <tr>\n",
       "      <th>4</th>\n",
       "      <td>12747.0</td>\n",
       "      <td>450.265</td>\n",
       "      <td>314.84</td>\n",
       "      <td>286.725</td>\n",
       "      <td>156.963333</td>\n",
       "      <td>344.0</td>\n",
       "      <td>4.0</td>\n",
       "      <td>2.0</td>\n",
       "      <td>4.0</td>\n",
       "      <td>3.0</td>\n",
       "      <td>3.0</td>\n",
       "      <td>1801.06</td>\n",
       "      <td>629.68</td>\n",
       "      <td>1146.90</td>\n",
       "      <td>470.89</td>\n",
       "      <td>1032.0</td>\n",
       "    </tr>\n",
       "  </tbody>\n",
       "</table>\n",
       "</div>"
      ],
      "text/plain": [
       "   Customer ID  sales_avg_M_1  sales_avg_M_2  sales_avg_M_3  sales_avg_M_4  \\\n",
       "0      12346.0          0.000           0.00        142.310      23.410000   \n",
       "1      12608.0        415.790           0.00          0.000       0.000000   \n",
       "2      12745.0          0.000         266.93        456.920       0.000000   \n",
       "3      12746.0          0.000           0.00        254.550       0.000000   \n",
       "4      12747.0        450.265         314.84        286.725     156.963333   \n",
       "\n",
       "   sales_avg_M_5  sales_count_M_1  sales_count_M_2  sales_count_M_3  \\\n",
       "0           22.7              0.0              0.0              1.0   \n",
       "1            0.0              1.0              0.0              0.0   \n",
       "2            0.0              0.0              1.0              1.0   \n",
       "3            0.0              0.0              0.0              1.0   \n",
       "4          344.0              4.0              2.0              4.0   \n",
       "\n",
       "   sales_count_M_4  sales_count_M_5  sales_sum_M_1  sales_sum_M_2  \\\n",
       "0              5.0              5.0           0.00           0.00   \n",
       "1              0.0              0.0         415.79           0.00   \n",
       "2              0.0              0.0           0.00         266.93   \n",
       "3              0.0              0.0           0.00           0.00   \n",
       "4              3.0              3.0        1801.06         629.68   \n",
       "\n",
       "   sales_sum_M_3  sales_sum_M_4  sales_sum_M_5  \n",
       "0         142.31         117.05          113.5  \n",
       "1           0.00           0.00            0.0  \n",
       "2         456.92           0.00            0.0  \n",
       "3         254.55           0.00            0.0  \n",
       "4        1146.90         470.89         1032.0  "
      ]
     },
     "execution_count": 404,
     "metadata": {},
     "output_type": "execute_result"
    }
   ],
   "source": [
    "features_df.head()"
   ]
  },
  {
   "cell_type": "code",
   "execution_count": 405,
   "id": "049a1d05-396f-4565-9327-1ae3ce8a73a8",
   "metadata": {
    "tags": []
   },
   "outputs": [],
   "source": [
    "features_df=features_df.rename(columns={'Customer ID':'CustomerID'})\n"
   ]
  },
  {
   "cell_type": "code",
   "execution_count": 406,
   "id": "5940e298-6fd1-422a-b41e-a380aad0421b",
   "metadata": {
    "tags": []
   },
   "outputs": [
    {
     "data": {
      "text/plain": [
       "(3971, 16)"
      ]
     },
     "execution_count": 406,
     "metadata": {},
     "output_type": "execute_result"
    }
   ],
   "source": [
    "features_df.shape"
   ]
  },
  {
   "cell_type": "code",
   "execution_count": 407,
   "id": "0003823d-8605-4e61-bb0f-765409965906",
   "metadata": {
    "tags": []
   },
   "outputs": [
    {
     "data": {
      "text/plain": [
       "(3971, 2)"
      ]
     },
     "execution_count": 407,
     "metadata": {},
     "output_type": "execute_result"
    }
   ],
   "source": [
    "response_df.shape"
   ]
  },
  {
   "cell_type": "code",
   "execution_count": 408,
   "id": "cb95b139-72c3-4dba-8cf4-797aa4c8b007",
   "metadata": {},
   "outputs": [],
   "source": [
    "# Create our final dataset (ready for use by models) by merging features with response"
   ]
  },
  {
   "cell_type": "code",
   "execution_count": 409,
   "id": "6176c5e3-6257-48c5-8c24-16d5f2b415bc",
   "metadata": {},
   "outputs": [],
   "source": [
    "#sample_set_df = features_df.merge(\n",
    "    #response_df, how='left', on='CustomerID')"
   ]
  },
  {
   "cell_type": "code",
   "execution_count": 410,
   "id": "a933a1e7-d9a3-40df-8c94-6b3e684a143a",
   "metadata": {
    "tags": []
   },
   "outputs": [
    {
     "data": {
      "text/html": [
       "<div>\n",
       "<style scoped>\n",
       "    .dataframe tbody tr th:only-of-type {\n",
       "        vertical-align: middle;\n",
       "    }\n",
       "\n",
       "    .dataframe tbody tr th {\n",
       "        vertical-align: top;\n",
       "    }\n",
       "\n",
       "    .dataframe thead th {\n",
       "        text-align: right;\n",
       "    }\n",
       "</style>\n",
       "<table border=\"1\" class=\"dataframe\">\n",
       "  <thead>\n",
       "    <tr style=\"text-align: right;\">\n",
       "      <th></th>\n",
       "      <th>CustomerID</th>\n",
       "      <th>sales_avg_M_1</th>\n",
       "      <th>sales_avg_M_2</th>\n",
       "      <th>sales_avg_M_3</th>\n",
       "      <th>sales_avg_M_4</th>\n",
       "      <th>sales_avg_M_5</th>\n",
       "      <th>sales_count_M_1</th>\n",
       "      <th>sales_count_M_2</th>\n",
       "      <th>sales_count_M_3</th>\n",
       "      <th>sales_count_M_4</th>\n",
       "      <th>sales_count_M_5</th>\n",
       "      <th>sales_sum_M_1</th>\n",
       "      <th>sales_sum_M_2</th>\n",
       "      <th>sales_sum_M_3</th>\n",
       "      <th>sales_sum_M_4</th>\n",
       "      <th>sales_sum_M_5</th>\n",
       "      <th>CLV_LR</th>\n",
       "    </tr>\n",
       "  </thead>\n",
       "  <tbody>\n",
       "    <tr>\n",
       "      <th>0</th>\n",
       "      <td>12346.0</td>\n",
       "      <td>0.000</td>\n",
       "      <td>0.00</td>\n",
       "      <td>142.310</td>\n",
       "      <td>23.410000</td>\n",
       "      <td>22.7</td>\n",
       "      <td>0.0</td>\n",
       "      <td>0.0</td>\n",
       "      <td>1.0</td>\n",
       "      <td>5.0</td>\n",
       "      <td>5.0</td>\n",
       "      <td>0.00</td>\n",
       "      <td>0.00</td>\n",
       "      <td>142.31</td>\n",
       "      <td>117.05</td>\n",
       "      <td>113.5</td>\n",
       "      <td>33.896364</td>\n",
       "    </tr>\n",
       "    <tr>\n",
       "      <th>1</th>\n",
       "      <td>12608.0</td>\n",
       "      <td>415.790</td>\n",
       "      <td>0.00</td>\n",
       "      <td>0.000</td>\n",
       "      <td>0.000000</td>\n",
       "      <td>0.0</td>\n",
       "      <td>1.0</td>\n",
       "      <td>0.0</td>\n",
       "      <td>0.0</td>\n",
       "      <td>0.0</td>\n",
       "      <td>0.0</td>\n",
       "      <td>415.79</td>\n",
       "      <td>0.00</td>\n",
       "      <td>0.00</td>\n",
       "      <td>0.00</td>\n",
       "      <td>0.0</td>\n",
       "      <td>415.790000</td>\n",
       "    </tr>\n",
       "    <tr>\n",
       "      <th>2</th>\n",
       "      <td>12745.0</td>\n",
       "      <td>0.000</td>\n",
       "      <td>266.93</td>\n",
       "      <td>456.920</td>\n",
       "      <td>0.000000</td>\n",
       "      <td>0.0</td>\n",
       "      <td>0.0</td>\n",
       "      <td>1.0</td>\n",
       "      <td>1.0</td>\n",
       "      <td>0.0</td>\n",
       "      <td>0.0</td>\n",
       "      <td>0.00</td>\n",
       "      <td>266.93</td>\n",
       "      <td>456.92</td>\n",
       "      <td>0.00</td>\n",
       "      <td>0.0</td>\n",
       "      <td>361.925000</td>\n",
       "    </tr>\n",
       "    <tr>\n",
       "      <th>3</th>\n",
       "      <td>12746.0</td>\n",
       "      <td>0.000</td>\n",
       "      <td>0.00</td>\n",
       "      <td>254.550</td>\n",
       "      <td>0.000000</td>\n",
       "      <td>0.0</td>\n",
       "      <td>0.0</td>\n",
       "      <td>0.0</td>\n",
       "      <td>1.0</td>\n",
       "      <td>0.0</td>\n",
       "      <td>0.0</td>\n",
       "      <td>0.00</td>\n",
       "      <td>0.00</td>\n",
       "      <td>254.55</td>\n",
       "      <td>0.00</td>\n",
       "      <td>0.0</td>\n",
       "      <td>254.550000</td>\n",
       "    </tr>\n",
       "    <tr>\n",
       "      <th>4</th>\n",
       "      <td>12747.0</td>\n",
       "      <td>450.265</td>\n",
       "      <td>314.84</td>\n",
       "      <td>286.725</td>\n",
       "      <td>156.963333</td>\n",
       "      <td>344.0</td>\n",
       "      <td>4.0</td>\n",
       "      <td>2.0</td>\n",
       "      <td>4.0</td>\n",
       "      <td>3.0</td>\n",
       "      <td>3.0</td>\n",
       "      <td>1801.06</td>\n",
       "      <td>629.68</td>\n",
       "      <td>1146.90</td>\n",
       "      <td>470.89</td>\n",
       "      <td>1032.0</td>\n",
       "      <td>317.533125</td>\n",
       "    </tr>\n",
       "  </tbody>\n",
       "</table>\n",
       "</div>"
      ],
      "text/plain": [
       "   CustomerID  sales_avg_M_1  sales_avg_M_2  sales_avg_M_3  sales_avg_M_4  \\\n",
       "0     12346.0          0.000           0.00        142.310      23.410000   \n",
       "1     12608.0        415.790           0.00          0.000       0.000000   \n",
       "2     12745.0          0.000         266.93        456.920       0.000000   \n",
       "3     12746.0          0.000           0.00        254.550       0.000000   \n",
       "4     12747.0        450.265         314.84        286.725     156.963333   \n",
       "\n",
       "   sales_avg_M_5  sales_count_M_1  sales_count_M_2  sales_count_M_3  \\\n",
       "0           22.7              0.0              0.0              1.0   \n",
       "1            0.0              1.0              0.0              0.0   \n",
       "2            0.0              0.0              1.0              1.0   \n",
       "3            0.0              0.0              0.0              1.0   \n",
       "4          344.0              4.0              2.0              4.0   \n",
       "\n",
       "   sales_count_M_4  sales_count_M_5  sales_sum_M_1  sales_sum_M_2  \\\n",
       "0              5.0              5.0           0.00           0.00   \n",
       "1              0.0              0.0         415.79           0.00   \n",
       "2              0.0              0.0           0.00         266.93   \n",
       "3              0.0              0.0           0.00           0.00   \n",
       "4              3.0              3.0        1801.06         629.68   \n",
       "\n",
       "   sales_sum_M_3  sales_sum_M_4  sales_sum_M_5      CLV_LR  \n",
       "0         142.31         117.05          113.5   33.896364  \n",
       "1           0.00           0.00            0.0  415.790000  \n",
       "2         456.92           0.00            0.0  361.925000  \n",
       "3         254.55           0.00            0.0  254.550000  \n",
       "4        1146.90         470.89         1032.0  317.533125  "
      ]
     },
     "execution_count": 410,
     "metadata": {},
     "output_type": "execute_result"
    }
   ],
   "source": [
    "# below code will not give NaN in CLV_3M\n",
    "# Merge the features and response dataframes on 'CustomerID'\n",
    "sample_set_df = pd.merge(features_df, response_df, on='CustomerID', how='outer')\n",
    "\n",
    "# Display the head of the merged dataframe to confirm the merge\n",
    "sample_set_head = sample_set_df.head()\n",
    "sample_set_head"
   ]
  },
  {
   "cell_type": "code",
   "execution_count": 473,
   "id": "06f4690b-cdc0-425b-be75-02d32fd9cfda",
   "metadata": {},
   "outputs": [],
   "source": [
    "sample_set_df.to_csv('sample_set_df.csv')"
   ]
  },
  {
   "cell_type": "code",
   "execution_count": 411,
   "id": "65f06ed9-71c8-4273-9f1d-86535b4f7389",
   "metadata": {},
   "outputs": [],
   "source": [
    "#del sample_set_df"
   ]
  },
  {
   "cell_type": "code",
   "execution_count": 412,
   "id": "a3276bf3-42b4-4444-b1e7-826974c474d4",
   "metadata": {
    "tags": []
   },
   "outputs": [
    {
     "data": {
      "text/html": [
       "<div>\n",
       "<style scoped>\n",
       "    .dataframe tbody tr th:only-of-type {\n",
       "        vertical-align: middle;\n",
       "    }\n",
       "\n",
       "    .dataframe tbody tr th {\n",
       "        vertical-align: top;\n",
       "    }\n",
       "\n",
       "    .dataframe thead th {\n",
       "        text-align: right;\n",
       "    }\n",
       "</style>\n",
       "<table border=\"1\" class=\"dataframe\">\n",
       "  <thead>\n",
       "    <tr style=\"text-align: right;\">\n",
       "      <th></th>\n",
       "      <th>CustomerID</th>\n",
       "      <th>sales_avg_M_1</th>\n",
       "      <th>sales_avg_M_2</th>\n",
       "      <th>sales_avg_M_3</th>\n",
       "      <th>sales_avg_M_4</th>\n",
       "      <th>sales_avg_M_5</th>\n",
       "      <th>sales_count_M_1</th>\n",
       "      <th>sales_count_M_2</th>\n",
       "      <th>sales_count_M_3</th>\n",
       "      <th>sales_count_M_4</th>\n",
       "      <th>sales_count_M_5</th>\n",
       "      <th>sales_sum_M_1</th>\n",
       "      <th>sales_sum_M_2</th>\n",
       "      <th>sales_sum_M_3</th>\n",
       "      <th>sales_sum_M_4</th>\n",
       "      <th>sales_sum_M_5</th>\n",
       "      <th>CLV_LR</th>\n",
       "    </tr>\n",
       "  </thead>\n",
       "  <tbody>\n",
       "    <tr>\n",
       "      <th>0</th>\n",
       "      <td>12346.0</td>\n",
       "      <td>0.000</td>\n",
       "      <td>0.00</td>\n",
       "      <td>142.310</td>\n",
       "      <td>23.410000</td>\n",
       "      <td>22.7</td>\n",
       "      <td>0.0</td>\n",
       "      <td>0.0</td>\n",
       "      <td>1.0</td>\n",
       "      <td>5.0</td>\n",
       "      <td>5.0</td>\n",
       "      <td>0.00</td>\n",
       "      <td>0.00</td>\n",
       "      <td>142.31</td>\n",
       "      <td>117.05</td>\n",
       "      <td>113.5</td>\n",
       "      <td>33.896364</td>\n",
       "    </tr>\n",
       "    <tr>\n",
       "      <th>1</th>\n",
       "      <td>12608.0</td>\n",
       "      <td>415.790</td>\n",
       "      <td>0.00</td>\n",
       "      <td>0.000</td>\n",
       "      <td>0.000000</td>\n",
       "      <td>0.0</td>\n",
       "      <td>1.0</td>\n",
       "      <td>0.0</td>\n",
       "      <td>0.0</td>\n",
       "      <td>0.0</td>\n",
       "      <td>0.0</td>\n",
       "      <td>415.79</td>\n",
       "      <td>0.00</td>\n",
       "      <td>0.00</td>\n",
       "      <td>0.00</td>\n",
       "      <td>0.0</td>\n",
       "      <td>415.790000</td>\n",
       "    </tr>\n",
       "    <tr>\n",
       "      <th>2</th>\n",
       "      <td>12745.0</td>\n",
       "      <td>0.000</td>\n",
       "      <td>266.93</td>\n",
       "      <td>456.920</td>\n",
       "      <td>0.000000</td>\n",
       "      <td>0.0</td>\n",
       "      <td>0.0</td>\n",
       "      <td>1.0</td>\n",
       "      <td>1.0</td>\n",
       "      <td>0.0</td>\n",
       "      <td>0.0</td>\n",
       "      <td>0.00</td>\n",
       "      <td>266.93</td>\n",
       "      <td>456.92</td>\n",
       "      <td>0.00</td>\n",
       "      <td>0.0</td>\n",
       "      <td>361.925000</td>\n",
       "    </tr>\n",
       "    <tr>\n",
       "      <th>3</th>\n",
       "      <td>12746.0</td>\n",
       "      <td>0.000</td>\n",
       "      <td>0.00</td>\n",
       "      <td>254.550</td>\n",
       "      <td>0.000000</td>\n",
       "      <td>0.0</td>\n",
       "      <td>0.0</td>\n",
       "      <td>0.0</td>\n",
       "      <td>1.0</td>\n",
       "      <td>0.0</td>\n",
       "      <td>0.0</td>\n",
       "      <td>0.00</td>\n",
       "      <td>0.00</td>\n",
       "      <td>254.55</td>\n",
       "      <td>0.00</td>\n",
       "      <td>0.0</td>\n",
       "      <td>254.550000</td>\n",
       "    </tr>\n",
       "    <tr>\n",
       "      <th>4</th>\n",
       "      <td>12747.0</td>\n",
       "      <td>450.265</td>\n",
       "      <td>314.84</td>\n",
       "      <td>286.725</td>\n",
       "      <td>156.963333</td>\n",
       "      <td>344.0</td>\n",
       "      <td>4.0</td>\n",
       "      <td>2.0</td>\n",
       "      <td>4.0</td>\n",
       "      <td>3.0</td>\n",
       "      <td>3.0</td>\n",
       "      <td>1801.06</td>\n",
       "      <td>629.68</td>\n",
       "      <td>1146.90</td>\n",
       "      <td>470.89</td>\n",
       "      <td>1032.0</td>\n",
       "      <td>317.533125</td>\n",
       "    </tr>\n",
       "  </tbody>\n",
       "</table>\n",
       "</div>"
      ],
      "text/plain": [
       "   CustomerID  sales_avg_M_1  sales_avg_M_2  sales_avg_M_3  sales_avg_M_4  \\\n",
       "0     12346.0          0.000           0.00        142.310      23.410000   \n",
       "1     12608.0        415.790           0.00          0.000       0.000000   \n",
       "2     12745.0          0.000         266.93        456.920       0.000000   \n",
       "3     12746.0          0.000           0.00        254.550       0.000000   \n",
       "4     12747.0        450.265         314.84        286.725     156.963333   \n",
       "\n",
       "   sales_avg_M_5  sales_count_M_1  sales_count_M_2  sales_count_M_3  \\\n",
       "0           22.7              0.0              0.0              1.0   \n",
       "1            0.0              1.0              0.0              0.0   \n",
       "2            0.0              0.0              1.0              1.0   \n",
       "3            0.0              0.0              0.0              1.0   \n",
       "4          344.0              4.0              2.0              4.0   \n",
       "\n",
       "   sales_count_M_4  sales_count_M_5  sales_sum_M_1  sales_sum_M_2  \\\n",
       "0              5.0              5.0           0.00           0.00   \n",
       "1              0.0              0.0         415.79           0.00   \n",
       "2              0.0              0.0           0.00         266.93   \n",
       "3              0.0              0.0           0.00           0.00   \n",
       "4              3.0              3.0        1801.06         629.68   \n",
       "\n",
       "   sales_sum_M_3  sales_sum_M_4  sales_sum_M_5      CLV_LR  \n",
       "0         142.31         117.05          113.5   33.896364  \n",
       "1           0.00           0.00            0.0  415.790000  \n",
       "2         456.92           0.00            0.0  361.925000  \n",
       "3         254.55           0.00            0.0  254.550000  \n",
       "4        1146.90         470.89         1032.0  317.533125  "
      ]
     },
     "execution_count": 412,
     "metadata": {},
     "output_type": "execute_result"
    }
   ],
   "source": [
    "sample_set_df.head(5)"
   ]
  },
  {
   "cell_type": "code",
   "execution_count": 413,
   "id": "fefd3e46-8b90-4676-ad74-72cf60ebea7f",
   "metadata": {
    "tags": []
   },
   "outputs": [
    {
     "data": {
      "text/plain": [
       "0"
      ]
     },
     "execution_count": 413,
     "metadata": {},
     "output_type": "execute_result"
    }
   ],
   "source": [
    "sample_set_df.CLV_LR.isna().sum()"
   ]
  },
  {
   "cell_type": "code",
   "execution_count": 414,
   "id": "7606eeda-3882-49ea-b0dd-50bd39d5db21",
   "metadata": {
    "tags": []
   },
   "outputs": [
    {
     "data": {
      "text/plain": [
       "(3971, 17)"
      ]
     },
     "execution_count": 414,
     "metadata": {},
     "output_type": "execute_result"
    }
   ],
   "source": [
    "sample_set_df.shape"
   ]
  },
  {
   "cell_type": "code",
   "execution_count": 415,
   "id": "bb1871d9-ac9c-4543-9772-0d2566e40bfa",
   "metadata": {
    "tags": []
   },
   "outputs": [
    {
     "data": {
      "text/html": [
       "<div>\n",
       "<style scoped>\n",
       "    .dataframe tbody tr th:only-of-type {\n",
       "        vertical-align: middle;\n",
       "    }\n",
       "\n",
       "    .dataframe tbody tr th {\n",
       "        vertical-align: top;\n",
       "    }\n",
       "\n",
       "    .dataframe thead th {\n",
       "        text-align: right;\n",
       "    }\n",
       "</style>\n",
       "<table border=\"1\" class=\"dataframe\">\n",
       "  <thead>\n",
       "    <tr style=\"text-align: right;\">\n",
       "      <th></th>\n",
       "      <th>CustomerID</th>\n",
       "      <th>sales_avg_M_1</th>\n",
       "      <th>sales_avg_M_2</th>\n",
       "      <th>sales_avg_M_3</th>\n",
       "      <th>sales_avg_M_4</th>\n",
       "      <th>sales_avg_M_5</th>\n",
       "      <th>sales_count_M_1</th>\n",
       "      <th>sales_count_M_2</th>\n",
       "      <th>sales_count_M_3</th>\n",
       "      <th>sales_count_M_4</th>\n",
       "      <th>sales_count_M_5</th>\n",
       "      <th>sales_sum_M_1</th>\n",
       "      <th>sales_sum_M_2</th>\n",
       "      <th>sales_sum_M_3</th>\n",
       "      <th>sales_sum_M_4</th>\n",
       "      <th>sales_sum_M_5</th>\n",
       "      <th>CLV_LR</th>\n",
       "    </tr>\n",
       "  </thead>\n",
       "  <tbody>\n",
       "    <tr>\n",
       "      <th>923</th>\n",
       "      <td>14103.0</td>\n",
       "      <td>0.0</td>\n",
       "      <td>0.0</td>\n",
       "      <td>0.0</td>\n",
       "      <td>0.0</td>\n",
       "      <td>0.0</td>\n",
       "      <td>0.0</td>\n",
       "      <td>0.0</td>\n",
       "      <td>0.0</td>\n",
       "      <td>1.0</td>\n",
       "      <td>0.0</td>\n",
       "      <td>0.0</td>\n",
       "      <td>0.0</td>\n",
       "      <td>0.0</td>\n",
       "      <td>0.0</td>\n",
       "      <td>0.0</td>\n",
       "      <td>0.0</td>\n",
       "    </tr>\n",
       "    <tr>\n",
       "      <th>1456</th>\n",
       "      <td>14827.0</td>\n",
       "      <td>0.0</td>\n",
       "      <td>0.0</td>\n",
       "      <td>0.0</td>\n",
       "      <td>0.0</td>\n",
       "      <td>0.0</td>\n",
       "      <td>0.0</td>\n",
       "      <td>0.0</td>\n",
       "      <td>0.0</td>\n",
       "      <td>1.0</td>\n",
       "      <td>0.0</td>\n",
       "      <td>0.0</td>\n",
       "      <td>0.0</td>\n",
       "      <td>0.0</td>\n",
       "      <td>0.0</td>\n",
       "      <td>0.0</td>\n",
       "      <td>0.0</td>\n",
       "    </tr>\n",
       "  </tbody>\n",
       "</table>\n",
       "</div>"
      ],
      "text/plain": [
       "      CustomerID  sales_avg_M_1  sales_avg_M_2  sales_avg_M_3  sales_avg_M_4  \\\n",
       "923      14103.0            0.0            0.0            0.0            0.0   \n",
       "1456     14827.0            0.0            0.0            0.0            0.0   \n",
       "\n",
       "      sales_avg_M_5  sales_count_M_1  sales_count_M_2  sales_count_M_3  \\\n",
       "923             0.0              0.0              0.0              0.0   \n",
       "1456            0.0              0.0              0.0              0.0   \n",
       "\n",
       "      sales_count_M_4  sales_count_M_5  sales_sum_M_1  sales_sum_M_2  \\\n",
       "923               1.0              0.0            0.0            0.0   \n",
       "1456              1.0              0.0            0.0            0.0   \n",
       "\n",
       "      sales_sum_M_3  sales_sum_M_4  sales_sum_M_5  CLV_LR  \n",
       "923             0.0            0.0            0.0     0.0  \n",
       "1456            0.0            0.0            0.0     0.0  "
      ]
     },
     "execution_count": 415,
     "metadata": {},
     "output_type": "execute_result"
    }
   ],
   "source": [
    "sample_set_df.loc [sample_set_df['CLV_LR']==0]"
   ]
  },
  {
   "cell_type": "code",
   "execution_count": 416,
   "id": "c3eda44d-a1e8-4223-9590-8e548b0e0f40",
   "metadata": {
    "tags": []
   },
   "outputs": [
    {
     "data": {
      "text/plain": [
       "CustomerID         3971\n",
       "sales_avg_M_1      3971\n",
       "sales_avg_M_2      3971\n",
       "sales_avg_M_3      3971\n",
       "sales_avg_M_4      3971\n",
       "sales_avg_M_5      3971\n",
       "sales_count_M_1    3971\n",
       "sales_count_M_2    3971\n",
       "sales_count_M_3    3971\n",
       "sales_count_M_4    3971\n",
       "sales_count_M_5    3971\n",
       "sales_sum_M_1      3971\n",
       "sales_sum_M_2      3971\n",
       "sales_sum_M_3      3971\n",
       "sales_sum_M_4      3971\n",
       "sales_sum_M_5      3971\n",
       "CLV_LR             3971\n",
       "dtype: int64"
      ]
     },
     "execution_count": 416,
     "metadata": {},
     "output_type": "execute_result"
    }
   ],
   "source": [
    "sample_set_df.count()"
   ]
  },
  {
   "cell_type": "code",
   "execution_count": 417,
   "id": "e0063a08-e84c-48bc-82ab-07b243d4ca9c",
   "metadata": {
    "tags": []
   },
   "outputs": [
    {
     "data": {
      "text/html": [
       "<div>\n",
       "<style scoped>\n",
       "    .dataframe tbody tr th:only-of-type {\n",
       "        vertical-align: middle;\n",
       "    }\n",
       "\n",
       "    .dataframe tbody tr th {\n",
       "        vertical-align: top;\n",
       "    }\n",
       "\n",
       "    .dataframe thead th {\n",
       "        text-align: right;\n",
       "    }\n",
       "</style>\n",
       "<table border=\"1\" class=\"dataframe\">\n",
       "  <thead>\n",
       "    <tr style=\"text-align: right;\">\n",
       "      <th></th>\n",
       "      <th>CustomerID</th>\n",
       "      <th>sales_avg_M_1</th>\n",
       "      <th>sales_avg_M_2</th>\n",
       "      <th>sales_avg_M_3</th>\n",
       "      <th>sales_avg_M_4</th>\n",
       "      <th>sales_avg_M_5</th>\n",
       "      <th>sales_count_M_1</th>\n",
       "      <th>sales_count_M_2</th>\n",
       "      <th>sales_count_M_3</th>\n",
       "      <th>sales_count_M_4</th>\n",
       "      <th>sales_count_M_5</th>\n",
       "      <th>sales_sum_M_1</th>\n",
       "      <th>sales_sum_M_2</th>\n",
       "      <th>sales_sum_M_3</th>\n",
       "      <th>sales_sum_M_4</th>\n",
       "      <th>sales_sum_M_5</th>\n",
       "      <th>CLV_LR</th>\n",
       "    </tr>\n",
       "  </thead>\n",
       "  <tbody>\n",
       "    <tr>\n",
       "      <th>0</th>\n",
       "      <td>12346.0</td>\n",
       "      <td>0.000</td>\n",
       "      <td>0.00</td>\n",
       "      <td>142.310</td>\n",
       "      <td>23.410000</td>\n",
       "      <td>22.7</td>\n",
       "      <td>0.0</td>\n",
       "      <td>0.0</td>\n",
       "      <td>1.0</td>\n",
       "      <td>5.0</td>\n",
       "      <td>5.0</td>\n",
       "      <td>0.00</td>\n",
       "      <td>0.00</td>\n",
       "      <td>142.31</td>\n",
       "      <td>117.05</td>\n",
       "      <td>113.5</td>\n",
       "      <td>33.896364</td>\n",
       "    </tr>\n",
       "    <tr>\n",
       "      <th>1</th>\n",
       "      <td>12608.0</td>\n",
       "      <td>415.790</td>\n",
       "      <td>0.00</td>\n",
       "      <td>0.000</td>\n",
       "      <td>0.000000</td>\n",
       "      <td>0.0</td>\n",
       "      <td>1.0</td>\n",
       "      <td>0.0</td>\n",
       "      <td>0.0</td>\n",
       "      <td>0.0</td>\n",
       "      <td>0.0</td>\n",
       "      <td>415.79</td>\n",
       "      <td>0.00</td>\n",
       "      <td>0.00</td>\n",
       "      <td>0.00</td>\n",
       "      <td>0.0</td>\n",
       "      <td>415.790000</td>\n",
       "    </tr>\n",
       "    <tr>\n",
       "      <th>2</th>\n",
       "      <td>12745.0</td>\n",
       "      <td>0.000</td>\n",
       "      <td>266.93</td>\n",
       "      <td>456.920</td>\n",
       "      <td>0.000000</td>\n",
       "      <td>0.0</td>\n",
       "      <td>0.0</td>\n",
       "      <td>1.0</td>\n",
       "      <td>1.0</td>\n",
       "      <td>0.0</td>\n",
       "      <td>0.0</td>\n",
       "      <td>0.00</td>\n",
       "      <td>266.93</td>\n",
       "      <td>456.92</td>\n",
       "      <td>0.00</td>\n",
       "      <td>0.0</td>\n",
       "      <td>361.925000</td>\n",
       "    </tr>\n",
       "    <tr>\n",
       "      <th>3</th>\n",
       "      <td>12746.0</td>\n",
       "      <td>0.000</td>\n",
       "      <td>0.00</td>\n",
       "      <td>254.550</td>\n",
       "      <td>0.000000</td>\n",
       "      <td>0.0</td>\n",
       "      <td>0.0</td>\n",
       "      <td>0.0</td>\n",
       "      <td>1.0</td>\n",
       "      <td>0.0</td>\n",
       "      <td>0.0</td>\n",
       "      <td>0.00</td>\n",
       "      <td>0.00</td>\n",
       "      <td>254.55</td>\n",
       "      <td>0.00</td>\n",
       "      <td>0.0</td>\n",
       "      <td>254.550000</td>\n",
       "    </tr>\n",
       "    <tr>\n",
       "      <th>4</th>\n",
       "      <td>12747.0</td>\n",
       "      <td>450.265</td>\n",
       "      <td>314.84</td>\n",
       "      <td>286.725</td>\n",
       "      <td>156.963333</td>\n",
       "      <td>344.0</td>\n",
       "      <td>4.0</td>\n",
       "      <td>2.0</td>\n",
       "      <td>4.0</td>\n",
       "      <td>3.0</td>\n",
       "      <td>3.0</td>\n",
       "      <td>1801.06</td>\n",
       "      <td>629.68</td>\n",
       "      <td>1146.90</td>\n",
       "      <td>470.89</td>\n",
       "      <td>1032.0</td>\n",
       "      <td>317.533125</td>\n",
       "    </tr>\n",
       "  </tbody>\n",
       "</table>\n",
       "</div>"
      ],
      "text/plain": [
       "   CustomerID  sales_avg_M_1  sales_avg_M_2  sales_avg_M_3  sales_avg_M_4  \\\n",
       "0     12346.0          0.000           0.00        142.310      23.410000   \n",
       "1     12608.0        415.790           0.00          0.000       0.000000   \n",
       "2     12745.0          0.000         266.93        456.920       0.000000   \n",
       "3     12746.0          0.000           0.00        254.550       0.000000   \n",
       "4     12747.0        450.265         314.84        286.725     156.963333   \n",
       "\n",
       "   sales_avg_M_5  sales_count_M_1  sales_count_M_2  sales_count_M_3  \\\n",
       "0           22.7              0.0              0.0              1.0   \n",
       "1            0.0              1.0              0.0              0.0   \n",
       "2            0.0              0.0              1.0              1.0   \n",
       "3            0.0              0.0              0.0              1.0   \n",
       "4          344.0              4.0              2.0              4.0   \n",
       "\n",
       "   sales_count_M_4  sales_count_M_5  sales_sum_M_1  sales_sum_M_2  \\\n",
       "0              5.0              5.0           0.00           0.00   \n",
       "1              0.0              0.0         415.79           0.00   \n",
       "2              0.0              0.0           0.00         266.93   \n",
       "3              0.0              0.0           0.00           0.00   \n",
       "4              3.0              3.0        1801.06         629.68   \n",
       "\n",
       "   sales_sum_M_3  sales_sum_M_4  sales_sum_M_5      CLV_LR  \n",
       "0         142.31         117.05          113.5   33.896364  \n",
       "1           0.00           0.00            0.0  415.790000  \n",
       "2         456.92           0.00            0.0  361.925000  \n",
       "3         254.55           0.00            0.0  254.550000  \n",
       "4        1146.90         470.89         1032.0  317.533125  "
      ]
     },
     "execution_count": 417,
     "metadata": {},
     "output_type": "execute_result"
    }
   ],
   "source": [
    "sample_set_df.head()"
   ]
  },
  {
   "cell_type": "code",
   "execution_count": 418,
   "id": "cdeb973d-dd2b-4e22-bb15-61b18fa5eb2c",
   "metadata": {
    "tags": []
   },
   "outputs": [
    {
     "data": {
      "text/plain": [
       "CustomerID         0\n",
       "sales_avg_M_1      0\n",
       "sales_avg_M_2      0\n",
       "sales_avg_M_3      0\n",
       "sales_avg_M_4      0\n",
       "sales_avg_M_5      0\n",
       "sales_count_M_1    0\n",
       "sales_count_M_2    0\n",
       "sales_count_M_3    0\n",
       "sales_count_M_4    0\n",
       "sales_count_M_5    0\n",
       "sales_sum_M_1      0\n",
       "sales_sum_M_2      0\n",
       "sales_sum_M_3      0\n",
       "sales_sum_M_4      0\n",
       "sales_sum_M_5      0\n",
       "CLV_LR             0\n",
       "dtype: int64"
      ]
     },
     "execution_count": 418,
     "metadata": {},
     "output_type": "execute_result"
    }
   ],
   "source": [
    "sample_set_df.isna().sum()"
   ]
  },
  {
   "cell_type": "code",
   "execution_count": 419,
   "id": "198c2bc6-bca8-4a55-826e-379dba3ba062",
   "metadata": {
    "tags": []
   },
   "outputs": [],
   "source": [
    "# sample_set_df = sample_set_df.fillna(0)"
   ]
  },
  {
   "cell_type": "markdown",
   "id": "9705f0f8-e4a7-4050-a455-09a0fd6af87d",
   "metadata": {},
   "source": [
    "### Import packages for Linear Regression"
   ]
  },
  {
   "cell_type": "code",
   "execution_count": 420,
   "id": "67157d5a-2f60-4120-a74a-8e1555806a56",
   "metadata": {
    "tags": []
   },
   "outputs": [],
   "source": [
    "# Linear regression\n",
    "from sklearn.linear_model import LinearRegression\n",
    "from sklearn.model_selection import train_test_split"
   ]
  },
  {
   "cell_type": "code",
   "execution_count": 421,
   "id": "6e361240-447c-4ce4-a182-663d93b2c9d3",
   "metadata": {
    "tags": []
   },
   "outputs": [],
   "source": [
    "#Set the target variable (CLV_3M) and feature variables (everything except customer id)"
   ]
  },
  {
   "cell_type": "code",
   "execution_count": 422,
   "id": "1b41fb34-1583-4441-8740-80ae3779e626",
   "metadata": {
    "tags": []
   },
   "outputs": [
    {
     "data": {
      "text/html": [
       "<div>\n",
       "<style scoped>\n",
       "    .dataframe tbody tr th:only-of-type {\n",
       "        vertical-align: middle;\n",
       "    }\n",
       "\n",
       "    .dataframe tbody tr th {\n",
       "        vertical-align: top;\n",
       "    }\n",
       "\n",
       "    .dataframe thead th {\n",
       "        text-align: right;\n",
       "    }\n",
       "</style>\n",
       "<table border=\"1\" class=\"dataframe\">\n",
       "  <thead>\n",
       "    <tr style=\"text-align: right;\">\n",
       "      <th></th>\n",
       "      <th>Customer ID</th>\n",
       "      <th>Sales_min</th>\n",
       "      <th>Sales_max</th>\n",
       "      <th>Sales_sum</th>\n",
       "      <th>Sales_avg</th>\n",
       "      <th>Sales_median</th>\n",
       "      <th>Sales_count</th>\n",
       "      <th>InvoiceDate_min</th>\n",
       "      <th>InvoiceDate_max</th>\n",
       "      <th>InvoiceDate_purchase_duration</th>\n",
       "      <th>InvoiceDate_purchase_frequency</th>\n",
       "    </tr>\n",
       "  </thead>\n",
       "  <tbody>\n",
       "    <tr>\n",
       "      <th>0</th>\n",
       "      <td>12346.0</td>\n",
       "      <td>1.00</td>\n",
       "      <td>142.31</td>\n",
       "      <td>372.86</td>\n",
       "      <td>33.896364</td>\n",
       "      <td>22.500</td>\n",
       "      <td>11</td>\n",
       "      <td>2009-12-14 08:34:00</td>\n",
       "      <td>2010-06-28 13:53:00</td>\n",
       "      <td>196</td>\n",
       "      <td>11</td>\n",
       "    </tr>\n",
       "    <tr>\n",
       "      <th>1</th>\n",
       "      <td>12608.0</td>\n",
       "      <td>415.79</td>\n",
       "      <td>415.79</td>\n",
       "      <td>415.79</td>\n",
       "      <td>415.790000</td>\n",
       "      <td>415.790</td>\n",
       "      <td>1</td>\n",
       "      <td>2010-10-31 10:49:00</td>\n",
       "      <td>2010-10-31 10:49:00</td>\n",
       "      <td>0</td>\n",
       "      <td>1</td>\n",
       "    </tr>\n",
       "    <tr>\n",
       "      <th>2</th>\n",
       "      <td>12745.0</td>\n",
       "      <td>266.93</td>\n",
       "      <td>456.92</td>\n",
       "      <td>723.85</td>\n",
       "      <td>361.925000</td>\n",
       "      <td>361.925</td>\n",
       "      <td>2</td>\n",
       "      <td>2010-05-14 16:50:00</td>\n",
       "      <td>2010-08-10 10:14:00</td>\n",
       "      <td>87</td>\n",
       "      <td>2</td>\n",
       "    </tr>\n",
       "    <tr>\n",
       "      <th>3</th>\n",
       "      <td>12746.0</td>\n",
       "      <td>254.55</td>\n",
       "      <td>254.55</td>\n",
       "      <td>254.55</td>\n",
       "      <td>254.550000</td>\n",
       "      <td>254.550</td>\n",
       "      <td>1</td>\n",
       "      <td>2010-06-17 10:41:00</td>\n",
       "      <td>2010-06-17 10:41:00</td>\n",
       "      <td>0</td>\n",
       "      <td>1</td>\n",
       "    </tr>\n",
       "    <tr>\n",
       "      <th>4</th>\n",
       "      <td>12747.0</td>\n",
       "      <td>89.32</td>\n",
       "      <td>715.10</td>\n",
       "      <td>5080.53</td>\n",
       "      <td>317.533125</td>\n",
       "      <td>315.290</td>\n",
       "      <td>16</td>\n",
       "      <td>2009-12-07 13:23:00</td>\n",
       "      <td>2010-12-05 15:38:00</td>\n",
       "      <td>363</td>\n",
       "      <td>16</td>\n",
       "    </tr>\n",
       "  </tbody>\n",
       "</table>\n",
       "</div>"
      ],
      "text/plain": [
       "   Customer ID  Sales_min  Sales_max  Sales_sum   Sales_avg  Sales_median  \\\n",
       "0      12346.0       1.00     142.31     372.86   33.896364        22.500   \n",
       "1      12608.0     415.79     415.79     415.79  415.790000       415.790   \n",
       "2      12745.0     266.93     456.92     723.85  361.925000       361.925   \n",
       "3      12746.0     254.55     254.55     254.55  254.550000       254.550   \n",
       "4      12747.0      89.32     715.10    5080.53  317.533125       315.290   \n",
       "\n",
       "   Sales_count     InvoiceDate_min     InvoiceDate_max  \\\n",
       "0           11 2009-12-14 08:34:00 2010-06-28 13:53:00   \n",
       "1            1 2010-10-31 10:49:00 2010-10-31 10:49:00   \n",
       "2            2 2010-05-14 16:50:00 2010-08-10 10:14:00   \n",
       "3            1 2010-06-17 10:41:00 2010-06-17 10:41:00   \n",
       "4           16 2009-12-07 13:23:00 2010-12-05 15:38:00   \n",
       "\n",
       "   InvoiceDate_purchase_duration  InvoiceDate_purchase_frequency  \n",
       "0                            196                              11  \n",
       "1                              0                               1  \n",
       "2                             87                               2  \n",
       "3                              0                               1  \n",
       "4                            363                              16  "
      ]
     },
     "execution_count": 422,
     "metadata": {},
     "output_type": "execute_result"
    }
   ],
   "source": [
    "summary_df.head()"
   ]
  },
  {
   "cell_type": "code",
   "execution_count": 423,
   "id": "ee9f5466-32c7-4584-8109-a769db63d87e",
   "metadata": {
    "tags": []
   },
   "outputs": [],
   "source": [
    "for_reg=summary_df"
   ]
  },
  {
   "cell_type": "code",
   "execution_count": 424,
   "id": "da9091b4-aabc-4c38-b7bd-043b60f5f6c4",
   "metadata": {
    "tags": []
   },
   "outputs": [],
   "source": [
    "for_reg.reset_index(inplace=True)"
   ]
  },
  {
   "cell_type": "code",
   "execution_count": 425,
   "id": "97fc935e-f498-498b-9e47-e7fc23073332",
   "metadata": {
    "tags": []
   },
   "outputs": [],
   "source": [
    "for_reg=for_reg.drop('InvoiceDate_min', axis=1)\n",
    "for_reg=for_reg.drop('InvoiceDate_max', axis=1)\n",
    "\n"
   ]
  },
  {
   "cell_type": "code",
   "execution_count": 426,
   "id": "b6445ecc-45a7-4994-89a0-0843cb1a6fdd",
   "metadata": {
    "tags": []
   },
   "outputs": [],
   "source": [
    "for_reg.rename(columns={'InvoiceDate_purchase_duration': 'recency', 'InvoiceDate_purchase_frequency': 'frequency'}, inplace=True)\n",
    "for_reg.rename(columns={'Sales_median': 'CLV_LR'}, inplace=True)\n",
    " #   all_data.rename(columns={'CLV_3M': 'Recency_quantiles'}, inplace=True)"
   ]
  },
  {
   "cell_type": "code",
   "execution_count": 427,
   "id": "8e09081a-6899-4008-a02f-379cd37c68fe",
   "metadata": {
    "tags": []
   },
   "outputs": [
    {
     "data": {
      "text/html": [
       "<div>\n",
       "<style scoped>\n",
       "    .dataframe tbody tr th:only-of-type {\n",
       "        vertical-align: middle;\n",
       "    }\n",
       "\n",
       "    .dataframe tbody tr th {\n",
       "        vertical-align: top;\n",
       "    }\n",
       "\n",
       "    .dataframe thead th {\n",
       "        text-align: right;\n",
       "    }\n",
       "</style>\n",
       "<table border=\"1\" class=\"dataframe\">\n",
       "  <thead>\n",
       "    <tr style=\"text-align: right;\">\n",
       "      <th></th>\n",
       "      <th>index</th>\n",
       "      <th>Customer ID</th>\n",
       "      <th>Sales_min</th>\n",
       "      <th>Sales_max</th>\n",
       "      <th>Sales_sum</th>\n",
       "      <th>Sales_avg</th>\n",
       "      <th>CLV_LR</th>\n",
       "      <th>Sales_count</th>\n",
       "      <th>recency</th>\n",
       "      <th>frequency</th>\n",
       "    </tr>\n",
       "  </thead>\n",
       "  <tbody>\n",
       "    <tr>\n",
       "      <th>0</th>\n",
       "      <td>0</td>\n",
       "      <td>12346.0</td>\n",
       "      <td>1.00</td>\n",
       "      <td>142.31</td>\n",
       "      <td>372.86</td>\n",
       "      <td>33.896364</td>\n",
       "      <td>22.500</td>\n",
       "      <td>11</td>\n",
       "      <td>196</td>\n",
       "      <td>11</td>\n",
       "    </tr>\n",
       "    <tr>\n",
       "      <th>1</th>\n",
       "      <td>1</td>\n",
       "      <td>12608.0</td>\n",
       "      <td>415.79</td>\n",
       "      <td>415.79</td>\n",
       "      <td>415.79</td>\n",
       "      <td>415.790000</td>\n",
       "      <td>415.790</td>\n",
       "      <td>1</td>\n",
       "      <td>0</td>\n",
       "      <td>1</td>\n",
       "    </tr>\n",
       "    <tr>\n",
       "      <th>2</th>\n",
       "      <td>2</td>\n",
       "      <td>12745.0</td>\n",
       "      <td>266.93</td>\n",
       "      <td>456.92</td>\n",
       "      <td>723.85</td>\n",
       "      <td>361.925000</td>\n",
       "      <td>361.925</td>\n",
       "      <td>2</td>\n",
       "      <td>87</td>\n",
       "      <td>2</td>\n",
       "    </tr>\n",
       "    <tr>\n",
       "      <th>3</th>\n",
       "      <td>3</td>\n",
       "      <td>12746.0</td>\n",
       "      <td>254.55</td>\n",
       "      <td>254.55</td>\n",
       "      <td>254.55</td>\n",
       "      <td>254.550000</td>\n",
       "      <td>254.550</td>\n",
       "      <td>1</td>\n",
       "      <td>0</td>\n",
       "      <td>1</td>\n",
       "    </tr>\n",
       "    <tr>\n",
       "      <th>4</th>\n",
       "      <td>4</td>\n",
       "      <td>12747.0</td>\n",
       "      <td>89.32</td>\n",
       "      <td>715.10</td>\n",
       "      <td>5080.53</td>\n",
       "      <td>317.533125</td>\n",
       "      <td>315.290</td>\n",
       "      <td>16</td>\n",
       "      <td>363</td>\n",
       "      <td>16</td>\n",
       "    </tr>\n",
       "  </tbody>\n",
       "</table>\n",
       "</div>"
      ],
      "text/plain": [
       "   index  Customer ID  Sales_min  Sales_max  Sales_sum   Sales_avg   CLV_LR  \\\n",
       "0      0      12346.0       1.00     142.31     372.86   33.896364   22.500   \n",
       "1      1      12608.0     415.79     415.79     415.79  415.790000  415.790   \n",
       "2      2      12745.0     266.93     456.92     723.85  361.925000  361.925   \n",
       "3      3      12746.0     254.55     254.55     254.55  254.550000  254.550   \n",
       "4      4      12747.0      89.32     715.10    5080.53  317.533125  315.290   \n",
       "\n",
       "   Sales_count  recency  frequency  \n",
       "0           11      196         11  \n",
       "1            1        0          1  \n",
       "2            2       87          2  \n",
       "3            1        0          1  \n",
       "4           16      363         16  "
      ]
     },
     "execution_count": 427,
     "metadata": {},
     "output_type": "execute_result"
    }
   ],
   "source": [
    "for_reg.head()"
   ]
  },
  {
   "cell_type": "code",
   "execution_count": 428,
   "id": "8a1b5fc5-1215-4c00-a6e5-bfab911876c6",
   "metadata": {
    "tags": []
   },
   "outputs": [],
   "source": [
    "target_var = 'CLV_LR'\n",
    "\n",
    "all_features = [col for col in for_reg.columns if col not in ['Customer ID', 'CLV_LR'] ]"
   ]
  },
  {
   "cell_type": "code",
   "execution_count": 429,
   "id": "ad19c414-bb64-4fc6-b379-a43c24cc55b7",
   "metadata": {
    "tags": []
   },
   "outputs": [
    {
     "data": {
      "text/plain": [
       "['index',\n",
       " 'Sales_min',\n",
       " 'Sales_max',\n",
       " 'Sales_sum',\n",
       " 'Sales_avg',\n",
       " 'Sales_count',\n",
       " 'recency',\n",
       " 'frequency']"
      ]
     },
     "execution_count": 429,
     "metadata": {},
     "output_type": "execute_result"
    }
   ],
   "source": [
    "all_features"
   ]
  },
  {
   "cell_type": "code",
   "execution_count": 430,
   "id": "be7fc581-34ba-4c9a-bf38-2c67469607f5",
   "metadata": {
    "tags": []
   },
   "outputs": [
    {
     "data": {
      "text/plain": [
       "8"
      ]
     },
     "execution_count": 430,
     "metadata": {},
     "output_type": "execute_result"
    }
   ],
   "source": [
    "len(all_features)"
   ]
  },
  {
   "cell_type": "code",
   "execution_count": 431,
   "id": "eacc3ace-52eb-4928-988c-93b64e01eeb3",
   "metadata": {},
   "outputs": [],
   "source": [
    "# Split dataset into train and test sets"
   ]
  },
  {
   "cell_type": "code",
   "execution_count": 432,
   "id": "8d60cd94-b948-44ec-9b21-53085bd791d2",
   "metadata": {
    "tags": []
   },
   "outputs": [],
   "source": [
    "x_train, x_test, y_train, y_test = train_test_split(for_reg[all_features], for_reg[target_var], test_size=0.3,  random_state=11)"
   ]
  },
  {
   "cell_type": "code",
   "execution_count": 433,
   "id": "c6b6440c-a8d0-446c-a7d3-13685c04319a",
   "metadata": {},
   "outputs": [],
   "source": [
    "#Training features shape: (1207 12)\n",
    "#Testing features shape: (518 12)\n",
    "#Training target shape: (1207 )\n",
    "#Testing target shape: (518 )\n",
    "#The dataset has been split into training and testing sets with the training set containing 1207 samples and the testing set containing 518 samples, each with 12 features. The target variable has been split accordingly."
   ]
  },
  {
   "cell_type": "code",
   "execution_count": 434,
   "id": "a19fe9ae-fb5c-416d-9323-89d9d6f21f9e",
   "metadata": {},
   "outputs": [],
   "source": [
    "# Fit a Linear Regression model to predict the response using the available features"
   ]
  },
  {
   "cell_type": "code",
   "execution_count": 435,
   "id": "427d5c2d-f785-4745-bf5a-a0cf5488c52c",
   "metadata": {
    "tags": []
   },
   "outputs": [
    {
     "data": {
      "text/html": [
       "<style>#sk-container-id-3 {color: black;background-color: white;}#sk-container-id-3 pre{padding: 0;}#sk-container-id-3 div.sk-toggleable {background-color: white;}#sk-container-id-3 label.sk-toggleable__label {cursor: pointer;display: block;width: 100%;margin-bottom: 0;padding: 0.3em;box-sizing: border-box;text-align: center;}#sk-container-id-3 label.sk-toggleable__label-arrow:before {content: \"▸\";float: left;margin-right: 0.25em;color: #696969;}#sk-container-id-3 label.sk-toggleable__label-arrow:hover:before {color: black;}#sk-container-id-3 div.sk-estimator:hover label.sk-toggleable__label-arrow:before {color: black;}#sk-container-id-3 div.sk-toggleable__content {max-height: 0;max-width: 0;overflow: hidden;text-align: left;background-color: #f0f8ff;}#sk-container-id-3 div.sk-toggleable__content pre {margin: 0.2em;color: black;border-radius: 0.25em;background-color: #f0f8ff;}#sk-container-id-3 input.sk-toggleable__control:checked~div.sk-toggleable__content {max-height: 200px;max-width: 100%;overflow: auto;}#sk-container-id-3 input.sk-toggleable__control:checked~label.sk-toggleable__label-arrow:before {content: \"▾\";}#sk-container-id-3 div.sk-estimator input.sk-toggleable__control:checked~label.sk-toggleable__label {background-color: #d4ebff;}#sk-container-id-3 div.sk-label input.sk-toggleable__control:checked~label.sk-toggleable__label {background-color: #d4ebff;}#sk-container-id-3 input.sk-hidden--visually {border: 0;clip: rect(1px 1px 1px 1px);clip: rect(1px, 1px, 1px, 1px);height: 1px;margin: -1px;overflow: hidden;padding: 0;position: absolute;width: 1px;}#sk-container-id-3 div.sk-estimator {font-family: monospace;background-color: #f0f8ff;border: 1px dotted black;border-radius: 0.25em;box-sizing: border-box;margin-bottom: 0.5em;}#sk-container-id-3 div.sk-estimator:hover {background-color: #d4ebff;}#sk-container-id-3 div.sk-parallel-item::after {content: \"\";width: 100%;border-bottom: 1px solid gray;flex-grow: 1;}#sk-container-id-3 div.sk-label:hover label.sk-toggleable__label {background-color: #d4ebff;}#sk-container-id-3 div.sk-serial::before {content: \"\";position: absolute;border-left: 1px solid gray;box-sizing: border-box;top: 0;bottom: 0;left: 50%;z-index: 0;}#sk-container-id-3 div.sk-serial {display: flex;flex-direction: column;align-items: center;background-color: white;padding-right: 0.2em;padding-left: 0.2em;position: relative;}#sk-container-id-3 div.sk-item {position: relative;z-index: 1;}#sk-container-id-3 div.sk-parallel {display: flex;align-items: stretch;justify-content: center;background-color: white;position: relative;}#sk-container-id-3 div.sk-item::before, #sk-container-id-3 div.sk-parallel-item::before {content: \"\";position: absolute;border-left: 1px solid gray;box-sizing: border-box;top: 0;bottom: 0;left: 50%;z-index: -1;}#sk-container-id-3 div.sk-parallel-item {display: flex;flex-direction: column;z-index: 1;position: relative;background-color: white;}#sk-container-id-3 div.sk-parallel-item:first-child::after {align-self: flex-end;width: 50%;}#sk-container-id-3 div.sk-parallel-item:last-child::after {align-self: flex-start;width: 50%;}#sk-container-id-3 div.sk-parallel-item:only-child::after {width: 0;}#sk-container-id-3 div.sk-dashed-wrapped {border: 1px dashed gray;margin: 0 0.4em 0.5em 0.4em;box-sizing: border-box;padding-bottom: 0.4em;background-color: white;}#sk-container-id-3 div.sk-label label {font-family: monospace;font-weight: bold;display: inline-block;line-height: 1.2em;}#sk-container-id-3 div.sk-label-container {text-align: center;}#sk-container-id-3 div.sk-container {/* jupyter's `normalize.less` sets `[hidden] { display: none; }` but bootstrap.min.css set `[hidden] { display: none !important; }` so we also need the `!important` here to be able to override the default hidden behavior on the sphinx rendered scikit-learn.org. See: https://github.com/scikit-learn/scikit-learn/issues/21755 */display: inline-block !important;position: relative;}#sk-container-id-3 div.sk-text-repr-fallback {display: none;}</style><div id=\"sk-container-id-3\" class=\"sk-top-container\"><div class=\"sk-text-repr-fallback\"><pre>LinearRegression()</pre><b>In a Jupyter environment, please rerun this cell to show the HTML representation or trust the notebook. <br />On GitHub, the HTML representation is unable to render, please try loading this page with nbviewer.org.</b></div><div class=\"sk-container\" hidden><div class=\"sk-item\"><div class=\"sk-estimator sk-toggleable\"><input class=\"sk-toggleable__control sk-hidden--visually\" id=\"sk-estimator-id-3\" type=\"checkbox\" checked><label for=\"sk-estimator-id-3\" class=\"sk-toggleable__label sk-toggleable__label-arrow\">LinearRegression</label><div class=\"sk-toggleable__content\"><pre>LinearRegression()</pre></div></div></div></div></div>"
      ],
      "text/plain": [
       "LinearRegression()"
      ]
     },
     "execution_count": 435,
     "metadata": {},
     "output_type": "execute_result"
    }
   ],
   "source": [
    "reg_fit = LinearRegression()\n",
    "reg_fit.fit(x_train, y_train)"
   ]
  },
  {
   "cell_type": "code",
   "execution_count": 436,
   "id": "db5f954e-14bf-4afa-84a2-66124d7a4b0d",
   "metadata": {},
   "outputs": [],
   "source": [
    "# Obtain the estimate for the y-intercept of regression model"
   ]
  },
  {
   "cell_type": "code",
   "execution_count": 437,
   "id": "28ce9248-8f95-4ffb-ad38-77a7a93ed097",
   "metadata": {
    "tags": []
   },
   "outputs": [
    {
     "data": {
      "text/plain": [
       "5.870799597552093"
      ]
     },
     "execution_count": 437,
     "metadata": {},
     "output_type": "execute_result"
    }
   ],
   "source": [
    "reg_fit.intercept_"
   ]
  },
  {
   "cell_type": "code",
   "execution_count": 438,
   "id": "c1e11d78-74e2-4a1c-8283-7af4bd5633cd",
   "metadata": {
    "tags": []
   },
   "outputs": [
    {
     "data": {
      "text/plain": [
       "array([-8.91926905e-04, -1.87757411e-02, -1.56023091e-01,  5.30651609e-03,\n",
       "        1.16747310e+00, -1.92461475e-01,  3.74788772e-02, -1.92461475e-01])"
      ]
     },
     "execution_count": 438,
     "metadata": {},
     "output_type": "execute_result"
    }
   ],
   "source": [
    "reg_fit.coef_"
   ]
  },
  {
   "cell_type": "code",
   "execution_count": 439,
   "id": "fb004ee5-4d0b-4f94-b745-9a904a5d6778",
   "metadata": {
    "tags": []
   },
   "outputs": [],
   "source": [
    "# Pass our input datasets (train and test) through our model predictors"
   ]
  },
  {
   "cell_type": "code",
   "execution_count": 440,
   "id": "6e3790e3-3795-4483-bf1f-957213f5ff7f",
   "metadata": {
    "tags": []
   },
   "outputs": [
    {
     "data": {
      "text/plain": [
       "array([ 98.0875303 , 310.12395088, 409.54758599, ..., 346.26899898,\n",
       "       206.81688099, 175.14079626])"
      ]
     },
     "execution_count": 440,
     "metadata": {},
     "output_type": "execute_result"
    }
   ],
   "source": [
    "reg_fit.predict(x_train)"
   ]
  },
  {
   "cell_type": "code",
   "execution_count": 441,
   "id": "8edfd07a-8f1b-4701-97c4-5151845072c7",
   "metadata": {
    "tags": []
   },
   "outputs": [
    {
     "data": {
      "text/plain": [
       "array([178.31743255, 192.72942455, 102.72838892, ..., 438.95257827,\n",
       "       365.64288066, 285.02776841])"
      ]
     },
     "execution_count": 441,
     "metadata": {},
     "output_type": "execute_result"
    }
   ],
   "source": [
    "reg_fit.predict(x_test)"
   ]
  },
  {
   "cell_type": "code",
   "execution_count": 442,
   "id": "e4b6a5d8-21e9-4f07-a58f-fc46fec8016c",
   "metadata": {},
   "outputs": [],
   "source": [
    "# Assess performance of model on training data"
   ]
  },
  {
   "cell_type": "code",
   "execution_count": 443,
   "id": "0eebae3c-b3a3-4630-87b2-7a0a5c6a1680",
   "metadata": {
    "tags": []
   },
   "outputs": [],
   "source": [
    "from sklearn.metrics import r2_score, median_absolute_error"
   ]
  },
  {
   "cell_type": "code",
   "execution_count": 444,
   "id": "5c18f5fe-29fd-425c-90e2-c14a3299aa31",
   "metadata": {
    "tags": []
   },
   "outputs": [
    {
     "data": {
      "text/plain": [
       "0.9724645150050457"
      ]
     },
     "execution_count": 444,
     "metadata": {},
     "output_type": "execute_result"
    }
   ],
   "source": [
    "r2_score(y_true=y_train, y_pred=reg_fit.predict(x_train))"
   ]
  },
  {
   "cell_type": "code",
   "execution_count": 445,
   "id": "17575982-f4da-4fbd-9750-3cff8c1c7058",
   "metadata": {},
   "outputs": [],
   "source": [
    "# Compare 𝑅2 performance on training and test datasets"
   ]
  },
  {
   "cell_type": "code",
   "execution_count": 446,
   "id": "11d471bd-1cad-44bb-8193-1a4f9227bf0f",
   "metadata": {
    "tags": []
   },
   "outputs": [
    {
     "data": {
      "text/plain": [
       "0.9851174472489891"
      ]
     },
     "execution_count": 446,
     "metadata": {},
     "output_type": "execute_result"
    }
   ],
   "source": [
    "r2_score(y_true=y_test, y_pred=reg_fit.predict(x_test))"
   ]
  },
  {
   "cell_type": "code",
   "execution_count": 447,
   "id": "258b6dc6-6bfb-45d5-a454-2017529af433",
   "metadata": {},
   "outputs": [],
   "source": [
    "# Compare  𝑀𝑆𝐸  performance on training and test datasets"
   ]
  },
  {
   "cell_type": "code",
   "execution_count": 448,
   "id": "07fd62cc-f4ef-489d-b1a0-a4d9a682e9e7",
   "metadata": {
    "tags": []
   },
   "outputs": [
    {
     "data": {
      "text/plain": [
       "5.8994532907441055"
      ]
     },
     "execution_count": 448,
     "metadata": {},
     "output_type": "execute_result"
    }
   ],
   "source": [
    "median_absolute_error(y_true=y_test, y_pred=reg_fit.predict(x_test))"
   ]
  },
  {
   "cell_type": "code",
   "execution_count": 449,
   "id": "555d5f6d-e280-43e9-ba8b-e0c2a488252e",
   "metadata": {},
   "outputs": [],
   "source": [
    "# Visualize the predicted vs actual values using test dataset"
   ]
  },
  {
   "cell_type": "code",
   "execution_count": 450,
   "id": "3ea41621-2837-4c57-96e7-18d8b05e2203",
   "metadata": {
    "tags": []
   },
   "outputs": [
    {
     "data": {
      "text/plain": [
       "<matplotlib.collections.PathCollection at 0x1d0e73b8350>"
      ]
     },
     "execution_count": 450,
     "metadata": {},
     "output_type": "execute_result"
    },
    {
     "data": {
      "image/png": "[encoded data removed]",
      "text/plain": [
       "<Figure size 640x480 with 1 Axes>"
      ]
     },
     "metadata": {},
     "output_type": "display_data"
    }
   ],
   "source": [
    "plt.scatter( y_test, reg_fit.predict(x_test) ) "
   ]
  },
  {
   "cell_type": "code",
   "execution_count": 451,
   "id": "4abf951a-a64c-4b62-a925-853d812f3549",
   "metadata": {},
   "outputs": [],
   "source": [
    "# The scatter plot above displays the actual vs. predicted values for the test set. \n",
    "#Each point represents an observation from the test set, with the actual value on the x-axis and the predicted value on the y-axis. \n",
    "#A perfect prediction would result in all points lying on a line with a 45-degree slope, \n",
    "#indicating that the predicted values are equal to the actual values."
   ]
  },
  {
   "cell_type": "code",
   "execution_count": 452,
   "id": "cec0be74-6dbd-493d-8bbd-3c64bbe17058",
   "metadata": {
    "tags": []
   },
   "outputs": [
    {
     "data": {
      "image/png": "[encoded data removed]",
      "text/plain": [
       "<Figure size 640x480 with 1 Axes>"
      ]
     },
     "metadata": {},
     "output_type": "display_data"
    }
   ],
   "source": [
    "test_preds = reg_fit.predict(x_test)\n",
    "\n",
    "plt.scatter(y_test, test_preds)\n",
    "plt.plot([0, max(y_test)], [0, max(test_preds)], color='gray', lw=1, linestyle='--')\n",
    "\n",
    "plt.xlabel('actual')\n",
    "plt.ylabel('predicted')\n",
    "plt.title('Out-of-Sample Actual vs. Predicted')\n",
    "plt.grid()\n",
    "\n",
    "plt.show()"
   ]
  },
  {
   "cell_type": "code",
   "execution_count": 453,
   "id": "070994c1-bc99-420b-9414-6ba124d171cf",
   "metadata": {
    "tags": []
   },
   "outputs": [
    {
     "data": {
      "text/html": [
       "<div>\n",
       "<style scoped>\n",
       "    .dataframe tbody tr th:only-of-type {\n",
       "        vertical-align: middle;\n",
       "    }\n",
       "\n",
       "    .dataframe tbody tr th {\n",
       "        vertical-align: top;\n",
       "    }\n",
       "\n",
       "    .dataframe thead th {\n",
       "        text-align: right;\n",
       "    }\n",
       "</style>\n",
       "<table border=\"1\" class=\"dataframe\">\n",
       "  <thead>\n",
       "    <tr style=\"text-align: right;\">\n",
       "      <th></th>\n",
       "      <th>Customer ID</th>\n",
       "      <th>Predicted_CLV_LR</th>\n",
       "    </tr>\n",
       "  </thead>\n",
       "  <tbody>\n",
       "    <tr>\n",
       "      <th>0</th>\n",
       "      <td>12346.0</td>\n",
       "      <td>28.311766</td>\n",
       "    </tr>\n",
       "    <tr>\n",
       "      <th>1</th>\n",
       "      <td>12608.0</td>\n",
       "      <td>420.435415</td>\n",
       "    </tr>\n",
       "    <tr>\n",
       "      <th>2</th>\n",
       "      <td>12745.0</td>\n",
       "      <td>358.436776</td>\n",
       "    </tr>\n",
       "    <tr>\n",
       "      <th>3</th>\n",
       "      <td>12746.0</td>\n",
       "      <td>259.519209</td>\n",
       "    </tr>\n",
       "    <tr>\n",
       "      <th>4</th>\n",
       "      <td>12747.0</td>\n",
       "      <td>297.735431</td>\n",
       "    </tr>\n",
       "  </tbody>\n",
       "</table>\n",
       "</div>"
      ],
      "text/plain": [
       "   Customer ID  Predicted_CLV_LR\n",
       "0      12346.0         28.311766\n",
       "1      12608.0        420.435415\n",
       "2      12745.0        358.436776\n",
       "3      12746.0        259.519209\n",
       "4      12747.0        297.735431"
      ]
     },
     "execution_count": 453,
     "metadata": {},
     "output_type": "execute_result"
    }
   ],
   "source": [
    "import pandas as pd\n",
    "\n",
    "# Assuming 'CustomerID' is in the original dataframe 'sample_set_df'\n",
    "# and we want to predict 'CLV_3M' for all customers.\n",
    "# We will use the entire dataset (excluding the actual 'CLV_3M' values) to predict the 'CLV_3M'.\n",
    "\n",
    "# Prepare the features for prediction\n",
    "features_for_prediction = for_reg[all_features]\n",
    "\n",
    "# Predict the 'CLV_3M' using the fitted model\n",
    "predicted_CLV_3M = reg_fit.predict(features_for_prediction)\n",
    "\n",
    "# Create a dataframe with 'CustomerID' and the predicted 'CLV_3M'\n",
    "predictions_df = pd.DataFrame({'Customer ID': for_reg['Customer ID'], 'Predicted_CLV_LR': predicted_CLV_3M})\n",
    "\n",
    "# Display the first 5 rows of the dataframe\n",
    "predictions_df.head()"
   ]
  },
  {
   "cell_type": "code",
   "execution_count": 454,
   "id": "0655b30c-6aa4-4f37-a2c2-267eb35a58d4",
   "metadata": {
    "tags": []
   },
   "outputs": [
    {
     "data": {
      "text/html": [
       "<div>\n",
       "<style scoped>\n",
       "    .dataframe tbody tr th:only-of-type {\n",
       "        vertical-align: middle;\n",
       "    }\n",
       "\n",
       "    .dataframe tbody tr th {\n",
       "        vertical-align: top;\n",
       "    }\n",
       "\n",
       "    .dataframe thead th {\n",
       "        text-align: right;\n",
       "    }\n",
       "</style>\n",
       "<table border=\"1\" class=\"dataframe\">\n",
       "  <thead>\n",
       "    <tr style=\"text-align: right;\">\n",
       "      <th></th>\n",
       "      <th>index</th>\n",
       "      <th>Customer ID</th>\n",
       "      <th>Sales_min</th>\n",
       "      <th>Sales_max</th>\n",
       "      <th>Sales_sum</th>\n",
       "      <th>Sales_avg</th>\n",
       "      <th>CLV_LR</th>\n",
       "      <th>Sales_count</th>\n",
       "      <th>recency</th>\n",
       "      <th>frequency</th>\n",
       "    </tr>\n",
       "  </thead>\n",
       "  <tbody>\n",
       "    <tr>\n",
       "      <th>0</th>\n",
       "      <td>0</td>\n",
       "      <td>12346.0</td>\n",
       "      <td>1.00</td>\n",
       "      <td>142.31</td>\n",
       "      <td>372.86</td>\n",
       "      <td>33.896364</td>\n",
       "      <td>22.500</td>\n",
       "      <td>11</td>\n",
       "      <td>196</td>\n",
       "      <td>11</td>\n",
       "    </tr>\n",
       "    <tr>\n",
       "      <th>1</th>\n",
       "      <td>1</td>\n",
       "      <td>12608.0</td>\n",
       "      <td>415.79</td>\n",
       "      <td>415.79</td>\n",
       "      <td>415.79</td>\n",
       "      <td>415.790000</td>\n",
       "      <td>415.790</td>\n",
       "      <td>1</td>\n",
       "      <td>0</td>\n",
       "      <td>1</td>\n",
       "    </tr>\n",
       "    <tr>\n",
       "      <th>2</th>\n",
       "      <td>2</td>\n",
       "      <td>12745.0</td>\n",
       "      <td>266.93</td>\n",
       "      <td>456.92</td>\n",
       "      <td>723.85</td>\n",
       "      <td>361.925000</td>\n",
       "      <td>361.925</td>\n",
       "      <td>2</td>\n",
       "      <td>87</td>\n",
       "      <td>2</td>\n",
       "    </tr>\n",
       "    <tr>\n",
       "      <th>3</th>\n",
       "      <td>3</td>\n",
       "      <td>12746.0</td>\n",
       "      <td>254.55</td>\n",
       "      <td>254.55</td>\n",
       "      <td>254.55</td>\n",
       "      <td>254.550000</td>\n",
       "      <td>254.550</td>\n",
       "      <td>1</td>\n",
       "      <td>0</td>\n",
       "      <td>1</td>\n",
       "    </tr>\n",
       "    <tr>\n",
       "      <th>4</th>\n",
       "      <td>4</td>\n",
       "      <td>12747.0</td>\n",
       "      <td>89.32</td>\n",
       "      <td>715.10</td>\n",
       "      <td>5080.53</td>\n",
       "      <td>317.533125</td>\n",
       "      <td>315.290</td>\n",
       "      <td>16</td>\n",
       "      <td>363</td>\n",
       "      <td>16</td>\n",
       "    </tr>\n",
       "  </tbody>\n",
       "</table>\n",
       "</div>"
      ],
      "text/plain": [
       "   index  Customer ID  Sales_min  Sales_max  Sales_sum   Sales_avg   CLV_LR  \\\n",
       "0      0      12346.0       1.00     142.31     372.86   33.896364   22.500   \n",
       "1      1      12608.0     415.79     415.79     415.79  415.790000  415.790   \n",
       "2      2      12745.0     266.93     456.92     723.85  361.925000  361.925   \n",
       "3      3      12746.0     254.55     254.55     254.55  254.550000  254.550   \n",
       "4      4      12747.0      89.32     715.10    5080.53  317.533125  315.290   \n",
       "\n",
       "   Sales_count  recency  frequency  \n",
       "0           11      196         11  \n",
       "1            1        0          1  \n",
       "2            2       87          2  \n",
       "3            1        0          1  \n",
       "4           16      363         16  "
      ]
     },
     "execution_count": 454,
     "metadata": {},
     "output_type": "execute_result"
    }
   ],
   "source": [
    "for_reg.head()"
   ]
  },
  {
   "cell_type": "code",
   "execution_count": 455,
   "id": "e60ec0cb-6866-498b-9171-39d57cbd0f2c",
   "metadata": {
    "tags": []
   },
   "outputs": [],
   "source": [
    "predictions_df.to_csv('LR_predictions.csv')"
   ]
  },
  {
   "cell_type": "code",
   "execution_count": 456,
   "id": "3d0e0357-4a0c-4f31-8168-d5c3a2942fa7",
   "metadata": {
    "tags": []
   },
   "outputs": [
    {
     "name": "stdout",
     "output_type": "stream",
     "text": [
      "<class 'pandas.core.frame.DataFrame'>\n",
      "RangeIndex: 3971 entries, 0 to 3970\n",
      "Data columns (total 2 columns):\n",
      " #   Column            Non-Null Count  Dtype  \n",
      "---  ------            --------------  -----  \n",
      " 0   Customer ID       3971 non-null   float64\n",
      " 1   Predicted_CLV_LR  3971 non-null   float64\n",
      "dtypes: float64(2)\n",
      "memory usage: 62.2 KB\n"
     ]
    }
   ],
   "source": [
    "predictions_df.info()"
   ]
  },
  {
   "cell_type": "code",
   "execution_count": 457,
   "id": "bdada8b9-a731-4377-b92f-7bfefbd161ad",
   "metadata": {
    "tags": []
   },
   "outputs": [
    {
     "data": {
      "text/html": [
       "<div>\n",
       "<style scoped>\n",
       "    .dataframe tbody tr th:only-of-type {\n",
       "        vertical-align: middle;\n",
       "    }\n",
       "\n",
       "    .dataframe tbody tr th {\n",
       "        vertical-align: top;\n",
       "    }\n",
       "\n",
       "    .dataframe thead th {\n",
       "        text-align: right;\n",
       "    }\n",
       "</style>\n",
       "<table border=\"1\" class=\"dataframe\">\n",
       "  <thead>\n",
       "    <tr style=\"text-align: right;\">\n",
       "      <th></th>\n",
       "      <th>index</th>\n",
       "      <th>Customer ID</th>\n",
       "      <th>Sales_min</th>\n",
       "      <th>Sales_max</th>\n",
       "      <th>Sales_sum</th>\n",
       "      <th>Sales_avg</th>\n",
       "      <th>CLV_LR</th>\n",
       "      <th>Sales_count</th>\n",
       "      <th>recency</th>\n",
       "      <th>frequency</th>\n",
       "      <th>Predicted_CLV_LR</th>\n",
       "    </tr>\n",
       "  </thead>\n",
       "  <tbody>\n",
       "    <tr>\n",
       "      <th>0</th>\n",
       "      <td>0</td>\n",
       "      <td>12346.0</td>\n",
       "      <td>1.00</td>\n",
       "      <td>142.31</td>\n",
       "      <td>372.86</td>\n",
       "      <td>33.896364</td>\n",
       "      <td>22.500</td>\n",
       "      <td>11</td>\n",
       "      <td>196</td>\n",
       "      <td>11</td>\n",
       "      <td>28.311766</td>\n",
       "    </tr>\n",
       "    <tr>\n",
       "      <th>1</th>\n",
       "      <td>1</td>\n",
       "      <td>12608.0</td>\n",
       "      <td>415.79</td>\n",
       "      <td>415.79</td>\n",
       "      <td>415.79</td>\n",
       "      <td>415.790000</td>\n",
       "      <td>415.790</td>\n",
       "      <td>1</td>\n",
       "      <td>0</td>\n",
       "      <td>1</td>\n",
       "      <td>420.435415</td>\n",
       "    </tr>\n",
       "    <tr>\n",
       "      <th>2</th>\n",
       "      <td>2</td>\n",
       "      <td>12745.0</td>\n",
       "      <td>266.93</td>\n",
       "      <td>456.92</td>\n",
       "      <td>723.85</td>\n",
       "      <td>361.925000</td>\n",
       "      <td>361.925</td>\n",
       "      <td>2</td>\n",
       "      <td>87</td>\n",
       "      <td>2</td>\n",
       "      <td>358.436776</td>\n",
       "    </tr>\n",
       "    <tr>\n",
       "      <th>3</th>\n",
       "      <td>3</td>\n",
       "      <td>12746.0</td>\n",
       "      <td>254.55</td>\n",
       "      <td>254.55</td>\n",
       "      <td>254.55</td>\n",
       "      <td>254.550000</td>\n",
       "      <td>254.550</td>\n",
       "      <td>1</td>\n",
       "      <td>0</td>\n",
       "      <td>1</td>\n",
       "      <td>259.519209</td>\n",
       "    </tr>\n",
       "    <tr>\n",
       "      <th>4</th>\n",
       "      <td>4</td>\n",
       "      <td>12747.0</td>\n",
       "      <td>89.32</td>\n",
       "      <td>715.10</td>\n",
       "      <td>5080.53</td>\n",
       "      <td>317.533125</td>\n",
       "      <td>315.290</td>\n",
       "      <td>16</td>\n",
       "      <td>363</td>\n",
       "      <td>16</td>\n",
       "      <td>297.735431</td>\n",
       "    </tr>\n",
       "  </tbody>\n",
       "</table>\n",
       "</div>"
      ],
      "text/plain": [
       "   index  Customer ID  Sales_min  Sales_max  Sales_sum   Sales_avg   CLV_LR  \\\n",
       "0      0      12346.0       1.00     142.31     372.86   33.896364   22.500   \n",
       "1      1      12608.0     415.79     415.79     415.79  415.790000  415.790   \n",
       "2      2      12745.0     266.93     456.92     723.85  361.925000  361.925   \n",
       "3      3      12746.0     254.55     254.55     254.55  254.550000  254.550   \n",
       "4      4      12747.0      89.32     715.10    5080.53  317.533125  315.290   \n",
       "\n",
       "   Sales_count  recency  frequency  Predicted_CLV_LR  \n",
       "0           11      196         11         28.311766  \n",
       "1            1        0          1        420.435415  \n",
       "2            2       87          2        358.436776  \n",
       "3            1        0          1        259.519209  \n",
       "4           16      363         16        297.735431  "
      ]
     },
     "execution_count": 457,
     "metadata": {},
     "output_type": "execute_result"
    }
   ],
   "source": [
    "# Merge the predicted CLV_3M dataframe with the original dataframe\n",
    "merged_df = for_reg.merge(predictions_df, on='Customer ID', how='left')\n",
    "merged_df.head()"
   ]
  },
  {
   "cell_type": "code",
   "execution_count": 458,
   "id": "21072e34-691c-4491-8f51-257336fbf018",
   "metadata": {
    "tags": []
   },
   "outputs": [],
   "source": [
    "#merged_df.to_csv('merged_df.csv')\n",
    "#merged_df=sample_set_df"
   ]
  },
  {
   "cell_type": "code",
   "execution_count": 459,
   "id": "3d6e5717-6ddf-41f9-8929-798a33c20ee2",
   "metadata": {
    "tags": []
   },
   "outputs": [
    {
     "data": {
      "text/html": [
       "<div>\n",
       "<style scoped>\n",
       "    .dataframe tbody tr th:only-of-type {\n",
       "        vertical-align: middle;\n",
       "    }\n",
       "\n",
       "    .dataframe tbody tr th {\n",
       "        vertical-align: top;\n",
       "    }\n",
       "\n",
       "    .dataframe thead th {\n",
       "        text-align: right;\n",
       "    }\n",
       "</style>\n",
       "<table border=\"1\" class=\"dataframe\">\n",
       "  <thead>\n",
       "    <tr style=\"text-align: right;\">\n",
       "      <th></th>\n",
       "      <th>CustomerID</th>\n",
       "      <th>sales_avg_M_1</th>\n",
       "      <th>sales_avg_M_2</th>\n",
       "      <th>sales_avg_M_3</th>\n",
       "      <th>sales_avg_M_4</th>\n",
       "      <th>sales_avg_M_5</th>\n",
       "      <th>sales_count_M_1</th>\n",
       "      <th>sales_count_M_2</th>\n",
       "      <th>sales_count_M_3</th>\n",
       "      <th>sales_count_M_4</th>\n",
       "      <th>sales_count_M_5</th>\n",
       "      <th>sales_sum_M_1</th>\n",
       "      <th>sales_sum_M_2</th>\n",
       "      <th>sales_sum_M_3</th>\n",
       "      <th>sales_sum_M_4</th>\n",
       "      <th>sales_sum_M_5</th>\n",
       "      <th>CLV_LR</th>\n",
       "    </tr>\n",
       "  </thead>\n",
       "  <tbody>\n",
       "    <tr>\n",
       "      <th>0</th>\n",
       "      <td>12346.0</td>\n",
       "      <td>0.000</td>\n",
       "      <td>0.00</td>\n",
       "      <td>142.310</td>\n",
       "      <td>23.410000</td>\n",
       "      <td>22.7</td>\n",
       "      <td>0.0</td>\n",
       "      <td>0.0</td>\n",
       "      <td>1.0</td>\n",
       "      <td>5.0</td>\n",
       "      <td>5.0</td>\n",
       "      <td>0.00</td>\n",
       "      <td>0.00</td>\n",
       "      <td>142.31</td>\n",
       "      <td>117.05</td>\n",
       "      <td>113.5</td>\n",
       "      <td>33.896364</td>\n",
       "    </tr>\n",
       "    <tr>\n",
       "      <th>1</th>\n",
       "      <td>12608.0</td>\n",
       "      <td>415.790</td>\n",
       "      <td>0.00</td>\n",
       "      <td>0.000</td>\n",
       "      <td>0.000000</td>\n",
       "      <td>0.0</td>\n",
       "      <td>1.0</td>\n",
       "      <td>0.0</td>\n",
       "      <td>0.0</td>\n",
       "      <td>0.0</td>\n",
       "      <td>0.0</td>\n",
       "      <td>415.79</td>\n",
       "      <td>0.00</td>\n",
       "      <td>0.00</td>\n",
       "      <td>0.00</td>\n",
       "      <td>0.0</td>\n",
       "      <td>415.790000</td>\n",
       "    </tr>\n",
       "    <tr>\n",
       "      <th>2</th>\n",
       "      <td>12745.0</td>\n",
       "      <td>0.000</td>\n",
       "      <td>266.93</td>\n",
       "      <td>456.920</td>\n",
       "      <td>0.000000</td>\n",
       "      <td>0.0</td>\n",
       "      <td>0.0</td>\n",
       "      <td>1.0</td>\n",
       "      <td>1.0</td>\n",
       "      <td>0.0</td>\n",
       "      <td>0.0</td>\n",
       "      <td>0.00</td>\n",
       "      <td>266.93</td>\n",
       "      <td>456.92</td>\n",
       "      <td>0.00</td>\n",
       "      <td>0.0</td>\n",
       "      <td>361.925000</td>\n",
       "    </tr>\n",
       "    <tr>\n",
       "      <th>3</th>\n",
       "      <td>12746.0</td>\n",
       "      <td>0.000</td>\n",
       "      <td>0.00</td>\n",
       "      <td>254.550</td>\n",
       "      <td>0.000000</td>\n",
       "      <td>0.0</td>\n",
       "      <td>0.0</td>\n",
       "      <td>0.0</td>\n",
       "      <td>1.0</td>\n",
       "      <td>0.0</td>\n",
       "      <td>0.0</td>\n",
       "      <td>0.00</td>\n",
       "      <td>0.00</td>\n",
       "      <td>254.55</td>\n",
       "      <td>0.00</td>\n",
       "      <td>0.0</td>\n",
       "      <td>254.550000</td>\n",
       "    </tr>\n",
       "    <tr>\n",
       "      <th>4</th>\n",
       "      <td>12747.0</td>\n",
       "      <td>450.265</td>\n",
       "      <td>314.84</td>\n",
       "      <td>286.725</td>\n",
       "      <td>156.963333</td>\n",
       "      <td>344.0</td>\n",
       "      <td>4.0</td>\n",
       "      <td>2.0</td>\n",
       "      <td>4.0</td>\n",
       "      <td>3.0</td>\n",
       "      <td>3.0</td>\n",
       "      <td>1801.06</td>\n",
       "      <td>629.68</td>\n",
       "      <td>1146.90</td>\n",
       "      <td>470.89</td>\n",
       "      <td>1032.0</td>\n",
       "      <td>317.533125</td>\n",
       "    </tr>\n",
       "  </tbody>\n",
       "</table>\n",
       "</div>"
      ],
      "text/plain": [
       "   CustomerID  sales_avg_M_1  sales_avg_M_2  sales_avg_M_3  sales_avg_M_4  \\\n",
       "0     12346.0          0.000           0.00        142.310      23.410000   \n",
       "1     12608.0        415.790           0.00          0.000       0.000000   \n",
       "2     12745.0          0.000         266.93        456.920       0.000000   \n",
       "3     12746.0          0.000           0.00        254.550       0.000000   \n",
       "4     12747.0        450.265         314.84        286.725     156.963333   \n",
       "\n",
       "   sales_avg_M_5  sales_count_M_1  sales_count_M_2  sales_count_M_3  \\\n",
       "0           22.7              0.0              0.0              1.0   \n",
       "1            0.0              1.0              0.0              0.0   \n",
       "2            0.0              0.0              1.0              1.0   \n",
       "3            0.0              0.0              0.0              1.0   \n",
       "4          344.0              4.0              2.0              4.0   \n",
       "\n",
       "   sales_count_M_4  sales_count_M_5  sales_sum_M_1  sales_sum_M_2  \\\n",
       "0              5.0              5.0           0.00           0.00   \n",
       "1              0.0              0.0         415.79           0.00   \n",
       "2              0.0              0.0           0.00         266.93   \n",
       "3              0.0              0.0           0.00           0.00   \n",
       "4              3.0              3.0        1801.06         629.68   \n",
       "\n",
       "   sales_sum_M_3  sales_sum_M_4  sales_sum_M_5      CLV_LR  \n",
       "0         142.31         117.05          113.5   33.896364  \n",
       "1           0.00           0.00            0.0  415.790000  \n",
       "2         456.92           0.00            0.0  361.925000  \n",
       "3         254.55           0.00            0.0  254.550000  \n",
       "4        1146.90         470.89         1032.0  317.533125  "
      ]
     },
     "execution_count": 459,
     "metadata": {},
     "output_type": "execute_result"
    }
   ],
   "source": [
    "sample_set_df.head()"
   ]
  },
  {
   "cell_type": "code",
   "execution_count": 460,
   "id": "719b6cf0-131b-425f-8b46-d0c2cd726f98",
   "metadata": {
    "tags": []
   },
   "outputs": [
    {
     "data": {
      "text/html": [
       "<div>\n",
       "<style scoped>\n",
       "    .dataframe tbody tr th:only-of-type {\n",
       "        vertical-align: middle;\n",
       "    }\n",
       "\n",
       "    .dataframe tbody tr th {\n",
       "        vertical-align: top;\n",
       "    }\n",
       "\n",
       "    .dataframe thead th {\n",
       "        text-align: right;\n",
       "    }\n",
       "</style>\n",
       "<table border=\"1\" class=\"dataframe\">\n",
       "  <thead>\n",
       "    <tr style=\"text-align: right;\">\n",
       "      <th></th>\n",
       "      <th>InvoiceDate_purchase_duration</th>\n",
       "      <th>InvoiceDate_purchase_frequency</th>\n",
       "    </tr>\n",
       "  </thead>\n",
       "  <tbody>\n",
       "    <tr>\n",
       "      <th>0</th>\n",
       "      <td>196</td>\n",
       "      <td>11</td>\n",
       "    </tr>\n",
       "    <tr>\n",
       "      <th>1</th>\n",
       "      <td>0</td>\n",
       "      <td>1</td>\n",
       "    </tr>\n",
       "    <tr>\n",
       "      <th>2</th>\n",
       "      <td>87</td>\n",
       "      <td>2</td>\n",
       "    </tr>\n",
       "    <tr>\n",
       "      <th>3</th>\n",
       "      <td>0</td>\n",
       "      <td>1</td>\n",
       "    </tr>\n",
       "    <tr>\n",
       "      <th>4</th>\n",
       "      <td>363</td>\n",
       "      <td>16</td>\n",
       "    </tr>\n",
       "  </tbody>\n",
       "</table>\n",
       "</div>"
      ],
      "text/plain": [
       "   InvoiceDate_purchase_duration  InvoiceDate_purchase_frequency\n",
       "0                            196                              11\n",
       "1                              0                               1\n",
       "2                             87                               2\n",
       "3                              0                               1\n",
       "4                            363                              16"
      ]
     },
     "execution_count": 460,
     "metadata": {},
     "output_type": "execute_result"
    }
   ],
   "source": [
    "summary_only_RF_df.head()"
   ]
  },
  {
   "cell_type": "code",
   "execution_count": 461,
   "id": "f24df6fb-8240-45db-a9c7-5b90e062a3f5",
   "metadata": {
    "tags": []
   },
   "outputs": [
    {
     "data": {
      "text/plain": [
       "(3971, 17)"
      ]
     },
     "execution_count": 461,
     "metadata": {},
     "output_type": "execute_result"
    }
   ],
   "source": [
    "sample_set_df.shape"
   ]
  },
  {
   "cell_type": "code",
   "execution_count": 462,
   "id": "0051e4a3-53f8-456d-a9e6-25df7a2d262c",
   "metadata": {
    "tags": []
   },
   "outputs": [],
   "source": [
    "#summary_only_RF_df.info()"
   ]
  },
  {
   "cell_type": "code",
   "execution_count": 463,
   "id": "75d8cb5c-ec3a-433f-b379-1c8749ec5724",
   "metadata": {
    "tags": []
   },
   "outputs": [],
   "source": [
    "#summary_only_RF_df=summary_only_RF_df.drop([\"index\"], axis=1)"
   ]
  },
  {
   "cell_type": "code",
   "execution_count": 464,
   "id": "2d3ec7f8-3589-4826-90c6-8c162bfed484",
   "metadata": {
    "tags": []
   },
   "outputs": [],
   "source": [
    "#summary_only_RF_df.info()"
   ]
  },
  {
   "cell_type": "code",
   "execution_count": 465,
   "id": "53e9a435-a509-401d-85d5-9b078fd5954c",
   "metadata": {
    "tags": []
   },
   "outputs": [],
   "source": [
    "#summary_only_RF_df.rename(columns={'Customer ID': 'CustomerID'}, inplace=True)"
   ]
  },
  {
   "cell_type": "code",
   "execution_count": 466,
   "id": "6db3466e-ed66-4b8b-a5d3-920ed0994385",
   "metadata": {
    "tags": []
   },
   "outputs": [],
   "source": [
    "#summary_only_RF_df.reset_index(inplace=True)"
   ]
  },
  {
   "cell_type": "code",
   "execution_count": 467,
   "id": "57ed0739-1ebe-427f-ad97-e4425d8f6f9d",
   "metadata": {
    "tags": []
   },
   "outputs": [],
   "source": [
    "#summary_only_RF_df.head()"
   ]
  },
  {
   "cell_type": "code",
   "execution_count": 468,
   "id": "f44287b1-c6a0-4c3c-97c5-fc723708456d",
   "metadata": {
    "tags": []
   },
   "outputs": [],
   "source": [
    "#features_df.info()"
   ]
  },
  {
   "cell_type": "code",
   "execution_count": 469,
   "id": "7de2369f-1665-47b6-aa05-9cf9f93b0af0",
   "metadata": {
    "tags": []
   },
   "outputs": [],
   "source": [
    "# Correcting the merge operation using the right column names\n",
    "#all_data = sample_set_df.merge(summary_only_RF_df, on='CustomerID', how='inner')\n",
    "\n",
    "# Setting 'Customer ID' as the index\n",
    "#merged_df.set_index('CustomerID', inplace=True)\n",
    "\n",
    "# Display the head of the merged dataframe\n",
    "#all_data.head()"
   ]
  },
  {
   "cell_type": "code",
   "execution_count": 470,
   "id": "f54c146b-ecc8-4bd1-be77-065a1e9cc753",
   "metadata": {
    "tags": []
   },
   "outputs": [],
   "source": [
    "#summary_only_RF_df.info()"
   ]
  },
  {
   "cell_type": "code",
   "execution_count": 471,
   "id": "83eac8c5-acd0-44dc-8b08-010e4bfc72b2",
   "metadata": {
    "tags": []
   },
   "outputs": [],
   "source": [
    "# Renaming the columns 'InvoiceDate_purchase_duration' and 'InvoiceDate_purchase_frequency'\n",
    "#all_data.rename(columns={'InvoiceDate_purchase_duration': 'Recency_quantiles',   'InvoiceDate_purchase_frequency': 'Frequency_quantiles'}, inplace=True)\n",
    "\n",
    "#all_data.rename(columns={'CLV_3M': 'Recency_quantiles'}, inplace=True)\n",
    "\n",
    "# Display the head of the dataframe to confirm the renaming\n",
    "#all_data.head()"
   ]
  },
  {
   "cell_type": "code",
   "execution_count": 472,
   "id": "ab896740-1816-41e1-8645-433b1ceb4066",
   "metadata": {
    "tags": []
   },
   "outputs": [],
   "source": [
    "#all_data.head()"
   ]
  },
  {
   "cell_type": "code",
   "execution_count": null,
   "id": "502c6567-e238-4aa8-8434-e3c3de2ec08e",
   "metadata": {},
   "outputs": [],
   "source": []
  },
  {
   "cell_type": "code",
   "execution_count": null,
   "id": "70094384-5808-4b20-b258-2fb9f230ed7b",
   "metadata": {},
   "outputs": [],
   "source": []
  },
  {
   "cell_type": "code",
   "execution_count": null,
   "id": "a73a81c0-b967-4f29-936c-e2153559ad55",
   "metadata": {},
   "outputs": [],
   "source": []
  },
  {
   "cell_type": "code",
   "execution_count": null,
   "id": "a5b36fb0-3ebf-4f6a-9035-2a1c33b69ebb",
   "metadata": {},
   "outputs": [],
   "source": []
  },
  {
   "cell_type": "code",
   "execution_count": null,
   "id": "1a351cea-c851-4145-8963-8c3491c1b116",
   "metadata": {},
   "outputs": [],
   "source": []
  },
  {
   "cell_type": "code",
   "execution_count": null,
   "id": "a6bfbadc-d1c2-4519-a6d3-fdddd9d016f0",
   "metadata": {},
   "outputs": [],
   "source": []
  },
  {
   "cell_type": "code",
   "execution_count": null,
   "id": "1cf4e532-da55-4853-bcda-4193d9fe772d",
   "metadata": {},
   "outputs": [],
   "source": []
  },
  {
   "cell_type": "code",
   "execution_count": null,
   "id": "16ceb6dc-2f18-4a22-830b-dafb5fdb5a99",
   "metadata": {},
   "outputs": [],
   "source": []
  },
  {
   "cell_type": "code",
   "execution_count": null,
   "id": "5a476d6e-2468-4e6b-9d9f-21744aeb2547",
   "metadata": {},
   "outputs": [],
   "source": []
  },
  {
   "cell_type": "code",
   "execution_count": null,
   "id": "09b22b8d-242c-47b5-8934-2780c99a6217",
   "metadata": {},
   "outputs": [],
   "source": []
  },
  {
   "cell_type": "code",
   "execution_count": null,
   "id": "063dc0e6-4607-4481-8d61-3a51b8bd1bb4",
   "metadata": {},
   "outputs": [],
   "source": []
  },
  {
   "cell_type": "code",
   "execution_count": null,
   "id": "b0b985d4-bc4b-4f46-9aec-9fc8df74515e",
   "metadata": {},
   "outputs": [],
   "source": []
  },
  {
   "cell_type": "code",
   "execution_count": null,
   "id": "d25dc862-9b42-42d4-ba9d-468f8b125ae5",
   "metadata": {},
   "outputs": [],
   "source": []
  },
  {
   "cell_type": "code",
   "execution_count": null,
   "id": "c4061c91-2306-43f9-bd5e-f115f976e78d",
   "metadata": {},
   "outputs": [],
   "source": []
  },
  {
   "cell_type": "code",
   "execution_count": null,
   "id": "9f797f8a-46d2-440f-8de9-1fa709e09713",
   "metadata": {},
   "outputs": [],
   "source": []
  },
  {
   "cell_type": "code",
   "execution_count": null,
   "id": "93fd0c22-8568-49a6-861c-d8a8957a9f6d",
   "metadata": {},
   "outputs": [],
   "source": []
  },
  {
   "cell_type": "code",
   "execution_count": null,
   "id": "943106b8-c6df-4838-a424-cd7732a48850",
   "metadata": {},
   "outputs": [],
   "source": []
  },
  {
   "cell_type": "code",
   "execution_count": null,
   "id": "1d16a5a1-b7a8-4f5a-a783-3aa143c8c44a",
   "metadata": {},
   "outputs": [],
   "source": []
  },
  {
   "cell_type": "code",
   "execution_count": null,
   "id": "e2fc6d39-bd7e-4126-ac87-ecfecb5b0d81",
   "metadata": {},
   "outputs": [],
   "source": []
  },
  {
   "cell_type": "code",
   "execution_count": null,
   "id": "8d3bec07-8ce2-4fd1-bcfb-797441340711",
   "metadata": {},
   "outputs": [],
   "source": []
  },
  {
   "cell_type": "code",
   "execution_count": null,
   "id": "f7a7bf49-aecf-450b-a4ac-5911f8404a88",
   "metadata": {},
   "outputs": [],
   "source": []
  },
  {
   "cell_type": "code",
   "execution_count": null,
   "id": "f528f710-114c-41f4-922e-395f5111511b",
   "metadata": {},
   "outputs": [],
   "source": []
  },
  {
   "cell_type": "code",
   "execution_count": null,
   "id": "5f08c717-dbe1-4f84-9612-15f39dfb8c3d",
   "metadata": {},
   "outputs": [],
   "source": []
  }
 ],
 "metadata": {
  "kernelspec": {
   "display_name": "Python 3 (ipykernel)",
   "language": "python",
   "name": "python3"
  },
  "language_info": {
   "codemirror_mode": {
    "name": "ipython",
    "version": 3
   },
   "file_extension": ".py",
   "mimetype": "text/x-python",
   "name": "python",
   "nbconvert_exporter": "python",
   "pygments_lexer": "ipython3",
   "version": "3.11.3"
  }
 },
 "nbformat": 4,
 "nbformat_minor": 5
}
