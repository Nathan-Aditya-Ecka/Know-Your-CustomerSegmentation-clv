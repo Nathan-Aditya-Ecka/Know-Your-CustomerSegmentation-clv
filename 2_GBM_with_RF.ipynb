{
 "cells": [
  {
   "cell_type": "code",
   "execution_count": 95,
   "id": "95d96b0a-6529-4019-858e-ab9e60aa86d5",
   "metadata": {
    "tags": []
   },
   "outputs": [],
   "source": [
    "import pandas as pd\n",
    "import warnings\n",
    "import matplotlib.pyplot as plt\n",
    "warnings.filterwarnings('ignore')"
   ]
  },
  {
   "cell_type": "code",
   "execution_count": 96,
   "id": "bb8ad76e-bc4e-47d8-b885-0d0da244b165",
   "metadata": {
    "tags": []
   },
   "outputs": [],
   "source": [
    "df=pd.read_csv('UKdataFinal.csv')"
   ]
  },
  {
   "cell_type": "code",
   "execution_count": 97,
   "id": "3c1eb1c9-b1fa-45b5-94c3-46a434032020",
   "metadata": {
    "tags": []
   },
   "outputs": [
    {
     "data": {
      "text/html": [
       "<div>\n",
       "<style scoped>\n",
       "    .dataframe tbody tr th:only-of-type {\n",
       "        vertical-align: middle;\n",
       "    }\n",
       "\n",
       "    .dataframe tbody tr th {\n",
       "        vertical-align: top;\n",
       "    }\n",
       "\n",
       "    .dataframe thead th {\n",
       "        text-align: right;\n",
       "    }\n",
       "</style>\n",
       "<table border=\"1\" class=\"dataframe\">\n",
       "  <thead>\n",
       "    <tr style=\"text-align: right;\">\n",
       "      <th></th>\n",
       "      <th>Unnamed: 0</th>\n",
       "      <th>Invoice</th>\n",
       "      <th>StockCode</th>\n",
       "      <th>Description</th>\n",
       "      <th>Quantity</th>\n",
       "      <th>InvoiceDate</th>\n",
       "      <th>Price</th>\n",
       "      <th>Customer ID</th>\n",
       "      <th>Country</th>\n",
       "      <th>TotalPrice</th>\n",
       "    </tr>\n",
       "  </thead>\n",
       "  <tbody>\n",
       "    <tr>\n",
       "      <th>0</th>\n",
       "      <td>0</td>\n",
       "      <td>489434</td>\n",
       "      <td>85048</td>\n",
       "      <td>15CM CHRISTMAS GLASS BALL 20 LIGHTS</td>\n",
       "      <td>12</td>\n",
       "      <td>2009-12-01 07:45:00</td>\n",
       "      <td>6.95</td>\n",
       "      <td>13085.0</td>\n",
       "      <td>United Kingdom</td>\n",
       "      <td>83.4</td>\n",
       "    </tr>\n",
       "    <tr>\n",
       "      <th>1</th>\n",
       "      <td>1</td>\n",
       "      <td>489434</td>\n",
       "      <td>79323P</td>\n",
       "      <td>PINK CHERRY LIGHTS</td>\n",
       "      <td>12</td>\n",
       "      <td>2009-12-01 07:45:00</td>\n",
       "      <td>6.75</td>\n",
       "      <td>13085.0</td>\n",
       "      <td>United Kingdom</td>\n",
       "      <td>81.0</td>\n",
       "    </tr>\n",
       "    <tr>\n",
       "      <th>2</th>\n",
       "      <td>2</td>\n",
       "      <td>489434</td>\n",
       "      <td>79323W</td>\n",
       "      <td>WHITE CHERRY LIGHTS</td>\n",
       "      <td>12</td>\n",
       "      <td>2009-12-01 07:45:00</td>\n",
       "      <td>6.75</td>\n",
       "      <td>13085.0</td>\n",
       "      <td>United Kingdom</td>\n",
       "      <td>81.0</td>\n",
       "    </tr>\n",
       "    <tr>\n",
       "      <th>3</th>\n",
       "      <td>3</td>\n",
       "      <td>489434</td>\n",
       "      <td>22041</td>\n",
       "      <td>RECORD FRAME 7\" SINGLE SIZE</td>\n",
       "      <td>48</td>\n",
       "      <td>2009-12-01 07:45:00</td>\n",
       "      <td>2.10</td>\n",
       "      <td>13085.0</td>\n",
       "      <td>United Kingdom</td>\n",
       "      <td>100.8</td>\n",
       "    </tr>\n",
       "    <tr>\n",
       "      <th>4</th>\n",
       "      <td>4</td>\n",
       "      <td>489434</td>\n",
       "      <td>21232</td>\n",
       "      <td>STRAWBERRY CERAMIC TRINKET BOX</td>\n",
       "      <td>24</td>\n",
       "      <td>2009-12-01 07:45:00</td>\n",
       "      <td>1.25</td>\n",
       "      <td>13085.0</td>\n",
       "      <td>United Kingdom</td>\n",
       "      <td>30.0</td>\n",
       "    </tr>\n",
       "  </tbody>\n",
       "</table>\n",
       "</div>"
      ],
      "text/plain": [
       "   Unnamed: 0  Invoice StockCode                          Description  \\\n",
       "0           0   489434     85048  15CM CHRISTMAS GLASS BALL 20 LIGHTS   \n",
       "1           1   489434    79323P                   PINK CHERRY LIGHTS   \n",
       "2           2   489434    79323W                  WHITE CHERRY LIGHTS   \n",
       "3           3   489434     22041         RECORD FRAME 7\" SINGLE SIZE    \n",
       "4           4   489434     21232       STRAWBERRY CERAMIC TRINKET BOX   \n",
       "\n",
       "   Quantity          InvoiceDate  Price  Customer ID         Country  \\\n",
       "0        12  2009-12-01 07:45:00   6.95      13085.0  United Kingdom   \n",
       "1        12  2009-12-01 07:45:00   6.75      13085.0  United Kingdom   \n",
       "2        12  2009-12-01 07:45:00   6.75      13085.0  United Kingdom   \n",
       "3        48  2009-12-01 07:45:00   2.10      13085.0  United Kingdom   \n",
       "4        24  2009-12-01 07:45:00   1.25      13085.0  United Kingdom   \n",
       "\n",
       "   TotalPrice  \n",
       "0        83.4  \n",
       "1        81.0  \n",
       "2        81.0  \n",
       "3       100.8  \n",
       "4        30.0  "
      ]
     },
     "execution_count": 97,
     "metadata": {},
     "output_type": "execute_result"
    }
   ],
   "source": [
    "df.head()"
   ]
  },
  {
   "cell_type": "code",
   "execution_count": 98,
   "id": "878446fa-8b84-49ec-ac57-be6c9f6cd18d",
   "metadata": {
    "tags": []
   },
   "outputs": [
    {
     "data": {
      "text/plain": [
       "(370951, 10)"
      ]
     },
     "execution_count": 98,
     "metadata": {},
     "output_type": "execute_result"
    }
   ],
   "source": [
    "df.shape"
   ]
  },
  {
   "cell_type": "code",
   "execution_count": 99,
   "id": "13f78fa1-532f-40c2-b3d5-5276e2a2069d",
   "metadata": {
    "tags": []
   },
   "outputs": [],
   "source": [
    "df=df.drop('Unnamed: 0',axis=1)"
   ]
  },
  {
   "cell_type": "code",
   "execution_count": 100,
   "id": "fd843dba-95de-420b-8be4-f05ef37e06b3",
   "metadata": {
    "tags": []
   },
   "outputs": [
    {
     "data": {
      "text/html": [
       "<div>\n",
       "<style scoped>\n",
       "    .dataframe tbody tr th:only-of-type {\n",
       "        vertical-align: middle;\n",
       "    }\n",
       "\n",
       "    .dataframe tbody tr th {\n",
       "        vertical-align: top;\n",
       "    }\n",
       "\n",
       "    .dataframe thead th {\n",
       "        text-align: right;\n",
       "    }\n",
       "</style>\n",
       "<table border=\"1\" class=\"dataframe\">\n",
       "  <thead>\n",
       "    <tr style=\"text-align: right;\">\n",
       "      <th></th>\n",
       "      <th>Invoice</th>\n",
       "      <th>StockCode</th>\n",
       "      <th>Description</th>\n",
       "      <th>Quantity</th>\n",
       "      <th>InvoiceDate</th>\n",
       "      <th>Price</th>\n",
       "      <th>Customer ID</th>\n",
       "      <th>Country</th>\n",
       "      <th>TotalPrice</th>\n",
       "    </tr>\n",
       "  </thead>\n",
       "  <tbody>\n",
       "    <tr>\n",
       "      <th>0</th>\n",
       "      <td>489434</td>\n",
       "      <td>85048</td>\n",
       "      <td>15CM CHRISTMAS GLASS BALL 20 LIGHTS</td>\n",
       "      <td>12</td>\n",
       "      <td>2009-12-01 07:45:00</td>\n",
       "      <td>6.95</td>\n",
       "      <td>13085.0</td>\n",
       "      <td>United Kingdom</td>\n",
       "      <td>83.4</td>\n",
       "    </tr>\n",
       "    <tr>\n",
       "      <th>1</th>\n",
       "      <td>489434</td>\n",
       "      <td>79323P</td>\n",
       "      <td>PINK CHERRY LIGHTS</td>\n",
       "      <td>12</td>\n",
       "      <td>2009-12-01 07:45:00</td>\n",
       "      <td>6.75</td>\n",
       "      <td>13085.0</td>\n",
       "      <td>United Kingdom</td>\n",
       "      <td>81.0</td>\n",
       "    </tr>\n",
       "    <tr>\n",
       "      <th>2</th>\n",
       "      <td>489434</td>\n",
       "      <td>79323W</td>\n",
       "      <td>WHITE CHERRY LIGHTS</td>\n",
       "      <td>12</td>\n",
       "      <td>2009-12-01 07:45:00</td>\n",
       "      <td>6.75</td>\n",
       "      <td>13085.0</td>\n",
       "      <td>United Kingdom</td>\n",
       "      <td>81.0</td>\n",
       "    </tr>\n",
       "    <tr>\n",
       "      <th>3</th>\n",
       "      <td>489434</td>\n",
       "      <td>22041</td>\n",
       "      <td>RECORD FRAME 7\" SINGLE SIZE</td>\n",
       "      <td>48</td>\n",
       "      <td>2009-12-01 07:45:00</td>\n",
       "      <td>2.10</td>\n",
       "      <td>13085.0</td>\n",
       "      <td>United Kingdom</td>\n",
       "      <td>100.8</td>\n",
       "    </tr>\n",
       "    <tr>\n",
       "      <th>4</th>\n",
       "      <td>489434</td>\n",
       "      <td>21232</td>\n",
       "      <td>STRAWBERRY CERAMIC TRINKET BOX</td>\n",
       "      <td>24</td>\n",
       "      <td>2009-12-01 07:45:00</td>\n",
       "      <td>1.25</td>\n",
       "      <td>13085.0</td>\n",
       "      <td>United Kingdom</td>\n",
       "      <td>30.0</td>\n",
       "    </tr>\n",
       "  </tbody>\n",
       "</table>\n",
       "</div>"
      ],
      "text/plain": [
       "   Invoice StockCode                          Description  Quantity  \\\n",
       "0   489434     85048  15CM CHRISTMAS GLASS BALL 20 LIGHTS        12   \n",
       "1   489434    79323P                   PINK CHERRY LIGHTS        12   \n",
       "2   489434    79323W                  WHITE CHERRY LIGHTS        12   \n",
       "3   489434     22041         RECORD FRAME 7\" SINGLE SIZE         48   \n",
       "4   489434     21232       STRAWBERRY CERAMIC TRINKET BOX        24   \n",
       "\n",
       "           InvoiceDate  Price  Customer ID         Country  TotalPrice  \n",
       "0  2009-12-01 07:45:00   6.95      13085.0  United Kingdom        83.4  \n",
       "1  2009-12-01 07:45:00   6.75      13085.0  United Kingdom        81.0  \n",
       "2  2009-12-01 07:45:00   6.75      13085.0  United Kingdom        81.0  \n",
       "3  2009-12-01 07:45:00   2.10      13085.0  United Kingdom       100.8  \n",
       "4  2009-12-01 07:45:00   1.25      13085.0  United Kingdom        30.0  "
      ]
     },
     "execution_count": 100,
     "metadata": {},
     "output_type": "execute_result"
    }
   ],
   "source": [
    "df.head()"
   ]
  },
  {
   "cell_type": "code",
   "execution_count": 101,
   "id": "ebc2d07e-8954-417f-b2e0-4225da4cc35d",
   "metadata": {
    "tags": []
   },
   "outputs": [
    {
     "data": {
      "text/plain": [
       "Invoice        0\n",
       "StockCode      0\n",
       "Description    0\n",
       "Quantity       0\n",
       "InvoiceDate    0\n",
       "Price          0\n",
       "Customer ID    0\n",
       "Country        0\n",
       "TotalPrice     0\n",
       "dtype: int64"
      ]
     },
     "execution_count": 101,
     "metadata": {},
     "output_type": "execute_result"
    }
   ],
   "source": [
    "df.isna().sum()"
   ]
  },
  {
   "cell_type": "code",
   "execution_count": 102,
   "id": "e777982f-9613-4c86-af98-5b23f40a69cb",
   "metadata": {
    "tags": []
   },
   "outputs": [],
   "source": [
    "df = df[(df['Quantity']>0)]"
   ]
  },
  {
   "cell_type": "code",
   "execution_count": 103,
   "id": "fa232cbf-49ae-40bf-a43a-73ae1471f7bd",
   "metadata": {
    "tags": []
   },
   "outputs": [],
   "source": [
    "df = df.rename(columns={'Customer ID': 'CustomerID'})"
   ]
  },
  {
   "cell_type": "code",
   "execution_count": 104,
   "id": "9ab51592-3fcd-4e4d-a09a-e1c962b1e060",
   "metadata": {
    "tags": []
   },
   "outputs": [
    {
     "name": "stdout",
     "output_type": "stream",
     "text": [
      "<class 'pandas.core.frame.DataFrame'>\n",
      "RangeIndex: 370951 entries, 0 to 370950\n",
      "Data columns (total 9 columns):\n",
      " #   Column       Non-Null Count   Dtype  \n",
      "---  ------       --------------   -----  \n",
      " 0   Invoice      370951 non-null  int64  \n",
      " 1   StockCode    370951 non-null  object \n",
      " 2   Description  370951 non-null  object \n",
      " 3   Quantity     370951 non-null  int64  \n",
      " 4   InvoiceDate  370951 non-null  object \n",
      " 5   Price        370951 non-null  float64\n",
      " 6   CustomerID   370951 non-null  float64\n",
      " 7   Country      370951 non-null  object \n",
      " 8   TotalPrice   370951 non-null  float64\n",
      "dtypes: float64(3), int64(2), object(4)\n",
      "memory usage: 25.5+ MB\n"
     ]
    }
   ],
   "source": [
    "df.info()"
   ]
  },
  {
   "cell_type": "code",
   "execution_count": 105,
   "id": "aaf0d165-4b72-42c8-b7d8-48a4f898f303",
   "metadata": {
    "tags": []
   },
   "outputs": [
    {
     "data": {
      "text/html": [
       "<div>\n",
       "<style scoped>\n",
       "    .dataframe tbody tr th:only-of-type {\n",
       "        vertical-align: middle;\n",
       "    }\n",
       "\n",
       "    .dataframe tbody tr th {\n",
       "        vertical-align: top;\n",
       "    }\n",
       "\n",
       "    .dataframe thead th {\n",
       "        text-align: right;\n",
       "    }\n",
       "</style>\n",
       "<table border=\"1\" class=\"dataframe\">\n",
       "  <thead>\n",
       "    <tr style=\"text-align: right;\">\n",
       "      <th></th>\n",
       "      <th>Invoice</th>\n",
       "      <th>StockCode</th>\n",
       "      <th>Description</th>\n",
       "      <th>Quantity</th>\n",
       "      <th>InvoiceDate</th>\n",
       "      <th>Price</th>\n",
       "      <th>CustomerID</th>\n",
       "      <th>Country</th>\n",
       "      <th>TotalPrice</th>\n",
       "    </tr>\n",
       "  </thead>\n",
       "  <tbody>\n",
       "    <tr>\n",
       "      <th>0</th>\n",
       "      <td>489434</td>\n",
       "      <td>85048</td>\n",
       "      <td>15CM CHRISTMAS GLASS BALL 20 LIGHTS</td>\n",
       "      <td>12</td>\n",
       "      <td>2009-12-01 07:45:00</td>\n",
       "      <td>6.95</td>\n",
       "      <td>13085.0</td>\n",
       "      <td>United Kingdom</td>\n",
       "      <td>83.4</td>\n",
       "    </tr>\n",
       "    <tr>\n",
       "      <th>1</th>\n",
       "      <td>489434</td>\n",
       "      <td>79323P</td>\n",
       "      <td>PINK CHERRY LIGHTS</td>\n",
       "      <td>12</td>\n",
       "      <td>2009-12-01 07:45:00</td>\n",
       "      <td>6.75</td>\n",
       "      <td>13085.0</td>\n",
       "      <td>United Kingdom</td>\n",
       "      <td>81.0</td>\n",
       "    </tr>\n",
       "  </tbody>\n",
       "</table>\n",
       "</div>"
      ],
      "text/plain": [
       "   Invoice StockCode                          Description  Quantity  \\\n",
       "0   489434     85048  15CM CHRISTMAS GLASS BALL 20 LIGHTS        12   \n",
       "1   489434    79323P                   PINK CHERRY LIGHTS        12   \n",
       "\n",
       "           InvoiceDate  Price  CustomerID         Country  TotalPrice  \n",
       "0  2009-12-01 07:45:00   6.95     13085.0  United Kingdom        83.4  \n",
       "1  2009-12-01 07:45:00   6.75     13085.0  United Kingdom        81.0  "
      ]
     },
     "execution_count": 105,
     "metadata": {},
     "output_type": "execute_result"
    }
   ],
   "source": [
    "df.head(2)"
   ]
  },
  {
   "cell_type": "code",
   "execution_count": 106,
   "id": "c3e0b0c7-3022-475b-be9a-c90dfb665ea2",
   "metadata": {
    "tags": []
   },
   "outputs": [
    {
     "data": {
      "text/plain": [
       "(370951, 9)"
      ]
     },
     "execution_count": 106,
     "metadata": {},
     "output_type": "execute_result"
    }
   ],
   "source": [
    "df.shape"
   ]
  },
  {
   "cell_type": "code",
   "execution_count": 107,
   "id": "93167c35-50cc-4600-9de8-7e322e3e1abe",
   "metadata": {
    "tags": []
   },
   "outputs": [],
   "source": [
    "df.set_index(\"CustomerID\",inplace=True)"
   ]
  },
  {
   "cell_type": "code",
   "execution_count": 108,
   "id": "87c20bf2-a870-4254-9a79-87fd05257166",
   "metadata": {
    "tags": []
   },
   "outputs": [],
   "source": [
    "df.reset_index(inplace=True)"
   ]
  },
  {
   "cell_type": "code",
   "execution_count": 109,
   "id": "7cffa4db-8886-4926-8fb2-f048dc03f2ee",
   "metadata": {
    "tags": []
   },
   "outputs": [
    {
     "data": {
      "text/html": [
       "<div>\n",
       "<style scoped>\n",
       "    .dataframe tbody tr th:only-of-type {\n",
       "        vertical-align: middle;\n",
       "    }\n",
       "\n",
       "    .dataframe tbody tr th {\n",
       "        vertical-align: top;\n",
       "    }\n",
       "\n",
       "    .dataframe thead th {\n",
       "        text-align: right;\n",
       "    }\n",
       "</style>\n",
       "<table border=\"1\" class=\"dataframe\">\n",
       "  <thead>\n",
       "    <tr style=\"text-align: right;\">\n",
       "      <th></th>\n",
       "      <th>frequency</th>\n",
       "      <th>recency</th>\n",
       "      <th>T</th>\n",
       "      <th>monetary_value</th>\n",
       "    </tr>\n",
       "    <tr>\n",
       "      <th>CustomerID</th>\n",
       "      <th></th>\n",
       "      <th></th>\n",
       "      <th></th>\n",
       "      <th></th>\n",
       "    </tr>\n",
       "  </thead>\n",
       "  <tbody>\n",
       "    <tr>\n",
       "      <th>12346.0</th>\n",
       "      <td>6.0</td>\n",
       "      <td>196.0</td>\n",
       "      <td>360.0</td>\n",
       "      <td>47.143333</td>\n",
       "    </tr>\n",
       "    <tr>\n",
       "      <th>12608.0</th>\n",
       "      <td>0.0</td>\n",
       "      <td>0.0</td>\n",
       "      <td>39.0</td>\n",
       "      <td>0.000000</td>\n",
       "    </tr>\n",
       "    <tr>\n",
       "      <th>12745.0</th>\n",
       "      <td>1.0</td>\n",
       "      <td>88.0</td>\n",
       "      <td>209.0</td>\n",
       "      <td>266.930000</td>\n",
       "    </tr>\n",
       "    <tr>\n",
       "      <th>12746.0</th>\n",
       "      <td>0.0</td>\n",
       "      <td>0.0</td>\n",
       "      <td>175.0</td>\n",
       "      <td>0.000000</td>\n",
       "    </tr>\n",
       "    <tr>\n",
       "      <th>12747.0</th>\n",
       "      <td>15.0</td>\n",
       "      <td>363.0</td>\n",
       "      <td>367.0</td>\n",
       "      <td>313.325333</td>\n",
       "    </tr>\n",
       "  </tbody>\n",
       "</table>\n",
       "</div>"
      ],
      "text/plain": [
       "            frequency  recency      T  monetary_value\n",
       "CustomerID                                           \n",
       "12346.0           6.0    196.0  360.0       47.143333\n",
       "12608.0           0.0      0.0   39.0        0.000000\n",
       "12745.0           1.0     88.0  209.0      266.930000\n",
       "12746.0           0.0      0.0  175.0        0.000000\n",
       "12747.0          15.0    363.0  367.0      313.325333"
      ]
     },
     "execution_count": 109,
     "metadata": {},
     "output_type": "execute_result"
    }
   ],
   "source": [
    "from lifetimes.plotting import *\n",
    "from lifetimes.utils import *\n",
    "#from lifetimes.estimation import *\n",
    "\n",
    "data = summary_data_from_transaction_data(df, 'CustomerID', 'InvoiceDate', monetary_value_col='TotalPrice', observation_period_end='2010-12-9')\n",
    "data.head()"
   ]
  },
  {
   "cell_type": "code",
   "execution_count": 110,
   "id": "a43428f2-217e-4206-8453-b10c4d842e2d",
   "metadata": {
    "tags": []
   },
   "outputs": [],
   "source": [
    "sample_set_df=pd.read_csv('sample_set_df.csv')"
   ]
  },
  {
   "cell_type": "code",
   "execution_count": 111,
   "id": "e058245f-0db6-4e60-897f-1be9a5e63f3c",
   "metadata": {
    "tags": []
   },
   "outputs": [
    {
     "data": {
      "text/plain": [
       "(3971, 18)"
      ]
     },
     "execution_count": 111,
     "metadata": {},
     "output_type": "execute_result"
    }
   ],
   "source": [
    "sample_set_df.shape"
   ]
  },
  {
   "cell_type": "code",
   "execution_count": 112,
   "id": "12ad33ec-5693-4b72-9ebe-62d8627b9400",
   "metadata": {
    "tags": []
   },
   "outputs": [
    {
     "data": {
      "text/html": [
       "<div>\n",
       "<style scoped>\n",
       "    .dataframe tbody tr th:only-of-type {\n",
       "        vertical-align: middle;\n",
       "    }\n",
       "\n",
       "    .dataframe tbody tr th {\n",
       "        vertical-align: top;\n",
       "    }\n",
       "\n",
       "    .dataframe thead th {\n",
       "        text-align: right;\n",
       "    }\n",
       "</style>\n",
       "<table border=\"1\" class=\"dataframe\">\n",
       "  <thead>\n",
       "    <tr style=\"text-align: right;\">\n",
       "      <th></th>\n",
       "      <th>Unnamed: 0</th>\n",
       "      <th>CustomerID</th>\n",
       "      <th>sales_avg_M_1</th>\n",
       "      <th>sales_avg_M_2</th>\n",
       "      <th>sales_avg_M_3</th>\n",
       "      <th>sales_avg_M_4</th>\n",
       "      <th>sales_avg_M_5</th>\n",
       "      <th>sales_count_M_1</th>\n",
       "      <th>sales_count_M_2</th>\n",
       "      <th>sales_count_M_3</th>\n",
       "      <th>sales_count_M_4</th>\n",
       "      <th>sales_count_M_5</th>\n",
       "      <th>sales_sum_M_1</th>\n",
       "      <th>sales_sum_M_2</th>\n",
       "      <th>sales_sum_M_3</th>\n",
       "      <th>sales_sum_M_4</th>\n",
       "      <th>sales_sum_M_5</th>\n",
       "      <th>CLV_LR</th>\n",
       "    </tr>\n",
       "  </thead>\n",
       "  <tbody>\n",
       "    <tr>\n",
       "      <th>0</th>\n",
       "      <td>0</td>\n",
       "      <td>12346.0</td>\n",
       "      <td>0.000</td>\n",
       "      <td>0.00</td>\n",
       "      <td>142.310</td>\n",
       "      <td>23.410000</td>\n",
       "      <td>22.7</td>\n",
       "      <td>0.0</td>\n",
       "      <td>0.0</td>\n",
       "      <td>1.0</td>\n",
       "      <td>5.0</td>\n",
       "      <td>5.0</td>\n",
       "      <td>0.00</td>\n",
       "      <td>0.00</td>\n",
       "      <td>142.31</td>\n",
       "      <td>117.05</td>\n",
       "      <td>113.5</td>\n",
       "      <td>33.896364</td>\n",
       "    </tr>\n",
       "    <tr>\n",
       "      <th>1</th>\n",
       "      <td>1</td>\n",
       "      <td>12608.0</td>\n",
       "      <td>415.790</td>\n",
       "      <td>0.00</td>\n",
       "      <td>0.000</td>\n",
       "      <td>0.000000</td>\n",
       "      <td>0.0</td>\n",
       "      <td>1.0</td>\n",
       "      <td>0.0</td>\n",
       "      <td>0.0</td>\n",
       "      <td>0.0</td>\n",
       "      <td>0.0</td>\n",
       "      <td>415.79</td>\n",
       "      <td>0.00</td>\n",
       "      <td>0.00</td>\n",
       "      <td>0.00</td>\n",
       "      <td>0.0</td>\n",
       "      <td>415.790000</td>\n",
       "    </tr>\n",
       "    <tr>\n",
       "      <th>2</th>\n",
       "      <td>2</td>\n",
       "      <td>12745.0</td>\n",
       "      <td>0.000</td>\n",
       "      <td>266.93</td>\n",
       "      <td>456.920</td>\n",
       "      <td>0.000000</td>\n",
       "      <td>0.0</td>\n",
       "      <td>0.0</td>\n",
       "      <td>1.0</td>\n",
       "      <td>1.0</td>\n",
       "      <td>0.0</td>\n",
       "      <td>0.0</td>\n",
       "      <td>0.00</td>\n",
       "      <td>266.93</td>\n",
       "      <td>456.92</td>\n",
       "      <td>0.00</td>\n",
       "      <td>0.0</td>\n",
       "      <td>361.925000</td>\n",
       "    </tr>\n",
       "    <tr>\n",
       "      <th>3</th>\n",
       "      <td>3</td>\n",
       "      <td>12746.0</td>\n",
       "      <td>0.000</td>\n",
       "      <td>0.00</td>\n",
       "      <td>254.550</td>\n",
       "      <td>0.000000</td>\n",
       "      <td>0.0</td>\n",
       "      <td>0.0</td>\n",
       "      <td>0.0</td>\n",
       "      <td>1.0</td>\n",
       "      <td>0.0</td>\n",
       "      <td>0.0</td>\n",
       "      <td>0.00</td>\n",
       "      <td>0.00</td>\n",
       "      <td>254.55</td>\n",
       "      <td>0.00</td>\n",
       "      <td>0.0</td>\n",
       "      <td>254.550000</td>\n",
       "    </tr>\n",
       "    <tr>\n",
       "      <th>4</th>\n",
       "      <td>4</td>\n",
       "      <td>12747.0</td>\n",
       "      <td>450.265</td>\n",
       "      <td>314.84</td>\n",
       "      <td>286.725</td>\n",
       "      <td>156.963333</td>\n",
       "      <td>344.0</td>\n",
       "      <td>4.0</td>\n",
       "      <td>2.0</td>\n",
       "      <td>4.0</td>\n",
       "      <td>3.0</td>\n",
       "      <td>3.0</td>\n",
       "      <td>1801.06</td>\n",
       "      <td>629.68</td>\n",
       "      <td>1146.90</td>\n",
       "      <td>470.89</td>\n",
       "      <td>1032.0</td>\n",
       "      <td>317.533125</td>\n",
       "    </tr>\n",
       "  </tbody>\n",
       "</table>\n",
       "</div>"
      ],
      "text/plain": [
       "   Unnamed: 0  CustomerID  sales_avg_M_1  sales_avg_M_2  sales_avg_M_3  \\\n",
       "0           0     12346.0          0.000           0.00        142.310   \n",
       "1           1     12608.0        415.790           0.00          0.000   \n",
       "2           2     12745.0          0.000         266.93        456.920   \n",
       "3           3     12746.0          0.000           0.00        254.550   \n",
       "4           4     12747.0        450.265         314.84        286.725   \n",
       "\n",
       "   sales_avg_M_4  sales_avg_M_5  sales_count_M_1  sales_count_M_2  \\\n",
       "0      23.410000           22.7              0.0              0.0   \n",
       "1       0.000000            0.0              1.0              0.0   \n",
       "2       0.000000            0.0              0.0              1.0   \n",
       "3       0.000000            0.0              0.0              0.0   \n",
       "4     156.963333          344.0              4.0              2.0   \n",
       "\n",
       "   sales_count_M_3  sales_count_M_4  sales_count_M_5  sales_sum_M_1  \\\n",
       "0              1.0              5.0              5.0           0.00   \n",
       "1              0.0              0.0              0.0         415.79   \n",
       "2              1.0              0.0              0.0           0.00   \n",
       "3              1.0              0.0              0.0           0.00   \n",
       "4              4.0              3.0              3.0        1801.06   \n",
       "\n",
       "   sales_sum_M_2  sales_sum_M_3  sales_sum_M_4  sales_sum_M_5      CLV_LR  \n",
       "0           0.00         142.31         117.05          113.5   33.896364  \n",
       "1           0.00           0.00           0.00            0.0  415.790000  \n",
       "2         266.93         456.92           0.00            0.0  361.925000  \n",
       "3           0.00         254.55           0.00            0.0  254.550000  \n",
       "4         629.68        1146.90         470.89         1032.0  317.533125  "
      ]
     },
     "execution_count": 112,
     "metadata": {},
     "output_type": "execute_result"
    }
   ],
   "source": [
    "sample_set_df.head()"
   ]
  },
  {
   "cell_type": "code",
   "execution_count": 113,
   "id": "a15180eb-031d-44da-89b3-da27bd0c1617",
   "metadata": {
    "tags": []
   },
   "outputs": [],
   "source": [
    "sample_set_df=sample_set_df.drop('Unnamed: 0', axis=1)"
   ]
  },
  {
   "cell_type": "code",
   "execution_count": 114,
   "id": "449c70f2-9079-4db8-979d-21f4c77f4a22",
   "metadata": {
    "tags": []
   },
   "outputs": [],
   "source": [
    "sample_set_df.rename(columns={'Customer ID': 'CustomerID'}, inplace=True)"
   ]
  },
  {
   "cell_type": "code",
   "execution_count": 115,
   "id": "f92cb6a6-c2b7-4944-88bf-46fdbfe2a6de",
   "metadata": {
    "tags": []
   },
   "outputs": [],
   "source": [
    "sample_set_df.rename(columns={'sales_sum_M_1': 'CLV_GBM'}, inplace=True)"
   ]
  },
  {
   "cell_type": "code",
   "execution_count": 116,
   "id": "212e5c09-a499-4031-b9f8-120049d6b0bc",
   "metadata": {
    "tags": []
   },
   "outputs": [],
   "source": [
    "sample_set_df.set_index('CustomerID', inplace=True)"
   ]
  },
  {
   "cell_type": "code",
   "execution_count": 117,
   "id": "f08eec75-03f9-406f-87eb-9239b9a0ca0c",
   "metadata": {
    "tags": []
   },
   "outputs": [],
   "source": [
    "sample_set_df=sample_set_df.drop('CLV_LR', axis=1)"
   ]
  },
  {
   "cell_type": "code",
   "execution_count": 118,
   "id": "a52636b6-655d-451e-84ce-16b0e0903682",
   "metadata": {
    "tags": []
   },
   "outputs": [],
   "source": [
    "sample_set_df=sample_set_df.drop('sales_count_M_1', axis=1)"
   ]
  },
  {
   "cell_type": "code",
   "execution_count": 119,
   "id": "3559c532-6147-48a8-a5fd-197608b76a2d",
   "metadata": {},
   "outputs": [],
   "source": [
    "sample_set_df=sample_set_df.drop('sales_avg_M_1', axis=1)"
   ]
  },
  {
   "cell_type": "code",
   "execution_count": 120,
   "id": "c4d2abdb-6552-4dbc-af41-831b851710e6",
   "metadata": {
    "tags": []
   },
   "outputs": [],
   "source": [
    "#sample_set_df=sample_set_df.drop('sales_sum_M_1', axis=1)"
   ]
  },
  {
   "cell_type": "code",
   "execution_count": 121,
   "id": "56de43b1-24e3-456d-a363-b56bed79c8d1",
   "metadata": {
    "tags": []
   },
   "outputs": [
    {
     "data": {
      "text/html": [
       "<div>\n",
       "<style scoped>\n",
       "    .dataframe tbody tr th:only-of-type {\n",
       "        vertical-align: middle;\n",
       "    }\n",
       "\n",
       "    .dataframe tbody tr th {\n",
       "        vertical-align: top;\n",
       "    }\n",
       "\n",
       "    .dataframe thead th {\n",
       "        text-align: right;\n",
       "    }\n",
       "</style>\n",
       "<table border=\"1\" class=\"dataframe\">\n",
       "  <thead>\n",
       "    <tr style=\"text-align: right;\">\n",
       "      <th></th>\n",
       "      <th>sales_avg_M_2</th>\n",
       "      <th>sales_avg_M_3</th>\n",
       "      <th>sales_avg_M_4</th>\n",
       "      <th>sales_avg_M_5</th>\n",
       "      <th>sales_count_M_2</th>\n",
       "      <th>sales_count_M_3</th>\n",
       "      <th>sales_count_M_4</th>\n",
       "      <th>sales_count_M_5</th>\n",
       "      <th>CLV_GBM</th>\n",
       "      <th>sales_sum_M_2</th>\n",
       "      <th>sales_sum_M_3</th>\n",
       "      <th>sales_sum_M_4</th>\n",
       "      <th>sales_sum_M_5</th>\n",
       "    </tr>\n",
       "    <tr>\n",
       "      <th>CustomerID</th>\n",
       "      <th></th>\n",
       "      <th></th>\n",
       "      <th></th>\n",
       "      <th></th>\n",
       "      <th></th>\n",
       "      <th></th>\n",
       "      <th></th>\n",
       "      <th></th>\n",
       "      <th></th>\n",
       "      <th></th>\n",
       "      <th></th>\n",
       "      <th></th>\n",
       "      <th></th>\n",
       "    </tr>\n",
       "  </thead>\n",
       "  <tbody>\n",
       "    <tr>\n",
       "      <th>12346.0</th>\n",
       "      <td>0.0</td>\n",
       "      <td>142.31</td>\n",
       "      <td>23.41</td>\n",
       "      <td>22.7</td>\n",
       "      <td>0.0</td>\n",
       "      <td>1.0</td>\n",
       "      <td>5.0</td>\n",
       "      <td>5.0</td>\n",
       "      <td>0.00</td>\n",
       "      <td>0.0</td>\n",
       "      <td>142.31</td>\n",
       "      <td>117.05</td>\n",
       "      <td>113.5</td>\n",
       "    </tr>\n",
       "    <tr>\n",
       "      <th>12608.0</th>\n",
       "      <td>0.0</td>\n",
       "      <td>0.00</td>\n",
       "      <td>0.00</td>\n",
       "      <td>0.0</td>\n",
       "      <td>0.0</td>\n",
       "      <td>0.0</td>\n",
       "      <td>0.0</td>\n",
       "      <td>0.0</td>\n",
       "      <td>415.79</td>\n",
       "      <td>0.0</td>\n",
       "      <td>0.00</td>\n",
       "      <td>0.00</td>\n",
       "      <td>0.0</td>\n",
       "    </tr>\n",
       "  </tbody>\n",
       "</table>\n",
       "</div>"
      ],
      "text/plain": [
       "            sales_avg_M_2  sales_avg_M_3  sales_avg_M_4  sales_avg_M_5  \\\n",
       "CustomerID                                                               \n",
       "12346.0               0.0         142.31          23.41           22.7   \n",
       "12608.0               0.0           0.00           0.00            0.0   \n",
       "\n",
       "            sales_count_M_2  sales_count_M_3  sales_count_M_4  \\\n",
       "CustomerID                                                      \n",
       "12346.0                 0.0              1.0              5.0   \n",
       "12608.0                 0.0              0.0              0.0   \n",
       "\n",
       "            sales_count_M_5  CLV_GBM  sales_sum_M_2  sales_sum_M_3  \\\n",
       "CustomerID                                                           \n",
       "12346.0                 5.0     0.00            0.0         142.31   \n",
       "12608.0                 0.0   415.79            0.0           0.00   \n",
       "\n",
       "            sales_sum_M_4  sales_sum_M_5  \n",
       "CustomerID                                \n",
       "12346.0            117.05          113.5  \n",
       "12608.0              0.00            0.0  "
      ]
     },
     "execution_count": 121,
     "metadata": {},
     "output_type": "execute_result"
    }
   ],
   "source": [
    "sample_set_df.head(2)"
   ]
  },
  {
   "cell_type": "code",
   "execution_count": 122,
   "id": "793b3ee7-3d30-44bb-b804-f1d4765435c1",
   "metadata": {
    "tags": []
   },
   "outputs": [],
   "source": [
    "sample_set_df=sample_set_df.merge(data, on='CustomerID', how='inner')"
   ]
  },
  {
   "cell_type": "code",
   "execution_count": 123,
   "id": "ab79c22d-50b6-42fb-87f6-8bd64e44f3f8",
   "metadata": {
    "tags": []
   },
   "outputs": [
    {
     "data": {
      "text/html": [
       "<div>\n",
       "<style scoped>\n",
       "    .dataframe tbody tr th:only-of-type {\n",
       "        vertical-align: middle;\n",
       "    }\n",
       "\n",
       "    .dataframe tbody tr th {\n",
       "        vertical-align: top;\n",
       "    }\n",
       "\n",
       "    .dataframe thead th {\n",
       "        text-align: right;\n",
       "    }\n",
       "</style>\n",
       "<table border=\"1\" class=\"dataframe\">\n",
       "  <thead>\n",
       "    <tr style=\"text-align: right;\">\n",
       "      <th></th>\n",
       "      <th>sales_avg_M_2</th>\n",
       "      <th>sales_avg_M_3</th>\n",
       "      <th>sales_avg_M_4</th>\n",
       "      <th>sales_avg_M_5</th>\n",
       "      <th>sales_count_M_2</th>\n",
       "      <th>sales_count_M_3</th>\n",
       "      <th>sales_count_M_4</th>\n",
       "      <th>sales_count_M_5</th>\n",
       "      <th>CLV_GBM</th>\n",
       "      <th>sales_sum_M_2</th>\n",
       "      <th>sales_sum_M_3</th>\n",
       "      <th>sales_sum_M_4</th>\n",
       "      <th>sales_sum_M_5</th>\n",
       "      <th>frequency</th>\n",
       "      <th>recency</th>\n",
       "      <th>T</th>\n",
       "      <th>monetary_value</th>\n",
       "    </tr>\n",
       "    <tr>\n",
       "      <th>CustomerID</th>\n",
       "      <th></th>\n",
       "      <th></th>\n",
       "      <th></th>\n",
       "      <th></th>\n",
       "      <th></th>\n",
       "      <th></th>\n",
       "      <th></th>\n",
       "      <th></th>\n",
       "      <th></th>\n",
       "      <th></th>\n",
       "      <th></th>\n",
       "      <th></th>\n",
       "      <th></th>\n",
       "      <th></th>\n",
       "      <th></th>\n",
       "      <th></th>\n",
       "      <th></th>\n",
       "    </tr>\n",
       "  </thead>\n",
       "  <tbody>\n",
       "    <tr>\n",
       "      <th>12346.0</th>\n",
       "      <td>0.0</td>\n",
       "      <td>142.31</td>\n",
       "      <td>23.41</td>\n",
       "      <td>22.7</td>\n",
       "      <td>0.0</td>\n",
       "      <td>1.0</td>\n",
       "      <td>5.0</td>\n",
       "      <td>5.0</td>\n",
       "      <td>0.00</td>\n",
       "      <td>0.0</td>\n",
       "      <td>142.31</td>\n",
       "      <td>117.05</td>\n",
       "      <td>113.5</td>\n",
       "      <td>6.0</td>\n",
       "      <td>196.0</td>\n",
       "      <td>360.0</td>\n",
       "      <td>47.143333</td>\n",
       "    </tr>\n",
       "    <tr>\n",
       "      <th>12608.0</th>\n",
       "      <td>0.0</td>\n",
       "      <td>0.00</td>\n",
       "      <td>0.00</td>\n",
       "      <td>0.0</td>\n",
       "      <td>0.0</td>\n",
       "      <td>0.0</td>\n",
       "      <td>0.0</td>\n",
       "      <td>0.0</td>\n",
       "      <td>415.79</td>\n",
       "      <td>0.0</td>\n",
       "      <td>0.00</td>\n",
       "      <td>0.00</td>\n",
       "      <td>0.0</td>\n",
       "      <td>0.0</td>\n",
       "      <td>0.0</td>\n",
       "      <td>39.0</td>\n",
       "      <td>0.000000</td>\n",
       "    </tr>\n",
       "  </tbody>\n",
       "</table>\n",
       "</div>"
      ],
      "text/plain": [
       "            sales_avg_M_2  sales_avg_M_3  sales_avg_M_4  sales_avg_M_5  \\\n",
       "CustomerID                                                               \n",
       "12346.0               0.0         142.31          23.41           22.7   \n",
       "12608.0               0.0           0.00           0.00            0.0   \n",
       "\n",
       "            sales_count_M_2  sales_count_M_3  sales_count_M_4  \\\n",
       "CustomerID                                                      \n",
       "12346.0                 0.0              1.0              5.0   \n",
       "12608.0                 0.0              0.0              0.0   \n",
       "\n",
       "            sales_count_M_5  CLV_GBM  sales_sum_M_2  sales_sum_M_3  \\\n",
       "CustomerID                                                           \n",
       "12346.0                 5.0     0.00            0.0         142.31   \n",
       "12608.0                 0.0   415.79            0.0           0.00   \n",
       "\n",
       "            sales_sum_M_4  sales_sum_M_5  frequency  recency      T  \\\n",
       "CustomerID                                                            \n",
       "12346.0            117.05          113.5        6.0    196.0  360.0   \n",
       "12608.0              0.00            0.0        0.0      0.0   39.0   \n",
       "\n",
       "            monetary_value  \n",
       "CustomerID                  \n",
       "12346.0          47.143333  \n",
       "12608.0           0.000000  "
      ]
     },
     "execution_count": 123,
     "metadata": {},
     "output_type": "execute_result"
    }
   ],
   "source": [
    "sample_set_df.head(2)"
   ]
  },
  {
   "cell_type": "code",
   "execution_count": 124,
   "id": "bd23fd02-061c-455d-8fa6-959d545a52d9",
   "metadata": {
    "tags": []
   },
   "outputs": [
    {
     "data": {
      "text/plain": [
       "(3971, 17)"
      ]
     },
     "execution_count": 124,
     "metadata": {},
     "output_type": "execute_result"
    }
   ],
   "source": [
    "sample_set_df.shape"
   ]
  },
  {
   "cell_type": "code",
   "execution_count": 125,
   "id": "eeb2d498-aac0-4540-aa29-c3153d8bfc0b",
   "metadata": {
    "tags": []
   },
   "outputs": [],
   "source": [
    "sample_set_df.to_csv('data_for_GBM.csv')"
   ]
  },
  {
   "cell_type": "code",
   "execution_count": 126,
   "id": "4d4f7ec3-4b90-4318-b939-40092f9db2a9",
   "metadata": {
    "tags": []
   },
   "outputs": [],
   "source": [
    "data_for_GBM=sample_set_df"
   ]
  },
  {
   "cell_type": "code",
   "execution_count": 127,
   "id": "ac3adda3-8b23-4ffe-9804-02b4942b326c",
   "metadata": {
    "tags": []
   },
   "outputs": [
    {
     "data": {
      "text/plain": [
       "sales_avg_M_2      0\n",
       "sales_avg_M_3      0\n",
       "sales_avg_M_4      0\n",
       "sales_avg_M_5      0\n",
       "sales_count_M_2    0\n",
       "sales_count_M_3    0\n",
       "sales_count_M_4    0\n",
       "sales_count_M_5    0\n",
       "CLV_GBM            0\n",
       "sales_sum_M_2      0\n",
       "sales_sum_M_3      0\n",
       "sales_sum_M_4      0\n",
       "sales_sum_M_5      0\n",
       "frequency          0\n",
       "recency            0\n",
       "T                  0\n",
       "monetary_value     0\n",
       "dtype: int64"
      ]
     },
     "execution_count": 127,
     "metadata": {},
     "output_type": "execute_result"
    }
   ],
   "source": [
    "data_for_GBM.isna().sum()"
   ]
  },
  {
   "cell_type": "code",
   "execution_count": 128,
   "id": "829fb329-2bb7-44d7-8046-593ea4d39ca1",
   "metadata": {
    "tags": []
   },
   "outputs": [
    {
     "data": {
      "text/plain": [
       "(3971, 17)"
      ]
     },
     "execution_count": 128,
     "metadata": {},
     "output_type": "execute_result"
    }
   ],
   "source": [
    "data_for_GBM.shape"
   ]
  },
  {
   "cell_type": "code",
   "execution_count": 129,
   "id": "de27b853-6552-43ee-bcea-4ed3f53f59e0",
   "metadata": {
    "tags": []
   },
   "outputs": [
    {
     "name": "stdout",
     "output_type": "stream",
     "text": [
      "Mean Squared Error: 408802.5497716268\n",
      "            sales_avg_M_2  sales_avg_M_3  sales_avg_M_4  sales_avg_M_5  \\\n",
      "CustomerID                                                               \n",
      "12346.0              0.00        142.310      23.410000           22.7   \n",
      "12608.0              0.00          0.000       0.000000            0.0   \n",
      "12745.0            266.93        456.920       0.000000            0.0   \n",
      "12746.0              0.00        254.550       0.000000            0.0   \n",
      "12747.0            314.84        286.725     156.963333          344.0   \n",
      "\n",
      "            sales_count_M_2  sales_count_M_3  sales_count_M_4  \\\n",
      "CustomerID                                                      \n",
      "12346.0                 0.0              1.0              5.0   \n",
      "12608.0                 0.0              0.0              0.0   \n",
      "12745.0                 1.0              1.0              0.0   \n",
      "12746.0                 0.0              1.0              0.0   \n",
      "12747.0                 2.0              4.0              3.0   \n",
      "\n",
      "            sales_count_M_5  CLV_GBM  sales_sum_M_2  sales_sum_M_3  \\\n",
      "CustomerID                                                           \n",
      "12346.0                 5.0     0.00           0.00         142.31   \n",
      "12608.0                 0.0   415.79           0.00           0.00   \n",
      "12745.0                 0.0     0.00         266.93         456.92   \n",
      "12746.0                 0.0     0.00           0.00         254.55   \n",
      "12747.0                 3.0  1801.06         629.68        1146.90   \n",
      "\n",
      "            sales_sum_M_4  sales_sum_M_5  frequency  recency      T  \\\n",
      "CustomerID                                                            \n",
      "12346.0            117.05          113.5        6.0    196.0  360.0   \n",
      "12608.0              0.00            0.0        0.0      0.0   39.0   \n",
      "12745.0              0.00            0.0        1.0     88.0  209.0   \n",
      "12746.0              0.00            0.0        0.0      0.0  175.0   \n",
      "12747.0            470.89         1032.0       15.0    363.0  367.0   \n",
      "\n",
      "            monetary_value  predicted_CLV_GBM  \n",
      "CustomerID                                     \n",
      "12346.0          47.143333         187.213042  \n",
      "12608.0           0.000000         336.560849  \n",
      "12745.0         266.930000         122.947365  \n",
      "12746.0           0.000000          44.268926  \n",
      "12747.0         313.325333        1332.900576  \n"
     ]
    }
   ],
   "source": [
    "from sklearn.model_selection import train_test_split\n",
    "from sklearn.ensemble import GradientBoostingRegressor\n",
    "from sklearn.metrics import mean_squared_error\n",
    "import numpy as np\n",
    "\n",
    "# Set the random seed for reproducibility\n",
    "np.random.seed(11)\n",
    "\n",
    "# Define the feature variables and the target variable\n",
    "X = data_for_GBM.drop('CLV_GBM', axis=1)\n",
    "y = data_for_GBM['CLV_GBM']\n",
    "\n",
    "# Split the data into training and testing sets\n",
    "X_train, X_test, y_train, y_test = train_test_split(X, y, test_size=0.3, random_state=11)\n",
    "\n",
    "# Initialize the Gradient Boosting Regressor\n",
    "model = GradientBoostingRegressor(random_state=11)\n",
    "\n",
    "# Fit the model on the training data\n",
    "model.fit(X_train, y_train)\n",
    "\n",
    "# Predict the target variable for the test set\n",
    "y_pred = model.predict(X_test)\n",
    "\n",
    "# Calculate the mean squared error\n",
    "mse = mean_squared_error(y_test, y_pred)\n",
    "\n",
    "# Output the mean squared error\n",
    "print('Mean Squared Error:', mse)\n",
    "\n",
    "# Predict the target variable for all customers\n",
    "all_predictions = model.predict(X)\n",
    "\n",
    "# Add the predictions to the original dataframe\n",
    "data_for_GBM['predicted_CLV_GBM'] = all_predictions\n",
    "\n",
    "# Show the head of the dataframe with predictions\n",
    "print(data_for_GBM.head())"
   ]
  },
  {
   "cell_type": "code",
   "execution_count": 130,
   "id": "23414085-a807-41de-ad74-4c7bfcb04620",
   "metadata": {
    "tags": []
   },
   "outputs": [
    {
     "data": {
      "image/png": "[encoded data removed]",
      "text/plain": [
       "<Figure size 640x480 with 1 Axes>"
      ]
     },
     "metadata": {},
     "output_type": "display_data"
    }
   ],
   "source": [
    "test_preds = model.predict(X_test)\n",
    "\n",
    "plt.scatter(y_test, test_preds)\n",
    "plt.plot([0, max(y_test)], [0, max(test_preds)], color='gray', lw=1, linestyle='--')\n",
    "\n",
    "plt.xlabel('actual')\n",
    "plt.ylabel('predicted')\n",
    "plt.title('Out-of-Sample Actual vs. Predicted')\n",
    "plt.grid()\n",
    "\n",
    "plt.show()"
   ]
  },
  {
   "cell_type": "code",
   "execution_count": 131,
   "id": "a4c675ea-b771-404b-b3b6-9ebe5b240cfc",
   "metadata": {
    "tags": []
   },
   "outputs": [
    {
     "data": {
      "text/plain": [
       "array([187.21304236, 336.56084902, 122.9473654 , ...,   3.57144174,\n",
       "       638.75249665, 478.36371502])"
      ]
     },
     "execution_count": 131,
     "metadata": {},
     "output_type": "execute_result"
    }
   ],
   "source": [
    "all_predictions"
   ]
  },
  {
   "cell_type": "code",
   "execution_count": 132,
   "id": "9810f353-cc55-4f53-924c-7ed3873fe53e",
   "metadata": {
    "tags": []
   },
   "outputs": [
    {
     "data": {
      "text/html": [
       "<div>\n",
       "<style scoped>\n",
       "    .dataframe tbody tr th:only-of-type {\n",
       "        vertical-align: middle;\n",
       "    }\n",
       "\n",
       "    .dataframe tbody tr th {\n",
       "        vertical-align: top;\n",
       "    }\n",
       "\n",
       "    .dataframe thead th {\n",
       "        text-align: right;\n",
       "    }\n",
       "</style>\n",
       "<table border=\"1\" class=\"dataframe\">\n",
       "  <thead>\n",
       "    <tr style=\"text-align: right;\">\n",
       "      <th></th>\n",
       "      <th>sales_avg_M_2</th>\n",
       "      <th>sales_avg_M_3</th>\n",
       "      <th>sales_avg_M_4</th>\n",
       "      <th>sales_avg_M_5</th>\n",
       "      <th>sales_count_M_2</th>\n",
       "      <th>sales_count_M_3</th>\n",
       "      <th>sales_count_M_4</th>\n",
       "      <th>sales_count_M_5</th>\n",
       "      <th>CLV_GBM</th>\n",
       "      <th>sales_sum_M_2</th>\n",
       "      <th>sales_sum_M_3</th>\n",
       "      <th>sales_sum_M_4</th>\n",
       "      <th>sales_sum_M_5</th>\n",
       "      <th>frequency</th>\n",
       "      <th>recency</th>\n",
       "      <th>T</th>\n",
       "      <th>monetary_value</th>\n",
       "      <th>predicted_CLV_GBM</th>\n",
       "    </tr>\n",
       "    <tr>\n",
       "      <th>CustomerID</th>\n",
       "      <th></th>\n",
       "      <th></th>\n",
       "      <th></th>\n",
       "      <th></th>\n",
       "      <th></th>\n",
       "      <th></th>\n",
       "      <th></th>\n",
       "      <th></th>\n",
       "      <th></th>\n",
       "      <th></th>\n",
       "      <th></th>\n",
       "      <th></th>\n",
       "      <th></th>\n",
       "      <th></th>\n",
       "      <th></th>\n",
       "      <th></th>\n",
       "      <th></th>\n",
       "      <th></th>\n",
       "    </tr>\n",
       "  </thead>\n",
       "  <tbody>\n",
       "    <tr>\n",
       "      <th>12346.0</th>\n",
       "      <td>0.00</td>\n",
       "      <td>142.310</td>\n",
       "      <td>23.410000</td>\n",
       "      <td>22.7</td>\n",
       "      <td>0.0</td>\n",
       "      <td>1.0</td>\n",
       "      <td>5.0</td>\n",
       "      <td>5.0</td>\n",
       "      <td>0.00</td>\n",
       "      <td>0.00</td>\n",
       "      <td>142.31</td>\n",
       "      <td>117.05</td>\n",
       "      <td>113.5</td>\n",
       "      <td>6.0</td>\n",
       "      <td>196.0</td>\n",
       "      <td>360.0</td>\n",
       "      <td>47.143333</td>\n",
       "      <td>187.213042</td>\n",
       "    </tr>\n",
       "    <tr>\n",
       "      <th>12608.0</th>\n",
       "      <td>0.00</td>\n",
       "      <td>0.000</td>\n",
       "      <td>0.000000</td>\n",
       "      <td>0.0</td>\n",
       "      <td>0.0</td>\n",
       "      <td>0.0</td>\n",
       "      <td>0.0</td>\n",
       "      <td>0.0</td>\n",
       "      <td>415.79</td>\n",
       "      <td>0.00</td>\n",
       "      <td>0.00</td>\n",
       "      <td>0.00</td>\n",
       "      <td>0.0</td>\n",
       "      <td>0.0</td>\n",
       "      <td>0.0</td>\n",
       "      <td>39.0</td>\n",
       "      <td>0.000000</td>\n",
       "      <td>336.560849</td>\n",
       "    </tr>\n",
       "    <tr>\n",
       "      <th>12745.0</th>\n",
       "      <td>266.93</td>\n",
       "      <td>456.920</td>\n",
       "      <td>0.000000</td>\n",
       "      <td>0.0</td>\n",
       "      <td>1.0</td>\n",
       "      <td>1.0</td>\n",
       "      <td>0.0</td>\n",
       "      <td>0.0</td>\n",
       "      <td>0.00</td>\n",
       "      <td>266.93</td>\n",
       "      <td>456.92</td>\n",
       "      <td>0.00</td>\n",
       "      <td>0.0</td>\n",
       "      <td>1.0</td>\n",
       "      <td>88.0</td>\n",
       "      <td>209.0</td>\n",
       "      <td>266.930000</td>\n",
       "      <td>122.947365</td>\n",
       "    </tr>\n",
       "    <tr>\n",
       "      <th>12746.0</th>\n",
       "      <td>0.00</td>\n",
       "      <td>254.550</td>\n",
       "      <td>0.000000</td>\n",
       "      <td>0.0</td>\n",
       "      <td>0.0</td>\n",
       "      <td>1.0</td>\n",
       "      <td>0.0</td>\n",
       "      <td>0.0</td>\n",
       "      <td>0.00</td>\n",
       "      <td>0.00</td>\n",
       "      <td>254.55</td>\n",
       "      <td>0.00</td>\n",
       "      <td>0.0</td>\n",
       "      <td>0.0</td>\n",
       "      <td>0.0</td>\n",
       "      <td>175.0</td>\n",
       "      <td>0.000000</td>\n",
       "      <td>44.268926</td>\n",
       "    </tr>\n",
       "    <tr>\n",
       "      <th>12747.0</th>\n",
       "      <td>314.84</td>\n",
       "      <td>286.725</td>\n",
       "      <td>156.963333</td>\n",
       "      <td>344.0</td>\n",
       "      <td>2.0</td>\n",
       "      <td>4.0</td>\n",
       "      <td>3.0</td>\n",
       "      <td>3.0</td>\n",
       "      <td>1801.06</td>\n",
       "      <td>629.68</td>\n",
       "      <td>1146.90</td>\n",
       "      <td>470.89</td>\n",
       "      <td>1032.0</td>\n",
       "      <td>15.0</td>\n",
       "      <td>363.0</td>\n",
       "      <td>367.0</td>\n",
       "      <td>313.325333</td>\n",
       "      <td>1332.900576</td>\n",
       "    </tr>\n",
       "  </tbody>\n",
       "</table>\n",
       "</div>"
      ],
      "text/plain": [
       "            sales_avg_M_2  sales_avg_M_3  sales_avg_M_4  sales_avg_M_5  \\\n",
       "CustomerID                                                               \n",
       "12346.0              0.00        142.310      23.410000           22.7   \n",
       "12608.0              0.00          0.000       0.000000            0.0   \n",
       "12745.0            266.93        456.920       0.000000            0.0   \n",
       "12746.0              0.00        254.550       0.000000            0.0   \n",
       "12747.0            314.84        286.725     156.963333          344.0   \n",
       "\n",
       "            sales_count_M_2  sales_count_M_3  sales_count_M_4  \\\n",
       "CustomerID                                                      \n",
       "12346.0                 0.0              1.0              5.0   \n",
       "12608.0                 0.0              0.0              0.0   \n",
       "12745.0                 1.0              1.0              0.0   \n",
       "12746.0                 0.0              1.0              0.0   \n",
       "12747.0                 2.0              4.0              3.0   \n",
       "\n",
       "            sales_count_M_5  CLV_GBM  sales_sum_M_2  sales_sum_M_3  \\\n",
       "CustomerID                                                           \n",
       "12346.0                 5.0     0.00           0.00         142.31   \n",
       "12608.0                 0.0   415.79           0.00           0.00   \n",
       "12745.0                 0.0     0.00         266.93         456.92   \n",
       "12746.0                 0.0     0.00           0.00         254.55   \n",
       "12747.0                 3.0  1801.06         629.68        1146.90   \n",
       "\n",
       "            sales_sum_M_4  sales_sum_M_5  frequency  recency      T  \\\n",
       "CustomerID                                                            \n",
       "12346.0            117.05          113.5        6.0    196.0  360.0   \n",
       "12608.0              0.00            0.0        0.0      0.0   39.0   \n",
       "12745.0              0.00            0.0        1.0     88.0  209.0   \n",
       "12746.0              0.00            0.0        0.0      0.0  175.0   \n",
       "12747.0            470.89         1032.0       15.0    363.0  367.0   \n",
       "\n",
       "            monetary_value  predicted_CLV_GBM  \n",
       "CustomerID                                     \n",
       "12346.0          47.143333         187.213042  \n",
       "12608.0           0.000000         336.560849  \n",
       "12745.0         266.930000         122.947365  \n",
       "12746.0           0.000000          44.268926  \n",
       "12747.0         313.325333        1332.900576  "
      ]
     },
     "execution_count": 132,
     "metadata": {},
     "output_type": "execute_result"
    }
   ],
   "source": [
    "data_for_GBM.head()"
   ]
  },
  {
   "cell_type": "code",
   "execution_count": 133,
   "id": "10b04838-eadc-430c-9132-17478edf5757",
   "metadata": {
    "tags": []
   },
   "outputs": [
    {
     "data": {
      "text/plain": [
       "(3971, 18)"
      ]
     },
     "execution_count": 133,
     "metadata": {},
     "output_type": "execute_result"
    }
   ],
   "source": [
    "data_for_GBM.shape"
   ]
  },
  {
   "cell_type": "code",
   "execution_count": 134,
   "id": "0f9e0e53-3070-418e-bd98-bf1d38d1cd06",
   "metadata": {
    "tags": []
   },
   "outputs": [
    {
     "name": "stdout",
     "output_type": "stream",
     "text": [
      "R2 score for training set: 0.9777860833332326\n",
      "R2 score for testing set: 0.638200512718581\n"
     ]
    }
   ],
   "source": [
    "from sklearn.metrics import r2_score\n",
    "\n",
    "# Calculate R2 score for train set\n",
    "y_train_pred = model.predict(X_train)\n",
    "r2_train = r2_score(y_train, y_train_pred)\n",
    "\n",
    "# Calculate R2 score for test set\n",
    "r2_test = r2_score(y_test, y_pred)\n",
    "\n",
    "# Output the R2 scores\n",
    "print('R2 score for training set:', r2_train)\n",
    "print('R2 score for testing set:', r2_test)"
   ]
  },
  {
   "cell_type": "code",
   "execution_count": 135,
   "id": "747363e0-c066-4630-b5f9-d85c3de6baf8",
   "metadata": {
    "tags": []
   },
   "outputs": [],
   "source": [
    "#data_for_GBM.to_csv('data_from_GBM.csv')"
   ]
  },
  {
   "cell_type": "code",
   "execution_count": 136,
   "id": "951629a2-b40e-4743-ac09-9af16484d988",
   "metadata": {
    "tags": []
   },
   "outputs": [],
   "source": [
    "u=data_for_GBM"
   ]
  },
  {
   "cell_type": "code",
   "execution_count": 137,
   "id": "a7f360a3-b38b-4315-a3a1-8bd931e4f4f2",
   "metadata": {
    "tags": []
   },
   "outputs": [],
   "source": [
    "u.reset_index(inplace=True)"
   ]
  },
  {
   "cell_type": "code",
   "execution_count": 138,
   "id": "2e5517bb-e260-447c-8a49-bdb36facf61c",
   "metadata": {},
   "outputs": [],
   "source": [
    "data_from_GBM=u[['CustomerID','predicted_CLV_GBM']]"
   ]
  },
  {
   "cell_type": "code",
   "execution_count": 139,
   "id": "3ff2d66f-8434-46d6-9eae-52315827af80",
   "metadata": {},
   "outputs": [
    {
     "data": {
      "text/html": [
       "<div>\n",
       "<style scoped>\n",
       "    .dataframe tbody tr th:only-of-type {\n",
       "        vertical-align: middle;\n",
       "    }\n",
       "\n",
       "    .dataframe tbody tr th {\n",
       "        vertical-align: top;\n",
       "    }\n",
       "\n",
       "    .dataframe thead th {\n",
       "        text-align: right;\n",
       "    }\n",
       "</style>\n",
       "<table border=\"1\" class=\"dataframe\">\n",
       "  <thead>\n",
       "    <tr style=\"text-align: right;\">\n",
       "      <th></th>\n",
       "      <th>CustomerID</th>\n",
       "      <th>predicted_CLV_GBM</th>\n",
       "    </tr>\n",
       "  </thead>\n",
       "  <tbody>\n",
       "    <tr>\n",
       "      <th>0</th>\n",
       "      <td>12346.0</td>\n",
       "      <td>187.213042</td>\n",
       "    </tr>\n",
       "    <tr>\n",
       "      <th>1</th>\n",
       "      <td>12608.0</td>\n",
       "      <td>336.560849</td>\n",
       "    </tr>\n",
       "  </tbody>\n",
       "</table>\n",
       "</div>"
      ],
      "text/plain": [
       "   CustomerID  predicted_CLV_GBM\n",
       "0     12346.0         187.213042\n",
       "1     12608.0         336.560849"
      ]
     },
     "execution_count": 139,
     "metadata": {},
     "output_type": "execute_result"
    }
   ],
   "source": [
    "data_from_GBM.head(2)"
   ]
  },
  {
   "cell_type": "code",
   "execution_count": 140,
   "id": "ee76c84f-5f42-46ef-9f01-3681fc121853",
   "metadata": {},
   "outputs": [],
   "source": [
    "data_from_GBM.to_csv('data_from_GBM.csv')"
   ]
  },
  {
   "cell_type": "code",
   "execution_count": null,
   "id": "25b48eb6-c9c3-4d90-a0d4-c6d23dbe17e0",
   "metadata": {},
   "outputs": [],
   "source": []
  },
  {
   "cell_type": "code",
   "execution_count": null,
   "id": "9474e2ab-83ba-4b62-bd4f-9468404f0046",
   "metadata": {},
   "outputs": [],
   "source": []
  },
  {
   "cell_type": "code",
   "execution_count": null,
   "id": "a2af33ca-024c-4599-8acc-1a19fd4db529",
   "metadata": {},
   "outputs": [],
   "source": []
  },
  {
   "cell_type": "code",
   "execution_count": null,
   "id": "d0775ccf-0d59-4340-a2f8-d51444610a83",
   "metadata": {},
   "outputs": [],
   "source": []
  },
  {
   "cell_type": "code",
   "execution_count": null,
   "id": "da339ec2-6460-4b5a-b77f-16ac80173c9e",
   "metadata": {},
   "outputs": [],
   "source": []
  },
  {
   "cell_type": "code",
   "execution_count": null,
   "id": "6eb3d1e4-4296-443c-bba0-d86e6ba6540c",
   "metadata": {},
   "outputs": [],
   "source": []
  },
  {
   "cell_type": "code",
   "execution_count": null,
   "id": "ae1a4392-7dad-46a0-9408-9b7c002cc7ad",
   "metadata": {},
   "outputs": [],
   "source": []
  },
  {
   "cell_type": "code",
   "execution_count": null,
   "id": "4d181a62-fee9-481a-99b6-e0bf71814b5d",
   "metadata": {},
   "outputs": [],
   "source": []
  },
  {
   "cell_type": "code",
   "execution_count": null,
   "id": "fe6d3065-c476-4240-a22e-0bc82d46145d",
   "metadata": {},
   "outputs": [],
   "source": []
  },
  {
   "cell_type": "code",
   "execution_count": null,
   "id": "c26528c8-1cf9-4763-969d-51e77dc87c51",
   "metadata": {},
   "outputs": [],
   "source": []
  },
  {
   "cell_type": "code",
   "execution_count": null,
   "id": "d9dfb8ae-ee43-418a-a9cf-5660e1112e42",
   "metadata": {},
   "outputs": [],
   "source": []
  },
  {
   "cell_type": "code",
   "execution_count": null,
   "id": "474b5292-4f87-40f6-aeae-398a3b327403",
   "metadata": {},
   "outputs": [],
   "source": []
  },
  {
   "cell_type": "code",
   "execution_count": null,
   "id": "21f928fe-34d9-494d-8aee-724ed51b4df3",
   "metadata": {},
   "outputs": [],
   "source": []
  },
  {
   "cell_type": "code",
   "execution_count": null,
   "id": "784cab67-44d2-462e-852f-e3148c5f370a",
   "metadata": {},
   "outputs": [],
   "source": []
  },
  {
   "cell_type": "code",
   "execution_count": null,
   "id": "d003226b-46e9-43f0-a2c8-61cf49e95b02",
   "metadata": {},
   "outputs": [],
   "source": []
  },
  {
   "cell_type": "code",
   "execution_count": null,
   "id": "6ced8266-023b-4588-aa2f-a8e2433d78bc",
   "metadata": {},
   "outputs": [],
   "source": []
  },
  {
   "cell_type": "code",
   "execution_count": null,
   "id": "958d70a4-35ce-4167-b271-7d576bde8e95",
   "metadata": {},
   "outputs": [],
   "source": []
  },
  {
   "cell_type": "code",
   "execution_count": null,
   "id": "b416ecff-e02f-4637-a086-000a815af507",
   "metadata": {},
   "outputs": [],
   "source": []
  },
  {
   "cell_type": "code",
   "execution_count": null,
   "id": "62879d36-d176-4282-a452-a01a95361862",
   "metadata": {},
   "outputs": [],
   "source": []
  },
  {
   "cell_type": "code",
   "execution_count": null,
   "id": "81e401fa-f0fd-4580-b3b4-0647deb20109",
   "metadata": {},
   "outputs": [],
   "source": []
  },
  {
   "cell_type": "code",
   "execution_count": null,
   "id": "169504f4-f7de-4abb-b3d4-f69db96c1dfc",
   "metadata": {},
   "outputs": [],
   "source": []
  },
  {
   "cell_type": "code",
   "execution_count": null,
   "id": "a9c1dc06-6dab-4fad-b520-5079c56d456b",
   "metadata": {},
   "outputs": [],
   "source": []
  },
  {
   "cell_type": "code",
   "execution_count": null,
   "id": "189129c1-5361-4fc5-97ea-9aef5f9166cf",
   "metadata": {},
   "outputs": [],
   "source": []
  },
  {
   "cell_type": "code",
   "execution_count": null,
   "id": "2a96ee7f-2938-47e4-98af-29181698afd3",
   "metadata": {},
   "outputs": [],
   "source": []
  },
  {
   "cell_type": "code",
   "execution_count": null,
   "id": "7e0d1cb9-9674-4b0d-a43e-aa2a07279a0e",
   "metadata": {},
   "outputs": [],
   "source": []
  },
  {
   "cell_type": "code",
   "execution_count": null,
   "id": "e9361a92-375e-4502-84ea-d4bfdf5a8e48",
   "metadata": {},
   "outputs": [],
   "source": []
  },
  {
   "cell_type": "code",
   "execution_count": null,
   "id": "6a8a55d2-9b37-4f88-8d24-ec7a24966bd1",
   "metadata": {},
   "outputs": [],
   "source": []
  },
  {
   "cell_type": "code",
   "execution_count": null,
   "id": "6cc7fc55-264f-4ff9-b289-1e6a9eed0e10",
   "metadata": {},
   "outputs": [],
   "source": []
  },
  {
   "cell_type": "code",
   "execution_count": null,
   "id": "ef4b8940-0e75-4e15-9a01-19d79fdfd4b9",
   "metadata": {},
   "outputs": [],
   "source": []
  },
  {
   "cell_type": "code",
   "execution_count": null,
   "id": "e13c89e8-bf89-4919-a2d5-2e21825967f1",
   "metadata": {},
   "outputs": [],
   "source": []
  },
  {
   "cell_type": "code",
   "execution_count": null,
   "id": "37d5d696-59cb-4ec2-b6e9-911a3870e591",
   "metadata": {},
   "outputs": [],
   "source": []
  },
  {
   "cell_type": "code",
   "execution_count": null,
   "id": "eca99811-d198-4a1a-94ad-433ed8242ed4",
   "metadata": {},
   "outputs": [],
   "source": []
  },
  {
   "cell_type": "code",
   "execution_count": null,
   "id": "9aacc21e-1183-48f8-be9b-920fd70ae05c",
   "metadata": {},
   "outputs": [],
   "source": []
  },
  {
   "cell_type": "code",
   "execution_count": null,
   "id": "b9b8a817-3f6d-4530-9aea-8dcc166e965b",
   "metadata": {},
   "outputs": [],
   "source": []
  },
  {
   "cell_type": "code",
   "execution_count": null,
   "id": "a5082ffc-3d91-4f92-98d2-d84754f84263",
   "metadata": {},
   "outputs": [],
   "source": []
  },
  {
   "cell_type": "code",
   "execution_count": null,
   "id": "6c55ae23-2294-4dfc-ac4a-4a7267568dd2",
   "metadata": {},
   "outputs": [],
   "source": []
  },
  {
   "cell_type": "code",
   "execution_count": null,
   "id": "f4b91231-d371-4666-a9b8-33263134942a",
   "metadata": {},
   "outputs": [],
   "source": []
  },
  {
   "cell_type": "code",
   "execution_count": null,
   "id": "aa2e5bd3-1880-403f-a25e-9509fef92bc2",
   "metadata": {},
   "outputs": [],
   "source": []
  },
  {
   "cell_type": "code",
   "execution_count": null,
   "id": "01f0a1d5-f17c-4bbd-bde8-1bae826862f4",
   "metadata": {},
   "outputs": [],
   "source": []
  },
  {
   "cell_type": "code",
   "execution_count": null,
   "id": "eea0c867-7797-4ccb-a882-5f23328ff263",
   "metadata": {},
   "outputs": [],
   "source": []
  },
  {
   "cell_type": "code",
   "execution_count": null,
   "id": "990eca4f-ab3c-4afc-b28d-1657b9b6e5bf",
   "metadata": {},
   "outputs": [],
   "source": []
  },
  {
   "cell_type": "code",
   "execution_count": null,
   "id": "3981488c-ab36-4f60-b67f-a3c9c14c7398",
   "metadata": {},
   "outputs": [],
   "source": []
  },
  {
   "cell_type": "code",
   "execution_count": null,
   "id": "b4261c2f-f808-4cf2-8451-fd6d7e066847",
   "metadata": {},
   "outputs": [],
   "source": []
  },
  {
   "cell_type": "code",
   "execution_count": null,
   "id": "4e9109eb-a52a-42b6-baeb-4e932bfdd813",
   "metadata": {},
   "outputs": [],
   "source": []
  },
  {
   "cell_type": "code",
   "execution_count": null,
   "id": "88971f3b-b38f-4e25-9c3c-fb893657b107",
   "metadata": {},
   "outputs": [],
   "source": []
  },
  {
   "cell_type": "code",
   "execution_count": null,
   "id": "5950abdf-2892-4090-b630-0ac5fd9de507",
   "metadata": {},
   "outputs": [],
   "source": []
  },
  {
   "cell_type": "code",
   "execution_count": null,
   "id": "6b7e29fc-4326-4e65-9e7c-7810cbe5364d",
   "metadata": {},
   "outputs": [],
   "source": []
  }
 ],
 "metadata": {
  "kernelspec": {
   "display_name": "Python 3 (ipykernel)",
   "language": "python",
   "name": "python3"
  },
  "language_info": {
   "codemirror_mode": {
    "name": "ipython",
    "version": 3
   },
   "file_extension": ".py",
   "mimetype": "text/x-python",
   "name": "python",
   "nbconvert_exporter": "python",
   "pygments_lexer": "ipython3",
   "version": "3.11.3"
  }
 },
 "nbformat": 4,
 "nbformat_minor": 5
}
